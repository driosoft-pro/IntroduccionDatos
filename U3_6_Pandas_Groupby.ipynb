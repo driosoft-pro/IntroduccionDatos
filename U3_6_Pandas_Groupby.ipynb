{
 "cells": [
  {
   "cell_type": "markdown",
   "metadata": {
    "id": "7uxaTjU5DI-r"
   },
   "source": [
    "# **Pandas**\n",
    "\n",
    "## Agrupar Datos: GroupBy\n",
    "\n",
    "La función groupby() de Pandas es una potente herramienta utilizada para dividir un DataFrame en grupos basados en una o más columnas, permitiendo un análisis y agregación de datos eficiente.\n",
    "\n",
    "Sigue una estrategia de «dividir-aplicar-combinar», en la que los datos se dividen en grupos, se aplica una función a cada grupo y los resultados se combinan en un nuevo DataFrame. Por ejemplo, si tiene un conjunto de datos de transacciones de ventas, puede utilizar groupby() para agrupar los datos por categoría de producto y calcular las ventas totales de cada categoría."
   ]
  },
  {
   "cell_type": "markdown",
   "metadata": {
    "id": "xDp8Rs67DiAH"
   },
   "source": [
    "### 0. Importar librerías"
   ]
  },
  {
   "cell_type": "code",
   "execution_count": 5,
   "metadata": {
    "executionInfo": {
     "elapsed": 6256,
     "status": "ok",
     "timestamp": 1730388233045,
     "user": {
      "displayName": "Breyner Posso Bautista",
      "userId": "13049344394225357947"
     },
     "user_tz": 300
    },
    "id": "wysJxQU3DCPY"
   },
   "outputs": [],
   "source": [
    "import pandas as pd\n",
    "import numpy as np\n",
    "import matplotlib.pyplot as plt\n",
    "import seaborn as sns\n",
    "from tabulate import tabulate"
   ]
  },
  {
   "cell_type": "markdown",
   "metadata": {
    "id": "NfOpPIS7Dmkx"
   },
   "source": [
    "### 1. Cargar conjunto de datos"
   ]
  },
  {
   "cell_type": "code",
   "execution_count": null,
   "metadata": {
    "colab": {
     "base_uri": "https://localhost:8080/"
    },
    "executionInfo": {
     "elapsed": 40683,
     "status": "ok",
     "timestamp": 1730388273726,
     "user": {
      "displayName": "Breyner Posso Bautista",
      "userId": "13049344394225357947"
     },
     "user_tz": 300
    },
    "id": "KoBACugZDIXk",
    "outputId": "31d69082-3737-4b5f-8075-5a0611f280d9"
   },
   "outputs": [],
   "source": [
    "## Esta celda se ejecuta si este notebook se ejecuta den Google Colab\n",
    "\n",
    "from google.colab import drive\n",
    "drive.mount('/gdrive')"
   ]
  },
  {
   "cell_type": "code",
   "execution_count": null,
   "metadata": {
    "id": "eFMjtE17MIq6"
   },
   "outputs": [],
   "source": [
    "# Se va a utilizar el conjunto de datos titanic\n",
    "# https://www.kaggle.com/c/titanic/data?select=train.csv\n",
    "\n",
    "df = pd.read_csv('/gdrive/MyDrive/Programming/Datasets/titanic.csv')"
   ]
  },
  {
   "cell_type": "code",
   "execution_count": 6,
   "metadata": {},
   "outputs": [],
   "source": [
    "# Se va a utilizar el conjunto de datos titanic\n",
    "# Ejecuta si se tiene el archivo localmente\n",
    "\n",
    "df = pd.read_csv('datasets/titanic.csv')"
   ]
  },
  {
   "cell_type": "code",
   "execution_count": 7,
   "metadata": {
    "colab": {
     "base_uri": "https://localhost:8080/",
     "height": 241
    },
    "executionInfo": {
     "elapsed": 225,
     "status": "ok",
     "timestamp": 1730215281145,
     "user": {
      "displayName": "Breyner Posso Bautista",
      "userId": "13049344394225357947"
     },
     "user_tz": 300
    },
    "id": "DSPszT_hONeI",
    "outputId": "23a00159-0d08-4e18-dc56-a5fdf15aa724"
   },
   "outputs": [
    {
     "data": {
      "text/html": [
       "<div>\n",
       "<style scoped>\n",
       "    .dataframe tbody tr th:only-of-type {\n",
       "        vertical-align: middle;\n",
       "    }\n",
       "\n",
       "    .dataframe tbody tr th {\n",
       "        vertical-align: top;\n",
       "    }\n",
       "\n",
       "    .dataframe thead th {\n",
       "        text-align: right;\n",
       "    }\n",
       "</style>\n",
       "<table border=\"1\" class=\"dataframe\">\n",
       "  <thead>\n",
       "    <tr style=\"text-align: right;\">\n",
       "      <th></th>\n",
       "      <th>PassengerId</th>\n",
       "      <th>Survived</th>\n",
       "      <th>Pclass</th>\n",
       "      <th>Name</th>\n",
       "      <th>Sex</th>\n",
       "      <th>Age</th>\n",
       "      <th>SibSp</th>\n",
       "      <th>Parch</th>\n",
       "      <th>Ticket</th>\n",
       "      <th>Fare</th>\n",
       "      <th>Cabin</th>\n",
       "      <th>Embarked</th>\n",
       "    </tr>\n",
       "  </thead>\n",
       "  <tbody>\n",
       "    <tr>\n",
       "      <th>0</th>\n",
       "      <td>1</td>\n",
       "      <td>0</td>\n",
       "      <td>3</td>\n",
       "      <td>Braund, Mr. Owen Harris</td>\n",
       "      <td>male</td>\n",
       "      <td>22.0</td>\n",
       "      <td>1</td>\n",
       "      <td>0</td>\n",
       "      <td>A/5 21171</td>\n",
       "      <td>7.2500</td>\n",
       "      <td>NaN</td>\n",
       "      <td>S</td>\n",
       "    </tr>\n",
       "    <tr>\n",
       "      <th>1</th>\n",
       "      <td>2</td>\n",
       "      <td>1</td>\n",
       "      <td>1</td>\n",
       "      <td>Cumings, Mrs. John Bradley (Florence Briggs Th...</td>\n",
       "      <td>female</td>\n",
       "      <td>38.0</td>\n",
       "      <td>1</td>\n",
       "      <td>0</td>\n",
       "      <td>PC 17599</td>\n",
       "      <td>71.2833</td>\n",
       "      <td>C85</td>\n",
       "      <td>C</td>\n",
       "    </tr>\n",
       "    <tr>\n",
       "      <th>2</th>\n",
       "      <td>3</td>\n",
       "      <td>1</td>\n",
       "      <td>3</td>\n",
       "      <td>Heikkinen, Miss. Laina</td>\n",
       "      <td>female</td>\n",
       "      <td>26.0</td>\n",
       "      <td>0</td>\n",
       "      <td>0</td>\n",
       "      <td>STON/O2. 3101282</td>\n",
       "      <td>7.9250</td>\n",
       "      <td>NaN</td>\n",
       "      <td>S</td>\n",
       "    </tr>\n",
       "    <tr>\n",
       "      <th>3</th>\n",
       "      <td>4</td>\n",
       "      <td>1</td>\n",
       "      <td>1</td>\n",
       "      <td>Futrelle, Mrs. Jacques Heath (Lily May Peel)</td>\n",
       "      <td>female</td>\n",
       "      <td>35.0</td>\n",
       "      <td>1</td>\n",
       "      <td>0</td>\n",
       "      <td>113803</td>\n",
       "      <td>53.1000</td>\n",
       "      <td>C123</td>\n",
       "      <td>S</td>\n",
       "    </tr>\n",
       "    <tr>\n",
       "      <th>4</th>\n",
       "      <td>5</td>\n",
       "      <td>0</td>\n",
       "      <td>3</td>\n",
       "      <td>Allen, Mr. William Henry</td>\n",
       "      <td>male</td>\n",
       "      <td>35.0</td>\n",
       "      <td>0</td>\n",
       "      <td>0</td>\n",
       "      <td>373450</td>\n",
       "      <td>8.0500</td>\n",
       "      <td>NaN</td>\n",
       "      <td>S</td>\n",
       "    </tr>\n",
       "  </tbody>\n",
       "</table>\n",
       "</div>"
      ],
      "text/plain": [
       "   PassengerId  Survived  Pclass  \\\n",
       "0            1         0       3   \n",
       "1            2         1       1   \n",
       "2            3         1       3   \n",
       "3            4         1       1   \n",
       "4            5         0       3   \n",
       "\n",
       "                                                Name     Sex   Age  SibSp  \\\n",
       "0                            Braund, Mr. Owen Harris    male  22.0      1   \n",
       "1  Cumings, Mrs. John Bradley (Florence Briggs Th...  female  38.0      1   \n",
       "2                             Heikkinen, Miss. Laina  female  26.0      0   \n",
       "3       Futrelle, Mrs. Jacques Heath (Lily May Peel)  female  35.0      1   \n",
       "4                           Allen, Mr. William Henry    male  35.0      0   \n",
       "\n",
       "   Parch            Ticket     Fare Cabin Embarked  \n",
       "0      0         A/5 21171   7.2500   NaN        S  \n",
       "1      0          PC 17599  71.2833   C85        C  \n",
       "2      0  STON/O2. 3101282   7.9250   NaN        S  \n",
       "3      0            113803  53.1000  C123        S  \n",
       "4      0            373450   8.0500   NaN        S  "
      ]
     },
     "execution_count": 7,
     "metadata": {},
     "output_type": "execute_result"
    }
   ],
   "source": [
    "df.head()"
   ]
  },
  {
   "cell_type": "markdown",
   "metadata": {
    "id": "WlaB_-qjM_Fa"
   },
   "source": [
    "## Análisis Exploratorio Básico"
   ]
  },
  {
   "cell_type": "code",
   "execution_count": 8,
   "metadata": {
    "colab": {
     "base_uri": "https://localhost:8080/"
    },
    "executionInfo": {
     "elapsed": 216,
     "status": "ok",
     "timestamp": 1730215300161,
     "user": {
      "displayName": "Breyner Posso Bautista",
      "userId": "13049344394225357947"
     },
     "user_tz": 300
    },
    "id": "udvLjU683i8D",
    "outputId": "356e85b2-3bd4-497f-ba45-8fdc81c6c011"
   },
   "outputs": [
    {
     "data": {
      "text/plain": [
       "(891, 12)"
      ]
     },
     "execution_count": 8,
     "metadata": {},
     "output_type": "execute_result"
    }
   ],
   "source": [
    "df.shape"
   ]
  },
  {
   "cell_type": "code",
   "execution_count": 9,
   "metadata": {
    "colab": {
     "base_uri": "https://localhost:8080/"
    },
    "executionInfo": {
     "elapsed": 247,
     "status": "ok",
     "timestamp": 1730215313439,
     "user": {
      "displayName": "Breyner Posso Bautista",
      "userId": "13049344394225357947"
     },
     "user_tz": 300
    },
    "id": "yUxmnjEV3mpE",
    "outputId": "3d120f98-4b9b-4395-d770-ffdcbbaf2c10"
   },
   "outputs": [
    {
     "name": "stdout",
     "output_type": "stream",
     "text": [
      "<class 'pandas.core.frame.DataFrame'>\n",
      "RangeIndex: 891 entries, 0 to 890\n",
      "Data columns (total 12 columns):\n",
      " #   Column       Non-Null Count  Dtype  \n",
      "---  ------       --------------  -----  \n",
      " 0   PassengerId  891 non-null    int64  \n",
      " 1   Survived     891 non-null    int64  \n",
      " 2   Pclass       891 non-null    int64  \n",
      " 3   Name         891 non-null    object \n",
      " 4   Sex          891 non-null    object \n",
      " 5   Age          714 non-null    float64\n",
      " 6   SibSp        891 non-null    int64  \n",
      " 7   Parch        891 non-null    int64  \n",
      " 8   Ticket       891 non-null    object \n",
      " 9   Fare         891 non-null    float64\n",
      " 10  Cabin        204 non-null    object \n",
      " 11  Embarked     889 non-null    object \n",
      "dtypes: float64(2), int64(5), object(5)\n",
      "memory usage: 83.7+ KB\n"
     ]
    }
   ],
   "source": [
    "df.info()"
   ]
  },
  {
   "cell_type": "code",
   "execution_count": 10,
   "metadata": {
    "colab": {
     "base_uri": "https://localhost:8080/",
     "height": 300
    },
    "executionInfo": {
     "elapsed": 472,
     "status": "ok",
     "timestamp": 1730215353599,
     "user": {
      "displayName": "Breyner Posso Bautista",
      "userId": "13049344394225357947"
     },
     "user_tz": 300
    },
    "id": "04DMSMf43vsz",
    "outputId": "cbd23f2b-4e3e-4937-96c1-f8f3eb9725aa"
   },
   "outputs": [
    {
     "data": {
      "text/html": [
       "<div>\n",
       "<style scoped>\n",
       "    .dataframe tbody tr th:only-of-type {\n",
       "        vertical-align: middle;\n",
       "    }\n",
       "\n",
       "    .dataframe tbody tr th {\n",
       "        vertical-align: top;\n",
       "    }\n",
       "\n",
       "    .dataframe thead th {\n",
       "        text-align: right;\n",
       "    }\n",
       "</style>\n",
       "<table border=\"1\" class=\"dataframe\">\n",
       "  <thead>\n",
       "    <tr style=\"text-align: right;\">\n",
       "      <th></th>\n",
       "      <th>PassengerId</th>\n",
       "      <th>Survived</th>\n",
       "      <th>Pclass</th>\n",
       "      <th>Age</th>\n",
       "      <th>SibSp</th>\n",
       "      <th>Parch</th>\n",
       "      <th>Fare</th>\n",
       "    </tr>\n",
       "  </thead>\n",
       "  <tbody>\n",
       "    <tr>\n",
       "      <th>count</th>\n",
       "      <td>891.000000</td>\n",
       "      <td>891.000000</td>\n",
       "      <td>891.000000</td>\n",
       "      <td>714.000000</td>\n",
       "      <td>891.000000</td>\n",
       "      <td>891.000000</td>\n",
       "      <td>891.000000</td>\n",
       "    </tr>\n",
       "    <tr>\n",
       "      <th>mean</th>\n",
       "      <td>446.000000</td>\n",
       "      <td>0.383838</td>\n",
       "      <td>2.308642</td>\n",
       "      <td>29.699118</td>\n",
       "      <td>0.523008</td>\n",
       "      <td>0.381594</td>\n",
       "      <td>32.204208</td>\n",
       "    </tr>\n",
       "    <tr>\n",
       "      <th>std</th>\n",
       "      <td>257.353842</td>\n",
       "      <td>0.486592</td>\n",
       "      <td>0.836071</td>\n",
       "      <td>14.526497</td>\n",
       "      <td>1.102743</td>\n",
       "      <td>0.806057</td>\n",
       "      <td>49.693429</td>\n",
       "    </tr>\n",
       "    <tr>\n",
       "      <th>min</th>\n",
       "      <td>1.000000</td>\n",
       "      <td>0.000000</td>\n",
       "      <td>1.000000</td>\n",
       "      <td>0.420000</td>\n",
       "      <td>0.000000</td>\n",
       "      <td>0.000000</td>\n",
       "      <td>0.000000</td>\n",
       "    </tr>\n",
       "    <tr>\n",
       "      <th>25%</th>\n",
       "      <td>223.500000</td>\n",
       "      <td>0.000000</td>\n",
       "      <td>2.000000</td>\n",
       "      <td>20.125000</td>\n",
       "      <td>0.000000</td>\n",
       "      <td>0.000000</td>\n",
       "      <td>7.910400</td>\n",
       "    </tr>\n",
       "    <tr>\n",
       "      <th>50%</th>\n",
       "      <td>446.000000</td>\n",
       "      <td>0.000000</td>\n",
       "      <td>3.000000</td>\n",
       "      <td>28.000000</td>\n",
       "      <td>0.000000</td>\n",
       "      <td>0.000000</td>\n",
       "      <td>14.454200</td>\n",
       "    </tr>\n",
       "    <tr>\n",
       "      <th>75%</th>\n",
       "      <td>668.500000</td>\n",
       "      <td>1.000000</td>\n",
       "      <td>3.000000</td>\n",
       "      <td>38.000000</td>\n",
       "      <td>1.000000</td>\n",
       "      <td>0.000000</td>\n",
       "      <td>31.000000</td>\n",
       "    </tr>\n",
       "    <tr>\n",
       "      <th>max</th>\n",
       "      <td>891.000000</td>\n",
       "      <td>1.000000</td>\n",
       "      <td>3.000000</td>\n",
       "      <td>80.000000</td>\n",
       "      <td>8.000000</td>\n",
       "      <td>6.000000</td>\n",
       "      <td>512.329200</td>\n",
       "    </tr>\n",
       "  </tbody>\n",
       "</table>\n",
       "</div>"
      ],
      "text/plain": [
       "       PassengerId    Survived      Pclass         Age       SibSp  \\\n",
       "count   891.000000  891.000000  891.000000  714.000000  891.000000   \n",
       "mean    446.000000    0.383838    2.308642   29.699118    0.523008   \n",
       "std     257.353842    0.486592    0.836071   14.526497    1.102743   \n",
       "min       1.000000    0.000000    1.000000    0.420000    0.000000   \n",
       "25%     223.500000    0.000000    2.000000   20.125000    0.000000   \n",
       "50%     446.000000    0.000000    3.000000   28.000000    0.000000   \n",
       "75%     668.500000    1.000000    3.000000   38.000000    1.000000   \n",
       "max     891.000000    1.000000    3.000000   80.000000    8.000000   \n",
       "\n",
       "            Parch        Fare  \n",
       "count  891.000000  891.000000  \n",
       "mean     0.381594   32.204208  \n",
       "std      0.806057   49.693429  \n",
       "min      0.000000    0.000000  \n",
       "25%      0.000000    7.910400  \n",
       "50%      0.000000   14.454200  \n",
       "75%      0.000000   31.000000  \n",
       "max      6.000000  512.329200  "
      ]
     },
     "execution_count": 10,
     "metadata": {},
     "output_type": "execute_result"
    }
   ],
   "source": [
    "df.describe()"
   ]
  },
  {
   "cell_type": "markdown",
   "metadata": {},
   "source": [
    "### Agrupando por una columna"
   ]
  },
  {
   "cell_type": "code",
   "execution_count": 11,
   "metadata": {},
   "outputs": [],
   "source": [
    "group_genero = df.groupby('Sex')"
   ]
  },
  {
   "cell_type": "code",
   "execution_count": 12,
   "metadata": {},
   "outputs": [
    {
     "name": "stdout",
     "output_type": "stream",
     "text": [
      "<class 'pandas.core.groupby.generic.DataFrameGroupBy'>\n"
     ]
    }
   ],
   "source": [
    "print(type(group_genero))"
   ]
  },
  {
   "cell_type": "code",
   "execution_count": 13,
   "metadata": {},
   "outputs": [
    {
     "data": {
      "text/plain": [
       "{'female': [1, 2, 3, 8, 9, 10, 11, 14, 15, 18, 19, 22, 24, 25, 28, 31, 32, 38, 39, 40, 41, 43, 44, 47, 49, 52, 53, 56, 58, 61, 66, 68, 71, 79, 82, 84, 85, 88, 98, 100, 106, 109, 111, 113, 114, 119, 123, 128, 132, 133, 136, 140, 141, 142, 147, 151, 156, 161, 166, 167, 172, 177, 180, 184, 186, 190, 192, 194, 195, 198, 199, 205, 208, 211, 215, 216, 218, 229, 230, 233, 235, 237, 240, 241, 246, 247, 251, 254, 255, 256, 257, 258, 259, 264, 268, 269, 272, 274, 275, 276, ...], 'male': [0, 4, 5, 6, 7, 12, 13, 16, 17, 20, 21, 23, 26, 27, 29, 30, 33, 34, 35, 36, 37, 42, 45, 46, 48, 50, 51, 54, 55, 57, 59, 60, 62, 63, 64, 65, 67, 69, 70, 72, 73, 74, 75, 76, 77, 78, 80, 81, 83, 86, 87, 89, 90, 91, 92, 93, 94, 95, 96, 97, 99, 101, 102, 103, 104, 105, 107, 108, 110, 112, 115, 116, 117, 118, 120, 121, 122, 124, 125, 126, 127, 129, 130, 131, 134, 135, 137, 138, 139, 143, 144, 145, 146, 148, 149, 150, 152, 153, 154, 155, ...]}"
      ]
     },
     "execution_count": 13,
     "metadata": {},
     "output_type": "execute_result"
    }
   ],
   "source": [
    "## El atributo groups entrega la información de los grupos creados\n",
    "\n",
    "group_genero.groups"
   ]
  },
  {
   "cell_type": "code",
   "execution_count": 14,
   "metadata": {},
   "outputs": [
    {
     "name": "stdout",
     "output_type": "stream",
     "text": [
      "2\n"
     ]
    }
   ],
   "source": [
    "## Se puede usar el atriburo ngroups para saber el número de grupos.\n",
    "\n",
    "print(group_genero.ngroups)"
   ]
  },
  {
   "cell_type": "code",
   "execution_count": 15,
   "metadata": {},
   "outputs": [
    {
     "data": {
      "text/plain": [
       "Sex\n",
       "female    314\n",
       "male      577\n",
       "dtype: int64"
      ]
     },
     "execution_count": 15,
     "metadata": {},
     "output_type": "execute_result"
    }
   ],
   "source": [
    "## Se puede conocer el tamaño de cada uno de los grupos creados\n",
    "\n",
    "group_genero.size()"
   ]
  },
  {
   "cell_type": "code",
   "execution_count": 16,
   "metadata": {},
   "outputs": [
    {
     "name": "stdout",
     "output_type": "stream",
     "text": [
      "<class 'pandas.core.frame.DataFrame'>\n"
     ]
    }
   ],
   "source": [
    "## Se puede acceder a cada grupo\n",
    "\n",
    "df_female = group_genero.get_group('female')\n",
    "print(type(df_female))"
   ]
  },
  {
   "cell_type": "code",
   "execution_count": 17,
   "metadata": {},
   "outputs": [
    {
     "data": {
      "text/html": [
       "<div>\n",
       "<style scoped>\n",
       "    .dataframe tbody tr th:only-of-type {\n",
       "        vertical-align: middle;\n",
       "    }\n",
       "\n",
       "    .dataframe tbody tr th {\n",
       "        vertical-align: top;\n",
       "    }\n",
       "\n",
       "    .dataframe thead th {\n",
       "        text-align: right;\n",
       "    }\n",
       "</style>\n",
       "<table border=\"1\" class=\"dataframe\">\n",
       "  <thead>\n",
       "    <tr style=\"text-align: right;\">\n",
       "      <th></th>\n",
       "      <th>PassengerId</th>\n",
       "      <th>Survived</th>\n",
       "      <th>Pclass</th>\n",
       "      <th>Name</th>\n",
       "      <th>Sex</th>\n",
       "      <th>Age</th>\n",
       "      <th>SibSp</th>\n",
       "      <th>Parch</th>\n",
       "      <th>Ticket</th>\n",
       "      <th>Fare</th>\n",
       "      <th>Cabin</th>\n",
       "      <th>Embarked</th>\n",
       "    </tr>\n",
       "  </thead>\n",
       "  <tbody>\n",
       "    <tr>\n",
       "      <th>1</th>\n",
       "      <td>2</td>\n",
       "      <td>1</td>\n",
       "      <td>1</td>\n",
       "      <td>Cumings, Mrs. John Bradley (Florence Briggs Th...</td>\n",
       "      <td>female</td>\n",
       "      <td>38.0</td>\n",
       "      <td>1</td>\n",
       "      <td>0</td>\n",
       "      <td>PC 17599</td>\n",
       "      <td>71.2833</td>\n",
       "      <td>C85</td>\n",
       "      <td>C</td>\n",
       "    </tr>\n",
       "    <tr>\n",
       "      <th>2</th>\n",
       "      <td>3</td>\n",
       "      <td>1</td>\n",
       "      <td>3</td>\n",
       "      <td>Heikkinen, Miss. Laina</td>\n",
       "      <td>female</td>\n",
       "      <td>26.0</td>\n",
       "      <td>0</td>\n",
       "      <td>0</td>\n",
       "      <td>STON/O2. 3101282</td>\n",
       "      <td>7.9250</td>\n",
       "      <td>NaN</td>\n",
       "      <td>S</td>\n",
       "    </tr>\n",
       "    <tr>\n",
       "      <th>3</th>\n",
       "      <td>4</td>\n",
       "      <td>1</td>\n",
       "      <td>1</td>\n",
       "      <td>Futrelle, Mrs. Jacques Heath (Lily May Peel)</td>\n",
       "      <td>female</td>\n",
       "      <td>35.0</td>\n",
       "      <td>1</td>\n",
       "      <td>0</td>\n",
       "      <td>113803</td>\n",
       "      <td>53.1000</td>\n",
       "      <td>C123</td>\n",
       "      <td>S</td>\n",
       "    </tr>\n",
       "    <tr>\n",
       "      <th>8</th>\n",
       "      <td>9</td>\n",
       "      <td>1</td>\n",
       "      <td>3</td>\n",
       "      <td>Johnson, Mrs. Oscar W (Elisabeth Vilhelmina Berg)</td>\n",
       "      <td>female</td>\n",
       "      <td>27.0</td>\n",
       "      <td>0</td>\n",
       "      <td>2</td>\n",
       "      <td>347742</td>\n",
       "      <td>11.1333</td>\n",
       "      <td>NaN</td>\n",
       "      <td>S</td>\n",
       "    </tr>\n",
       "    <tr>\n",
       "      <th>9</th>\n",
       "      <td>10</td>\n",
       "      <td>1</td>\n",
       "      <td>2</td>\n",
       "      <td>Nasser, Mrs. Nicholas (Adele Achem)</td>\n",
       "      <td>female</td>\n",
       "      <td>14.0</td>\n",
       "      <td>1</td>\n",
       "      <td>0</td>\n",
       "      <td>237736</td>\n",
       "      <td>30.0708</td>\n",
       "      <td>NaN</td>\n",
       "      <td>C</td>\n",
       "    </tr>\n",
       "    <tr>\n",
       "      <th>10</th>\n",
       "      <td>11</td>\n",
       "      <td>1</td>\n",
       "      <td>3</td>\n",
       "      <td>Sandstrom, Miss. Marguerite Rut</td>\n",
       "      <td>female</td>\n",
       "      <td>4.0</td>\n",
       "      <td>1</td>\n",
       "      <td>1</td>\n",
       "      <td>PP 9549</td>\n",
       "      <td>16.7000</td>\n",
       "      <td>G6</td>\n",
       "      <td>S</td>\n",
       "    </tr>\n",
       "    <tr>\n",
       "      <th>11</th>\n",
       "      <td>12</td>\n",
       "      <td>1</td>\n",
       "      <td>1</td>\n",
       "      <td>Bonnell, Miss. Elizabeth</td>\n",
       "      <td>female</td>\n",
       "      <td>58.0</td>\n",
       "      <td>0</td>\n",
       "      <td>0</td>\n",
       "      <td>113783</td>\n",
       "      <td>26.5500</td>\n",
       "      <td>C103</td>\n",
       "      <td>S</td>\n",
       "    </tr>\n",
       "    <tr>\n",
       "      <th>14</th>\n",
       "      <td>15</td>\n",
       "      <td>0</td>\n",
       "      <td>3</td>\n",
       "      <td>Vestrom, Miss. Hulda Amanda Adolfina</td>\n",
       "      <td>female</td>\n",
       "      <td>14.0</td>\n",
       "      <td>0</td>\n",
       "      <td>0</td>\n",
       "      <td>350406</td>\n",
       "      <td>7.8542</td>\n",
       "      <td>NaN</td>\n",
       "      <td>S</td>\n",
       "    </tr>\n",
       "    <tr>\n",
       "      <th>15</th>\n",
       "      <td>16</td>\n",
       "      <td>1</td>\n",
       "      <td>2</td>\n",
       "      <td>Hewlett, Mrs. (Mary D Kingcome)</td>\n",
       "      <td>female</td>\n",
       "      <td>55.0</td>\n",
       "      <td>0</td>\n",
       "      <td>0</td>\n",
       "      <td>248706</td>\n",
       "      <td>16.0000</td>\n",
       "      <td>NaN</td>\n",
       "      <td>S</td>\n",
       "    </tr>\n",
       "    <tr>\n",
       "      <th>18</th>\n",
       "      <td>19</td>\n",
       "      <td>0</td>\n",
       "      <td>3</td>\n",
       "      <td>Vander Planke, Mrs. Julius (Emelia Maria Vande...</td>\n",
       "      <td>female</td>\n",
       "      <td>31.0</td>\n",
       "      <td>1</td>\n",
       "      <td>0</td>\n",
       "      <td>345763</td>\n",
       "      <td>18.0000</td>\n",
       "      <td>NaN</td>\n",
       "      <td>S</td>\n",
       "    </tr>\n",
       "  </tbody>\n",
       "</table>\n",
       "</div>"
      ],
      "text/plain": [
       "    PassengerId  Survived  Pclass  \\\n",
       "1             2         1       1   \n",
       "2             3         1       3   \n",
       "3             4         1       1   \n",
       "8             9         1       3   \n",
       "9            10         1       2   \n",
       "10           11         1       3   \n",
       "11           12         1       1   \n",
       "14           15         0       3   \n",
       "15           16         1       2   \n",
       "18           19         0       3   \n",
       "\n",
       "                                                 Name     Sex   Age  SibSp  \\\n",
       "1   Cumings, Mrs. John Bradley (Florence Briggs Th...  female  38.0      1   \n",
       "2                              Heikkinen, Miss. Laina  female  26.0      0   \n",
       "3        Futrelle, Mrs. Jacques Heath (Lily May Peel)  female  35.0      1   \n",
       "8   Johnson, Mrs. Oscar W (Elisabeth Vilhelmina Berg)  female  27.0      0   \n",
       "9                 Nasser, Mrs. Nicholas (Adele Achem)  female  14.0      1   \n",
       "10                    Sandstrom, Miss. Marguerite Rut  female   4.0      1   \n",
       "11                           Bonnell, Miss. Elizabeth  female  58.0      0   \n",
       "14               Vestrom, Miss. Hulda Amanda Adolfina  female  14.0      0   \n",
       "15                   Hewlett, Mrs. (Mary D Kingcome)   female  55.0      0   \n",
       "18  Vander Planke, Mrs. Julius (Emelia Maria Vande...  female  31.0      1   \n",
       "\n",
       "    Parch            Ticket     Fare Cabin Embarked  \n",
       "1       0          PC 17599  71.2833   C85        C  \n",
       "2       0  STON/O2. 3101282   7.9250   NaN        S  \n",
       "3       0            113803  53.1000  C123        S  \n",
       "8       2            347742  11.1333   NaN        S  \n",
       "9       0            237736  30.0708   NaN        C  \n",
       "10      1           PP 9549  16.7000    G6        S  \n",
       "11      0            113783  26.5500  C103        S  \n",
       "14      0            350406   7.8542   NaN        S  \n",
       "15      0            248706  16.0000   NaN        S  \n",
       "18      0            345763  18.0000   NaN        S  "
      ]
     },
     "execution_count": 17,
     "metadata": {},
     "output_type": "execute_result"
    }
   ],
   "source": [
    "df_female.head(10)"
   ]
  },
  {
   "cell_type": "code",
   "execution_count": 18,
   "metadata": {},
   "outputs": [
    {
     "name": "stdout",
     "output_type": "stream",
     "text": [
      "<class 'pandas.core.frame.DataFrame'>\n"
     ]
    }
   ],
   "source": [
    "df_male = group_genero.get_group('male')\n",
    "print(type(df_male))"
   ]
  },
  {
   "cell_type": "code",
   "execution_count": null,
   "metadata": {},
   "outputs": [
    {
     "data": {
      "text/html": [
       "<div>\n",
       "<style scoped>\n",
       "    .dataframe tbody tr th:only-of-type {\n",
       "        vertical-align: middle;\n",
       "    }\n",
       "\n",
       "    .dataframe tbody tr th {\n",
       "        vertical-align: top;\n",
       "    }\n",
       "\n",
       "    .dataframe thead th {\n",
       "        text-align: right;\n",
       "    }\n",
       "</style>\n",
       "<table border=\"1\" class=\"dataframe\">\n",
       "  <thead>\n",
       "    <tr style=\"text-align: right;\">\n",
       "      <th></th>\n",
       "      <th>PassengerId</th>\n",
       "      <th>Survived</th>\n",
       "      <th>Pclass</th>\n",
       "      <th>Name</th>\n",
       "      <th>Sex</th>\n",
       "      <th>Age</th>\n",
       "      <th>SibSp</th>\n",
       "      <th>Parch</th>\n",
       "      <th>Ticket</th>\n",
       "      <th>Fare</th>\n",
       "      <th>Cabin</th>\n",
       "      <th>Embarked</th>\n",
       "    </tr>\n",
       "  </thead>\n",
       "  <tbody>\n",
       "    <tr>\n",
       "      <th>0</th>\n",
       "      <td>1</td>\n",
       "      <td>0</td>\n",
       "      <td>3</td>\n",
       "      <td>Braund, Mr. Owen Harris</td>\n",
       "      <td>male</td>\n",
       "      <td>22.0</td>\n",
       "      <td>1</td>\n",
       "      <td>0</td>\n",
       "      <td>A/5 21171</td>\n",
       "      <td>7.25</td>\n",
       "      <td>NaN</td>\n",
       "      <td>S</td>\n",
       "    </tr>\n",
       "  </tbody>\n",
       "</table>\n",
       "</div>"
      ],
      "text/plain": [
       "   PassengerId  Survived  Pclass                     Name   Sex   Age  SibSp  \\\n",
       "0            1         0       3  Braund, Mr. Owen Harris  male  22.0      1   \n",
       "\n",
       "   Parch     Ticket  Fare Cabin Embarked  \n",
       "0      0  A/5 21171  7.25   NaN        S  "
      ]
     },
     "execution_count": 20,
     "metadata": {},
     "output_type": "execute_result"
    }
   ],
   "source": [
    "df_male.head(10)"
   ]
  },
  {
   "cell_type": "markdown",
   "metadata": {
    "id": "Ye58Zsb0LMYO"
   },
   "source": [
    "### Pregunta 1:\n",
    "\n",
    "¿Porcentaje de hombres y mujeres que sobrevivieron?"
   ]
  },
  {
   "cell_type": "code",
   "execution_count": 21,
   "metadata": {},
   "outputs": [
    {
     "name": "stdout",
     "output_type": "stream",
     "text": [
      "El porcentaje de hombres que sobrevivió es: 18.89%\n"
     ]
    }
   ],
   "source": [
    "# Calcular cantidad de hombres\n",
    "# Calcular cantidad de hombre que sobrevivieron\n",
    "# Calcular porcentaje\n",
    "\n",
    "num_h = df[df['Sex']=='male'].shape[0]\n",
    "num_h_s = df[(df['Sex']=='male') & (df['Survived']==1)].shape[0]\n",
    "print(f\"El porcentaje de hombres que sobrevivió es: {num_h_s/num_h*100:.2f}%\")"
   ]
  },
  {
   "cell_type": "code",
   "execution_count": 22,
   "metadata": {},
   "outputs": [
    {
     "name": "stdout",
     "output_type": "stream",
     "text": [
      "El porcentaje de hombres que sobrevivió es: 74.20%\n"
     ]
    }
   ],
   "source": [
    "# Calcular cantidad de mujeres\n",
    "# Calcular cantidad de mujeres que sobrevivieron\n",
    "# Calcular porcentaje\n",
    "\n",
    "num_m = df[df['Sex']=='female'].shape[0]\n",
    "num_m_s = df[(df['Sex']=='female') & (df['Survived']==1)].shape[0]\n",
    "print(f\"El porcentaje de hombres que sobrevivió es: {num_m_s/num_m*100:.2f}%\")"
   ]
  },
  {
   "cell_type": "markdown",
   "metadata": {},
   "source": [
    "### Ahora vamos a usar groupby()"
   ]
  },
  {
   "cell_type": "code",
   "execution_count": 23,
   "metadata": {},
   "outputs": [
    {
     "name": "stdout",
     "output_type": "stream",
     "text": [
      "Sobrevivientes por género:\n",
      "Sex\n",
      "female    74.20\n",
      "male      18.89\n",
      "dtype: float64\n"
     ]
    }
   ],
   "source": [
    "# Calcular el porcentaje de sobrevivientes por género\n",
    "total_by_gender = df.groupby(\"Sex\").size()\n",
    "survivors_by_gender = df.groupby(\"Sex\")[\"Survived\"].sum()\n",
    "percentage_survived = ((survivors_by_gender / total_by_gender) * 100).round(2)\n",
    "\n",
    "# Mostrar el resultado\n",
    "print(f\"Sobrevivientes por género:\\n{percentage_survived}\")"
   ]
  },
  {
   "cell_type": "markdown",
   "metadata": {},
   "source": [
    "### Agrupando por dos columnas"
   ]
  },
  {
   "cell_type": "code",
   "execution_count": 24,
   "metadata": {
    "colab": {
     "base_uri": "https://localhost:8080/",
     "height": 241
    },
    "executionInfo": {
     "elapsed": 223,
     "status": "ok",
     "timestamp": 1730216635987,
     "user": {
      "displayName": "Breyner Posso Bautista",
      "userId": "13049344394225357947"
     },
     "user_tz": 300
    },
    "id": "fFt5iOiUQO2R",
    "outputId": "eacfc70b-cb4b-4021-b15f-84065e30284e"
   },
   "outputs": [
    {
     "data": {
      "text/plain": [
       "Sex     Survived\n",
       "female  0            81\n",
       "        1           233\n",
       "male    0           468\n",
       "        1           109\n",
       "dtype: int64"
      ]
     },
     "execution_count": 24,
     "metadata": {},
     "output_type": "execute_result"
    }
   ],
   "source": [
    "df_g2 = df.groupby(['Sex', 'Survived'])\n",
    "df_g2.size()"
   ]
  },
  {
   "cell_type": "code",
   "execution_count": 25,
   "metadata": {
    "colab": {
     "base_uri": "https://localhost:8080/",
     "height": 238
    },
    "executionInfo": {
     "elapsed": 246,
     "status": "ok",
     "timestamp": 1730216788248,
     "user": {
      "displayName": "Breyner Posso Bautista",
      "userId": "13049344394225357947"
     },
     "user_tz": 300
    },
    "id": "p4oo7qAg9M2_",
    "outputId": "74b8c382-b6f1-494d-85ca-e0b58a0b170f"
   },
   "outputs": [
    {
     "name": "stdout",
     "output_type": "stream",
     "text": [
      "<class 'pandas.core.groupby.generic.DataFrameGroupBy'>\n"
     ]
    }
   ],
   "source": [
    "## Se puede determinar el tipo de dato del agrupamiento\n",
    "\n",
    "print(type(df_g2))"
   ]
  },
  {
   "cell_type": "code",
   "execution_count": 26,
   "metadata": {
    "colab": {
     "base_uri": "https://localhost:8080/"
    },
    "executionInfo": {
     "elapsed": 246,
     "status": "ok",
     "timestamp": 1730216768683,
     "user": {
      "displayName": "Breyner Posso Bautista",
      "userId": "13049344394225357947"
     },
     "user_tz": 300
    },
    "id": "EG86NirI87VT",
    "outputId": "badb5524-cdf1-47a9-db1b-9b5fd0d40ffb"
   },
   "outputs": [
    {
     "data": {
      "text/plain": [
       "array([ 81, 233, 468, 109])"
      ]
     },
     "execution_count": 26,
     "metadata": {},
     "output_type": "execute_result"
    }
   ],
   "source": [
    "## Se puede acceder a los valores del agrupamiento\n",
    "\n",
    "df_g2.size().values"
   ]
  },
  {
   "cell_type": "code",
   "execution_count": 27,
   "metadata": {},
   "outputs": [
    {
     "name": "stdout",
     "output_type": "stream",
     "text": [
      "Sex     Survived\n",
      "female  0           25.05\n",
      "        1           28.85\n",
      "male    0           31.62\n",
      "        1           27.28\n",
      "Name: Age, dtype: float64\n"
     ]
    }
   ],
   "source": [
    "## Se puede usar este agrupamiento para hacer otros cálculos\n",
    "\n",
    "df_g2 = df.groupby(['Sex', 'Survived'])['Age'].mean().round(2)\n",
    "print(df_g2)"
   ]
  },
  {
   "cell_type": "code",
   "execution_count": 28,
   "metadata": {
    "colab": {
     "base_uri": "https://localhost:8080/"
    },
    "executionInfo": {
     "elapsed": 240,
     "status": "ok",
     "timestamp": 1730216859534,
     "user": {
      "displayName": "Breyner Posso Bautista",
      "userId": "13049344394225357947"
     },
     "user_tz": 300
    },
    "id": "pD7sOtTU9Y_d",
    "outputId": "7eb40ee9-c352-4342-8cb9-8b59fd048ca2"
   },
   "outputs": [
    {
     "name": "stdout",
     "output_type": "stream",
     "text": [
      "                 min_age  average_age  max_age\n",
      "Sex    Survived                               \n",
      "female 0            2.00        25.05     57.0\n",
      "       1            0.75        28.85     63.0\n",
      "male   0            1.00        31.62     74.0\n",
      "       1            0.42        27.28     80.0\n"
     ]
    }
   ],
   "source": [
    "## Podemos hacer múltiples cálculos usando el método agg()\n",
    "\n",
    "df_g2 = df.groupby(['Sex', 'Survived']).agg(\n",
    "    \n",
    "    min_age = ('Age','min'),\n",
    "    average_age = ('Age','mean'),\n",
    "    max_age = ('Age','max')\n",
    ").round(2)\n",
    "\n",
    "print(df_g2)"
   ]
  },
  {
   "cell_type": "markdown",
   "metadata": {
    "id": "9ZSpdtkiLaTg"
   },
   "source": [
    "### Pregunta 2:\n",
    "\n",
    "¿Cuál es el promedio de edad de los hombres?\n",
    "\n",
    "¿Cuál es el promedio de edad de las mujeres?"
   ]
  },
  {
   "cell_type": "code",
   "execution_count": 29,
   "metadata": {
    "colab": {
     "base_uri": "https://localhost:8080/",
     "height": 178
    },
    "executionInfo": {
     "elapsed": 252,
     "status": "ok",
     "timestamp": 1730217340548,
     "user": {
      "displayName": "Breyner Posso Bautista",
      "userId": "13049344394225357947"
     },
     "user_tz": 300
    },
    "id": "yIXn63gyLqe3",
    "outputId": "08abd75e-877a-4e81-b498-5d82be5effb1"
   },
   "outputs": [
    {
     "data": {
      "text/plain": [
       "Sex\n",
       "female    27.92\n",
       "male      30.73\n",
       "Name: Age, dtype: float64"
      ]
     },
     "execution_count": 29,
     "metadata": {},
     "output_type": "execute_result"
    }
   ],
   "source": [
    "df.groupby(['Sex'])['Age'].mean().round(2)"
   ]
  },
  {
   "cell_type": "markdown",
   "metadata": {
    "id": "FyF_gKvvLrBH"
   },
   "source": [
    "### Pregunta 3:\n",
    "\n",
    "¿Cuál es el promedio de edad de los hombres que sobrevivieron y que no sobrevivieron?"
   ]
  },
  {
   "cell_type": "markdown",
   "metadata": {
    "id": "pO47tYZwL0p3"
   },
   "source": [
    "### Pregunta 4:\n",
    "\n",
    "¿Cuál es el promedio de edad de mujeres que sobrevivieron y que no sobrevivieron?"
   ]
  },
  {
   "cell_type": "markdown",
   "metadata": {
    "id": "J0pta06DL9TJ"
   },
   "source": [
    "### Pregunta 5:\n",
    "\n",
    "¿Porcentaje de hombres y mujeres que sobrevivieron por clase?"
   ]
  },
  {
   "cell_type": "code",
   "execution_count": 30,
   "metadata": {
    "colab": {
     "base_uri": "https://localhost:8080/"
    },
    "executionInfo": {
     "elapsed": 227,
     "status": "ok",
     "timestamp": 1730218412456,
     "user": {
      "displayName": "Breyner Posso Bautista",
      "userId": "13049344394225357947"
     },
     "user_tz": 300
    },
    "id": "3g9QvTvUMAZg",
    "outputId": "c27505bc-6171-445b-cc53-4d044810da9f"
   },
   "outputs": [
    {
     "name": "stdout",
     "output_type": "stream",
     "text": [
      "Sex     Survived  Pclass\n",
      "female  0         1           3\n",
      "                  2           6\n",
      "                  3          72\n",
      "        1         1          91\n",
      "                  2          70\n",
      "                  3          72\n",
      "male    0         1          77\n",
      "                  2          91\n",
      "                  3         300\n",
      "        1         1          45\n",
      "                  2          17\n",
      "                  3          47\n",
      "dtype: int64\n"
     ]
    }
   ],
   "source": [
    "serie_3 = df.groupby(['Sex', 'Survived', 'Pclass']).size()\n",
    "print(serie_3)"
   ]
  },
  {
   "cell_type": "code",
   "execution_count": 31,
   "metadata": {
    "colab": {
     "base_uri": "https://localhost:8080/"
    },
    "executionInfo": {
     "elapsed": 228,
     "status": "ok",
     "timestamp": 1730218487452,
     "user": {
      "displayName": "Breyner Posso Bautista",
      "userId": "13049344394225357947"
     },
     "user_tz": 300
    },
    "id": "PGF0VoWLDmF5",
    "outputId": "2dec9233-e05e-44f9-9131-4c4b6ab52089"
   },
   "outputs": [
    {
     "name": "stdout",
     "output_type": "stream",
     "text": [
      "Sex     Pclass\n",
      "female  1          94\n",
      "        2          76\n",
      "        3         144\n",
      "male    1         122\n",
      "        2         108\n",
      "        3         347\n",
      "dtype: int64\n"
     ]
    }
   ],
   "source": [
    "serie_4 = df.groupby(['Sex','Pclass']).size()\n",
    "print(serie_4)"
   ]
  },
  {
   "cell_type": "code",
   "execution_count": 32,
   "metadata": {
    "colab": {
     "base_uri": "https://localhost:8080/"
    },
    "executionInfo": {
     "elapsed": 270,
     "status": "ok",
     "timestamp": 1730218550681,
     "user": {
      "displayName": "Breyner Posso Bautista",
      "userId": "13049344394225357947"
     },
     "user_tz": 300
    },
    "id": "yYjp2Ju1D23Q",
    "outputId": "93505059-d708-4547-e08d-1643f186d789"
   },
   "outputs": [
    {
     "name": "stdout",
     "output_type": "stream",
     "text": [
      "96.81\n"
     ]
    }
   ],
   "source": [
    "## Porcentaje de mujeres que sobrevivieron viajando en primera clase\n",
    "\n",
    "print(f'{100 * serie_3[\"female\",1,1]/serie_4[\"female\",1]:.2f}')"
   ]
  },
  {
   "cell_type": "code",
   "execution_count": 33,
   "metadata": {},
   "outputs": [
    {
     "name": "stdout",
     "output_type": "stream",
     "text": [
      "13.54\n"
     ]
    }
   ],
   "source": [
    "# porcentaje de hombres que sobrevivieron viajando en tercera clase\n",
    "\n",
    "print(f'{100 * serie_3[\"male\",1,3]/serie_4[\"male\",3]:.2f}')"
   ]
  },
  {
   "cell_type": "markdown",
   "metadata": {
    "id": "UucqSi2vT0LS"
   },
   "source": [
    "## **Ejercicio**"
   ]
  },
  {
   "cell_type": "markdown",
   "metadata": {
    "id": "i1_hOF2rT6pC"
   },
   "source": [
    "1. Cargue el conjunto de datos Dummy_Sales_Data.csv"
   ]
  },
  {
   "cell_type": "code",
   "execution_count": 34,
   "metadata": {
    "executionInfo": {
     "elapsed": 355,
     "status": "ok",
     "timestamp": 1730388729195,
     "user": {
      "displayName": "Breyner Posso Bautista",
      "userId": "13049344394225357947"
     },
     "user_tz": 300
    },
    "id": "GC7tx1pHT2av"
   },
   "outputs": [],
   "source": [
    "df2 = pd.read_csv(\"datasets/Dummy_Sales_Data.csv\")"
   ]
  },
  {
   "cell_type": "markdown",
   "metadata": {},
   "source": [
    "2. Haga un Análisis Exploratorio Básico"
   ]
  },
  {
   "cell_type": "code",
   "execution_count": 39,
   "metadata": {
    "colab": {
     "base_uri": "https://localhost:8080/",
     "height": 272
    },
    "executionInfo": {
     "elapsed": 374,
     "status": "ok",
     "timestamp": 1730388739991,
     "user": {
      "displayName": "Breyner Posso Bautista",
      "userId": "13049344394225357947"
     },
     "user_tz": 300
    },
    "id": "Sl5N7wGAGrWG",
    "outputId": "ee668dde-b1c5-4ec3-efb0-3fc0fdf2d0fa"
   },
   "outputs": [
    {
     "data": {
      "text/plain": [
       "(9999, 13)"
      ]
     },
     "execution_count": 39,
     "metadata": {},
     "output_type": "execute_result"
    }
   ],
   "source": [
    "df2.shape"
   ]
  },
  {
   "cell_type": "code",
   "execution_count": 42,
   "metadata": {},
   "outputs": [
    {
     "name": "stdout",
     "output_type": "stream",
     "text": [
      "<class 'pandas.core.frame.DataFrame'>\n",
      "RangeIndex: 9999 entries, 0 to 9998\n",
      "Data columns (total 13 columns):\n",
      " #   Column               Non-Null Count  Dtype  \n",
      "---  ------               --------------  -----  \n",
      " 0   OrderID              9999 non-null   int64  \n",
      " 1   Quantity             9999 non-null   int64  \n",
      " 2   UnitPrice(USD)       9999 non-null   int64  \n",
      " 3   Status               9999 non-null   object \n",
      " 4   OrderDate            9999 non-null   object \n",
      " 5   Product_Category     9963 non-null   object \n",
      " 6   Sales_Manager        9999 non-null   object \n",
      " 7   Shipping_Cost(USD)   9999 non-null   int64  \n",
      " 8   Delivery_Time(Days)  9948 non-null   float64\n",
      " 9   Shipping_Address     9999 non-null   object \n",
      " 10  Product_Code         9999 non-null   object \n",
      " 11  OrderCode            9999 non-null   int64  \n",
      " 12  total_ventas(USD)    9999 non-null   int64  \n",
      "dtypes: float64(1), int64(6), object(6)\n",
      "memory usage: 1015.7+ KB\n"
     ]
    }
   ],
   "source": [
    "df2.info()"
   ]
  },
  {
   "cell_type": "code",
   "execution_count": 41,
   "metadata": {},
   "outputs": [
    {
     "data": {
      "text/html": [
       "<div>\n",
       "<style scoped>\n",
       "    .dataframe tbody tr th:only-of-type {\n",
       "        vertical-align: middle;\n",
       "    }\n",
       "\n",
       "    .dataframe tbody tr th {\n",
       "        vertical-align: top;\n",
       "    }\n",
       "\n",
       "    .dataframe thead th {\n",
       "        text-align: right;\n",
       "    }\n",
       "</style>\n",
       "<table border=\"1\" class=\"dataframe\">\n",
       "  <thead>\n",
       "    <tr style=\"text-align: right;\">\n",
       "      <th></th>\n",
       "      <th>OrderID</th>\n",
       "      <th>Quantity</th>\n",
       "      <th>UnitPrice(USD)</th>\n",
       "      <th>Status</th>\n",
       "      <th>OrderDate</th>\n",
       "      <th>Product_Category</th>\n",
       "      <th>Sales_Manager</th>\n",
       "      <th>Shipping_Cost(USD)</th>\n",
       "      <th>Delivery_Time(Days)</th>\n",
       "      <th>Shipping_Address</th>\n",
       "      <th>Product_Code</th>\n",
       "      <th>OrderCode</th>\n",
       "      <th>total_ventas(USD)</th>\n",
       "    </tr>\n",
       "  </thead>\n",
       "  <tbody>\n",
       "    <tr>\n",
       "      <th>0</th>\n",
       "      <td>2951110000999929511</td>\n",
       "      <td>92</td>\n",
       "      <td>238</td>\n",
       "      <td>Not Delivered</td>\n",
       "      <td>2021-08-08</td>\n",
       "      <td>Healthcare</td>\n",
       "      <td>Pablo</td>\n",
       "      <td>21</td>\n",
       "      <td>25.0</td>\n",
       "      <td>Singapore</td>\n",
       "      <td>HC-188</td>\n",
       "      <td>444116</td>\n",
       "      <td>21896</td>\n",
       "    </tr>\n",
       "    <tr>\n",
       "      <th>1</th>\n",
       "      <td>2181910000999921819</td>\n",
       "      <td>61</td>\n",
       "      <td>136</td>\n",
       "      <td>Not Delivered</td>\n",
       "      <td>2021-10-03</td>\n",
       "      <td>Office</td>\n",
       "      <td>Pablo</td>\n",
       "      <td>34</td>\n",
       "      <td>14.0</td>\n",
       "      <td>UK</td>\n",
       "      <td>O-555</td>\n",
       "      <td>444772</td>\n",
       "      <td>8296</td>\n",
       "    </tr>\n",
       "    <tr>\n",
       "      <th>2</th>\n",
       "      <td>3239110000999932391</td>\n",
       "      <td>67</td>\n",
       "      <td>235</td>\n",
       "      <td>Not Delivered</td>\n",
       "      <td>2021-09-27</td>\n",
       "      <td>Office</td>\n",
       "      <td>Kristen</td>\n",
       "      <td>25</td>\n",
       "      <td>11.0</td>\n",
       "      <td>Kenya</td>\n",
       "      <td>O-188</td>\n",
       "      <td>444666</td>\n",
       "      <td>15745</td>\n",
       "    </tr>\n",
       "    <tr>\n",
       "      <th>3</th>\n",
       "      <td>1112610000999911126</td>\n",
       "      <td>33</td>\n",
       "      <td>133</td>\n",
       "      <td>Not Shipped</td>\n",
       "      <td>2021-07-30</td>\n",
       "      <td>Fashion</td>\n",
       "      <td>Abdul</td>\n",
       "      <td>34</td>\n",
       "      <td>24.0</td>\n",
       "      <td>USA</td>\n",
       "      <td>F-555</td>\n",
       "      <td>444007</td>\n",
       "      <td>4389</td>\n",
       "    </tr>\n",
       "    <tr>\n",
       "      <th>4</th>\n",
       "      <td>1548310000999915483</td>\n",
       "      <td>13</td>\n",
       "      <td>189</td>\n",
       "      <td>Not Delivered</td>\n",
       "      <td>2021-08-15</td>\n",
       "      <td>Fashion</td>\n",
       "      <td>Stella</td>\n",
       "      <td>24</td>\n",
       "      <td>19.0</td>\n",
       "      <td>Kenya</td>\n",
       "      <td>F-555</td>\n",
       "      <td>444223</td>\n",
       "      <td>2457</td>\n",
       "    </tr>\n",
       "    <tr>\n",
       "      <th>5</th>\n",
       "      <td>4934810000999949348</td>\n",
       "      <td>51</td>\n",
       "      <td>204</td>\n",
       "      <td>Not Delivered</td>\n",
       "      <td>2021-11-13</td>\n",
       "      <td>Entertainment</td>\n",
       "      <td>Abdul</td>\n",
       "      <td>32</td>\n",
       "      <td>18.0</td>\n",
       "      <td>UK</td>\n",
       "      <td>ENT-188</td>\n",
       "      <td>445113</td>\n",
       "      <td>10404</td>\n",
       "    </tr>\n",
       "    <tr>\n",
       "      <th>6</th>\n",
       "      <td>2750410000999927504</td>\n",
       "      <td>73</td>\n",
       "      <td>242</td>\n",
       "      <td>Not Delivered</td>\n",
       "      <td>2021-07-08</td>\n",
       "      <td>Healthcare</td>\n",
       "      <td>Emma</td>\n",
       "      <td>34</td>\n",
       "      <td>10.0</td>\n",
       "      <td>UK</td>\n",
       "      <td>HC-555</td>\n",
       "      <td>443885</td>\n",
       "      <td>17666</td>\n",
       "    </tr>\n",
       "    <tr>\n",
       "      <th>7</th>\n",
       "      <td>4797510000999947975</td>\n",
       "      <td>48</td>\n",
       "      <td>240</td>\n",
       "      <td>Delivered</td>\n",
       "      <td>2021-10-04</td>\n",
       "      <td>Fashion</td>\n",
       "      <td>Abdul</td>\n",
       "      <td>22</td>\n",
       "      <td>21.0</td>\n",
       "      <td>Kenya</td>\n",
       "      <td>F-203</td>\n",
       "      <td>444773</td>\n",
       "      <td>11520</td>\n",
       "    </tr>\n",
       "    <tr>\n",
       "      <th>8</th>\n",
       "      <td>2804110000999928041</td>\n",
       "      <td>31</td>\n",
       "      <td>163</td>\n",
       "      <td>Not Shipped</td>\n",
       "      <td>2021-12-23</td>\n",
       "      <td>Fashion</td>\n",
       "      <td>Abdul</td>\n",
       "      <td>34</td>\n",
       "      <td>16.0</td>\n",
       "      <td>Kenya</td>\n",
       "      <td>F-901</td>\n",
       "      <td>445553</td>\n",
       "      <td>5053</td>\n",
       "    </tr>\n",
       "    <tr>\n",
       "      <th>9</th>\n",
       "      <td>1735910000999917359</td>\n",
       "      <td>62</td>\n",
       "      <td>214</td>\n",
       "      <td>Not Delivered</td>\n",
       "      <td>2021-08-14</td>\n",
       "      <td>Fashion</td>\n",
       "      <td>John</td>\n",
       "      <td>22</td>\n",
       "      <td>17.0</td>\n",
       "      <td>Germany</td>\n",
       "      <td>F-901</td>\n",
       "      <td>444222</td>\n",
       "      <td>13268</td>\n",
       "    </tr>\n",
       "  </tbody>\n",
       "</table>\n",
       "</div>"
      ],
      "text/plain": [
       "               OrderID  Quantity  UnitPrice(USD)         Status   OrderDate  \\\n",
       "0  2951110000999929511        92             238  Not Delivered  2021-08-08   \n",
       "1  2181910000999921819        61             136  Not Delivered  2021-10-03   \n",
       "2  3239110000999932391        67             235  Not Delivered  2021-09-27   \n",
       "3  1112610000999911126        33             133    Not Shipped  2021-07-30   \n",
       "4  1548310000999915483        13             189  Not Delivered  2021-08-15   \n",
       "5  4934810000999949348        51             204  Not Delivered  2021-11-13   \n",
       "6  2750410000999927504        73             242  Not Delivered  2021-07-08   \n",
       "7  4797510000999947975        48             240      Delivered  2021-10-04   \n",
       "8  2804110000999928041        31             163    Not Shipped  2021-12-23   \n",
       "9  1735910000999917359        62             214  Not Delivered  2021-08-14   \n",
       "\n",
       "  Product_Category Sales_Manager  Shipping_Cost(USD)  Delivery_Time(Days)  \\\n",
       "0       Healthcare         Pablo                  21                 25.0   \n",
       "1           Office         Pablo                  34                 14.0   \n",
       "2           Office       Kristen                  25                 11.0   \n",
       "3          Fashion         Abdul                  34                 24.0   \n",
       "4          Fashion        Stella                  24                 19.0   \n",
       "5    Entertainment         Abdul                  32                 18.0   \n",
       "6       Healthcare          Emma                  34                 10.0   \n",
       "7          Fashion         Abdul                  22                 21.0   \n",
       "8          Fashion         Abdul                  34                 16.0   \n",
       "9          Fashion          John                  22                 17.0   \n",
       "\n",
       "  Shipping_Address Product_Code  OrderCode  total_ventas(USD)  \n",
       "0        Singapore       HC-188     444116              21896  \n",
       "1               UK        O-555     444772               8296  \n",
       "2            Kenya        O-188     444666              15745  \n",
       "3              USA        F-555     444007               4389  \n",
       "4            Kenya        F-555     444223               2457  \n",
       "5               UK      ENT-188     445113              10404  \n",
       "6               UK       HC-555     443885              17666  \n",
       "7            Kenya        F-203     444773              11520  \n",
       "8            Kenya        F-901     445553               5053  \n",
       "9          Germany        F-901     444222              13268  "
      ]
     },
     "execution_count": 41,
     "metadata": {},
     "output_type": "execute_result"
    }
   ],
   "source": [
    "df2.head(10)"
   ]
  },
  {
   "cell_type": "markdown",
   "metadata": {
    "id": "uUzdj6FKBldK"
   },
   "source": [
    "### Pregunta 1:\n",
    "\n",
    "¿Cuál es el total de ventas en dolares por cada uno de los tipos de producto?"
   ]
  },
  {
   "cell_type": "markdown",
   "metadata": {
    "id": "j9SClO1ZLrlZ"
   },
   "source": [
    "- Paso 1: Calcular el total de cada una de las ventas.\n",
    "- Paso 2: Vamos a almacenar el total de las ventas en un nueva columna total_ventas\n",
    "- Paso 3: Vamos a agrupar por tipo de porducto y vamos a calcular el total de ventas por ese tipo de producto"
   ]
  },
  {
   "cell_type": "code",
   "execution_count": 43,
   "metadata": {
    "colab": {
     "base_uri": "https://localhost:8080/"
    },
    "executionInfo": {
     "elapsed": 3,
     "status": "ok",
     "timestamp": 1730394903666,
     "user": {
      "displayName": "Breyner Posso Bautista",
      "userId": "13049344394225357947"
     },
     "user_tz": 300
    },
    "id": "SPhbYlYdHAyu",
    "outputId": "88b6b7db-5488-4a70-9a8d-98f1ff9ab711"
   },
   "outputs": [
    {
     "name": "stdout",
     "output_type": "stream",
     "text": [
      "0       21896\n",
      "1        8296\n",
      "2       15745\n",
      "3        4389\n",
      "4        2457\n",
      "        ...  \n",
      "9994    15075\n",
      "9995     4995\n",
      "9996    16767\n",
      "9997     2106\n",
      "9998    12137\n",
      "Length: 9999, dtype: int64\n"
     ]
    }
   ],
   "source": [
    "## Paso 1\n",
    "valor_total = df2['UnitPrice(USD)'] * df2['Quantity']\n",
    "print(valor_total)"
   ]
  },
  {
   "cell_type": "code",
   "execution_count": 44,
   "metadata": {},
   "outputs": [
    {
     "data": {
      "text/html": [
       "<div>\n",
       "<style scoped>\n",
       "    .dataframe tbody tr th:only-of-type {\n",
       "        vertical-align: middle;\n",
       "    }\n",
       "\n",
       "    .dataframe tbody tr th {\n",
       "        vertical-align: top;\n",
       "    }\n",
       "\n",
       "    .dataframe thead th {\n",
       "        text-align: right;\n",
       "    }\n",
       "</style>\n",
       "<table border=\"1\" class=\"dataframe\">\n",
       "  <thead>\n",
       "    <tr style=\"text-align: right;\">\n",
       "      <th></th>\n",
       "      <th>OrderID</th>\n",
       "      <th>Quantity</th>\n",
       "      <th>UnitPrice(USD)</th>\n",
       "      <th>Shipping_Cost(USD)</th>\n",
       "      <th>Delivery_Time(Days)</th>\n",
       "      <th>OrderCode</th>\n",
       "      <th>total_ventas(USD)</th>\n",
       "    </tr>\n",
       "  </thead>\n",
       "  <tbody>\n",
       "    <tr>\n",
       "      <th>count</th>\n",
       "      <td>9.999000e+03</td>\n",
       "      <td>9999.000000</td>\n",
       "      <td>9999.000000</td>\n",
       "      <td>9999.000000</td>\n",
       "      <td>9948.000000</td>\n",
       "      <td>9999.000000</td>\n",
       "      <td>9999.000000</td>\n",
       "    </tr>\n",
       "    <tr>\n",
       "      <th>mean</th>\n",
       "      <td>3.020951e+18</td>\n",
       "      <td>50.739874</td>\n",
       "      <td>175.620662</td>\n",
       "      <td>27.571857</td>\n",
       "      <td>17.518396</td>\n",
       "      <td>444682.917392</td>\n",
       "      <td>8900.936994</td>\n",
       "    </tr>\n",
       "    <tr>\n",
       "      <th>std</th>\n",
       "      <td>1.167549e+18</td>\n",
       "      <td>29.005532</td>\n",
       "      <td>43.527995</td>\n",
       "      <td>4.610452</td>\n",
       "      <td>4.609531</td>\n",
       "      <td>525.343171</td>\n",
       "      <td>5672.388950</td>\n",
       "    </tr>\n",
       "    <tr>\n",
       "      <th>min</th>\n",
       "      <td>1.010010e+18</td>\n",
       "      <td>1.000000</td>\n",
       "      <td>100.000000</td>\n",
       "      <td>20.000000</td>\n",
       "      <td>10.000000</td>\n",
       "      <td>443880.000000</td>\n",
       "      <td>100.000000</td>\n",
       "    </tr>\n",
       "    <tr>\n",
       "      <th>25%</th>\n",
       "      <td>2.010410e+18</td>\n",
       "      <td>26.000000</td>\n",
       "      <td>138.000000</td>\n",
       "      <td>24.000000</td>\n",
       "      <td>14.000000</td>\n",
       "      <td>444222.000000</td>\n",
       "      <td>4219.000000</td>\n",
       "    </tr>\n",
       "    <tr>\n",
       "      <th>50%</th>\n",
       "      <td>3.002410e+18</td>\n",
       "      <td>51.000000</td>\n",
       "      <td>176.000000</td>\n",
       "      <td>28.000000</td>\n",
       "      <td>18.000000</td>\n",
       "      <td>444772.000000</td>\n",
       "      <td>8352.000000</td>\n",
       "    </tr>\n",
       "    <tr>\n",
       "      <th>75%</th>\n",
       "      <td>4.024510e+18</td>\n",
       "      <td>76.000000</td>\n",
       "      <td>213.000000</td>\n",
       "      <td>32.000000</td>\n",
       "      <td>22.000000</td>\n",
       "      <td>445113.000000</td>\n",
       "      <td>12764.000000</td>\n",
       "    </tr>\n",
       "    <tr>\n",
       "      <th>max</th>\n",
       "      <td>5.049610e+18</td>\n",
       "      <td>100.000000</td>\n",
       "      <td>250.000000</td>\n",
       "      <td>35.000000</td>\n",
       "      <td>25.000000</td>\n",
       "      <td>445660.000000</td>\n",
       "      <td>25000.000000</td>\n",
       "    </tr>\n",
       "  </tbody>\n",
       "</table>\n",
       "</div>"
      ],
      "text/plain": [
       "            OrderID     Quantity  UnitPrice(USD)  Shipping_Cost(USD)  \\\n",
       "count  9.999000e+03  9999.000000     9999.000000         9999.000000   \n",
       "mean   3.020951e+18    50.739874      175.620662           27.571857   \n",
       "std    1.167549e+18    29.005532       43.527995            4.610452   \n",
       "min    1.010010e+18     1.000000      100.000000           20.000000   \n",
       "25%    2.010410e+18    26.000000      138.000000           24.000000   \n",
       "50%    3.002410e+18    51.000000      176.000000           28.000000   \n",
       "75%    4.024510e+18    76.000000      213.000000           32.000000   \n",
       "max    5.049610e+18   100.000000      250.000000           35.000000   \n",
       "\n",
       "       Delivery_Time(Days)      OrderCode  total_ventas(USD)  \n",
       "count          9948.000000    9999.000000        9999.000000  \n",
       "mean             17.518396  444682.917392        8900.936994  \n",
       "std               4.609531     525.343171        5672.388950  \n",
       "min              10.000000  443880.000000         100.000000  \n",
       "25%              14.000000  444222.000000        4219.000000  \n",
       "50%              18.000000  444772.000000        8352.000000  \n",
       "75%              22.000000  445113.000000       12764.000000  \n",
       "max              25.000000  445660.000000       25000.000000  "
      ]
     },
     "execution_count": 44,
     "metadata": {},
     "output_type": "execute_result"
    }
   ],
   "source": [
    "df2.describe()"
   ]
  },
  {
   "cell_type": "code",
   "execution_count": 37,
   "metadata": {
    "colab": {
     "base_uri": "https://localhost:8080/",
     "height": 313
    },
    "executionInfo": {
     "elapsed": 13,
     "status": "ok",
     "timestamp": 1730394904748,
     "user": {
      "displayName": "Breyner Posso Bautista",
      "userId": "13049344394225357947"
     },
     "user_tz": 300
    },
    "id": "Cc2MCtdsMcMp",
    "outputId": "ae73f65f-a327-403f-e52b-3ca2e5c2bf63"
   },
   "outputs": [
    {
     "data": {
      "text/html": [
       "<div>\n",
       "<style scoped>\n",
       "    .dataframe tbody tr th:only-of-type {\n",
       "        vertical-align: middle;\n",
       "    }\n",
       "\n",
       "    .dataframe tbody tr th {\n",
       "        vertical-align: top;\n",
       "    }\n",
       "\n",
       "    .dataframe thead th {\n",
       "        text-align: right;\n",
       "    }\n",
       "</style>\n",
       "<table border=\"1\" class=\"dataframe\">\n",
       "  <thead>\n",
       "    <tr style=\"text-align: right;\">\n",
       "      <th></th>\n",
       "      <th>OrderID</th>\n",
       "      <th>Quantity</th>\n",
       "      <th>UnitPrice(USD)</th>\n",
       "      <th>Status</th>\n",
       "      <th>OrderDate</th>\n",
       "      <th>Product_Category</th>\n",
       "      <th>Sales_Manager</th>\n",
       "      <th>Shipping_Cost(USD)</th>\n",
       "      <th>Delivery_Time(Days)</th>\n",
       "      <th>Shipping_Address</th>\n",
       "      <th>Product_Code</th>\n",
       "      <th>OrderCode</th>\n",
       "      <th>total_ventas(USD)</th>\n",
       "    </tr>\n",
       "  </thead>\n",
       "  <tbody>\n",
       "    <tr>\n",
       "      <th>0</th>\n",
       "      <td>2951110000999929511</td>\n",
       "      <td>92</td>\n",
       "      <td>238</td>\n",
       "      <td>Not Delivered</td>\n",
       "      <td>2021-08-08</td>\n",
       "      <td>Healthcare</td>\n",
       "      <td>Pablo</td>\n",
       "      <td>21</td>\n",
       "      <td>25.0</td>\n",
       "      <td>Singapore</td>\n",
       "      <td>HC-188</td>\n",
       "      <td>444116</td>\n",
       "      <td>21896</td>\n",
       "    </tr>\n",
       "    <tr>\n",
       "      <th>1</th>\n",
       "      <td>2181910000999921819</td>\n",
       "      <td>61</td>\n",
       "      <td>136</td>\n",
       "      <td>Not Delivered</td>\n",
       "      <td>2021-10-03</td>\n",
       "      <td>Office</td>\n",
       "      <td>Pablo</td>\n",
       "      <td>34</td>\n",
       "      <td>14.0</td>\n",
       "      <td>UK</td>\n",
       "      <td>O-555</td>\n",
       "      <td>444772</td>\n",
       "      <td>8296</td>\n",
       "    </tr>\n",
       "    <tr>\n",
       "      <th>2</th>\n",
       "      <td>3239110000999932391</td>\n",
       "      <td>67</td>\n",
       "      <td>235</td>\n",
       "      <td>Not Delivered</td>\n",
       "      <td>2021-09-27</td>\n",
       "      <td>Office</td>\n",
       "      <td>Kristen</td>\n",
       "      <td>25</td>\n",
       "      <td>11.0</td>\n",
       "      <td>Kenya</td>\n",
       "      <td>O-188</td>\n",
       "      <td>444666</td>\n",
       "      <td>15745</td>\n",
       "    </tr>\n",
       "    <tr>\n",
       "      <th>3</th>\n",
       "      <td>1112610000999911126</td>\n",
       "      <td>33</td>\n",
       "      <td>133</td>\n",
       "      <td>Not Shipped</td>\n",
       "      <td>2021-07-30</td>\n",
       "      <td>Fashion</td>\n",
       "      <td>Abdul</td>\n",
       "      <td>34</td>\n",
       "      <td>24.0</td>\n",
       "      <td>USA</td>\n",
       "      <td>F-555</td>\n",
       "      <td>444007</td>\n",
       "      <td>4389</td>\n",
       "    </tr>\n",
       "    <tr>\n",
       "      <th>4</th>\n",
       "      <td>1548310000999915483</td>\n",
       "      <td>13</td>\n",
       "      <td>189</td>\n",
       "      <td>Not Delivered</td>\n",
       "      <td>2021-08-15</td>\n",
       "      <td>Fashion</td>\n",
       "      <td>Stella</td>\n",
       "      <td>24</td>\n",
       "      <td>19.0</td>\n",
       "      <td>Kenya</td>\n",
       "      <td>F-555</td>\n",
       "      <td>444223</td>\n",
       "      <td>2457</td>\n",
       "    </tr>\n",
       "  </tbody>\n",
       "</table>\n",
       "</div>"
      ],
      "text/plain": [
       "               OrderID  Quantity  UnitPrice(USD)         Status   OrderDate  \\\n",
       "0  2951110000999929511        92             238  Not Delivered  2021-08-08   \n",
       "1  2181910000999921819        61             136  Not Delivered  2021-10-03   \n",
       "2  3239110000999932391        67             235  Not Delivered  2021-09-27   \n",
       "3  1112610000999911126        33             133    Not Shipped  2021-07-30   \n",
       "4  1548310000999915483        13             189  Not Delivered  2021-08-15   \n",
       "\n",
       "  Product_Category Sales_Manager  Shipping_Cost(USD)  Delivery_Time(Days)  \\\n",
       "0       Healthcare         Pablo                  21                 25.0   \n",
       "1           Office         Pablo                  34                 14.0   \n",
       "2           Office       Kristen                  25                 11.0   \n",
       "3          Fashion         Abdul                  34                 24.0   \n",
       "4          Fashion        Stella                  24                 19.0   \n",
       "\n",
       "  Shipping_Address Product_Code  OrderCode  total_ventas(USD)  \n",
       "0        Singapore       HC-188     444116              21896  \n",
       "1               UK        O-555     444772               8296  \n",
       "2            Kenya        O-188     444666              15745  \n",
       "3              USA        F-555     444007               4389  \n",
       "4            Kenya        F-555     444223               2457  "
      ]
     },
     "execution_count": 37,
     "metadata": {},
     "output_type": "execute_result"
    }
   ],
   "source": [
    "## Paso 2\n",
    "\n",
    "df2['total_ventas(USD)'] = valor_total\n",
    "df2.head()"
   ]
  },
  {
   "cell_type": "code",
   "execution_count": 46,
   "metadata": {},
   "outputs": [
    {
     "data": {
      "text/plain": [
       "Shipping_Address\n",
       "Singapore    1279\n",
       "Kenya        1272\n",
       "USA          1272\n",
       "India        1260\n",
       "China        1260\n",
       "Germany      1227\n",
       "UK           1222\n",
       "Italy        1207\n",
       "Name: count, dtype: int64"
      ]
     },
     "execution_count": 46,
     "metadata": {},
     "output_type": "execute_result"
    }
   ],
   "source": [
    "df2['Shipping_Address'].value_counts()"
   ]
  },
  {
   "cell_type": "code",
   "execution_count": 48,
   "metadata": {
    "colab": {
     "base_uri": "https://localhost:8080/",
     "height": 272
    },
    "executionInfo": {
     "elapsed": 376,
     "status": "ok",
     "timestamp": 1730388806578,
     "user": {
      "displayName": "Breyner Posso Bautista",
      "userId": "13049344394225357947"
     },
     "user_tz": 300
    },
    "id": "9alvPHoEM1Hh",
    "outputId": "a45a8fee-a125-4aed-b074-a17f109e3b67"
   },
   "outputs": [
    {
     "name": "stdout",
     "output_type": "stream",
     "text": [
      "Product_Category\n",
      "Home             18342336\n",
      "Office           17950480\n",
      "Fashion          17801735\n",
      "Healthcare       17388189\n",
      "Entertainment    17181377\n",
      "Name: total_ventas(USD), dtype: int64\n"
     ]
    }
   ],
   "source": [
    "## Paso 3\n",
    "\n",
    "df2_gb = df2.groupby(['Product_Category'])['total_ventas(USD)'].sum().sort_values(ascending=False)\n",
    "print(df2_gb)\n"
   ]
  },
  {
   "cell_type": "markdown",
   "metadata": {
    "id": "EJQgmFI1PUfO"
   },
   "source": [
    "### Pregunta 2:\n",
    "\n",
    "¿Cuántos productos se están vendiento por categoría?"
   ]
  },
  {
   "cell_type": "code",
   "execution_count": 50,
   "metadata": {
    "colab": {
     "base_uri": "https://localhost:8080/",
     "height": 272
    },
    "executionInfo": {
     "elapsed": 360,
     "status": "ok",
     "timestamp": 1730389338657,
     "user": {
      "displayName": "Breyner Posso Bautista",
      "userId": "13049344394225357947"
     },
     "user_tz": 300
    },
    "id": "EuT7KadgPDjz",
    "outputId": "564f80bc-acfb-465d-a2e1-b4f6a6ed998f"
   },
   "outputs": [
    {
     "data": {
      "text/plain": [
       "Product_Category\n",
       "Home             104453\n",
       "Office           102387\n",
       "Fashion          101024\n",
       "Healthcare        99418\n",
       "Entertainment     98107\n",
       "Name: Quantity, dtype: int64"
      ]
     },
     "execution_count": 50,
     "metadata": {},
     "output_type": "execute_result"
    }
   ],
   "source": [
    "df2.groupby('Product_Category')['Quantity'].sum().sort_values(ascending=False)"
   ]
  },
  {
   "cell_type": "markdown",
   "metadata": {
    "id": "GISBX0lHPswT"
   },
   "source": [
    "### Pregunta 3:\n",
    "\n",
    "¿Cuál es el sales_manager que más ventas ha realizado?"
   ]
  },
  {
   "cell_type": "code",
   "execution_count": 67,
   "metadata": {},
   "outputs": [
    {
     "name": "stdout",
     "output_type": "stream",
     "text": [
      "Sales manager con más ventas:\n",
      "Sales_Manager\n",
      "John    53727\n",
      "Name: Quantity, dtype: int64\n"
     ]
    }
   ],
   "source": [
    "# Agrupar por Sales_Manager y sumar la cantidad\n",
    "ventas_por_manager = df2.groupby(\"Sales_Manager\")[\"Quantity\"].sum()\n",
    "\n",
    "# Ordenar de mayor a menor\n",
    "ventas_ordenadas = ventas_por_manager.sort_values(ascending=False)\n",
    "\n",
    "# Mostrar el que más ventas ha realizado\n",
    "manager_top = ventas_ordenadas.head(1)\n",
    "print(\"Sales manager con más ventas:\")\n",
    "print(manager_top)"
   ]
  },
  {
   "cell_type": "markdown",
   "metadata": {
    "id": "DnUXOk9pTNwA"
   },
   "source": [
    "### Pregunta 4:\n",
    "\n",
    "¿Qué tipo de producto es el más vendido por cada uno de los sales manager?"
   ]
  },
  {
   "cell_type": "code",
   "execution_count": 63,
   "metadata": {},
   "outputs": [
    {
     "name": "stdout",
     "output_type": "stream",
     "text": [
      "Ventas por sales_manager y producto:\n",
      "Sales_Manager  Product_Category\n",
      "Abdul          Entertainment       10842\n",
      "               Fashion             10816\n",
      "               Healthcare          10336\n",
      "               Home                 8888\n",
      "               Office               8814\n",
      "Anthony        Entertainment       10028\n",
      "               Fashion             10532\n",
      "               Healthcare          10343\n",
      "               Home                10207\n",
      "               Office              10753\n",
      "Emma           Entertainment       10878\n",
      "               Fashion              9518\n",
      "               Healthcare           8883\n",
      "               Home                11416\n",
      "               Office              11967\n",
      "Jacob          Entertainment        9584\n",
      "               Fashion              9604\n",
      "               Healthcare           9610\n",
      "               Home                10431\n",
      "               Office              10051\n",
      "John           Entertainment        9775\n",
      "               Fashion             12033\n",
      "               Healthcare          10418\n",
      "               Home                10434\n",
      "               Office              10766\n",
      "Kristen        Entertainment        9861\n",
      "               Fashion              9488\n",
      "               Healthcare           8931\n",
      "               Home                11304\n",
      "               Office               9760\n",
      "Maria          Entertainment        8239\n",
      "               Fashion             10764\n",
      "               Healthcare           9542\n",
      "               Home                 9411\n",
      "               Office               8916\n",
      "Pablo          Entertainment        9732\n",
      "               Fashion             11037\n",
      "               Healthcare           9821\n",
      "               Home                10218\n",
      "               Office              10118\n",
      "Sofia          Entertainment        9192\n",
      "               Fashion              9025\n",
      "               Healthcare          11906\n",
      "               Home                11644\n",
      "               Office              10495\n",
      "Stella         Entertainment        9976\n",
      "               Fashion              8207\n",
      "               Healthcare           9628\n",
      "               Home                10500\n",
      "               Office              10747\n",
      "Name: Quantity, dtype: int64\n"
     ]
    }
   ],
   "source": [
    "# Agrupar por sales_manager y producto, sumar ventas\n",
    "ventas_por_manager_producto = df2.groupby([\"Sales_Manager\", \"Product_Category\"])[\"Quantity\"].sum()\n",
    "\n",
    "# Mostrar todos los productos con sus ventas por cada sales_manager\n",
    "print(\"Ventas por sales_manager y producto:\")\n",
    "print(ventas_por_manager_producto)"
   ]
  },
  {
   "cell_type": "markdown",
   "metadata": {
    "id": "Vhrju8h-U8k0"
   },
   "source": [
    "### Pregunta 5:\n",
    "\n",
    "¿Cuál es el destino con la mayor cantidad de ventas?"
   ]
  },
  {
   "cell_type": "code",
   "execution_count": null,
   "metadata": {},
   "outputs": [
    {
     "name": "stdout",
     "output_type": "stream",
     "text": [
      "Destino con mayor ventas: Singapore ($11,480,596.00 USD)\n"
     ]
    }
   ],
   "source": [
    "# Agrupar por destino y sumar ventas\n",
    "ventas_por_destino = df2.groupby('Shipping_Address')['total_ventas(USD)'].sum()\n",
    "\n",
    "# Ordenar de mayor a menor y seleccionar el primero\n",
    "destino_top = ventas_por_destino.sort_values(ascending=False).index[0]\n",
    "ventas_top = ventas_por_destino.sort_values(ascending=False).iloc[0]\n",
    "\n",
    "print(f\"Destino con mayor ventas: {destino_top} (${ventas_top:,.2f} USD)\")"
   ]
  },
  {
   "cell_type": "markdown",
   "metadata": {},
   "source": [
    "### Pregunta 6:\n",
    "\n",
    "¿Cuál es el promedio de ventas (total_ventas(USD)) por categoría de producto?"
   ]
  },
  {
   "cell_type": "code",
   "execution_count": 73,
   "metadata": {},
   "outputs": [
    {
     "name": "stdout",
     "output_type": "stream",
     "text": [
      "Promedio de ventas por categoría de producto:\n",
      "Product_Category\n",
      "Fashion          9031.829021\n",
      "Office           8926.146196\n",
      "Home             8904.046602\n",
      "Healthcare       8903.322581\n",
      "Entertainment    8730.374492\n",
      "Name: total_ventas(USD), dtype: float64\n"
     ]
    }
   ],
   "source": [
    "# Agrupar por categoría de producto y calcular el promedio de ventas\n",
    "promedio_ventas_categoria = df2.groupby(\"Product_Category\")[\"total_ventas(USD)\"].mean()\n",
    "\n",
    "# Ordenar de mayor a menor (opcional, si está permitido sort_values)\n",
    "promedio_ventas_categoria = promedio_ventas_categoria.sort_values(ascending=False)\n",
    "\n",
    "# Mostrar resultados\n",
    "print(\"Promedio de ventas por categoría de producto:\")\n",
    "print(promedio_ventas_categoria)"
   ]
  },
  {
   "cell_type": "markdown",
   "metadata": {},
   "source": [
    "### Pregunta 7:\n",
    "\n",
    "Para cada categoría de producto, ¿cuál fue la venta mínima, la venta máxima y el promedio de ventas (total_ventas(USD))?"
   ]
  },
  {
   "cell_type": "code",
   "execution_count": 72,
   "metadata": {},
   "outputs": [
    {
     "name": "stdout",
     "output_type": "stream",
     "text": [
      "Resumen de ventas por categoría de producto:\n",
      "                  venta_minima  venta_promedio  venta_maxima\n",
      "Product_Category                                            \n",
      "Entertainment              100         8730.37         24900\n",
      "Fashion                    113         9031.83         24400\n",
      "Healthcare                 106         8903.32         25000\n",
      "Home                       113         8904.05         24255\n",
      "Office                     106         8926.15         24900\n"
     ]
    }
   ],
   "source": [
    "# Agrupar por categoría de producto y calcular mínimo, promedio y máximo de ventas\n",
    "resumen_ventas = df2.groupby(\"Product_Category\").agg(\n",
    "    venta_minima = (\"total_ventas(USD)\", \"min\"),\n",
    "    venta_promedio = (\"total_ventas(USD)\", \"mean\"),\n",
    "    venta_maxima = (\"total_ventas(USD)\", \"max\")\n",
    ").round(2)\n",
    "\n",
    "print(\"Resumen de ventas por categoría de producto:\")\n",
    "print(resumen_ventas)\n"
   ]
  }
 ],
 "metadata": {
  "colab": {
   "authorship_tag": "ABX9TyP6MMjER4LpHjcZxzalCvrr",
   "provenance": []
  },
  "kernelspec": {
   "display_name": "venv",
   "language": "python",
   "name": "python3"
  },
  "language_info": {
   "codemirror_mode": {
    "name": "ipython",
    "version": 3
   },
   "file_extension": ".py",
   "mimetype": "text/x-python",
   "name": "python",
   "nbconvert_exporter": "python",
   "pygments_lexer": "ipython3",
   "version": "3.12.4"
  }
 },
 "nbformat": 4,
 "nbformat_minor": 0
}
