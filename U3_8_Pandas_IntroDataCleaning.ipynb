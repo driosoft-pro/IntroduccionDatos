{
 "cells": [
  {
   "cell_type": "markdown",
   "id": "7bcf2dd9",
   "metadata": {
    "id": "7bcf2dd9"
   },
   "source": [
    "# **Pandas**\n",
    "\n",
    "## Introducción a la Limpieza de Conjuntos de Datos"
   ]
  },
  {
   "cell_type": "markdown",
   "id": "166a763b",
   "metadata": {
    "id": "166a763b"
   },
   "source": [
    "## **0. Importar las librerías**"
   ]
  },
  {
   "cell_type": "code",
   "execution_count": 1,
   "id": "479ff4d2",
   "metadata": {
    "executionInfo": {
     "elapsed": 9570,
     "status": "ok",
     "timestamp": 1730821504208,
     "user": {
      "displayName": "Breyner Posso Bautista",
      "userId": "13049344394225357947"
     },
     "user_tz": 300
    },
    "id": "479ff4d2"
   },
   "outputs": [],
   "source": [
    "import pandas as pd\n",
    "import numpy as np\n",
    "import matplotlib.pyplot as plt\n",
    "import seaborn as sns\n",
    "import tabulate\n",
    "sns.set_theme(style=\"whitegrid\")\n",
    "pd.set_option('display.max_columns', None)\n",
    "pd.set_option('display.max_rows', None)"
   ]
  },
  {
   "cell_type": "markdown",
   "id": "efcbbc07",
   "metadata": {
    "id": "efcbbc07"
   },
   "source": [
    "## **1. Recolectar y Cargar un conjunto de datos tabulares.**\n",
    "\n",
    "+ Vamos a utilizar el dataset:\n",
    "\n",
    "https://archive.ics.uci.edu/dataset/10/automobile"
   ]
  },
  {
   "cell_type": "markdown",
   "id": "0d5574ff",
   "metadata": {
    "id": "0d5574ff"
   },
   "source": [
    "### Acceso a archivos usando Google Colab"
   ]
  },
  {
   "cell_type": "code",
   "execution_count": null,
   "id": "8752a694",
   "metadata": {
    "colab": {
     "base_uri": "https://localhost:8080/"
    },
    "executionInfo": {
     "elapsed": 29740,
     "status": "ok",
     "timestamp": 1730821538011,
     "user": {
      "displayName": "Breyner Posso Bautista",
      "userId": "13049344394225357947"
     },
     "user_tz": 300
    },
    "id": "8752a694",
    "outputId": "c5929f0b-aaa0-48ca-8526-5939d15164fe"
   },
   "outputs": [],
   "source": [
    "#Al ejecutar esta celda, Google Colab va a acceder a su Drive\n",
    "\n",
    "from google.colab import drive\n",
    "drive.mount('/gdrive')"
   ]
  },
  {
   "cell_type": "code",
   "execution_count": 2,
   "id": "8078f17d",
   "metadata": {
    "executionInfo": {
     "elapsed": 550,
     "status": "ok",
     "timestamp": 1730821574301,
     "user": {
      "displayName": "Breyner Posso Bautista",
      "userId": "13049344394225357947"
     },
     "user_tz": 300
    },
    "id": "8078f17d"
   },
   "outputs": [],
   "source": [
    "# Vamos a leer el conjunto de datos en un dataframe de pandas.\n",
    "\n",
    "df = pd.read_csv('datasets/auto.csv')\n"
   ]
  },
  {
   "cell_type": "markdown",
   "id": "9f51374d",
   "metadata": {
    "id": "9f51374d"
   },
   "source": [
    "## **2. Análisis Exploratorio de los Datos - Limpieza - Preparación**"
   ]
  },
  {
   "cell_type": "markdown",
   "id": "cd1e8e65",
   "metadata": {
    "id": "cd1e8e65"
   },
   "source": [
    "## **2.1 Conocimiento básico del Dataset**"
   ]
  },
  {
   "cell_type": "markdown",
   "id": "16b265e4",
   "metadata": {
    "id": "16b265e4"
   },
   "source": [
    "### a. Tamaño del dataset"
   ]
  },
  {
   "cell_type": "code",
   "execution_count": null,
   "id": "239fd1d8",
   "metadata": {
    "colab": {
     "base_uri": "https://localhost:8080/"
    },
    "executionInfo": {
     "elapsed": 168,
     "status": "ok",
     "timestamp": 1730821600333,
     "user": {
      "displayName": "Breyner Posso Bautista",
      "userId": "13049344394225357947"
     },
     "user_tz": 300
    },
    "id": "239fd1d8",
    "outputId": "9f8a7a53-427a-4af0-cd2b-0c8bb3f211bb"
   },
   "outputs": [],
   "source": [
    "# Usando el método shape se puede encontrar el tamaño del conjunto de datos\n",
    "df.shape"
   ]
  },
  {
   "cell_type": "code",
   "execution_count": null,
   "id": "6e2f5fc7",
   "metadata": {
    "id": "6e2f5fc7"
   },
   "outputs": [],
   "source": [
    "# ¿Cuál es el número de observaciones?\n",
    "# ¿Cuál es la cantidad de atributos?"
   ]
  },
  {
   "cell_type": "code",
   "execution_count": null,
   "id": "hM-asFaNAct6",
   "metadata": {
    "colab": {
     "base_uri": "https://localhost:8080/"
    },
    "executionInfo": {
     "elapsed": 166,
     "status": "ok",
     "timestamp": 1730821629231,
     "user": {
      "displayName": "Breyner Posso Bautista",
      "userId": "13049344394225357947"
     },
     "user_tz": 300
    },
    "id": "hM-asFaNAct6",
    "outputId": "eb823708-d87b-40c9-b56d-5d46cc541f8b"
   },
   "outputs": [],
   "source": [
    "print(f\"El número de observaciones es: {df.shape[0]}\")\n",
    "print(f\"El número de atributos es: {df.shape[1]}\")"
   ]
  },
  {
   "cell_type": "markdown",
   "id": "b88d6756",
   "metadata": {
    "id": "b88d6756"
   },
   "source": [
    "### b. Vista preliminar"
   ]
  },
  {
   "cell_type": "code",
   "execution_count": null,
   "id": "a6d0a575",
   "metadata": {
    "colab": {
     "base_uri": "https://localhost:8080/",
     "height": 206
    },
    "executionInfo": {
     "elapsed": 178,
     "status": "ok",
     "timestamp": 1730821644681,
     "user": {
      "displayName": "Breyner Posso Bautista",
      "userId": "13049344394225357947"
     },
     "user_tz": 300
    },
    "id": "a6d0a575",
    "outputId": "fa724995-bdda-4178-b0e2-17f2569ec23e"
   },
   "outputs": [],
   "source": [
    "# Con el método head se pueden observar los primeros elementos del Dataframe\n",
    "\n",
    "df.head()"
   ]
  },
  {
   "cell_type": "code",
   "execution_count": null,
   "id": "8247ad48",
   "metadata": {
    "id": "8247ad48"
   },
   "outputs": [],
   "source": [
    "# Con el método tail se pueden observar los últimos elementos del Dataframe\n",
    "\n",
    "df.tail()"
   ]
  },
  {
   "cell_type": "markdown",
   "id": "8IEWA0VuBd30",
   "metadata": {
    "id": "8IEWA0VuBd30"
   },
   "source": [
    "### Vamos a volver a cargar el conjunto de datos pero sin Header en las columnas"
   ]
  },
  {
   "cell_type": "code",
   "execution_count": null,
   "id": "-7RMu1mXBY84",
   "metadata": {
    "executionInfo": {
     "elapsed": 176,
     "status": "ok",
     "timestamp": 1730821926595,
     "user": {
      "displayName": "Breyner Posso Bautista",
      "userId": "13049344394225357947"
     },
     "user_tz": 300
    },
    "id": "-7RMu1mXBY84"
   },
   "outputs": [],
   "source": [
    "df = pd.read_csv('auto.csv', header=None)"
   ]
  },
  {
   "cell_type": "code",
   "execution_count": null,
   "id": "RlhKZAwnBrh6",
   "metadata": {
    "colab": {
     "base_uri": "https://localhost:8080/",
     "height": 206
    },
    "executionInfo": {
     "elapsed": 167,
     "status": "ok",
     "timestamp": 1730821935839,
     "user": {
      "displayName": "Breyner Posso Bautista",
      "userId": "13049344394225357947"
     },
     "user_tz": 300
    },
    "id": "RlhKZAwnBrh6",
    "outputId": "744192b5-14d4-4226-f593-ab1717f8ea47"
   },
   "outputs": [],
   "source": [
    "df.head()"
   ]
  },
  {
   "cell_type": "markdown",
   "id": "InBMceQiCGRw",
   "metadata": {
    "id": "InBMceQiCGRw"
   },
   "source": [
    "### Vamos a ponerle el nombre a las columnas"
   ]
  },
  {
   "cell_type": "code",
   "execution_count": null,
   "id": "OBEXemr1BZWr",
   "metadata": {
    "executionInfo": {
     "elapsed": 172,
     "status": "ok",
     "timestamp": 1730822211692,
     "user": {
      "displayName": "Breyner Posso Bautista",
      "userId": "13049344394225357947"
     },
     "user_tz": 300
    },
    "id": "OBEXemr1BZWr"
   },
   "outputs": [],
   "source": [
    "headers = [\"symboling\",\"normalized-losses\",\"make\",\"fuel-type\",\"aspiration\", \"num-of-doors\",\"body-style\",\n",
    "         \"drive-wheels\",\"engine-location\",\"wheel-base\", \"length\",\"width\",\"height\",\"curb-weight\",\"engine-type\",\n",
    "         \"num-of-cylinders\", \"engine-size\",\"fuel-system\",\"bore\",\"stroke\",\"compression-ratio\",\"horsepower\",\n",
    "         \"peak-rpm\",\"city-mpg\",\"highway-mpg\",\"price\"]"
   ]
  },
  {
   "cell_type": "code",
   "execution_count": null,
   "id": "Pf7usZCcCXw2",
   "metadata": {
    "executionInfo": {
     "elapsed": 172,
     "status": "ok",
     "timestamp": 1730822212796,
     "user": {
      "displayName": "Breyner Posso Bautista",
      "userId": "13049344394225357947"
     },
     "user_tz": 300
    },
    "id": "Pf7usZCcCXw2"
   },
   "outputs": [],
   "source": [
    "df.columns = headers"
   ]
  },
  {
   "cell_type": "code",
   "execution_count": null,
   "id": "vI9RFWUzB1Wd",
   "metadata": {
    "colab": {
     "base_uri": "https://localhost:8080/",
     "height": 313
    },
    "executionInfo": {
     "elapsed": 166,
     "status": "ok",
     "timestamp": 1730822213705,
     "user": {
      "displayName": "Breyner Posso Bautista",
      "userId": "13049344394225357947"
     },
     "user_tz": 300
    },
    "id": "vI9RFWUzB1Wd",
    "outputId": "9d515f9c-0c8c-4eab-e908-ae156d42f7df"
   },
   "outputs": [],
   "source": [
    "df.head()"
   ]
  },
  {
   "cell_type": "markdown",
   "id": "bZDF4AYOCHEo",
   "metadata": {
    "id": "bZDF4AYOCHEo"
   },
   "source": [
    "### Vamos a reemplazar los ? por nan"
   ]
  },
  {
   "cell_type": "code",
   "execution_count": null,
   "id": "VKeFxnmiB0N-",
   "metadata": {
    "executionInfo": {
     "elapsed": 183,
     "status": "ok",
     "timestamp": 1730822336834,
     "user": {
      "displayName": "Breyner Posso Bautista",
      "userId": "13049344394225357947"
     },
     "user_tz": 300
    },
    "id": "VKeFxnmiB0N-"
   },
   "outputs": [],
   "source": [
    "df = df.replace('?',np.nan)"
   ]
  },
  {
   "cell_type": "code",
   "execution_count": null,
   "id": "FURyCkSADPbJ",
   "metadata": {
    "colab": {
     "base_uri": "https://localhost:8080/",
     "height": 1000
    },
    "executionInfo": {
     "elapsed": 170,
     "status": "ok",
     "timestamp": 1730822741223,
     "user": {
      "displayName": "Breyner Posso Bautista",
      "userId": "13049344394225357947"
     },
     "user_tz": 300
    },
    "id": "FURyCkSADPbJ",
    "outputId": "accc647c-aae4-424c-ca39-3ee2ce031f1a"
   },
   "outputs": [],
   "source": [
    "df[20:50]"
   ]
  },
  {
   "cell_type": "markdown",
   "id": "0c0514ed",
   "metadata": {
    "id": "0c0514ed"
   },
   "source": [
    "### c. Columnas y tipos de datos"
   ]
  },
  {
   "cell_type": "code",
   "execution_count": null,
   "id": "5a466589",
   "metadata": {
    "colab": {
     "base_uri": "https://localhost:8080/"
    },
    "executionInfo": {
     "elapsed": 172,
     "status": "ok",
     "timestamp": 1730822749494,
     "user": {
      "displayName": "Breyner Posso Bautista",
      "userId": "13049344394225357947"
     },
     "user_tz": 300
    },
    "id": "5a466589",
    "outputId": "e88bfce9-ae28-422a-e3e6-30042cd09523"
   },
   "outputs": [],
   "source": [
    "# El método info de un dataframe permite consultar información como el número de\n",
    "# registros (observaciones) y de columnas (atributos) con los tipos de datos correspondientes,\n",
    "# el número de registros presentes no nulos, y el tamaño que ocupa el dataframe en memoria\n",
    "\n",
    "df.info()"
   ]
  },
  {
   "cell_type": "code",
   "execution_count": null,
   "id": "56924056",
   "metadata": {
    "colab": {
     "base_uri": "https://localhost:8080/",
     "height": 899
    },
    "executionInfo": {
     "elapsed": 187,
     "status": "ok",
     "timestamp": 1730822819617,
     "user": {
      "displayName": "Breyner Posso Bautista",
      "userId": "13049344394225357947"
     },
     "user_tz": 300
    },
    "id": "56924056",
    "outputId": "6d178b41-2afd-42f5-aaf8-219d4498567f"
   },
   "outputs": [],
   "source": [
    "# El método dtypes permite ver el tipo de dato de cada una de las columnas\n",
    "\n",
    "df.dtypes"
   ]
  },
  {
   "cell_type": "markdown",
   "id": "26efa5e6",
   "metadata": {
    "id": "26efa5e6"
   },
   "source": [
    "### d. Datos nulos"
   ]
  },
  {
   "cell_type": "code",
   "execution_count": null,
   "id": "f9524fb3",
   "metadata": {
    "id": "f9524fb3"
   },
   "outputs": [],
   "source": [
    "# Para determinar valores faltantes se usa el método isna() del Dataframe.\n",
    "\n",
    "df.isna()"
   ]
  },
  {
   "cell_type": "code",
   "execution_count": null,
   "id": "44d20537",
   "metadata": {
    "colab": {
     "base_uri": "https://localhost:8080/",
     "height": 899
    },
    "executionInfo": {
     "elapsed": 174,
     "status": "ok",
     "timestamp": 1730822876390,
     "user": {
      "displayName": "Breyner Posso Bautista",
      "userId": "13049344394225357947"
     },
     "user_tz": 300
    },
    "id": "44d20537",
    "outputId": "ce232598-a9e3-43c8-e264-fa4274ed1139"
   },
   "outputs": [],
   "source": [
    "# Así se puede obsrvar la cantidad de valores nulos por columna.\n",
    "\n",
    "df.isna().sum()"
   ]
  },
  {
   "cell_type": "code",
   "execution_count": null,
   "id": "b1M4Jj28FVxy",
   "metadata": {
    "colab": {
     "base_uri": "https://localhost:8080/"
    },
    "executionInfo": {
     "elapsed": 175,
     "status": "ok",
     "timestamp": 1730823063694,
     "user": {
      "displayName": "Breyner Posso Bautista",
      "userId": "13049344394225357947"
     },
     "user_tz": 300
    },
    "id": "b1M4Jj28FVxy",
    "outputId": "b3694337-cdfa-457f-cd43-2474ecd7cd36"
   },
   "outputs": [],
   "source": [
    "## Vamos a mostrar el porcentaje de nulos por columna\n",
    "\n",
    "serie_1 = df.isna().sum()\n",
    "\n",
    "for column in serie_1.index:\n",
    "    por = 100*serie_1[column]/df.shape[0]\n",
    "    print(f\"El porcentaje de nulos en la columna {column} es: {por:.2f}%\")\n"
   ]
  },
  {
   "cell_type": "code",
   "execution_count": null,
   "id": "s1kgN4RSGcJY",
   "metadata": {
    "colab": {
     "base_uri": "https://localhost:8080/",
     "height": 899
    },
    "executionInfo": {
     "elapsed": 158,
     "status": "ok",
     "timestamp": 1730823199399,
     "user": {
      "displayName": "Breyner Posso Bautista",
      "userId": "13049344394225357947"
     },
     "user_tz": 300
    },
    "id": "s1kgN4RSGcJY",
    "outputId": "7de17a1d-5ea1-4836-b7cc-bba06da5065e"
   },
   "outputs": [],
   "source": [
    "serie_1 = df.isna().sum()\n",
    "100*serie_1/df.shape[0]"
   ]
  },
  {
   "cell_type": "markdown",
   "id": "84b97d81",
   "metadata": {
    "id": "84b97d81"
   },
   "source": [
    "### e. Datos repetidos"
   ]
  },
  {
   "cell_type": "code",
   "execution_count": null,
   "id": "91a7f007",
   "metadata": {
    "id": "91a7f007"
   },
   "outputs": [],
   "source": [
    "# Para determinar valores duplicados se usa el método duplicated() del Dataframe\n",
    "\n",
    "df.duplicated()"
   ]
  },
  {
   "cell_type": "code",
   "execution_count": null,
   "id": "d9dc3c53",
   "metadata": {
    "colab": {
     "base_uri": "https://localhost:8080/"
    },
    "executionInfo": {
     "elapsed": 180,
     "status": "ok",
     "timestamp": 1730823289043,
     "user": {
      "displayName": "Breyner Posso Bautista",
      "userId": "13049344394225357947"
     },
     "user_tz": 300
    },
    "id": "d9dc3c53",
    "outputId": "cf1d80f1-e7d7-409a-e297-db42d0c88504"
   },
   "outputs": [],
   "source": [
    "# Así se puede obsrvar la cantidad de duplicados en todo el Dataframe.\n",
    "\n",
    "df.duplicated().sum()"
   ]
  },
  {
   "cell_type": "markdown",
   "id": "5ba831b0",
   "metadata": {
    "id": "5ba831b0"
   },
   "source": [
    "### **2.2 Análisis Univariado**\n",
    "\n",
    "Incluye:\n",
    "+ Medidas de tendencia central: media, mediana, moda.\n",
    "+ Medidas de dispersión: rango, varianza, valor máximo y mínimo, cuartiles (incluyendo rango intercuartil) y desviación estándar.\n",
    "+ Para variables numéricas discretas y categóricas: cantidad de valores únicos, valor con mayor frecuencia, etc.\n",
    "\n",
    "También se pueden se pueden usar gráficos como:\n",
    "+ Histogramas.\n",
    "+ Para variables numéricas discretas y categóricas: gráficos de barras, gráficos circulares."
   ]
  },
  {
   "cell_type": "markdown",
   "id": "dcdc4ca6",
   "metadata": {
    "id": "dcdc4ca6"
   },
   "source": [
    "### a. Estadísticas básicas"
   ]
  },
  {
   "cell_type": "code",
   "execution_count": null,
   "id": "05591c35",
   "metadata": {
    "id": "05591c35"
   },
   "outputs": [],
   "source": [
    "# Se obtienen algunas estadísticas básicas para cada uno de los atributos numéricos\n",
    "\n",
    "df.describe()"
   ]
  },
  {
   "cell_type": "code",
   "execution_count": null,
   "id": "6e0ac8de",
   "metadata": {
    "id": "6e0ac8de"
   },
   "outputs": [],
   "source": [
    "# Se obtienen algunas estadísticas básicas para todos los atributos\n",
    "\n",
    "df.describe(include ='all')"
   ]
  },
  {
   "cell_type": "code",
   "execution_count": null,
   "id": "c4214864",
   "metadata": {
    "id": "c4214864"
   },
   "outputs": [],
   "source": [
    "# Se obtienen algunas estadísticas básicas para los atributos categóricos\n",
    "\n",
    "df.describe(include ='object')"
   ]
  },
  {
   "cell_type": "markdown",
   "id": "46cb6b39",
   "metadata": {
    "id": "46cb6b39"
   },
   "source": [
    "### b. Histogramas\n",
    "\n",
    "Los histogramas pueden ser útiles para identificar visualmente la forma como se distribuyen los valores de un atributo."
   ]
  },
  {
   "cell_type": "code",
   "execution_count": null,
   "id": "ca636178",
   "metadata": {
    "id": "ca636178"
   },
   "outputs": [],
   "source": [
    "#Ahora generemos el histograma usando la librería seaborn.\n",
    "\n",
    "plt.figure(figsize=(15,6))\n",
    "atribute = 'horsepower'\n",
    "num_bins = 20\n",
    "sns.histplot(data     = df,\n",
    "             x        =atribute,\n",
    "             bins     = num_bins,\n",
    "             color    = 'red',\n",
    "             fill     = True,\n",
    "             stat     = 'count')    #'count' muestra el número de observaciones.\n",
    "                                    #'frequency' muestra el número de observaciones dividida por el ancho del bin.\n",
    "                                    #'density' normaliza las cuentas tal que el área del histograma es 1.\n",
    "                                    #'probability' normaliza las cuentas tal que la suma de la altura de las barras es 1.\n",
    "\n",
    "plt.xlabel(atribute) #Texto en el eje x.\n",
    "plt.ylabel('Cuentas')              #Texto en el eje y.\n",
    "plt.title('Histograma')             #Título del gráfico.\n",
    "plt.xticks(rotation=45, fontsize=8)\n",
    "plt.show()"
   ]
  },
  {
   "cell_type": "code",
   "execution_count": null,
   "id": "9a535d30",
   "metadata": {
    "id": "9a535d30",
    "scrolled": false
   },
   "outputs": [],
   "source": [
    "# Ahora vamos a mostrar el histograma de todos los atributos\n",
    "\n",
    "num_bins = 30\n",
    "for column in df.columns:\n",
    "    if df[column].dtype != 'object':\n",
    "        plt.figure(figsize=(6,6))\n",
    "        sns.histplot(data     = df,\n",
    "             x        =column,\n",
    "             bins     = num_bins,\n",
    "             color    = 'red',\n",
    "             fill     = True,\n",
    "             stat     = 'count')    #'count' muestra el número de observaciones.\n",
    "                                    #'frequency' muestra el número de observaciones dividida por el ancho del bin.\n",
    "                                    #'density' normaliza las cuentas tal que el área del histograma es 1.\n",
    "                                    #'probability' normaliza las cuentas tal que la suma de la altura de las barras es 1.\n",
    "\n",
    "        plt.xlabel(column) #Texto en el eje x.\n",
    "        plt.ylabel('Cuentas')              #Texto en el eje y.\n",
    "        plt.title('Histograma')             #Título del gráfico."
   ]
  },
  {
   "cell_type": "markdown",
   "id": "8c4ba4cd",
   "metadata": {
    "id": "8c4ba4cd"
   },
   "source": [
    "### **2.3 Análisis Bivariado**\n",
    "\n",
    "Es una técnica estadística que se aplica a un par de variables (atributos o características) para determinar la relación\n",
    "empírica entre ellas."
   ]
  },
  {
   "cell_type": "markdown",
   "id": "b0a837c8",
   "metadata": {
    "id": "b0a837c8"
   },
   "source": [
    "### a. Gráfico de dispersión (scatter plot)"
   ]
  },
  {
   "cell_type": "code",
   "execution_count": null,
   "id": "80733b23",
   "metadata": {
    "id": "80733b23"
   },
   "outputs": [],
   "source": [
    "sns.set(style='white')\n",
    "sns.set_palette('Set2')\n",
    "\n",
    "g = sns.PairGrid(data=df,diag_sharey=False, corner=False)\n",
    "\n",
    "g.map_diag(sns.histplot)\n",
    "g.map_upper(sns.scatterplot)\n",
    "\n",
    "g.add_legend()\n",
    "plt.show()"
   ]
  },
  {
   "cell_type": "code",
   "execution_count": null,
   "id": "e6c9de0f",
   "metadata": {
    "id": "e6c9de0f"
   },
   "outputs": [],
   "source": [
    "variable_x = 'engine-size'\n",
    "variable_y = 'city-mpg'\n",
    "\n",
    "x_values = df[variable_x]\n",
    "y_values = df[variable_y]\n",
    "\n",
    "sns.scatterplot(x=x_values, y=y_values)\n",
    "\n",
    "# Agregar etiquetas a los ejes\n",
    "plt.xlabel(variable_x)\n",
    "plt.ylabel(variable_y)\n",
    "\n",
    "# Agregar un título al gráfico\n",
    "plt.title('Gráfico de ' + variable_x + ' vs ' + variable_y)\n",
    "\n",
    "# Mostrar el gráfico\n",
    "plt.grid(True)\n",
    "plt.show()"
   ]
  },
  {
   "cell_type": "markdown",
   "id": "c8909cb2",
   "metadata": {
    "id": "c8909cb2"
   },
   "source": [
    "### b. Matriz de correlación"
   ]
  },
  {
   "cell_type": "code",
   "execution_count": null,
   "id": "6cba1b97",
   "metadata": {
    "id": "6cba1b97",
    "scrolled": true
   },
   "outputs": [],
   "source": [
    "df_numeric = df.select_dtypes(include=[np.number])\n",
    "plt.figure(figsize=(10, 8))\n",
    "ax = sns.heatmap(df_numeric.corr(),annot=True,cmap='RdYlGn',fmt='0.2f')"
   ]
  },
  {
   "cell_type": "markdown",
   "id": "34a00da5",
   "metadata": {
    "id": "34a00da5"
   },
   "source": [
    "# **Limpieza**"
   ]
  },
  {
   "cell_type": "markdown",
   "id": "d3ede53d",
   "metadata": {
    "id": "d3ede53d"
   },
   "source": [
    "## **2.4 Detección de problemas con el conjunto de datos: valores faltantes, valores erróneos, etc.**"
   ]
  },
  {
   "cell_type": "code",
   "execution_count": null,
   "id": "669123b6",
   "metadata": {
    "colab": {
     "base_uri": "https://localhost:8080/"
    },
    "executionInfo": {
     "elapsed": 154,
     "status": "ok",
     "timestamp": 1730823439184,
     "user": {
      "displayName": "Breyner Posso Bautista",
      "userId": "13049344394225357947"
     },
     "user_tz": 300
    },
    "id": "669123b6",
    "outputId": "10820423-1f5f-4aa4-b4c9-d9a7e132e942"
   },
   "outputs": [],
   "source": [
    "# Detección de duplicados.\n",
    "\n",
    "df.duplicated().sum()"
   ]
  },
  {
   "cell_type": "code",
   "execution_count": null,
   "id": "hNkWkJAmHxdu",
   "metadata": {
    "id": "hNkWkJAmHxdu"
   },
   "outputs": [],
   "source": [
    "### Vamos a eliminar las filas duplicadas\n",
    "\n",
    "df = df.drop_duplicates()"
   ]
  },
  {
   "cell_type": "code",
   "execution_count": null,
   "id": "DYmg2GNfHlIX",
   "metadata": {
    "colab": {
     "base_uri": "https://localhost:8080/",
     "height": 1000
    },
    "collapsed": true,
    "executionInfo": {
     "elapsed": 201,
     "status": "ok",
     "timestamp": 1730823484192,
     "user": {
      "displayName": "Breyner Posso Bautista",
      "userId": "13049344394225357947"
     },
     "user_tz": 300
    },
    "id": "DYmg2GNfHlIX",
    "outputId": "ab3f8f5c-0585-4061-9fda-e3aa18df277d"
   },
   "outputs": [],
   "source": [
    "df.duplicated().sum()"
   ]
  },
  {
   "cell_type": "code",
   "execution_count": null,
   "id": "c6a371bf",
   "metadata": {
    "colab": {
     "base_uri": "https://localhost:8080/",
     "height": 899
    },
    "executionInfo": {
     "elapsed": 155,
     "status": "ok",
     "timestamp": 1730823442952,
     "user": {
      "displayName": "Breyner Posso Bautista",
      "userId": "13049344394225357947"
     },
     "user_tz": 300
    },
    "id": "c6a371bf",
    "outputId": "ff1ec452-d149-4913-848a-f8dce559fba5"
   },
   "outputs": [],
   "source": [
    "# Detección de valores nulos.\n",
    "\n",
    "df.isna().sum()"
   ]
  },
  {
   "cell_type": "code",
   "execution_count": null,
   "id": "09a5e2a7",
   "metadata": {
    "id": "09a5e2a7"
   },
   "outputs": [],
   "source": [
    "# Problemas estructurales\n",
    "\n",
    "df.info()"
   ]
  },
  {
   "cell_type": "markdown",
   "id": "5gSrqd5FQCUh",
   "metadata": {
    "id": "5gSrqd5FQCUh"
   },
   "source": [
    "## **2.5 Detección de valores atípicos (Outliers)**\n"
   ]
  },
  {
   "cell_type": "code",
   "execution_count": null,
   "id": "a0307054",
   "metadata": {
    "id": "a0307054"
   },
   "outputs": [],
   "source": [
    "\n",
    "def outliers(dx, atributo):\n",
    "    ax = sns.boxplot(x=dx[atributo])\n",
    "    plt.show()\n",
    "\n",
    "    arr1 = dx[atributo].values\n",
    "\n",
    "    # Encontrar el 1st quartil\n",
    "    q1 = np.quantile(arr1, 0.25)\n",
    "\n",
    "    # Encontrar el 3rd quartil\n",
    "    q3 = np.quantile(arr1, 0.75)\n",
    "\n",
    "    # Encontrar el 2nd quartil\n",
    "    med = np.median(arr1)\n",
    "\n",
    "    # Encontrar el rango inter quartil (iqr)\n",
    "    iqr = q3-q1\n",
    "\n",
    "    # Encontrar los bigotes superior e inferior\n",
    "    upper_bound = q3+(1.5*iqr)\n",
    "    lower_bound = q1-(1.5*iqr)\n",
    "\n",
    "    outliers_l = arr1[(arr1 <= lower_bound)]\n",
    "    outliers_u = arr1[(arr1 >= upper_bound)]\n",
    "    print('The following are the lower outliers in {} : {}'.format(atributo,outliers_l))\n",
    "    print('The following are the upper outliers in {} : {}'.format(atributo,outliers_u))\n",
    "\n",
    "    return outliers_l, outliers_u"
   ]
  },
  {
   "cell_type": "code",
   "execution_count": null,
   "id": "ccc0de6b",
   "metadata": {
    "id": "ccc0de6b",
    "scrolled": false
   },
   "outputs": [],
   "source": [
    "for column in df.columns:\n",
    "    if df[column].dtype != 'object':\n",
    "        outliers(df, column)"
   ]
  },
  {
   "cell_type": "markdown",
   "id": "0abbfd55",
   "metadata": {
    "id": "0abbfd55"
   },
   "source": [
    "## **2.6 Solución a los problemas encontrados**"
   ]
  },
  {
   "cell_type": "code",
   "execution_count": null,
   "id": "e7f8d136",
   "metadata": {
    "executionInfo": {
     "elapsed": 176,
     "status": "ok",
     "timestamp": 1730823304835,
     "user": {
      "displayName": "Breyner Posso Bautista",
      "userId": "13049344394225357947"
     },
     "user_tz": 300
    },
    "id": "e7f8d136"
   },
   "outputs": [],
   "source": [
    "# Es recomendable hacer una copia (profunda) del dataframe original antes de modificarlo.\n",
    "\n",
    "df_clean = df.copy()"
   ]
  },
  {
   "cell_type": "code",
   "execution_count": null,
   "id": "e5059900",
   "metadata": {},
   "outputs": [],
   "source": [
    "df_clean.info()"
   ]
  },
  {
   "cell_type": "code",
   "execution_count": null,
   "id": "392bac6f",
   "metadata": {},
   "outputs": [],
   "source": [
    "df_clean.head()"
   ]
  },
  {
   "cell_type": "code",
   "execution_count": null,
   "id": "c2d007f5",
   "metadata": {},
   "outputs": [],
   "source": [
    "## Vamos a cambiar los tipos de datos de las columnas que son numéricas y que están como objeto\n",
    "df_clean['normalized-losses'] = df_clean['normalized-losses'].astype(float).fillna(np.nan)\n",
    "df_clean['bore'] = df_clean['bore'].astype(float)\n",
    "df_clean['stroke'] = df_clean['stroke'].astype(float)\n",
    "df_clean['horsepower'] = df_clean['horsepower'].astype(float)\n",
    "df_clean['peak-rpm'] = df_clean['peak-rpm'].astype(float)\n",
    "df_clean['city-mpg'] = df_clean['city-mpg'].astype(float)\n",
    "df_clean['highway-mpg'] = df_clean['highway-mpg'].astype(float)\n",
    "df_clean['price'] = df_clean['price'].astype(float)\n",
    "df_clean.info()"
   ]
  },
  {
   "cell_type": "code",
   "execution_count": null,
   "id": "z6VRfmM8HOLU",
   "metadata": {
    "colab": {
     "base_uri": "https://localhost:8080/",
     "height": 1000
    },
    "collapsed": true,
    "executionInfo": {
     "elapsed": 673,
     "status": "ok",
     "timestamp": 1730823392651,
     "user": {
      "displayName": "Breyner Posso Bautista",
      "userId": "13049344394225357947"
     },
     "user_tz": 300
    },
    "id": "z6VRfmM8HOLU",
    "outputId": "6d61ba86-d54d-4be2-b03a-1de2eb422170"
   },
   "outputs": [],
   "source": [
    "df_clean.head(10)"
   ]
  },
  {
   "cell_type": "markdown",
   "id": "jLplByW5G9tK",
   "metadata": {
    "id": "jLplByW5G9tK"
   },
   "source": [
    "### 3. Manejo de Datos Faltantes y Anómalos"
   ]
  },
  {
   "cell_type": "code",
   "execution_count": null,
   "id": "07e6dde7",
   "metadata": {},
   "outputs": [],
   "source": [
    "df_clean.isna().sum()"
   ]
  },
  {
   "cell_type": "code",
   "execution_count": null,
   "id": "e4284d64",
   "metadata": {},
   "outputs": [],
   "source": [
    "## Porcentaje de nulos por columna\n",
    "serie_1 = df_clean.isna().sum()\n",
    "for column in serie_1.index:\n",
    "    por = 100*serie_1[column]/df_clean.shape[0]\n",
    "    print(f\"El porcentaje de nulos en la columna {column} es: {por:.2f}%\")"
   ]
  },
  {
   "cell_type": "code",
   "execution_count": null,
   "id": "b9436bf1",
   "metadata": {},
   "outputs": [],
   "source": [
    "## ¿Quué pasa si eliminamos todas las filas que tienen al menos un valor nulo?\n",
    "df_clean = df.dropna()"
   ]
  },
  {
   "cell_type": "code",
   "execution_count": null,
   "id": "57ccdb2b",
   "metadata": {},
   "outputs": [],
   "source": [
    "## ¿De qué tamaño es el nuevo dataframe?\n",
    "print(df_clean.shape)\n",
    "## ¿Cuántas filas se eliminaron?\n",
    "print(f\"Se eliminaron {df.shape[0] - df_clean.shape[0]} filas\")\n",
    "## Porcentaje de filas eliminadas\n",
    "porcentaje = 100*(df.shape[0] - df_clean.shape[0])/df.shape[0]\n",
    "print(f\"El porcentaje de filas eliminadas es: {porcentaje:.2f}%\")"
   ]
  },
  {
   "cell_type": "code",
   "execution_count": null,
   "id": "ce192381",
   "metadata": {},
   "outputs": [],
   "source": [
    "## Intentemos otro enfoque\n",
    "df_clean = df.copy()"
   ]
  },
  {
   "cell_type": "code",
   "execution_count": null,
   "id": "NZIDswJ7G85M",
   "metadata": {
    "colab": {
     "base_uri": "https://localhost:8080/",
     "height": 321
    },
    "executionInfo": {
     "elapsed": 164,
     "status": "error",
     "timestamp": 1730823815241,
     "user": {
      "displayName": "Breyner Posso Bautista",
      "userId": "13049344394225357947"
     },
     "user_tz": 300
    },
    "id": "NZIDswJ7G85M",
    "outputId": "c129323e-0b07-4b1d-ac6c-78f76620192e"
   },
   "outputs": [],
   "source": [
    "### Vamos a eliminar la columna normalized-losses\n",
    "\n",
    "df_clean = df_clean.drop('normalized-losses', axis=1)"
   ]
  },
  {
   "cell_type": "code",
   "execution_count": null,
   "id": "d055c6e5",
   "metadata": {},
   "outputs": [],
   "source": [
    "## ¿De qué tamaño es el nuevo dataframe?\n",
    "print(df_clean.shape)\n",
    "## ¿Cuántas filas se eliminaron?\n",
    "print(f\"Se eliminaron {df.shape[0] - df_clean.shape[0]} filas\")\n",
    "## Porcentaje de filas eliminadas\n",
    "porcentaje = 100*(df.shape[0] - df_clean.shape[0])/df.shape[0]\n",
    "print(f\"El porcentaje de filas eliminadas es: {porcentaje:.2f}%\")"
   ]
  },
  {
   "cell_type": "code",
   "execution_count": null,
   "id": "8BswRKfwIMze",
   "metadata": {
    "colab": {
     "base_uri": "https://localhost:8080/",
     "height": 313
    },
    "executionInfo": {
     "elapsed": 181,
     "status": "ok",
     "timestamp": 1730823642751,
     "user": {
      "displayName": "Breyner Posso Bautista",
      "userId": "13049344394225357947"
     },
     "user_tz": 300
    },
    "id": "8BswRKfwIMze",
    "outputId": "aee0f74a-789a-443e-d4c5-fc7b64f11727"
   },
   "outputs": [],
   "source": [
    "df_clean.head()"
   ]
  },
  {
   "cell_type": "code",
   "execution_count": null,
   "id": "2-tWijsFIiGP",
   "metadata": {
    "colab": {
     "base_uri": "https://localhost:8080/"
    },
    "executionInfo": {
     "elapsed": 176,
     "status": "ok",
     "timestamp": 1730823843104,
     "user": {
      "displayName": "Breyner Posso Bautista",
      "userId": "13049344394225357947"
     },
     "user_tz": 300
    },
    "id": "2-tWijsFIiGP",
    "outputId": "2f16b96a-4863-437d-e161-8d94f7090d70"
   },
   "outputs": [],
   "source": [
    "## Vamos a mostrar el porcentaje de nulos por columna\n",
    "\n",
    "serie_1 = df_clean.isna().sum()\n",
    "\n",
    "for column in serie_1.index:\n",
    "    por = 100*serie_1[column]/df_clean.shape[0]\n",
    "    print(f\"La cantidad de nulos en la columna {column} es {serie_1[column]} y el porcentaje es: {por:.2f}%\")"
   ]
  },
  {
   "cell_type": "code",
   "execution_count": null,
   "id": "dY68meZcJQUo",
   "metadata": {
    "executionInfo": {
     "elapsed": 170,
     "status": "ok",
     "timestamp": 1730823980313,
     "user": {
      "displayName": "Breyner Posso Bautista",
      "userId": "13049344394225357947"
     },
     "user_tz": 300
    },
    "id": "dY68meZcJQUo"
   },
   "outputs": [],
   "source": [
    "## Vamos a eliminar los nulos de la columna price YA QUE ES LA VARIABLE OBJETIVO\n",
    "\n",
    "df_clean = df_clean.dropna(subset=['price'])"
   ]
  },
  {
   "cell_type": "code",
   "execution_count": null,
   "id": "WGdeCjzSJiSr",
   "metadata": {
    "colab": {
     "base_uri": "https://localhost:8080/"
    },
    "executionInfo": {
     "elapsed": 154,
     "status": "ok",
     "timestamp": 1730823991201,
     "user": {
      "displayName": "Breyner Posso Bautista",
      "userId": "13049344394225357947"
     },
     "user_tz": 300
    },
    "id": "WGdeCjzSJiSr",
    "outputId": "d936de1e-7730-4fc6-ecae-aef4874c6b58"
   },
   "outputs": [],
   "source": [
    "## Vamos a mostrar el porcentaje de nulos por columna\n",
    "\n",
    "serie_1 = df_clean.isna().sum()\n",
    "\n",
    "for column in serie_1.index:\n",
    "    por = 100*serie_1[column]/df_clean.shape[0]\n",
    "    print(f\"La cantidad de nulos en la columna {column} es {serie_1[column]} y el porcentaje es: {por:.2f}%\")"
   ]
  },
  {
   "cell_type": "code",
   "execution_count": null,
   "id": "mR3AigZoJk5i",
   "metadata": {
    "colab": {
     "base_uri": "https://localhost:8080/"
    },
    "executionInfo": {
     "elapsed": 247,
     "status": "ok",
     "timestamp": 1730824007802,
     "user": {
      "displayName": "Breyner Posso Bautista",
      "userId": "13049344394225357947"
     },
     "user_tz": 300
    },
    "id": "mR3AigZoJk5i",
    "outputId": "4ec9536b-baaa-4b4b-fb48-70d9be2774c7"
   },
   "outputs": [],
   "source": [
    "df_clean.shape"
   ]
  },
  {
   "cell_type": "code",
   "execution_count": null,
   "id": "kanXhtUnKMte",
   "metadata": {
    "colab": {
     "base_uri": "https://localhost:8080/",
     "height": 167
    },
    "executionInfo": {
     "elapsed": 163,
     "status": "ok",
     "timestamp": 1730824218550,
     "user": {
      "displayName": "Breyner Posso Bautista",
      "userId": "13049344394225357947"
     },
     "user_tz": 300
    },
    "id": "kanXhtUnKMte",
    "outputId": "c65c9e02-b115-4583-bfa1-99dc05a1846e"
   },
   "outputs": [],
   "source": [
    "## Vamos a buscar vehículos con la misma forma de los vehículos que tienen nan en la columna num-of-doors\n",
    "\n",
    "df_1 = df_clean[df_clean['num-of-doors'].isna()]\n",
    "\n",
    "df_1.head()"
   ]
  },
  {
   "cell_type": "code",
   "execution_count": null,
   "id": "qevwNhVSKxr6",
   "metadata": {
    "colab": {
     "base_uri": "https://localhost:8080/",
     "height": 335
    },
    "executionInfo": {
     "elapsed": 173,
     "status": "ok",
     "timestamp": 1730824427735,
     "user": {
      "displayName": "Breyner Posso Bautista",
      "userId": "13049344394225357947"
     },
     "user_tz": 300
    },
    "id": "qevwNhVSKxr6",
    "outputId": "708fd617-f6a1-4a9c-be5a-cd537f37f850"
   },
   "outputs": [],
   "source": [
    "## Vamos a buscar la cantidad de puertas que más se repite para vehículos sedan\n",
    "\n",
    "df_clean.groupby('body-style')['num-of-doors'].value_counts()\n"
   ]
  },
  {
   "cell_type": "code",
   "execution_count": null,
   "id": "4mweDMrALWis",
   "metadata": {
    "colab": {
     "base_uri": "https://localhost:8080/"
    },
    "executionInfo": {
     "elapsed": 165,
     "status": "ok",
     "timestamp": 1730824523857,
     "user": {
      "displayName": "Breyner Posso Bautista",
      "userId": "13049344394225357947"
     },
     "user_tz": 300
    },
    "id": "4mweDMrALWis",
    "outputId": "4f32aca6-e57c-4284-9b3f-17bb1a83f9bb"
   },
   "outputs": [],
   "source": [
    "## Vamos a reemplzar los nan en la columna num-of-doors por 'four'\n",
    "\n",
    "df_clean['num-of-doors'] = df_clean['num-of-doors'].fillna('four')"
   ]
  },
  {
   "cell_type": "code",
   "execution_count": null,
   "id": "eKnQvN8vLpws",
   "metadata": {
    "colab": {
     "base_uri": "https://localhost:8080/"
    },
    "executionInfo": {
     "elapsed": 176,
     "status": "ok",
     "timestamp": 1730824547017,
     "user": {
      "displayName": "Breyner Posso Bautista",
      "userId": "13049344394225357947"
     },
     "user_tz": 300
    },
    "id": "eKnQvN8vLpws",
    "outputId": "dada0909-ce10-4c6f-ff52-8de56485985d"
   },
   "outputs": [],
   "source": [
    "## Vamos a mostrar el porcentaje de nulos por columna\n",
    "\n",
    "serie_1 = df_clean.isna().sum()\n",
    "\n",
    "for column in serie_1.index:\n",
    "    por = 100*serie_1[column]/df_clean.shape[0]\n",
    "    print(f\"La cantidad de nulos en la columna {column} es {serie_1[column]} y el porcentaje es: {por:.2f}%\")"
   ]
  },
  {
   "cell_type": "markdown",
   "id": "UGUzTPLXpD3l",
   "metadata": {
    "id": "UGUzTPLXpD3l"
   },
   "source": [
    "## **2.7 Preparación**"
   ]
  },
  {
   "cell_type": "code",
   "execution_count": null,
   "id": "0SznTDejpHWO",
   "metadata": {
    "id": "0SznTDejpHWO"
   },
   "outputs": [],
   "source": []
  }
 ],
 "metadata": {
  "colab": {
   "provenance": []
  },
  "kernelspec": {
   "display_name": ".venv",
   "language": "python",
   "name": "python3"
  },
  "language_info": {
   "codemirror_mode": {
    "name": "ipython",
    "version": 3
   },
   "file_extension": ".py",
   "mimetype": "text/x-python",
   "name": "python",
   "nbconvert_exporter": "python",
   "pygments_lexer": "ipython3",
   "version": "3.11.11"
  }
 },
 "nbformat": 4,
 "nbformat_minor": 5
}
