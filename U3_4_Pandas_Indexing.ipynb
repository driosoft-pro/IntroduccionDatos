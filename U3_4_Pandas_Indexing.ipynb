{
 "cells": [
  {
   "cell_type": "markdown",
   "metadata": {
    "id": "ZOMDwKCFaWs3"
   },
   "source": [
    "# **Pandas**\n",
    "\n",
    "## Indexado"
   ]
  },
  {
   "cell_type": "code",
   "execution_count": 54,
   "metadata": {
    "executionInfo": {
     "elapsed": 280,
     "status": "ok",
     "timestamp": 1729008732581,
     "user": {
      "displayName": "Breyner Posso Bautista",
      "userId": "13049344394225357947"
     },
     "user_tz": 300
    },
    "id": "qNDLcT1raVth"
   },
   "outputs": [],
   "source": [
    "import numpy as np\n",
    "import pandas as pd\n",
    "from tabulate import tabulate\n",
    "import matplotlib.pyplot as plt"
   ]
  },
  {
   "cell_type": "code",
   "execution_count": 11,
   "metadata": {
    "executionInfo": {
     "elapsed": 3,
     "status": "ok",
     "timestamp": 1729006152082,
     "user": {
      "displayName": "Breyner Posso Bautista",
      "userId": "13049344394225357947"
     },
     "user_tz": 300
    },
    "id": "_8jxis4Na2zH"
   },
   "outputs": [],
   "source": [
    "dict_1 = {\n",
    "    \"Mes\":['Enero', 'Febrero', 'Marzo', 'Abril', 'Mayo', 'Junio', 'Julio' ,'Agosto', 'Septiembre', 'Octubre', 'Noviembre', 'Diciembre'],\n",
    "    \"Ventas\":[30500, 35600, 28300, 33900, 22002, 32003, 54000, 35000, 11254, 65871, 27000, 39741],\n",
    "    \"Gastos\":[22000, 23400, 18100, 20700, 19154, 21367, 27544, 19871, 24150, 23574, 30000, 24000]\n",
    "}"
   ]
  },
  {
   "cell_type": "code",
   "execution_count": 12,
   "metadata": {
    "colab": {
     "base_uri": "https://localhost:8080/",
     "height": 445
    },
    "executionInfo": {
     "elapsed": 633,
     "status": "ok",
     "timestamp": 1729006152712,
     "user": {
      "displayName": "Breyner Posso Bautista",
      "userId": "13049344394225357947"
     },
     "user_tz": 300
    },
    "id": "VQblsS-7b0Oq",
    "outputId": "27acc15c-fe23-4356-9560-c7e435c5e7d9"
   },
   "outputs": [
    {
     "data": {
      "text/html": [
       "<div>\n",
       "<style scoped>\n",
       "    .dataframe tbody tr th:only-of-type {\n",
       "        vertical-align: middle;\n",
       "    }\n",
       "\n",
       "    .dataframe tbody tr th {\n",
       "        vertical-align: top;\n",
       "    }\n",
       "\n",
       "    .dataframe thead th {\n",
       "        text-align: right;\n",
       "    }\n",
       "</style>\n",
       "<table border=\"1\" class=\"dataframe\">\n",
       "  <thead>\n",
       "    <tr style=\"text-align: right;\">\n",
       "      <th></th>\n",
       "      <th>Mes</th>\n",
       "      <th>Ventas</th>\n",
       "      <th>Gastos</th>\n",
       "    </tr>\n",
       "  </thead>\n",
       "  <tbody>\n",
       "    <tr>\n",
       "      <th>0</th>\n",
       "      <td>Enero</td>\n",
       "      <td>30500</td>\n",
       "      <td>22000</td>\n",
       "    </tr>\n",
       "    <tr>\n",
       "      <th>1</th>\n",
       "      <td>Febrero</td>\n",
       "      <td>35600</td>\n",
       "      <td>23400</td>\n",
       "    </tr>\n",
       "    <tr>\n",
       "      <th>2</th>\n",
       "      <td>Marzo</td>\n",
       "      <td>28300</td>\n",
       "      <td>18100</td>\n",
       "    </tr>\n",
       "    <tr>\n",
       "      <th>3</th>\n",
       "      <td>Abril</td>\n",
       "      <td>33900</td>\n",
       "      <td>20700</td>\n",
       "    </tr>\n",
       "    <tr>\n",
       "      <th>4</th>\n",
       "      <td>Mayo</td>\n",
       "      <td>22002</td>\n",
       "      <td>19154</td>\n",
       "    </tr>\n",
       "    <tr>\n",
       "      <th>5</th>\n",
       "      <td>Junio</td>\n",
       "      <td>32003</td>\n",
       "      <td>21367</td>\n",
       "    </tr>\n",
       "    <tr>\n",
       "      <th>6</th>\n",
       "      <td>Julio</td>\n",
       "      <td>54000</td>\n",
       "      <td>27544</td>\n",
       "    </tr>\n",
       "    <tr>\n",
       "      <th>7</th>\n",
       "      <td>Agosto</td>\n",
       "      <td>35000</td>\n",
       "      <td>19871</td>\n",
       "    </tr>\n",
       "    <tr>\n",
       "      <th>8</th>\n",
       "      <td>Septiembre</td>\n",
       "      <td>11254</td>\n",
       "      <td>24150</td>\n",
       "    </tr>\n",
       "    <tr>\n",
       "      <th>9</th>\n",
       "      <td>Octubre</td>\n",
       "      <td>65871</td>\n",
       "      <td>23574</td>\n",
       "    </tr>\n",
       "    <tr>\n",
       "      <th>10</th>\n",
       "      <td>Noviembre</td>\n",
       "      <td>27000</td>\n",
       "      <td>30000</td>\n",
       "    </tr>\n",
       "    <tr>\n",
       "      <th>11</th>\n",
       "      <td>Diciembre</td>\n",
       "      <td>39741</td>\n",
       "      <td>24000</td>\n",
       "    </tr>\n",
       "  </tbody>\n",
       "</table>\n",
       "</div>"
      ],
      "text/plain": [
       "           Mes  Ventas  Gastos\n",
       "0        Enero   30500   22000\n",
       "1      Febrero   35600   23400\n",
       "2        Marzo   28300   18100\n",
       "3        Abril   33900   20700\n",
       "4         Mayo   22002   19154\n",
       "5        Junio   32003   21367\n",
       "6        Julio   54000   27544\n",
       "7       Agosto   35000   19871\n",
       "8   Septiembre   11254   24150\n",
       "9      Octubre   65871   23574\n",
       "10   Noviembre   27000   30000\n",
       "11   Diciembre   39741   24000"
      ]
     },
     "execution_count": 12,
     "metadata": {},
     "output_type": "execute_result"
    }
   ],
   "source": [
    "df_1 = pd.DataFrame(dict_1)\n",
    "df_1"
   ]
  },
  {
   "cell_type": "markdown",
   "metadata": {
    "id": "QIe4riJTcZP8"
   },
   "source": [
    "## **Accediendo a los datos de un DataFrame**"
   ]
  },
  {
   "cell_type": "markdown",
   "metadata": {
    "id": "jyik5mDLdxTi"
   },
   "source": [
    "## \\**Observación**: podríamos decir que el estándar base en Python para acceder a los datos por índices es [fila][columna]"
   ]
  },
  {
   "cell_type": "code",
   "execution_count": 13,
   "metadata": {
    "colab": {
     "base_uri": "https://localhost:8080/"
    },
    "executionInfo": {
     "elapsed": 6,
     "status": "ok",
     "timestamp": 1729006244761,
     "user": {
      "displayName": "Breyner Posso Bautista",
      "userId": "13049344394225357947"
     },
     "user_tz": 300
    },
    "id": "ejz1fFuOzJLz",
    "outputId": "83ee6955-aeed-4701-e5d9-00fe621f4f2f"
   },
   "outputs": [
    {
     "name": "stdout",
     "output_type": "stream",
     "text": [
      "[[9 8 7]\n",
      " [6 5 4]\n",
      " [3 2 1]]\n"
     ]
    }
   ],
   "source": [
    "## Vamos a ver la forma de acceder datos en Python\n",
    "\n",
    "a = [[9, 8, 7],[6,5,4],[3,2,1]]\n",
    "arr_1 = np.array(a)\n",
    "print(arr_1)"
   ]
  },
  {
   "cell_type": "code",
   "execution_count": 16,
   "metadata": {
    "colab": {
     "base_uri": "https://localhost:8080/"
    },
    "executionInfo": {
     "elapsed": 246,
     "status": "ok",
     "timestamp": 1729006261108,
     "user": {
      "displayName": "Breyner Posso Bautista",
      "userId": "13049344394225357947"
     },
     "user_tz": 300
    },
    "id": "hPfhdsjQzarf",
    "outputId": "48eb3a5c-48fa-4d72-97bc-faad4dd2d52f"
   },
   "outputs": [
    {
     "name": "stdout",
     "output_type": "stream",
     "text": [
      "<class 'numpy.ndarray'>\n"
     ]
    }
   ],
   "source": [
    "print(type(arr_1))"
   ]
  },
  {
   "cell_type": "code",
   "execution_count": 17,
   "metadata": {
    "colab": {
     "base_uri": "https://localhost:8080/"
    },
    "executionInfo": {
     "elapsed": 256,
     "status": "ok",
     "timestamp": 1729006377522,
     "user": {
      "displayName": "Breyner Posso Bautista",
      "userId": "13049344394225357947"
     },
     "user_tz": 300
    },
    "id": "3wzcGgW2zgWg",
    "outputId": "4987f9df-7900-4e33-8e91-5ba075810987"
   },
   "outputs": [
    {
     "name": "stdout",
     "output_type": "stream",
     "text": [
      "4\n"
     ]
    }
   ],
   "source": [
    "## Vamos a direccionar el 4\n",
    "## Primero ponemos la coordenada de la fila y luego la coordenada de la columna\n",
    "\n",
    "print(arr_1[1][2])"
   ]
  },
  {
   "cell_type": "code",
   "execution_count": 18,
   "metadata": {
    "colab": {
     "base_uri": "https://localhost:8080/"
    },
    "executionInfo": {
     "elapsed": 383,
     "status": "ok",
     "timestamp": 1729006431666,
     "user": {
      "displayName": "Breyner Posso Bautista",
      "userId": "13049344394225357947"
     },
     "user_tz": 300
    },
    "id": "fYVRBbSbz-pV",
    "outputId": "651dfa88-f8bb-4127-8f56-cf7fbe4a8046"
   },
   "outputs": [
    {
     "name": "stdout",
     "output_type": "stream",
     "text": [
      "3\n"
     ]
    }
   ],
   "source": [
    "## ¿Qué número se encuentra en esta posición?\n",
    "\n",
    "print(a[2][0])"
   ]
  },
  {
   "cell_type": "markdown",
   "metadata": {},
   "source": [
    "#### ¿Qué pasa si intentamos acceder a un elemento del DataFrame usando esta forma de indexado?"
   ]
  },
  {
   "cell_type": "code",
   "execution_count": 19,
   "metadata": {
    "colab": {
     "base_uri": "https://localhost:8080/",
     "height": 578
    },
    "executionInfo": {
     "elapsed": 275,
     "status": "error",
     "timestamp": 1729006465301,
     "user": {
      "displayName": "Breyner Posso Bautista",
      "userId": "13049344394225357947"
     },
     "user_tz": 300
    },
    "id": "uesXGu02b4_y",
    "outputId": "bdeb176f-3666-485c-a980-76fc411e2c6d"
   },
   "outputs": [
    {
     "ename": "KeyError",
     "evalue": "0",
     "output_type": "error",
     "traceback": [
      "\u001b[31m---------------------------------------------------------------------------\u001b[39m",
      "\u001b[31mKeyError\u001b[39m                                  Traceback (most recent call last)",
      "\u001b[36mFile \u001b[39m\u001b[32md:\\OneDrive - Universidad Autonoma de Occidente\\SecondSemester\\Programacion\\devp\\Datos\\venv\\Lib\\site-packages\\pandas\\core\\indexes\\base.py:3805\u001b[39m, in \u001b[36mIndex.get_loc\u001b[39m\u001b[34m(self, key)\u001b[39m\n\u001b[32m   3804\u001b[39m \u001b[38;5;28;01mtry\u001b[39;00m:\n\u001b[32m-> \u001b[39m\u001b[32m3805\u001b[39m     \u001b[38;5;28;01mreturn\u001b[39;00m \u001b[38;5;28;43mself\u001b[39;49m\u001b[43m.\u001b[49m\u001b[43m_engine\u001b[49m\u001b[43m.\u001b[49m\u001b[43mget_loc\u001b[49m\u001b[43m(\u001b[49m\u001b[43mcasted_key\u001b[49m\u001b[43m)\u001b[49m\n\u001b[32m   3806\u001b[39m \u001b[38;5;28;01mexcept\u001b[39;00m \u001b[38;5;167;01mKeyError\u001b[39;00m \u001b[38;5;28;01mas\u001b[39;00m err:\n",
      "\u001b[36mFile \u001b[39m\u001b[32mindex.pyx:167\u001b[39m, in \u001b[36mpandas._libs.index.IndexEngine.get_loc\u001b[39m\u001b[34m()\u001b[39m\n",
      "\u001b[36mFile \u001b[39m\u001b[32mindex.pyx:196\u001b[39m, in \u001b[36mpandas._libs.index.IndexEngine.get_loc\u001b[39m\u001b[34m()\u001b[39m\n",
      "\u001b[36mFile \u001b[39m\u001b[32mpandas\\\\_libs\\\\hashtable_class_helper.pxi:7081\u001b[39m, in \u001b[36mpandas._libs.hashtable.PyObjectHashTable.get_item\u001b[39m\u001b[34m()\u001b[39m\n",
      "\u001b[36mFile \u001b[39m\u001b[32mpandas\\\\_libs\\\\hashtable_class_helper.pxi:7089\u001b[39m, in \u001b[36mpandas._libs.hashtable.PyObjectHashTable.get_item\u001b[39m\u001b[34m()\u001b[39m\n",
      "\u001b[31mKeyError\u001b[39m: 0",
      "\nThe above exception was the direct cause of the following exception:\n",
      "\u001b[31mKeyError\u001b[39m                                  Traceback (most recent call last)",
      "\u001b[36mCell\u001b[39m\u001b[36m \u001b[39m\u001b[32mIn[19]\u001b[39m\u001b[32m, line 3\u001b[39m\n\u001b[32m      1\u001b[39m \u001b[38;5;66;03m## Elemento 0,0 del DataFrame\u001b[39;00m\n\u001b[32m----> \u001b[39m\u001b[32m3\u001b[39m \u001b[43mdf_1\u001b[49m\u001b[43m[\u001b[49m\u001b[32;43m0\u001b[39;49m\u001b[43m]\u001b[49m[\u001b[32m0\u001b[39m]\n",
      "\u001b[36mFile \u001b[39m\u001b[32md:\\OneDrive - Universidad Autonoma de Occidente\\SecondSemester\\Programacion\\devp\\Datos\\venv\\Lib\\site-packages\\pandas\\core\\frame.py:4102\u001b[39m, in \u001b[36mDataFrame.__getitem__\u001b[39m\u001b[34m(self, key)\u001b[39m\n\u001b[32m   4100\u001b[39m \u001b[38;5;28;01mif\u001b[39;00m \u001b[38;5;28mself\u001b[39m.columns.nlevels > \u001b[32m1\u001b[39m:\n\u001b[32m   4101\u001b[39m     \u001b[38;5;28;01mreturn\u001b[39;00m \u001b[38;5;28mself\u001b[39m._getitem_multilevel(key)\n\u001b[32m-> \u001b[39m\u001b[32m4102\u001b[39m indexer = \u001b[38;5;28;43mself\u001b[39;49m\u001b[43m.\u001b[49m\u001b[43mcolumns\u001b[49m\u001b[43m.\u001b[49m\u001b[43mget_loc\u001b[49m\u001b[43m(\u001b[49m\u001b[43mkey\u001b[49m\u001b[43m)\u001b[49m\n\u001b[32m   4103\u001b[39m \u001b[38;5;28;01mif\u001b[39;00m is_integer(indexer):\n\u001b[32m   4104\u001b[39m     indexer = [indexer]\n",
      "\u001b[36mFile \u001b[39m\u001b[32md:\\OneDrive - Universidad Autonoma de Occidente\\SecondSemester\\Programacion\\devp\\Datos\\venv\\Lib\\site-packages\\pandas\\core\\indexes\\base.py:3812\u001b[39m, in \u001b[36mIndex.get_loc\u001b[39m\u001b[34m(self, key)\u001b[39m\n\u001b[32m   3807\u001b[39m     \u001b[38;5;28;01mif\u001b[39;00m \u001b[38;5;28misinstance\u001b[39m(casted_key, \u001b[38;5;28mslice\u001b[39m) \u001b[38;5;129;01mor\u001b[39;00m (\n\u001b[32m   3808\u001b[39m         \u001b[38;5;28misinstance\u001b[39m(casted_key, abc.Iterable)\n\u001b[32m   3809\u001b[39m         \u001b[38;5;129;01mand\u001b[39;00m \u001b[38;5;28many\u001b[39m(\u001b[38;5;28misinstance\u001b[39m(x, \u001b[38;5;28mslice\u001b[39m) \u001b[38;5;28;01mfor\u001b[39;00m x \u001b[38;5;129;01min\u001b[39;00m casted_key)\n\u001b[32m   3810\u001b[39m     ):\n\u001b[32m   3811\u001b[39m         \u001b[38;5;28;01mraise\u001b[39;00m InvalidIndexError(key)\n\u001b[32m-> \u001b[39m\u001b[32m3812\u001b[39m     \u001b[38;5;28;01mraise\u001b[39;00m \u001b[38;5;167;01mKeyError\u001b[39;00m(key) \u001b[38;5;28;01mfrom\u001b[39;00m\u001b[38;5;250m \u001b[39m\u001b[34;01merr\u001b[39;00m\n\u001b[32m   3813\u001b[39m \u001b[38;5;28;01mexcept\u001b[39;00m \u001b[38;5;167;01mTypeError\u001b[39;00m:\n\u001b[32m   3814\u001b[39m     \u001b[38;5;66;03m# If we have a listlike key, _check_indexing_error will raise\u001b[39;00m\n\u001b[32m   3815\u001b[39m     \u001b[38;5;66;03m#  InvalidIndexError. Otherwise we fall through and re-raise\u001b[39;00m\n\u001b[32m   3816\u001b[39m     \u001b[38;5;66;03m#  the TypeError.\u001b[39;00m\n\u001b[32m   3817\u001b[39m     \u001b[38;5;28mself\u001b[39m._check_indexing_error(key)\n",
      "\u001b[31mKeyError\u001b[39m: 0"
     ]
    }
   ],
   "source": [
    "## Elemento 0,0 del DataFrame\n",
    "\n",
    "df_1[0][0]"
   ]
  },
  {
   "cell_type": "markdown",
   "metadata": {},
   "source": [
    "#### Para direccionar un elemento dentro de un DataFrame ponemos primero el índice de la columna (nombre de la columna) y luego el índice de la fila (nombre de la fila)"
   ]
  },
  {
   "cell_type": "code",
   "execution_count": 20,
   "metadata": {
    "colab": {
     "base_uri": "https://localhost:8080/",
     "height": 55
    },
    "executionInfo": {
     "elapsed": 260,
     "status": "ok",
     "timestamp": 1729006576965,
     "user": {
      "displayName": "Breyner Posso Bautista",
      "userId": "13049344394225357947"
     },
     "user_tz": 300
    },
    "id": "er5wOXCpcJE3",
    "outputId": "10d13713-b6c6-49a1-aeac-e893975c963f"
   },
   "outputs": [
    {
     "data": {
      "text/plain": [
       "'Octubre'"
      ]
     },
     "execution_count": 20,
     "metadata": {},
     "output_type": "execute_result"
    }
   ],
   "source": [
    "## Vamnos a leer el elemento con índice 9 de la columna mes\n",
    "\n",
    "df_1['Mes'][9]"
   ]
  },
  {
   "cell_type": "markdown",
   "metadata": {
    "id": "kwQy4PJad7-g"
   },
   "source": [
    "## Leer toda una columna\n"
   ]
  },
  {
   "cell_type": "markdown",
   "metadata": {},
   "source": [
    "#### Para obtener los elementos de una columna usamos el nombre de la columna"
   ]
  },
  {
   "cell_type": "code",
   "execution_count": 21,
   "metadata": {
    "colab": {
     "base_uri": "https://localhost:8080/"
    },
    "executionInfo": {
     "elapsed": 368,
     "status": "ok",
     "timestamp": 1729006624384,
     "user": {
      "displayName": "Breyner Posso Bautista",
      "userId": "13049344394225357947"
     },
     "user_tz": 300
    },
    "id": "Hv1Tg8SncTYN",
    "outputId": "481f3c77-5b59-4b3e-9a3f-4a75a7f45af8"
   },
   "outputs": [
    {
     "name": "stdout",
     "output_type": "stream",
     "text": [
      "0     30500\n",
      "1     35600\n",
      "2     28300\n",
      "3     33900\n",
      "4     22002\n",
      "5     32003\n",
      "6     54000\n",
      "7     35000\n",
      "8     11254\n",
      "9     65871\n",
      "10    27000\n",
      "11    39741\n",
      "Name: Ventas, dtype: int64\n",
      "<class 'pandas.core.series.Series'>\n"
     ]
    }
   ],
   "source": [
    "## Podemos usar el nommbre de la columna dentro de los corchetes\n",
    "\n",
    "a = df_1['Ventas']\n",
    "print(a)\n",
    "print(type(a))"
   ]
  },
  {
   "cell_type": "code",
   "execution_count": 22,
   "metadata": {
    "colab": {
     "base_uri": "https://localhost:8080/"
    },
    "executionInfo": {
     "elapsed": 265,
     "status": "ok",
     "timestamp": 1729006638340,
     "user": {
      "displayName": "Breyner Posso Bautista",
      "userId": "13049344394225357947"
     },
     "user_tz": 300
    },
    "id": "1tT_foYSG6Zv",
    "outputId": "83767fb7-0ff3-467c-ec73-792966997e76"
   },
   "outputs": [
    {
     "name": "stdout",
     "output_type": "stream",
     "text": [
      "0     30500\n",
      "1     35600\n",
      "2     28300\n",
      "3     33900\n",
      "4     22002\n",
      "5     32003\n",
      "6     54000\n",
      "7     35000\n",
      "8     11254\n",
      "9     65871\n",
      "10    27000\n",
      "11    39741\n",
      "Name: Ventas, dtype: int64\n",
      "<class 'pandas.core.series.Series'>\n"
     ]
    }
   ],
   "source": [
    "## También podemos usar el nombre de la columna después del punto\n",
    "\n",
    "v = df_1.Ventas\n",
    "print(v)\n",
    "print(type(v))"
   ]
  },
  {
   "cell_type": "markdown",
   "metadata": {
    "id": "SGHHvcYSePCk"
   },
   "source": [
    "## Ejercicio\n",
    "\n",
    "Realizar una gráfica que muestre las ventas y gastos en cada uno de los meses."
   ]
  },
  {
   "cell_type": "code",
   "execution_count": 23,
   "metadata": {
    "colab": {
     "base_uri": "https://localhost:8080/"
    },
    "executionInfo": {
     "elapsed": 242,
     "status": "ok",
     "timestamp": 1729006663075,
     "user": {
      "displayName": "Breyner Posso Bautista",
      "userId": "13049344394225357947"
     },
     "user_tz": 300
    },
    "id": "MkmU2YkfIc1o",
    "outputId": "3f8a969f-ee83-4011-a1cf-f208c7d51364"
   },
   "outputs": [
    {
     "name": "stdout",
     "output_type": "stream",
     "text": [
      "[30500 35600 28300 33900 22002 32003 54000 35000 11254 65871 27000 39741]\n",
      "<class 'numpy.ndarray'>\n"
     ]
    }
   ],
   "source": [
    "## Paso 1: obtenemos los valores de las ventas. Estos valores serán ubicados en el eje Y de la gráfica.\n",
    "\n",
    "ventas = df_1.Ventas.values\n",
    "print(ventas)\n",
    "print(type(ventas))"
   ]
  },
  {
   "cell_type": "code",
   "execution_count": 24,
   "metadata": {
    "colab": {
     "base_uri": "https://localhost:8080/"
    },
    "executionInfo": {
     "elapsed": 257,
     "status": "ok",
     "timestamp": 1729006674951,
     "user": {
      "displayName": "Breyner Posso Bautista",
      "userId": "13049344394225357947"
     },
     "user_tz": 300
    },
    "id": "5cN627mO0J08",
    "outputId": "d30ef062-1397-4665-8e73-f47b4fb81b97"
   },
   "outputs": [
    {
     "name": "stdout",
     "output_type": "stream",
     "text": [
      "[22000 23400 18100 20700 19154 21367 27544 19871 24150 23574 30000 24000]\n",
      "<class 'numpy.ndarray'>\n"
     ]
    }
   ],
   "source": [
    "## Paso 2: obtenemos los valores de los gastos. Estos valores serán ubicados en el eje Y de la gráfica.\n",
    "\n",
    "gastos = df_1['Gastos'].values\n",
    "print(gastos)\n",
    "print(type(gastos))"
   ]
  },
  {
   "cell_type": "code",
   "execution_count": 25,
   "metadata": {
    "colab": {
     "base_uri": "https://localhost:8080/"
    },
    "executionInfo": {
     "elapsed": 240,
     "status": "ok",
     "timestamp": 1729006667056,
     "user": {
      "displayName": "Breyner Posso Bautista",
      "userId": "13049344394225357947"
     },
     "user_tz": 300
    },
    "id": "qhHVpw99ypoN",
    "outputId": "32abd7e2-529b-47e6-c0b0-5c1c9751740c"
   },
   "outputs": [
    {
     "name": "stdout",
     "output_type": "stream",
     "text": [
      "['Enero' 'Febrero' 'Marzo' 'Abril' 'Mayo' 'Junio' 'Julio' 'Agosto'\n",
      " 'Septiembre' 'Octubre' 'Noviembre' 'Diciembre']\n",
      "<class 'numpy.ndarray'>\n"
     ]
    }
   ],
   "source": [
    "## Paso 3: obtenemos los valores de los meses. Estos valores serán obtenidos en el eje X de la gráfica.\n",
    "\n",
    "meses = df_1['Mes'].values\n",
    "print(meses)\n",
    "print(type(meses))"
   ]
  },
  {
   "cell_type": "code",
   "execution_count": 26,
   "metadata": {
    "colab": {
     "base_uri": "https://localhost:8080/",
     "height": 503
    },
    "executionInfo": {
     "elapsed": 920,
     "status": "ok",
     "timestamp": 1729006678556,
     "user": {
      "displayName": "Breyner Posso Bautista",
      "userId": "13049344394225357947"
     },
     "user_tz": 300
    },
    "id": "EZ-KP4Ngy-w9",
    "outputId": "0907309b-4d70-426d-e185-6b3a5d387908"
   },
   "outputs": [
    {
     "data": {
      "image/png": "[encoded data removed]",
      "text/plain": [
       "<Figure size 640x480 with 1 Axes>"
      ]
     },
     "metadata": {},
     "output_type": "display_data"
    }
   ],
   "source": [
    "## Paso 4: seleccionamos el tipo de gráfica y la construimos utilizando Matplotlib\n",
    "\n",
    "plt.plot(meses,ventas, marker='o', label='Ventas')\n",
    "plt.plot(meses,gastos, marker='o', label='Gastos')\n",
    "plt.xticks(rotation=45)\n",
    "plt.legend(loc=\"upper left\")\n",
    "plt.show()"
   ]
  },
  {
   "cell_type": "code",
   "execution_count": 27,
   "metadata": {
    "colab": {
     "base_uri": "https://localhost:8080/",
     "height": 503
    },
    "executionInfo": {
     "elapsed": 401,
     "status": "ok",
     "timestamp": 1729006877083,
     "user": {
      "displayName": "Breyner Posso Bautista",
      "userId": "13049344394225357947"
     },
     "user_tz": 300
    },
    "id": "SRNyG50Q1XVO",
    "outputId": "c7f66e44-11c0-49dd-cb8a-ded0c9f6b23b"
   },
   "outputs": [
    {
     "data": {
      "image/png": "[encoded data removed]",
      "text/plain": [
       "<Figure size 640x480 with 1 Axes>"
      ]
     },
     "metadata": {},
     "output_type": "display_data"
    }
   ],
   "source": [
    "## Vamos a intentar hacer la misma gráfica, pero usando directamente las columnas del DataFrame\n",
    "\n",
    "plt.plot(df_1['Mes'],df_1['Ventas'], marker='o', label='Ventas')\n",
    "plt.plot(df_1['Mes'],df_1['Gastos'], marker='o', label='Gastos')\n",
    "plt.xticks(rotation=45)\n",
    "plt.legend(loc=\"upper left\")\n",
    "plt.show()"
   ]
  },
  {
   "cell_type": "markdown",
   "metadata": {},
   "source": [
    "## Ejercicio\n",
    "\n",
    "Graficar el balance mensual (ventas-gasto)"
   ]
  },
  {
   "cell_type": "code",
   "execution_count": 28,
   "metadata": {
    "colab": {
     "base_uri": "https://localhost:8080/"
    },
    "executionInfo": {
     "elapsed": 264,
     "status": "ok",
     "timestamp": 1729006925702,
     "user": {
      "displayName": "Breyner Posso Bautista",
      "userId": "13049344394225357947"
     },
     "user_tz": 300
    },
    "id": "1w_ay0811hSJ",
    "outputId": "803db8b6-3143-4180-ac9b-7ca7972f0ffe"
   },
   "outputs": [
    {
     "name": "stdout",
     "output_type": "stream",
     "text": [
      "[  8500  12200  10200  13200   2848  10636  26456  15129 -12896  42297\n",
      "  -3000  15741]\n"
     ]
    }
   ],
   "source": [
    "## Paso 1: Calcular los valores del balance mensual\n",
    "\n",
    "ventas = df_1.Ventas.values\n",
    "gastos = df_1['Gastos'].values\n",
    "balance = ventas - gastos\n",
    "\n",
    "print(balance)"
   ]
  },
  {
   "cell_type": "code",
   "execution_count": 29,
   "metadata": {},
   "outputs": [
    {
     "data": {
      "image/png": "[encoded data removed]",
      "text/plain": [
       "<Figure size 640x480 with 1 Axes>"
      ]
     },
     "metadata": {},
     "output_type": "display_data"
    }
   ],
   "source": [
    "## Paso 2: seleccionamos el tipo de gráfica y la construimos utilizando Matplotlib\n",
    "\n",
    "plt.plot(meses,balance, marker='o', label='Balance')\n",
    "plt.xticks(rotation=45)\n",
    "plt.legend(loc=\"upper left\")\n",
    "plt.show()"
   ]
  },
  {
   "cell_type": "markdown",
   "metadata": {},
   "source": [
    "#### También podemos crear otra columna en el DataFrame para guardar la información del balance mensual"
   ]
  },
  {
   "cell_type": "code",
   "execution_count": 30,
   "metadata": {
    "executionInfo": {
     "elapsed": 269,
     "status": "ok",
     "timestamp": 1729006974001,
     "user": {
      "displayName": "Breyner Posso Bautista",
      "userId": "13049344394225357947"
     },
     "user_tz": 300
    },
    "id": "mGEc6y6e2nW7"
   },
   "outputs": [],
   "source": [
    "## Hacemos una copia profunda del DataFrame para no afectar al original\n",
    "\n",
    "df_2 = df_1.copy()"
   ]
  },
  {
   "cell_type": "code",
   "execution_count": 31,
   "metadata": {
    "colab": {
     "base_uri": "https://localhost:8080/",
     "height": 445
    },
    "executionInfo": {
     "elapsed": 373,
     "status": "ok",
     "timestamp": 1729006974703,
     "user": {
      "displayName": "Breyner Posso Bautista",
      "userId": "13049344394225357947"
     },
     "user_tz": 300
    },
    "id": "Kvgax1NL2x7A",
    "outputId": "4092ba36-c753-4110-e218-50f22c14fd2d"
   },
   "outputs": [
    {
     "data": {
      "text/html": [
       "<div>\n",
       "<style scoped>\n",
       "    .dataframe tbody tr th:only-of-type {\n",
       "        vertical-align: middle;\n",
       "    }\n",
       "\n",
       "    .dataframe tbody tr th {\n",
       "        vertical-align: top;\n",
       "    }\n",
       "\n",
       "    .dataframe thead th {\n",
       "        text-align: right;\n",
       "    }\n",
       "</style>\n",
       "<table border=\"1\" class=\"dataframe\">\n",
       "  <thead>\n",
       "    <tr style=\"text-align: right;\">\n",
       "      <th></th>\n",
       "      <th>Mes</th>\n",
       "      <th>Ventas</th>\n",
       "      <th>Gastos</th>\n",
       "      <th>Balance</th>\n",
       "    </tr>\n",
       "  </thead>\n",
       "  <tbody>\n",
       "    <tr>\n",
       "      <th>0</th>\n",
       "      <td>Enero</td>\n",
       "      <td>30500</td>\n",
       "      <td>22000</td>\n",
       "      <td>8500</td>\n",
       "    </tr>\n",
       "    <tr>\n",
       "      <th>1</th>\n",
       "      <td>Febrero</td>\n",
       "      <td>35600</td>\n",
       "      <td>23400</td>\n",
       "      <td>12200</td>\n",
       "    </tr>\n",
       "    <tr>\n",
       "      <th>2</th>\n",
       "      <td>Marzo</td>\n",
       "      <td>28300</td>\n",
       "      <td>18100</td>\n",
       "      <td>10200</td>\n",
       "    </tr>\n",
       "    <tr>\n",
       "      <th>3</th>\n",
       "      <td>Abril</td>\n",
       "      <td>33900</td>\n",
       "      <td>20700</td>\n",
       "      <td>13200</td>\n",
       "    </tr>\n",
       "    <tr>\n",
       "      <th>4</th>\n",
       "      <td>Mayo</td>\n",
       "      <td>22002</td>\n",
       "      <td>19154</td>\n",
       "      <td>2848</td>\n",
       "    </tr>\n",
       "    <tr>\n",
       "      <th>5</th>\n",
       "      <td>Junio</td>\n",
       "      <td>32003</td>\n",
       "      <td>21367</td>\n",
       "      <td>10636</td>\n",
       "    </tr>\n",
       "    <tr>\n",
       "      <th>6</th>\n",
       "      <td>Julio</td>\n",
       "      <td>54000</td>\n",
       "      <td>27544</td>\n",
       "      <td>26456</td>\n",
       "    </tr>\n",
       "    <tr>\n",
       "      <th>7</th>\n",
       "      <td>Agosto</td>\n",
       "      <td>35000</td>\n",
       "      <td>19871</td>\n",
       "      <td>15129</td>\n",
       "    </tr>\n",
       "    <tr>\n",
       "      <th>8</th>\n",
       "      <td>Septiembre</td>\n",
       "      <td>11254</td>\n",
       "      <td>24150</td>\n",
       "      <td>-12896</td>\n",
       "    </tr>\n",
       "    <tr>\n",
       "      <th>9</th>\n",
       "      <td>Octubre</td>\n",
       "      <td>65871</td>\n",
       "      <td>23574</td>\n",
       "      <td>42297</td>\n",
       "    </tr>\n",
       "    <tr>\n",
       "      <th>10</th>\n",
       "      <td>Noviembre</td>\n",
       "      <td>27000</td>\n",
       "      <td>30000</td>\n",
       "      <td>-3000</td>\n",
       "    </tr>\n",
       "    <tr>\n",
       "      <th>11</th>\n",
       "      <td>Diciembre</td>\n",
       "      <td>39741</td>\n",
       "      <td>24000</td>\n",
       "      <td>15741</td>\n",
       "    </tr>\n",
       "  </tbody>\n",
       "</table>\n",
       "</div>"
      ],
      "text/plain": [
       "           Mes  Ventas  Gastos  Balance\n",
       "0        Enero   30500   22000     8500\n",
       "1      Febrero   35600   23400    12200\n",
       "2        Marzo   28300   18100    10200\n",
       "3        Abril   33900   20700    13200\n",
       "4         Mayo   22002   19154     2848\n",
       "5        Junio   32003   21367    10636\n",
       "6        Julio   54000   27544    26456\n",
       "7       Agosto   35000   19871    15129\n",
       "8   Septiembre   11254   24150   -12896\n",
       "9      Octubre   65871   23574    42297\n",
       "10   Noviembre   27000   30000    -3000\n",
       "11   Diciembre   39741   24000    15741"
      ]
     },
     "execution_count": 31,
     "metadata": {},
     "output_type": "execute_result"
    }
   ],
   "source": [
    "df_2['Balance'] = balance\n",
    "df_2"
   ]
  },
  {
   "cell_type": "code",
   "execution_count": 32,
   "metadata": {
    "colab": {
     "base_uri": "https://localhost:8080/"
    },
    "executionInfo": {
     "elapsed": 223,
     "status": "ok",
     "timestamp": 1729007171325,
     "user": {
      "displayName": "Breyner Posso Bautista",
      "userId": "13049344394225357947"
     },
     "user_tz": 300
    },
    "id": "2J_38Rs02onf",
    "outputId": "dfb0b05e-2a2b-4fe8-cbb1-577fe94944e9"
   },
   "outputs": [
    {
     "name": "stdout",
     "output_type": "stream",
     "text": [
      "El total de ventas en el año fue 415171\n"
     ]
    }
   ],
   "source": [
    "total_ventas = df_2.Ventas.sum()\n",
    "print(f\"El total de ventas en el año fue {total_ventas}\")"
   ]
  },
  {
   "cell_type": "code",
   "execution_count": 33,
   "metadata": {
    "colab": {
     "base_uri": "https://localhost:8080/"
    },
    "executionInfo": {
     "elapsed": 275,
     "status": "ok",
     "timestamp": 1729007199433,
     "user": {
      "displayName": "Breyner Posso Bautista",
      "userId": "13049344394225357947"
     },
     "user_tz": 300
    },
    "id": "oXCi4inI27tv",
    "outputId": "0abb94d2-4642-461c-902d-62510fb1ae83"
   },
   "outputs": [
    {
     "name": "stdout",
     "output_type": "stream",
     "text": [
      "El total de gastos en el año fue 273860\n"
     ]
    }
   ],
   "source": [
    "total_gastos = df_2['Gastos'].sum()\n",
    "print(f\"El total de gastos en el año fue {total_gastos}\")"
   ]
  },
  {
   "cell_type": "markdown",
   "metadata": {
    "id": "kfpndoC-ejak"
   },
   "source": [
    "## Acceso a los datos usando loc y iloc"
   ]
  },
  {
   "cell_type": "markdown",
   "metadata": {
    "id": "9BWt79KpewbZ"
   },
   "source": [
    "Otra forma de acceder a los datos es a través de los métodos indexación que Pandas nos provee, entre estos encontramos dos:\n",
    "+ **iloc**, obtenemos los datos a partir de su posición numérica.\n",
    "+ **loc**, obtenemos los datos con los identificadores.\n",
    "\n",
    "Ambos métodos utilizan una convención de [fila, columna]."
   ]
  },
  {
   "cell_type": "markdown",
   "metadata": {
    "id": "No2T8Foog9Py"
   },
   "source": [
    "#### **iloc**"
   ]
  },
  {
   "cell_type": "code",
   "execution_count": 34,
   "metadata": {
    "colab": {
     "base_uri": "https://localhost:8080/",
     "height": 445
    },
    "executionInfo": {
     "elapsed": 237,
     "status": "ok",
     "timestamp": 1729007290298,
     "user": {
      "displayName": "Breyner Posso Bautista",
      "userId": "13049344394225357947"
     },
     "user_tz": 300
    },
    "id": "LmFbDFXg4L2K",
    "outputId": "030b76ce-05cf-4907-f1d4-9ae97969c613"
   },
   "outputs": [
    {
     "data": {
      "text/html": [
       "<div>\n",
       "<style scoped>\n",
       "    .dataframe tbody tr th:only-of-type {\n",
       "        vertical-align: middle;\n",
       "    }\n",
       "\n",
       "    .dataframe tbody tr th {\n",
       "        vertical-align: top;\n",
       "    }\n",
       "\n",
       "    .dataframe thead th {\n",
       "        text-align: right;\n",
       "    }\n",
       "</style>\n",
       "<table border=\"1\" class=\"dataframe\">\n",
       "  <thead>\n",
       "    <tr style=\"text-align: right;\">\n",
       "      <th></th>\n",
       "      <th>Mes</th>\n",
       "      <th>Ventas</th>\n",
       "      <th>Gastos</th>\n",
       "    </tr>\n",
       "  </thead>\n",
       "  <tbody>\n",
       "    <tr>\n",
       "      <th>0</th>\n",
       "      <td>Enero</td>\n",
       "      <td>30500</td>\n",
       "      <td>22000</td>\n",
       "    </tr>\n",
       "    <tr>\n",
       "      <th>1</th>\n",
       "      <td>Febrero</td>\n",
       "      <td>35600</td>\n",
       "      <td>23400</td>\n",
       "    </tr>\n",
       "    <tr>\n",
       "      <th>2</th>\n",
       "      <td>Marzo</td>\n",
       "      <td>28300</td>\n",
       "      <td>18100</td>\n",
       "    </tr>\n",
       "    <tr>\n",
       "      <th>3</th>\n",
       "      <td>Abril</td>\n",
       "      <td>33900</td>\n",
       "      <td>20700</td>\n",
       "    </tr>\n",
       "    <tr>\n",
       "      <th>4</th>\n",
       "      <td>Mayo</td>\n",
       "      <td>22002</td>\n",
       "      <td>19154</td>\n",
       "    </tr>\n",
       "    <tr>\n",
       "      <th>5</th>\n",
       "      <td>Junio</td>\n",
       "      <td>32003</td>\n",
       "      <td>21367</td>\n",
       "    </tr>\n",
       "    <tr>\n",
       "      <th>6</th>\n",
       "      <td>Julio</td>\n",
       "      <td>54000</td>\n",
       "      <td>27544</td>\n",
       "    </tr>\n",
       "    <tr>\n",
       "      <th>7</th>\n",
       "      <td>Agosto</td>\n",
       "      <td>35000</td>\n",
       "      <td>19871</td>\n",
       "    </tr>\n",
       "    <tr>\n",
       "      <th>8</th>\n",
       "      <td>Septiembre</td>\n",
       "      <td>11254</td>\n",
       "      <td>24150</td>\n",
       "    </tr>\n",
       "    <tr>\n",
       "      <th>9</th>\n",
       "      <td>Octubre</td>\n",
       "      <td>65871</td>\n",
       "      <td>23574</td>\n",
       "    </tr>\n",
       "    <tr>\n",
       "      <th>10</th>\n",
       "      <td>Noviembre</td>\n",
       "      <td>27000</td>\n",
       "      <td>30000</td>\n",
       "    </tr>\n",
       "    <tr>\n",
       "      <th>11</th>\n",
       "      <td>Diciembre</td>\n",
       "      <td>39741</td>\n",
       "      <td>24000</td>\n",
       "    </tr>\n",
       "  </tbody>\n",
       "</table>\n",
       "</div>"
      ],
      "text/plain": [
       "           Mes  Ventas  Gastos\n",
       "0        Enero   30500   22000\n",
       "1      Febrero   35600   23400\n",
       "2        Marzo   28300   18100\n",
       "3        Abril   33900   20700\n",
       "4         Mayo   22002   19154\n",
       "5        Junio   32003   21367\n",
       "6        Julio   54000   27544\n",
       "7       Agosto   35000   19871\n",
       "8   Septiembre   11254   24150\n",
       "9      Octubre   65871   23574\n",
       "10   Noviembre   27000   30000\n",
       "11   Diciembre   39741   24000"
      ]
     },
     "execution_count": 34,
     "metadata": {},
     "output_type": "execute_result"
    }
   ],
   "source": [
    "df_1"
   ]
  },
  {
   "cell_type": "code",
   "execution_count": 35,
   "metadata": {
    "colab": {
     "base_uri": "https://localhost:8080/"
    },
    "executionInfo": {
     "elapsed": 245,
     "status": "ok",
     "timestamp": 1729007494673,
     "user": {
      "displayName": "Breyner Posso Bautista",
      "userId": "13049344394225357947"
     },
     "user_tz": 300
    },
    "id": "zuXm95g6el2N",
    "outputId": "606351da-bbac-40c8-c181-38580efb5742"
   },
   "outputs": [
    {
     "name": "stdout",
     "output_type": "stream",
     "text": [
      "Mes       Noviembre\n",
      "Ventas        27000\n",
      "Gastos        30000\n",
      "Name: 10, dtype: object\n",
      "<class 'pandas.core.series.Series'>\n"
     ]
    }
   ],
   "source": [
    "## Podemos leer toda una fila\n",
    "\n",
    "b = df_1.iloc[10]\n",
    "print(b)\n",
    "print(type(b))"
   ]
  },
  {
   "cell_type": "code",
   "execution_count": 36,
   "metadata": {
    "colab": {
     "base_uri": "https://localhost:8080/"
    },
    "executionInfo": {
     "elapsed": 308,
     "status": "ok",
     "timestamp": 1729007460906,
     "user": {
      "displayName": "Breyner Posso Bautista",
      "userId": "13049344394225357947"
     },
     "user_tz": 300
    },
    "id": "onXAFs5Y3sxQ",
    "outputId": "60b842ed-98a3-4e42-f3c7-1529cb7df663"
   },
   "outputs": [
    {
     "name": "stdout",
     "output_type": "stream",
     "text": [
      "30000\n",
      "<class 'numpy.int64'>\n"
     ]
    }
   ],
   "source": [
    "## Podemos obtener un elemento individual\n",
    "\n",
    "c = df_1.iloc[10,2]\n",
    "print(c)\n",
    "print(type(c))"
   ]
  },
  {
   "cell_type": "code",
   "execution_count": 37,
   "metadata": {
    "colab": {
     "base_uri": "https://localhost:8080/"
    },
    "executionInfo": {
     "elapsed": 241,
     "status": "ok",
     "timestamp": 1729007611431,
     "user": {
      "displayName": "Breyner Posso Bautista",
      "userId": "13049344394225357947"
     },
     "user_tz": 300
    },
    "id": "BkPWqV7VfY5H",
    "outputId": "293b0aef-c778-4fa2-9e52-29f0e8107be0"
   },
   "outputs": [
    {
     "name": "stdout",
     "output_type": "stream",
     "text": [
      "       Mes  Ventas  Gastos\n",
      "0    Enero   30500   22000\n",
      "1  Febrero   35600   23400\n",
      "2    Marzo   28300   18100\n",
      "3    Abril   33900   20700\n",
      "4     Mayo   22002   19154\n",
      "5    Junio   32003   21367\n",
      "<class 'pandas.core.frame.DataFrame'>\n"
     ]
    }
   ],
   "source": [
    "## Podemos leer varias columnas\n",
    "\n",
    "c = df_1.iloc[0:6,:]\n",
    "print(c)\n",
    "print(type(c))"
   ]
  },
  {
   "cell_type": "code",
   "execution_count": 38,
   "metadata": {
    "colab": {
     "base_uri": "https://localhost:8080/"
    },
    "executionInfo": {
     "elapsed": 228,
     "status": "ok",
     "timestamp": 1729007658397,
     "user": {
      "displayName": "Breyner Posso Bautista",
      "userId": "13049344394225357947"
     },
     "user_tz": 300
    },
    "id": "3tPK9Yym4qiT",
    "outputId": "22a2c3c4-7706-47a9-d0e3-d5748cec13e6"
   },
   "outputs": [
    {
     "name": "stdout",
     "output_type": "stream",
     "text": [
      "0    22000\n",
      "1    23400\n",
      "2    18100\n",
      "3    20700\n",
      "4    19154\n",
      "5    21367\n",
      "Name: Gastos, dtype: int64\n",
      "<class 'pandas.core.series.Series'>\n"
     ]
    }
   ],
   "source": [
    "## Podemos leer varias filas de una sola columna\n",
    "\n",
    "c = df_1.iloc[0:6,2]\n",
    "print(c)\n",
    "print(type(c))"
   ]
  },
  {
   "cell_type": "code",
   "execution_count": 39,
   "metadata": {
    "colab": {
     "base_uri": "https://localhost:8080/"
    },
    "executionInfo": {
     "elapsed": 274,
     "status": "ok",
     "timestamp": 1729007673883,
     "user": {
      "displayName": "Breyner Posso Bautista",
      "userId": "13049344394225357947"
     },
     "user_tz": 300
    },
    "id": "lAITpfy9fkQr",
    "outputId": "cb2741a1-fabb-4410-c235-c0de6332af23"
   },
   "outputs": [
    {
     "name": "stdout",
     "output_type": "stream",
     "text": [
      "       Mes  Ventas\n",
      "0    Enero   30500\n",
      "1  Febrero   35600\n",
      "2    Marzo   28300\n",
      "<class 'pandas.core.frame.DataFrame'>\n"
     ]
    }
   ],
   "source": [
    "## Podemos leer una porción del DataFrame\n",
    "\n",
    "d = df_1.iloc[0:3,0:2]\n",
    "print(d)\n",
    "print(type(d))"
   ]
  },
  {
   "cell_type": "code",
   "execution_count": 40,
   "metadata": {
    "id": "jj8ITEfafwlK"
   },
   "outputs": [
    {
     "name": "stdout",
     "output_type": "stream",
     "text": [
      "35600\n",
      "<class 'numpy.int64'>\n"
     ]
    }
   ],
   "source": [
    "e = df_1.iloc[1,1]\n",
    "print(e)\n",
    "print(type(e))"
   ]
  },
  {
   "cell_type": "markdown",
   "metadata": {},
   "source": [
    "#### Vamos a cambiar el índice en el DataFrame df_2"
   ]
  },
  {
   "cell_type": "code",
   "execution_count": 41,
   "metadata": {
    "colab": {
     "base_uri": "https://localhost:8080/",
     "height": 477
    },
    "executionInfo": {
     "elapsed": 8,
     "status": "ok",
     "timestamp": 1729007927253,
     "user": {
      "displayName": "Breyner Posso Bautista",
      "userId": "13049344394225357947"
     },
     "user_tz": 300
    },
    "id": "8dnZ7A3V5hZQ",
    "outputId": "69357d10-f3fa-4a49-fae4-0b18ce81a1cd"
   },
   "outputs": [
    {
     "data": {
      "text/html": [
       "<div>\n",
       "<style scoped>\n",
       "    .dataframe tbody tr th:only-of-type {\n",
       "        vertical-align: middle;\n",
       "    }\n",
       "\n",
       "    .dataframe tbody tr th {\n",
       "        vertical-align: top;\n",
       "    }\n",
       "\n",
       "    .dataframe thead th {\n",
       "        text-align: right;\n",
       "    }\n",
       "</style>\n",
       "<table border=\"1\" class=\"dataframe\">\n",
       "  <thead>\n",
       "    <tr style=\"text-align: right;\">\n",
       "      <th></th>\n",
       "      <th>Ventas</th>\n",
       "      <th>Gastos</th>\n",
       "      <th>Balance</th>\n",
       "    </tr>\n",
       "    <tr>\n",
       "      <th>Mes</th>\n",
       "      <th></th>\n",
       "      <th></th>\n",
       "      <th></th>\n",
       "    </tr>\n",
       "  </thead>\n",
       "  <tbody>\n",
       "    <tr>\n",
       "      <th>Enero</th>\n",
       "      <td>30500</td>\n",
       "      <td>22000</td>\n",
       "      <td>8500</td>\n",
       "    </tr>\n",
       "    <tr>\n",
       "      <th>Febrero</th>\n",
       "      <td>35600</td>\n",
       "      <td>23400</td>\n",
       "      <td>12200</td>\n",
       "    </tr>\n",
       "    <tr>\n",
       "      <th>Marzo</th>\n",
       "      <td>28300</td>\n",
       "      <td>18100</td>\n",
       "      <td>10200</td>\n",
       "    </tr>\n",
       "    <tr>\n",
       "      <th>Abril</th>\n",
       "      <td>33900</td>\n",
       "      <td>20700</td>\n",
       "      <td>13200</td>\n",
       "    </tr>\n",
       "    <tr>\n",
       "      <th>Mayo</th>\n",
       "      <td>22002</td>\n",
       "      <td>19154</td>\n",
       "      <td>2848</td>\n",
       "    </tr>\n",
       "    <tr>\n",
       "      <th>Junio</th>\n",
       "      <td>32003</td>\n",
       "      <td>21367</td>\n",
       "      <td>10636</td>\n",
       "    </tr>\n",
       "    <tr>\n",
       "      <th>Julio</th>\n",
       "      <td>54000</td>\n",
       "      <td>27544</td>\n",
       "      <td>26456</td>\n",
       "    </tr>\n",
       "    <tr>\n",
       "      <th>Agosto</th>\n",
       "      <td>35000</td>\n",
       "      <td>19871</td>\n",
       "      <td>15129</td>\n",
       "    </tr>\n",
       "    <tr>\n",
       "      <th>Septiembre</th>\n",
       "      <td>11254</td>\n",
       "      <td>24150</td>\n",
       "      <td>-12896</td>\n",
       "    </tr>\n",
       "    <tr>\n",
       "      <th>Octubre</th>\n",
       "      <td>65871</td>\n",
       "      <td>23574</td>\n",
       "      <td>42297</td>\n",
       "    </tr>\n",
       "    <tr>\n",
       "      <th>Noviembre</th>\n",
       "      <td>27000</td>\n",
       "      <td>30000</td>\n",
       "      <td>-3000</td>\n",
       "    </tr>\n",
       "    <tr>\n",
       "      <th>Diciembre</th>\n",
       "      <td>39741</td>\n",
       "      <td>24000</td>\n",
       "      <td>15741</td>\n",
       "    </tr>\n",
       "  </tbody>\n",
       "</table>\n",
       "</div>"
      ],
      "text/plain": [
       "            Ventas  Gastos  Balance\n",
       "Mes                                \n",
       "Enero        30500   22000     8500\n",
       "Febrero      35600   23400    12200\n",
       "Marzo        28300   18100    10200\n",
       "Abril        33900   20700    13200\n",
       "Mayo         22002   19154     2848\n",
       "Junio        32003   21367    10636\n",
       "Julio        54000   27544    26456\n",
       "Agosto       35000   19871    15129\n",
       "Septiembre   11254   24150   -12896\n",
       "Octubre      65871   23574    42297\n",
       "Noviembre    27000   30000    -3000\n",
       "Diciembre    39741   24000    15741"
      ]
     },
     "execution_count": 41,
     "metadata": {},
     "output_type": "execute_result"
    }
   ],
   "source": [
    "## Con el método set_index podemos cambiar los valores de los índices del DataFrame.\n",
    "## Podemos elegir una columna cuyos valores sean únicos y representatidos dentro del conjunto de datos\n",
    "\n",
    "df_2.set_index(keys=['Mes'], drop=True, inplace=True)\n",
    "\n",
    "df_2"
   ]
  },
  {
   "cell_type": "code",
   "execution_count": 42,
   "metadata": {
    "colab": {
     "base_uri": "https://localhost:8080/",
     "height": 198
    },
    "executionInfo": {
     "elapsed": 237,
     "status": "ok",
     "timestamp": 1729007987781,
     "user": {
      "displayName": "Breyner Posso Bautista",
      "userId": "13049344394225357947"
     },
     "user_tz": 300
    },
    "id": "YSoed9Cu51yA",
    "outputId": "fd3715cd-4145-41e1-b9d6-67656154564e"
   },
   "outputs": [
    {
     "data": {
      "text/plain": [
       "Ventas     35600\n",
       "Gastos     23400\n",
       "Balance    12200\n",
       "Name: Febrero, dtype: int64"
      ]
     },
     "execution_count": 42,
     "metadata": {},
     "output_type": "execute_result"
    }
   ],
   "source": [
    "df_2.iloc[1]"
   ]
  },
  {
   "cell_type": "markdown",
   "metadata": {
    "id": "p5pCab6bhBO0"
   },
   "source": [
    "#### **loc**"
   ]
  },
  {
   "cell_type": "code",
   "execution_count": 43,
   "metadata": {
    "colab": {
     "base_uri": "https://localhost:8080/"
    },
    "executionInfo": {
     "elapsed": 274,
     "status": "ok",
     "timestamp": 1729007741790,
     "user": {
      "displayName": "Breyner Posso Bautista",
      "userId": "13049344394225357947"
     },
     "user_tz": 300
    },
    "id": "kUko8aSwhNNM",
    "outputId": "8aa16b44-8c25-4dcb-8bf4-67adde733946"
   },
   "outputs": [
    {
     "data": {
      "text/plain": [
       "RangeIndex(start=0, stop=12, step=1)"
      ]
     },
     "execution_count": 43,
     "metadata": {},
     "output_type": "execute_result"
    }
   ],
   "source": [
    "df_1.index"
   ]
  },
  {
   "cell_type": "code",
   "execution_count": 44,
   "metadata": {
    "colab": {
     "base_uri": "https://localhost:8080/"
    },
    "executionInfo": {
     "elapsed": 290,
     "status": "ok",
     "timestamp": 1729007790588,
     "user": {
      "displayName": "Breyner Posso Bautista",
      "userId": "13049344394225357947"
     },
     "user_tz": 300
    },
    "id": "W_cqFn8QgKvh",
    "outputId": "3f418786-0061-42fa-f470-979a74a30c05"
   },
   "outputs": [
    {
     "name": "stdout",
     "output_type": "stream",
     "text": [
      "54000\n",
      "<class 'numpy.int64'>\n"
     ]
    }
   ],
   "source": [
    "## Para direccionar los elementos usamos los nombres de los índices\n",
    "\n",
    "f = df_1.loc[6,'Ventas']\n",
    "print(f)\n",
    "print(type(f))"
   ]
  },
  {
   "cell_type": "code",
   "execution_count": 45,
   "metadata": {
    "colab": {
     "base_uri": "https://localhost:8080/"
    },
    "executionInfo": {
     "elapsed": 224,
     "status": "ok",
     "timestamp": 1729008068191,
     "user": {
      "displayName": "Breyner Posso Bautista",
      "userId": "13049344394225357947"
     },
     "user_tz": 300
    },
    "id": "DdmZPDKGhYUo",
    "outputId": "3816835d-f9fc-40f9-8190-e3fae7a09d1d"
   },
   "outputs": [
    {
     "name": "stdout",
     "output_type": "stream",
     "text": [
      "           Mes  Ventas\n",
      "0        Enero   30500\n",
      "1      Febrero   35600\n",
      "2        Marzo   28300\n",
      "3        Abril   33900\n",
      "4         Mayo   22002\n",
      "5        Junio   32003\n",
      "6        Julio   54000\n",
      "7       Agosto   35000\n",
      "8   Septiembre   11254\n",
      "9      Octubre   65871\n",
      "10   Noviembre   27000\n",
      "11   Diciembre   39741\n",
      "<class 'pandas.core.frame.DataFrame'>\n"
     ]
    }
   ],
   "source": [
    "g = df_1.loc[:,['Mes','Ventas']]\n",
    "print(g)\n",
    "print(type(g))"
   ]
  },
  {
   "cell_type": "markdown",
   "metadata": {
    "id": "w6oMXh3o6d5v"
   },
   "source": [
    "Podemos crear filtros y usarlos con loc"
   ]
  },
  {
   "cell_type": "code",
   "execution_count": 46,
   "metadata": {
    "colab": {
     "base_uri": "https://localhost:8080/",
     "height": 480
    },
    "collapsed": true,
    "executionInfo": {
     "elapsed": 280,
     "status": "ok",
     "timestamp": 1729008131877,
     "user": {
      "displayName": "Breyner Posso Bautista",
      "userId": "13049344394225357947"
     },
     "user_tz": 300
    },
    "id": "Kf2WUHGl6lI_",
    "outputId": "ccc14a77-b501-4e7f-8392-c1386e5a2c26"
   },
   "outputs": [
    {
     "data": {
      "text/plain": [
       "0     False\n",
       "1      True\n",
       "2     False\n",
       "3     False\n",
       "4     False\n",
       "5     False\n",
       "6     False\n",
       "7     False\n",
       "8     False\n",
       "9     False\n",
       "10    False\n",
       "11    False\n",
       "Name: Mes, dtype: bool"
      ]
     },
     "execution_count": 46,
     "metadata": {},
     "output_type": "execute_result"
    }
   ],
   "source": [
    "df_1.Mes == 'Febrero'"
   ]
  },
  {
   "cell_type": "code",
   "execution_count": 47,
   "metadata": {
    "colab": {
     "base_uri": "https://localhost:8080/"
    },
    "executionInfo": {
     "elapsed": 307,
     "status": "ok",
     "timestamp": 1729008168116,
     "user": {
      "displayName": "Breyner Posso Bautista",
      "userId": "13049344394225357947"
     },
     "user_tz": 300
    },
    "id": "N-XlR8fuhoPI",
    "outputId": "52ee8a86-e91d-411d-a628-430bf0e6a6b6"
   },
   "outputs": [
    {
     "name": "stdout",
     "output_type": "stream",
     "text": [
      "       Mes  Ventas  Gastos\n",
      "1  Febrero   35600   23400\n",
      "<class 'pandas.core.frame.DataFrame'>\n"
     ]
    }
   ],
   "source": [
    "h = df_1.loc[df_1.Mes == 'Febrero']\n",
    "print(h)\n",
    "print(type(h))"
   ]
  },
  {
   "cell_type": "markdown",
   "metadata": {},
   "source": [
    "#### Aunque los filtros también podemos usarlos directamente sin necesidad de usar loc"
   ]
  },
  {
   "cell_type": "code",
   "execution_count": 48,
   "metadata": {},
   "outputs": [
    {
     "name": "stdout",
     "output_type": "stream",
     "text": [
      "       Mes  Ventas  Gastos\n",
      "1  Febrero   35600   23400\n",
      "<class 'pandas.core.frame.DataFrame'>\n"
     ]
    }
   ],
   "source": [
    "j = df_1[df_1['Mes'] == 'Febrero']\n",
    "print(j)\n",
    "print(type(j))"
   ]
  },
  {
   "cell_type": "code",
   "execution_count": 49,
   "metadata": {
    "colab": {
     "base_uri": "https://localhost:8080/"
    },
    "executionInfo": {
     "elapsed": 242,
     "status": "ok",
     "timestamp": 1729008212403,
     "user": {
      "displayName": "Breyner Posso Bautista",
      "userId": "13049344394225357947"
     },
     "user_tz": 300
    },
    "id": "8fAma23OiBUJ",
    "outputId": "9ab0deb7-bd9d-4153-93d8-72555d9aea18"
   },
   "outputs": [
    {
     "name": "stdout",
     "output_type": "stream",
     "text": [
      "       Mes  Ventas  Gastos\n",
      "6    Julio   54000   27544\n",
      "9  Octubre   65871   23574\n",
      "<class 'pandas.core.frame.DataFrame'>\n"
     ]
    }
   ],
   "source": [
    "## Los filttros nos permiten seleccionar las filas que cumplen cierta condición\n",
    "\n",
    "jj = df_1[df_1.Ventas >= 50000]\n",
    "print(jj)\n",
    "print(type(jj))"
   ]
  },
  {
   "cell_type": "code",
   "execution_count": 50,
   "metadata": {
    "colab": {
     "base_uri": "https://localhost:8080/"
    },
    "executionInfo": {
     "elapsed": 251,
     "status": "ok",
     "timestamp": 1729008243002,
     "user": {
      "displayName": "Breyner Posso Bautista",
      "userId": "13049344394225357947"
     },
     "user_tz": 300
    },
    "id": "rXTcZfaV67lP",
    "outputId": "e1d82f8d-98b1-43bc-8184-e1724b1b4cb6"
   },
   "outputs": [
    {
     "name": "stdout",
     "output_type": "stream",
     "text": [
      "          Mes  Ventas  Gastos\n",
      "0       Enero   30500   22000\n",
      "1     Febrero   35600   23400\n",
      "3       Abril   33900   20700\n",
      "5       Junio   32003   21367\n",
      "7      Agosto   35000   19871\n",
      "11  Diciembre   39741   24000\n",
      "<class 'pandas.core.frame.DataFrame'>\n"
     ]
    }
   ],
   "source": [
    "## Podemos usar varias condiciones dentro del filtro\n",
    "k = df_1[(df_1.Ventas >= 30000) & (df_1.Ventas <= 50000)]\n",
    "print(k)\n",
    "print(type(k))"
   ]
  },
  {
   "cell_type": "markdown",
   "metadata": {
    "id": "xZ50gnYR7Isg"
   },
   "source": [
    "## Ejercicio\n",
    "\n",
    "Utilizando el DataFrame df_2 encuentre los meses dónde el balance fue negativo y utilice tabulate para mostar la información en forma tabular.\n",
    "\n",
    "Recuerden el uso de tabulate:\n",
    "\n",
    "print(tabulate(DataFrame, headers = 'keys', tablefmt = 'fancy_grid'))"
   ]
  },
  {
   "cell_type": "code",
   "execution_count": null,
   "metadata": {},
   "outputs": [
    {
     "name": "stdout",
     "output_type": "stream",
     "text": [
      "╒════╤═════════╤═══════════╕\n",
      "│    │ Mes     │   Balance │\n",
      "╞════╪═════════╪═══════════╡\n",
      "│  1 │ Febrero │     -1500 │\n",
      "├────┼─────────┼───────────┤\n",
      "│  3 │ Abril   │      -500 │\n",
      "├────┼─────────┼───────────┤\n",
      "│  5 │ Junio   │      -100 │\n",
      "╘════╧═════════╧═══════════╛\n"
     ]
    }
   ],
   "source": [
    "import pandas as pd                          \n",
    "from tabulate import tabulate                \n",
    "\n",
    "df_2 = pd.DataFrame({\n",
    "    'Mes': ['Enero', 'Febrero', 'Marzo', 'Abril', 'Mayo', 'Junio'],\n",
    "    'Balance': [2000, -1500, 1000, -500, 2500, -100]\n",
    "})\n",
    "\n",
    "\n",
    "df_negativo = df_2[df_2['Balance'] < 0]\n",
    "\n",
    "\n",
    "print(tabulate(df_negativo, headers='keys', tablefmt='fancy_grid')) "
   ]
  },
  {
   "cell_type": "markdown",
   "metadata": {
    "id": "E79tGcYBFnz7"
   },
   "source": [
    "## Ejercicio 2\n",
    "\n",
    "Escriba un programa que pida a un usuario el nombre del mes y muestre las ventas, gastos y balance para ese mes."
   ]
  },
  {
   "cell_type": "code",
   "execution_count": null,
   "metadata": {},
   "outputs": [],
   "source": [
    "import pandas as pd  \n",
    "\n",
    "df_2 = pd.DataFrame({\n",
    "    'Mes': ['Enero', 'Febrero', 'Marzo', 'Abril'],\n",
    "    'Ventas': [3000, 2500, 4000, 3500],\n",
    "    'Gastos': [1500, 1800, 2200, 2000]\n",
    "})\n",
    "\n",
    "df_2['Balance'] = df_2['Ventas'] - df_2['Gastos']\n",
    "\n",
    "mes_usuario = input(\"Ingrese el nombre del mes (Ej. Enero): \").capitalize()\n",
    "#mes_usuario = \"Marzo\" # para usar en jupyter\n",
    "\n",
    "resultado = df_2[df_2['Mes'] == mes_usuario]\n",
    "\n",
    "if resultado.empty:\n",
    "    print(\"El mes ingresado no se encuentra en los datos.\")\n",
    "else:\n",
    "    ventas = resultado.iloc[0]['Ventas']    \n",
    "    gastos = resultado.iloc[0]['Gastos']    \n",
    "    balance = resultado.iloc[0]['Balance']  \n",
    "\n",
    "    print(f\"\\nDatos para el mes de {mes_usuario}:\")\n",
    "    print(f\"Ventas: ${ventas}\")\n",
    "    print(f\"Gastos: ${gastos}\")\n",
    "    print(f\"Balance: ${balance}\")\n"
   ]
  },
  {
   "cell_type": "markdown",
   "metadata": {
    "id": "eVGJcJhrGP0y"
   },
   "source": [
    "## Ejercicios 3\n",
    "\n",
    "Escriba un programa que solicite un valor para el balance y muestre la información para todos los meses cuyo balance es mayor o igual a ese valor."
   ]
  },
  {
   "cell_type": "code",
   "execution_count": null,
   "metadata": {},
   "outputs": [
    {
     "name": "stdout",
     "output_type": "stream",
     "text": [
      "\n",
      "Meses con balance mayor o igual a 1000.0\n",
      "╒════╤═══════╤══════════╤══════════╤═══════════╕\n",
      "│    │ Mes   │   Ventas │   Gastos │   Balance │\n",
      "╞════╪═══════╪══════════╪══════════╪═══════════╡\n",
      "│  0 │ Enero │     3000 │     1500 │      1500 │\n",
      "├────┼───────┼──────────┼──────────┼───────────┤\n",
      "│  2 │ Marzo │     4000 │     2200 │      1800 │\n",
      "├────┼───────┼──────────┼──────────┼───────────┤\n",
      "│  3 │ Abril │     3500 │     2000 │      1500 │\n",
      "╘════╧═══════╧══════════╧══════════╧═══════════╛\n"
     ]
    }
   ],
   "source": [
    "import pandas as pd                    \n",
    "from tabulate import tabulate          \n",
    "\n",
    "df_2 = pd.DataFrame({\n",
    "    'Mes': ['Enero', 'Febrero', 'Marzo', 'Abril'],\n",
    "    'Ventas': [3000, 2500, 4000, 3500],\n",
    "    'Gastos': [1500, 1800, 2200, 2000]\n",
    "})\n",
    "\n",
    "df_2['Balance'] = df_2['Ventas'] - df_2['Gastos']\n",
    "\n",
    "valor_minimo = float(input(\"Ingrese el valor mínimo de balance: \"))\n",
    "\n",
    "df_filtrado = df_2[df_2['Balance'] >= valor_minimo]\n",
    "\n",
    "if df_filtrado.empty:\n",
    "    print(\"No hay meses con un balance mayor o igual al valor ingresado.\")\n",
    "else:\n",
    "    print(\"\\nMeses con balance mayor o igual a\", valor_minimo)\n",
    "    print(tabulate(df_filtrado, headers='keys', tablefmt='fancy_grid'))\n"
   ]
  },
  {
   "cell_type": "markdown",
   "metadata": {
    "id": "9o014ZViGhHh"
   },
   "source": [
    "## Ejercicio 4\n",
    "\n",
    "Grafique Ventas y Balance vs Mes, pero usando gráficos de barras."
   ]
  },
  {
   "cell_type": "code",
   "execution_count": null,
   "metadata": {},
   "outputs": [
    {
     "data": {
      "image/png": "[encoded data removed]",
      "text/plain": [
       "<Figure size 640x480 with 1 Axes>"
      ]
     },
     "metadata": {},
     "output_type": "display_data"
    }
   ],
   "source": [
    "import pandas as pd                   \n",
    "import matplotlib.pyplot as plt       \n",
    "\n",
    "df_2 = pd.DataFrame({\n",
    "    'Mes': ['Enero', 'Febrero', 'Marzo', 'Abril'],\n",
    "    'Ventas': [3000, 2500, 4000, 3500],\n",
    "    'Gastos': [1500, 1800, 2200, 2000]\n",
    "})\n",
    "\n",
    "df_2['Balance'] = df_2['Ventas'] - df_2['Gastos']\n",
    "\n",
    "fig, ax = plt.subplots()  \n",
    "\n",
    "ax.bar(df_2['Mes'], df_2['Ventas'], label='Ventas', color='skyblue')\n",
    "\n",
    "ax.bar(df_2['Mes'], df_2['Balance'], label='Balance', color='lightgreen', alpha=0.7)\n",
    "\n",
    "ax.set_title('Ventas y Balance por Mes')    \n",
    "ax.set_xlabel('Mes')                        \n",
    "ax.set_ylabel('Monto en $')                 \n",
    "\n",
    "ax.legend()\n",
    "\n",
    "plt.show()"
   ]
  },
  {
   "cell_type": "markdown",
   "metadata": {},
   "source": [
    "## Ejercicio 5\n",
    "\n",
    "Muestre toda la información de los meses impares."
   ]
  },
  {
   "cell_type": "code",
   "execution_count": null,
   "metadata": {},
   "outputs": [
    {
     "name": "stdout",
     "output_type": "stream",
     "text": [
      "Información de los meses impares:\n",
      "     Mes  Ventas  Gastos  Balance\n",
      "0  Enero    3000    1500     1500\n",
      "2  Marzo    4000    2200     1800\n",
      "4   Mayo    4200    2300     1900\n"
     ]
    }
   ],
   "source": [
    "import pandas as pd  \n",
    "\n",
    "df_2 = pd.DataFrame({\n",
    "    'Mes': ['Enero', 'Febrero', 'Marzo', 'Abril', 'Mayo', 'Junio'],\n",
    "    'Ventas': [3000, 2500, 4000, 3500, 4200, 3900],\n",
    "    'Gastos': [1500, 1800, 2200, 2000, 2300, 2100]\n",
    "})\n",
    "\n",
    "df_2['Balance'] = df_2['Ventas'] - df_2['Gastos']\n",
    "\n",
    "meses_impares = df_2.iloc[::2]\n",
    "\n",
    "print(\"Información de los meses impares:\")\n",
    "print(meses_impares)"
   ]
  },
  {
   "cell_type": "code",
   "execution_count": 2,
   "metadata": {
    "colab": {
     "base_uri": "https://localhost:8080/"
    },
    "executionInfo": {
     "elapsed": 225,
     "status": "ok",
     "timestamp": 1729009355965,
     "user": {
      "displayName": "Breyner Posso Bautista",
      "userId": "13049344394225357947"
     },
     "user_tz": 300
    },
    "id": "a7l8pdLLDw9M",
    "outputId": "053c102d-8900-4293-cd72-0900320037d1"
   },
   "outputs": [
    {
     "name": "stdout",
     "output_type": "stream",
     "text": [
      "[1, 3, 5, 7, 9, 11]\n"
     ]
    }
   ],
   "source": [
    "## Solución\n",
    "\n",
    "meses_impares = [x for x in range(12) if x%2==1]\n",
    "print(meses_impares)"
   ]
  },
  {
   "cell_type": "code",
   "execution_count": null,
   "metadata": {
    "colab": {
     "base_uri": "https://localhost:8080/"
    },
    "executionInfo": {
     "elapsed": 231,
     "status": "ok",
     "timestamp": 1729009410553,
     "user": {
      "displayName": "Breyner Posso Bautista",
      "userId": "13049344394225357947"
     },
     "user_tz": 300
    },
    "id": "QNyurS2GDS4K",
    "outputId": "7614ed67-2968-4278-963c-282660bb47eb"
   },
   "outputs": [],
   "source": [
    "info_meses_impares = df_1.loc[meses_impares,:]\n",
    "print(info_meses_impares)"
   ]
  }
 ],
 "metadata": {
  "colab": {
   "authorship_tag": "ABX9TyP/tkna3gpzsSohy03vkd2J",
   "provenance": []
  },
  "kernelspec": {
   "display_name": "venv",
   "language": "python",
   "name": "python3"
  },
  "language_info": {
   "codemirror_mode": {
    "name": "ipython",
    "version": 3
   },
   "file_extension": ".py",
   "mimetype": "text/x-python",
   "name": "python",
   "nbconvert_exporter": "python",
   "pygments_lexer": "ipython3",
   "version": "3.12.4"
  }
 },
 "nbformat": 4,
 "nbformat_minor": 0
}
