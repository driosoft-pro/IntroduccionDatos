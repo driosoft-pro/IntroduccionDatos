{
 "cells": [
  {
   "cell_type": "markdown",
   "metadata": {
    "id": "ZOMDwKCFaWs3"
   },
   "source": [
    "# **Pandas**\n",
    "\n",
    "## Indexado"
   ]
  },
  {
   "cell_type": "code",
   "execution_count": null,
   "metadata": {
    "executionInfo": {
     "elapsed": 280,
     "status": "ok",
     "timestamp": 1729008732581,
     "user": {
      "displayName": "Breyner Posso Bautista",
      "userId": "13049344394225357947"
     },
     "user_tz": 300
    },
    "id": "qNDLcT1raVth"
   },
   "outputs": [],
   "source": [
    "import numpy as np\n",
    "import pandas as pd\n",
    "from tabulate import tabulate\n",
    "import matplotlib.pyplot as plt"
   ]
  },
  {
   "cell_type": "code",
   "execution_count": null,
   "metadata": {
    "executionInfo": {
     "elapsed": 3,
     "status": "ok",
     "timestamp": 1729006152082,
     "user": {
      "displayName": "Breyner Posso Bautista",
      "userId": "13049344394225357947"
     },
     "user_tz": 300
    },
    "id": "_8jxis4Na2zH"
   },
   "outputs": [],
   "source": [
    "dict_1 = {\n",
    "    \"Mes\":['Enero', 'Febrero', 'Marzo', 'Abril', 'Mayo', 'Junio', 'Julio' ,'Agosto', 'Septiembre', 'Octubre', 'Noviembre', 'Diciembre'],\n",
    "    \"Ventas\":[30500, 35600, 28300, 33900, 22002, 32003, 54000, 35000, 11254, 65871, 27000, 39741],\n",
    "    \"Gastos\":[22000, 23400, 18100, 20700, 19154, 21367, 27544, 19871, 24150, 23574, 30000, 24000]\n",
    "}"
   ]
  },
  {
   "cell_type": "code",
   "execution_count": null,
   "metadata": {
    "colab": {
     "base_uri": "https://localhost:8080/",
     "height": 445
    },
    "executionInfo": {
     "elapsed": 633,
     "status": "ok",
     "timestamp": 1729006152712,
     "user": {
      "displayName": "Breyner Posso Bautista",
      "userId": "13049344394225357947"
     },
     "user_tz": 300
    },
    "id": "VQblsS-7b0Oq",
    "outputId": "27acc15c-fe23-4356-9560-c7e435c5e7d9"
   },
   "outputs": [],
   "source": [
    "df_1 = pd.DataFrame(dict_1)\n",
    "df_1"
   ]
  },
  {
   "cell_type": "markdown",
   "metadata": {
    "id": "QIe4riJTcZP8"
   },
   "source": [
    "## **Accediendo a los datos de un DataFrame**"
   ]
  },
  {
   "cell_type": "markdown",
   "metadata": {
    "id": "jyik5mDLdxTi"
   },
   "source": [
    "## \\**Observación**: podríamos decir que el estándar base en Python para acceder a los datos por índices es [fila][columna]"
   ]
  },
  {
   "cell_type": "code",
   "execution_count": null,
   "metadata": {
    "colab": {
     "base_uri": "https://localhost:8080/"
    },
    "executionInfo": {
     "elapsed": 6,
     "status": "ok",
     "timestamp": 1729006244761,
     "user": {
      "displayName": "Breyner Posso Bautista",
      "userId": "13049344394225357947"
     },
     "user_tz": 300
    },
    "id": "ejz1fFuOzJLz",
    "outputId": "83ee6955-aeed-4701-e5d9-00fe621f4f2f"
   },
   "outputs": [],
   "source": [
    "## Vamos a ver la forma de acceder datos en Python\n",
    "\n",
    "a = [[9, 8, 7],[6,5,4],[3,2,1]]\n",
    "arr_1 = np.array(a)\n",
    "print(arr_1)"
   ]
  },
  {
   "cell_type": "code",
   "execution_count": null,
   "metadata": {
    "colab": {
     "base_uri": "https://localhost:8080/"
    },
    "executionInfo": {
     "elapsed": 246,
     "status": "ok",
     "timestamp": 1729006261108,
     "user": {
      "displayName": "Breyner Posso Bautista",
      "userId": "13049344394225357947"
     },
     "user_tz": 300
    },
    "id": "hPfhdsjQzarf",
    "outputId": "48eb3a5c-48fa-4d72-97bc-faad4dd2d52f"
   },
   "outputs": [],
   "source": [
    "print(type(arr_1))"
   ]
  },
  {
   "cell_type": "code",
   "execution_count": null,
   "metadata": {
    "colab": {
     "base_uri": "https://localhost:8080/"
    },
    "executionInfo": {
     "elapsed": 256,
     "status": "ok",
     "timestamp": 1729006377522,
     "user": {
      "displayName": "Breyner Posso Bautista",
      "userId": "13049344394225357947"
     },
     "user_tz": 300
    },
    "id": "3wzcGgW2zgWg",
    "outputId": "4987f9df-7900-4e33-8e91-5ba075810987"
   },
   "outputs": [],
   "source": [
    "## Vamos a direccionar el 4\n",
    "## Primero ponemos la coordenada de la fila y luego la coordenada de la columna\n",
    "\n",
    "print(arr_1[1][2])"
   ]
  },
  {
   "cell_type": "code",
   "execution_count": null,
   "metadata": {
    "colab": {
     "base_uri": "https://localhost:8080/"
    },
    "executionInfo": {
     "elapsed": 383,
     "status": "ok",
     "timestamp": 1729006431666,
     "user": {
      "displayName": "Breyner Posso Bautista",
      "userId": "13049344394225357947"
     },
     "user_tz": 300
    },
    "id": "fYVRBbSbz-pV",
    "outputId": "651dfa88-f8bb-4127-8f56-cf7fbe4a8046"
   },
   "outputs": [],
   "source": [
    "## ¿Qué número se encuentra en esta posición?\n",
    "\n",
    "print(a[2][0])"
   ]
  },
  {
   "cell_type": "markdown",
   "metadata": {},
   "source": [
    "#### ¿Qué pasa si intentamos acceder a un elemento del DataFrame usando esta forma de indexado?"
   ]
  },
  {
   "cell_type": "code",
   "execution_count": null,
   "metadata": {
    "colab": {
     "base_uri": "https://localhost:8080/",
     "height": 578
    },
    "executionInfo": {
     "elapsed": 275,
     "status": "error",
     "timestamp": 1729006465301,
     "user": {
      "displayName": "Breyner Posso Bautista",
      "userId": "13049344394225357947"
     },
     "user_tz": 300
    },
    "id": "uesXGu02b4_y",
    "outputId": "bdeb176f-3666-485c-a980-76fc411e2c6d"
   },
   "outputs": [],
   "source": [
    "## Elemento 0,0 del DataFrame\n",
    "\n",
    "df_1[0][0]"
   ]
  },
  {
   "cell_type": "markdown",
   "metadata": {},
   "source": [
    "#### Para direccionar un elemento dentro de un DataFrame ponemos primero el índice de la columna (nombre de la columna) y luego el índice de la fila (nombre de la fila)"
   ]
  },
  {
   "cell_type": "code",
   "execution_count": null,
   "metadata": {
    "colab": {
     "base_uri": "https://localhost:8080/",
     "height": 55
    },
    "executionInfo": {
     "elapsed": 260,
     "status": "ok",
     "timestamp": 1729006576965,
     "user": {
      "displayName": "Breyner Posso Bautista",
      "userId": "13049344394225357947"
     },
     "user_tz": 300
    },
    "id": "er5wOXCpcJE3",
    "outputId": "10d13713-b6c6-49a1-aeac-e893975c963f"
   },
   "outputs": [],
   "source": [
    "## Vamnos a leer el elemento con índice 9 de la columna mes\n",
    "\n",
    "df_1['Mes'][9]"
   ]
  },
  {
   "cell_type": "markdown",
   "metadata": {
    "id": "kwQy4PJad7-g"
   },
   "source": [
    "## Leer toda una columna\n"
   ]
  },
  {
   "cell_type": "markdown",
   "metadata": {},
   "source": [
    "#### Para obtener los elementos de una columna usamos el nombre de la columna"
   ]
  },
  {
   "cell_type": "code",
   "execution_count": null,
   "metadata": {
    "colab": {
     "base_uri": "https://localhost:8080/"
    },
    "executionInfo": {
     "elapsed": 368,
     "status": "ok",
     "timestamp": 1729006624384,
     "user": {
      "displayName": "Breyner Posso Bautista",
      "userId": "13049344394225357947"
     },
     "user_tz": 300
    },
    "id": "Hv1Tg8SncTYN",
    "outputId": "481f3c77-5b59-4b3e-9a3f-4a75a7f45af8"
   },
   "outputs": [],
   "source": [
    "## Podemos usar el nommbre de la columna dentro de los corchetes\n",
    "\n",
    "a = df_1['Ventas']\n",
    "print(a)\n",
    "print(type(a))"
   ]
  },
  {
   "cell_type": "code",
   "execution_count": null,
   "metadata": {
    "colab": {
     "base_uri": "https://localhost:8080/"
    },
    "executionInfo": {
     "elapsed": 265,
     "status": "ok",
     "timestamp": 1729006638340,
     "user": {
      "displayName": "Breyner Posso Bautista",
      "userId": "13049344394225357947"
     },
     "user_tz": 300
    },
    "id": "1tT_foYSG6Zv",
    "outputId": "83767fb7-0ff3-467c-ec73-792966997e76"
   },
   "outputs": [],
   "source": [
    "## También podemos usar el nombre de la columna después del punto\n",
    "\n",
    "v = df_1.Ventas\n",
    "print(v)\n",
    "print(type(v))"
   ]
  },
  {
   "cell_type": "markdown",
   "metadata": {
    "id": "SGHHvcYSePCk"
   },
   "source": [
    "## Ejercicio\n",
    "\n",
    "Realizar una gráfica que muestre las ventas y gastos en cada uno de los meses."
   ]
  },
  {
   "cell_type": "code",
   "execution_count": null,
   "metadata": {
    "colab": {
     "base_uri": "https://localhost:8080/"
    },
    "executionInfo": {
     "elapsed": 242,
     "status": "ok",
     "timestamp": 1729006663075,
     "user": {
      "displayName": "Breyner Posso Bautista",
      "userId": "13049344394225357947"
     },
     "user_tz": 300
    },
    "id": "MkmU2YkfIc1o",
    "outputId": "3f8a969f-ee83-4011-a1cf-f208c7d51364"
   },
   "outputs": [],
   "source": [
    "## Paso 1: obtenemos los valores de las ventas. Estos valores serán ubicados en el eje Y de la gráfica.\n",
    "\n",
    "ventas = df_1.Ventas.values\n",
    "print(ventas)\n",
    "print(type(ventas))"
   ]
  },
  {
   "cell_type": "code",
   "execution_count": null,
   "metadata": {
    "colab": {
     "base_uri": "https://localhost:8080/"
    },
    "executionInfo": {
     "elapsed": 257,
     "status": "ok",
     "timestamp": 1729006674951,
     "user": {
      "displayName": "Breyner Posso Bautista",
      "userId": "13049344394225357947"
     },
     "user_tz": 300
    },
    "id": "5cN627mO0J08",
    "outputId": "d30ef062-1397-4665-8e73-f47b4fb81b97"
   },
   "outputs": [],
   "source": [
    "## Paso 2: obtenemos los valores de los gastos. Estos valores serán ubicados en el eje Y de la gráfica.\n",
    "\n",
    "gastos = df_1['Gastos'].values\n",
    "print(gastos)\n",
    "print(type(gastos))"
   ]
  },
  {
   "cell_type": "code",
   "execution_count": null,
   "metadata": {
    "colab": {
     "base_uri": "https://localhost:8080/"
    },
    "executionInfo": {
     "elapsed": 240,
     "status": "ok",
     "timestamp": 1729006667056,
     "user": {
      "displayName": "Breyner Posso Bautista",
      "userId": "13049344394225357947"
     },
     "user_tz": 300
    },
    "id": "qhHVpw99ypoN",
    "outputId": "32abd7e2-529b-47e6-c0b0-5c1c9751740c"
   },
   "outputs": [],
   "source": [
    "## Paso 3: obtenemos los valores de los meses. Estos valores serán obtenidos en el eje X de la gráfica.\n",
    "\n",
    "meses = df_1['Mes'].values\n",
    "print(meses)\n",
    "print(type(meses))"
   ]
  },
  {
   "cell_type": "code",
   "execution_count": null,
   "metadata": {
    "colab": {
     "base_uri": "https://localhost:8080/",
     "height": 503
    },
    "executionInfo": {
     "elapsed": 920,
     "status": "ok",
     "timestamp": 1729006678556,
     "user": {
      "displayName": "Breyner Posso Bautista",
      "userId": "13049344394225357947"
     },
     "user_tz": 300
    },
    "id": "EZ-KP4Ngy-w9",
    "outputId": "0907309b-4d70-426d-e185-6b3a5d387908"
   },
   "outputs": [],
   "source": [
    "## Paso 4: seleccionamos el tipo de gráfica y la construimos utilizando Matplotlib\n",
    "\n",
    "plt.plot(meses,ventas, marker='o', label='Ventas')\n",
    "plt.plot(meses,gastos, marker='o', label='Gastos')\n",
    "plt.xticks(rotation=45)\n",
    "plt.legend(loc=\"upper left\")\n",
    "plt.show()"
   ]
  },
  {
   "cell_type": "code",
   "execution_count": null,
   "metadata": {
    "colab": {
     "base_uri": "https://localhost:8080/",
     "height": 503
    },
    "executionInfo": {
     "elapsed": 401,
     "status": "ok",
     "timestamp": 1729006877083,
     "user": {
      "displayName": "Breyner Posso Bautista",
      "userId": "13049344394225357947"
     },
     "user_tz": 300
    },
    "id": "SRNyG50Q1XVO",
    "outputId": "c7f66e44-11c0-49dd-cb8a-ded0c9f6b23b"
   },
   "outputs": [],
   "source": [
    "## Vamos a intentar hacer la misma gráfica, pero usando directamente las columnas del DataFrame\n",
    "\n",
    "plt.plot(df_1['Mes'],df_1['Ventas'], marker='o', label='Ventas')\n",
    "plt.plot(df_1['Mes'],df_1['Gastos'], marker='o', label='Gastos')\n",
    "plt.xticks(rotation=45)\n",
    "plt.legend(loc=\"upper left\")\n",
    "plt.show()"
   ]
  },
  {
   "cell_type": "markdown",
   "metadata": {},
   "source": [
    "## Ejercicio\n",
    "\n",
    "Graficar el balance mensual (ventas-gasto)"
   ]
  },
  {
   "cell_type": "code",
   "execution_count": null,
   "metadata": {
    "colab": {
     "base_uri": "https://localhost:8080/"
    },
    "executionInfo": {
     "elapsed": 264,
     "status": "ok",
     "timestamp": 1729006925702,
     "user": {
      "displayName": "Breyner Posso Bautista",
      "userId": "13049344394225357947"
     },
     "user_tz": 300
    },
    "id": "1w_ay0811hSJ",
    "outputId": "803db8b6-3143-4180-ac9b-7ca7972f0ffe"
   },
   "outputs": [],
   "source": [
    "## Paso 1: Calcular los valores del balance mensual\n",
    "\n",
    "ventas = df_1.Ventas.values\n",
    "gastos = df_1['Gastos'].values\n",
    "balance = ventas - gastos\n",
    "\n",
    "print(balance)"
   ]
  },
  {
   "cell_type": "code",
   "execution_count": null,
   "metadata": {},
   "outputs": [],
   "source": [
    "## Paso 2: seleccionamos el tipo de gráfica y la construimos utilizando Matplotlib\n",
    "\n",
    "plt.plot(meses,balance, marker='o', label='Balance')\n",
    "plt.xticks(rotation=45)\n",
    "plt.legend(loc=\"upper left\")\n",
    "plt.show()"
   ]
  },
  {
   "cell_type": "markdown",
   "metadata": {},
   "source": [
    "#### También podemos crear otra columna en el DataFrame para guardar la información del balance mensual"
   ]
  },
  {
   "cell_type": "code",
   "execution_count": null,
   "metadata": {
    "executionInfo": {
     "elapsed": 269,
     "status": "ok",
     "timestamp": 1729006974001,
     "user": {
      "displayName": "Breyner Posso Bautista",
      "userId": "13049344394225357947"
     },
     "user_tz": 300
    },
    "id": "mGEc6y6e2nW7"
   },
   "outputs": [],
   "source": [
    "## Hacemos una copia profunda del DataFrame para no afectar al original\n",
    "\n",
    "df_2 = df_1.copy()"
   ]
  },
  {
   "cell_type": "code",
   "execution_count": null,
   "metadata": {
    "colab": {
     "base_uri": "https://localhost:8080/",
     "height": 445
    },
    "executionInfo": {
     "elapsed": 373,
     "status": "ok",
     "timestamp": 1729006974703,
     "user": {
      "displayName": "Breyner Posso Bautista",
      "userId": "13049344394225357947"
     },
     "user_tz": 300
    },
    "id": "Kvgax1NL2x7A",
    "outputId": "4092ba36-c753-4110-e218-50f22c14fd2d"
   },
   "outputs": [],
   "source": [
    "df_2['Balance'] = balance\n",
    "df_2"
   ]
  },
  {
   "cell_type": "code",
   "execution_count": null,
   "metadata": {
    "colab": {
     "base_uri": "https://localhost:8080/"
    },
    "executionInfo": {
     "elapsed": 223,
     "status": "ok",
     "timestamp": 1729007171325,
     "user": {
      "displayName": "Breyner Posso Bautista",
      "userId": "13049344394225357947"
     },
     "user_tz": 300
    },
    "id": "2J_38Rs02onf",
    "outputId": "dfb0b05e-2a2b-4fe8-cbb1-577fe94944e9"
   },
   "outputs": [],
   "source": [
    "total_ventas = df_2.Ventas.sum()\n",
    "print(f\"El total de ventas en el año fue {total_ventas}\")"
   ]
  },
  {
   "cell_type": "code",
   "execution_count": null,
   "metadata": {
    "colab": {
     "base_uri": "https://localhost:8080/"
    },
    "executionInfo": {
     "elapsed": 275,
     "status": "ok",
     "timestamp": 1729007199433,
     "user": {
      "displayName": "Breyner Posso Bautista",
      "userId": "13049344394225357947"
     },
     "user_tz": 300
    },
    "id": "oXCi4inI27tv",
    "outputId": "0abb94d2-4642-461c-902d-62510fb1ae83"
   },
   "outputs": [],
   "source": [
    "total_gastos = df_2['Gastos'].sum()\n",
    "print(f\"El total de gastos en el año fue {total_gastos}\")"
   ]
  },
  {
   "cell_type": "markdown",
   "metadata": {
    "id": "kfpndoC-ejak"
   },
   "source": [
    "## Acceso a los datos usando loc y iloc"
   ]
  },
  {
   "cell_type": "markdown",
   "metadata": {
    "id": "9BWt79KpewbZ"
   },
   "source": [
    "Otra forma de acceder a los datos es a través de los métodos indexación que Pandas nos provee, entre estos encontramos dos:\n",
    "+ **iloc**, obtenemos los datos a partir de su posición numérica.\n",
    "+ **loc**, obtenemos los datos con los identificadores.\n",
    "\n",
    "Ambos métodos utilizan una convención de [fila, columna]."
   ]
  },
  {
   "cell_type": "markdown",
   "metadata": {
    "id": "No2T8Foog9Py"
   },
   "source": [
    "#### **iloc**"
   ]
  },
  {
   "cell_type": "code",
   "execution_count": null,
   "metadata": {
    "colab": {
     "base_uri": "https://localhost:8080/",
     "height": 445
    },
    "executionInfo": {
     "elapsed": 237,
     "status": "ok",
     "timestamp": 1729007290298,
     "user": {
      "displayName": "Breyner Posso Bautista",
      "userId": "13049344394225357947"
     },
     "user_tz": 300
    },
    "id": "LmFbDFXg4L2K",
    "outputId": "030b76ce-05cf-4907-f1d4-9ae97969c613"
   },
   "outputs": [],
   "source": [
    "df_1"
   ]
  },
  {
   "cell_type": "code",
   "execution_count": null,
   "metadata": {
    "colab": {
     "base_uri": "https://localhost:8080/"
    },
    "executionInfo": {
     "elapsed": 245,
     "status": "ok",
     "timestamp": 1729007494673,
     "user": {
      "displayName": "Breyner Posso Bautista",
      "userId": "13049344394225357947"
     },
     "user_tz": 300
    },
    "id": "zuXm95g6el2N",
    "outputId": "606351da-bbac-40c8-c181-38580efb5742"
   },
   "outputs": [],
   "source": [
    "## Podemos leer toda una fila\n",
    "\n",
    "b = df_1.iloc[10]\n",
    "print(b)\n",
    "print(type(b))"
   ]
  },
  {
   "cell_type": "code",
   "execution_count": null,
   "metadata": {
    "colab": {
     "base_uri": "https://localhost:8080/"
    },
    "executionInfo": {
     "elapsed": 308,
     "status": "ok",
     "timestamp": 1729007460906,
     "user": {
      "displayName": "Breyner Posso Bautista",
      "userId": "13049344394225357947"
     },
     "user_tz": 300
    },
    "id": "onXAFs5Y3sxQ",
    "outputId": "60b842ed-98a3-4e42-f3c7-1529cb7df663"
   },
   "outputs": [],
   "source": [
    "## Podemos obtener un elemento individual\n",
    "\n",
    "c = df_1.iloc[10,2]\n",
    "print(c)\n",
    "print(type(c))"
   ]
  },
  {
   "cell_type": "code",
   "execution_count": null,
   "metadata": {
    "colab": {
     "base_uri": "https://localhost:8080/"
    },
    "executionInfo": {
     "elapsed": 241,
     "status": "ok",
     "timestamp": 1729007611431,
     "user": {
      "displayName": "Breyner Posso Bautista",
      "userId": "13049344394225357947"
     },
     "user_tz": 300
    },
    "id": "BkPWqV7VfY5H",
    "outputId": "293b0aef-c778-4fa2-9e52-29f0e8107be0"
   },
   "outputs": [],
   "source": [
    "## Podemos leer varias columnas\n",
    "\n",
    "c = df_1.iloc[0:6,:]\n",
    "print(c)\n",
    "print(type(c))"
   ]
  },
  {
   "cell_type": "code",
   "execution_count": null,
   "metadata": {
    "colab": {
     "base_uri": "https://localhost:8080/"
    },
    "executionInfo": {
     "elapsed": 228,
     "status": "ok",
     "timestamp": 1729007658397,
     "user": {
      "displayName": "Breyner Posso Bautista",
      "userId": "13049344394225357947"
     },
     "user_tz": 300
    },
    "id": "3tPK9Yym4qiT",
    "outputId": "22a2c3c4-7706-47a9-d0e3-d5748cec13e6"
   },
   "outputs": [],
   "source": [
    "## Podemos leer varias filas de una sola columna\n",
    "\n",
    "c = df_1.iloc[0:6,2]\n",
    "print(c)\n",
    "print(type(c))"
   ]
  },
  {
   "cell_type": "code",
   "execution_count": null,
   "metadata": {
    "colab": {
     "base_uri": "https://localhost:8080/"
    },
    "executionInfo": {
     "elapsed": 274,
     "status": "ok",
     "timestamp": 1729007673883,
     "user": {
      "displayName": "Breyner Posso Bautista",
      "userId": "13049344394225357947"
     },
     "user_tz": 300
    },
    "id": "lAITpfy9fkQr",
    "outputId": "cb2741a1-fabb-4410-c235-c0de6332af23"
   },
   "outputs": [],
   "source": [
    "## Podemos leer una porción del DataFrame\n",
    "\n",
    "d = df_1.iloc[0:3,0:2]\n",
    "print(d)\n",
    "print(type(d))"
   ]
  },
  {
   "cell_type": "code",
   "execution_count": null,
   "metadata": {
    "id": "jj8ITEfafwlK"
   },
   "outputs": [],
   "source": [
    "e = df_1.iloc[1,1]\n",
    "print(e)\n",
    "print(type(e))"
   ]
  },
  {
   "cell_type": "markdown",
   "metadata": {},
   "source": [
    "#### Vamos a cambiar el índice en el DataFrame df_2"
   ]
  },
  {
   "cell_type": "code",
   "execution_count": null,
   "metadata": {
    "colab": {
     "base_uri": "https://localhost:8080/",
     "height": 477
    },
    "executionInfo": {
     "elapsed": 8,
     "status": "ok",
     "timestamp": 1729007927253,
     "user": {
      "displayName": "Breyner Posso Bautista",
      "userId": "13049344394225357947"
     },
     "user_tz": 300
    },
    "id": "8dnZ7A3V5hZQ",
    "outputId": "69357d10-f3fa-4a49-fae4-0b18ce81a1cd"
   },
   "outputs": [],
   "source": [
    "## Con el método set_index podemos cambiar los valores de los índices del DataFrame.\n",
    "## Podemos elegir una columna cuyos valores sean únicos y representatidos dentro del conjunto de datos\n",
    "\n",
    "df_2.set_index(keys=['Mes'], drop=True, inplace=True)\n",
    "\n",
    "df_2"
   ]
  },
  {
   "cell_type": "code",
   "execution_count": null,
   "metadata": {
    "colab": {
     "base_uri": "https://localhost:8080/",
     "height": 198
    },
    "executionInfo": {
     "elapsed": 237,
     "status": "ok",
     "timestamp": 1729007987781,
     "user": {
      "displayName": "Breyner Posso Bautista",
      "userId": "13049344394225357947"
     },
     "user_tz": 300
    },
    "id": "YSoed9Cu51yA",
    "outputId": "fd3715cd-4145-41e1-b9d6-67656154564e"
   },
   "outputs": [],
   "source": [
    "df_2.iloc[1]"
   ]
  },
  {
   "cell_type": "markdown",
   "metadata": {
    "id": "p5pCab6bhBO0"
   },
   "source": [
    "#### **loc**"
   ]
  },
  {
   "cell_type": "code",
   "execution_count": null,
   "metadata": {
    "colab": {
     "base_uri": "https://localhost:8080/"
    },
    "executionInfo": {
     "elapsed": 274,
     "status": "ok",
     "timestamp": 1729007741790,
     "user": {
      "displayName": "Breyner Posso Bautista",
      "userId": "13049344394225357947"
     },
     "user_tz": 300
    },
    "id": "kUko8aSwhNNM",
    "outputId": "8aa16b44-8c25-4dcb-8bf4-67adde733946"
   },
   "outputs": [],
   "source": [
    "df_1.index"
   ]
  },
  {
   "cell_type": "code",
   "execution_count": null,
   "metadata": {
    "colab": {
     "base_uri": "https://localhost:8080/"
    },
    "executionInfo": {
     "elapsed": 290,
     "status": "ok",
     "timestamp": 1729007790588,
     "user": {
      "displayName": "Breyner Posso Bautista",
      "userId": "13049344394225357947"
     },
     "user_tz": 300
    },
    "id": "W_cqFn8QgKvh",
    "outputId": "3f418786-0061-42fa-f470-979a74a30c05"
   },
   "outputs": [],
   "source": [
    "## Para direccionar los elementos usamos los nombres de los índices\n",
    "\n",
    "f = df_1.loc[6,'Ventas']\n",
    "print(f)\n",
    "print(type(f))"
   ]
  },
  {
   "cell_type": "code",
   "execution_count": null,
   "metadata": {
    "colab": {
     "base_uri": "https://localhost:8080/"
    },
    "executionInfo": {
     "elapsed": 224,
     "status": "ok",
     "timestamp": 1729008068191,
     "user": {
      "displayName": "Breyner Posso Bautista",
      "userId": "13049344394225357947"
     },
     "user_tz": 300
    },
    "id": "DdmZPDKGhYUo",
    "outputId": "3816835d-f9fc-40f9-8190-e3fae7a09d1d"
   },
   "outputs": [],
   "source": [
    "g = df_1.loc[:,['Mes','Ventas']]\n",
    "print(g)\n",
    "print(type(g))"
   ]
  },
  {
   "cell_type": "markdown",
   "metadata": {
    "id": "w6oMXh3o6d5v"
   },
   "source": [
    "Podemos crear filtros y usarlos con loc"
   ]
  },
  {
   "cell_type": "code",
   "execution_count": null,
   "metadata": {
    "colab": {
     "base_uri": "https://localhost:8080/",
     "height": 480
    },
    "collapsed": true,
    "executionInfo": {
     "elapsed": 280,
     "status": "ok",
     "timestamp": 1729008131877,
     "user": {
      "displayName": "Breyner Posso Bautista",
      "userId": "13049344394225357947"
     },
     "user_tz": 300
    },
    "id": "Kf2WUHGl6lI_",
    "outputId": "ccc14a77-b501-4e7f-8392-c1386e5a2c26"
   },
   "outputs": [],
   "source": [
    "df_1.Mes == 'Febrero'"
   ]
  },
  {
   "cell_type": "code",
   "execution_count": null,
   "metadata": {
    "colab": {
     "base_uri": "https://localhost:8080/"
    },
    "executionInfo": {
     "elapsed": 307,
     "status": "ok",
     "timestamp": 1729008168116,
     "user": {
      "displayName": "Breyner Posso Bautista",
      "userId": "13049344394225357947"
     },
     "user_tz": 300
    },
    "id": "N-XlR8fuhoPI",
    "outputId": "52ee8a86-e91d-411d-a628-430bf0e6a6b6"
   },
   "outputs": [],
   "source": [
    "h = df_1.loc[df_1.Mes == 'Febrero']\n",
    "print(h)\n",
    "print(type(h))"
   ]
  },
  {
   "cell_type": "markdown",
   "metadata": {},
   "source": [
    "#### Aunque los filtros también podemos usarlos directamente sin necesidad de usar loc"
   ]
  },
  {
   "cell_type": "code",
   "execution_count": null,
   "metadata": {},
   "outputs": [],
   "source": [
    "j = df_1[df_1['Mes'] == 'Febrero']\n",
    "print(j)\n",
    "print(type(j))"
   ]
  },
  {
   "cell_type": "code",
   "execution_count": null,
   "metadata": {
    "colab": {
     "base_uri": "https://localhost:8080/"
    },
    "executionInfo": {
     "elapsed": 242,
     "status": "ok",
     "timestamp": 1729008212403,
     "user": {
      "displayName": "Breyner Posso Bautista",
      "userId": "13049344394225357947"
     },
     "user_tz": 300
    },
    "id": "8fAma23OiBUJ",
    "outputId": "9ab0deb7-bd9d-4153-93d8-72555d9aea18"
   },
   "outputs": [],
   "source": [
    "## Los filttros nos permiten seleccionar las filas que cumplen cierta condición\n",
    "\n",
    "jj = df_1[df_1.Ventas >= 50000]\n",
    "print(jj)\n",
    "print(type(jj))"
   ]
  },
  {
   "cell_type": "code",
   "execution_count": null,
   "metadata": {
    "colab": {
     "base_uri": "https://localhost:8080/"
    },
    "executionInfo": {
     "elapsed": 251,
     "status": "ok",
     "timestamp": 1729008243002,
     "user": {
      "displayName": "Breyner Posso Bautista",
      "userId": "13049344394225357947"
     },
     "user_tz": 300
    },
    "id": "rXTcZfaV67lP",
    "outputId": "e1d82f8d-98b1-43bc-8184-e1724b1b4cb6"
   },
   "outputs": [],
   "source": [
    "## Podemos usar varias condiciones dentro del filtro\n",
    "k = df_1[(df_1.Ventas >= 30000) & (df_1.Ventas <= 50000)]\n",
    "print(k)\n",
    "print(type(k))"
   ]
  },
  {
   "cell_type": "markdown",
   "metadata": {
    "id": "xZ50gnYR7Isg"
   },
   "source": [
    "## Ejercicio\n",
    "\n",
    "Utilizando el DataFrame df_2 encuentre los meses dónde el balance fue negativo y utilice tabulate para mostar la información en forma tabular.\n",
    "\n",
    "Recuerden el uso de tabulate:\n",
    "\n",
    "print(tabulate(DataFrame, headers = 'keys', tablefmt = 'fancy_grid'))"
   ]
  },
  {
   "cell_type": "code",
   "execution_count": null,
   "metadata": {},
   "outputs": [],
   "source": [
    "## Solución"
   ]
  },
  {
   "cell_type": "markdown",
   "metadata": {
    "id": "E79tGcYBFnz7"
   },
   "source": [
    "## Ejercicio 2\n",
    "\n",
    "Escriba un programa que pida a un usuario el nombre del mes y muestre las ventas, gastos y balance para ese mes."
   ]
  },
  {
   "cell_type": "markdown",
   "metadata": {
    "id": "eVGJcJhrGP0y"
   },
   "source": [
    "## Ejercicios 3\n",
    "\n",
    "Escriba un programa que solicite un valor para el balance y muestre la información para todos los meses cuyo balance es mayor o igual a ese valor."
   ]
  },
  {
   "cell_type": "markdown",
   "metadata": {
    "id": "9o014ZViGhHh"
   },
   "source": [
    "## Ejercicio 4\n",
    "\n",
    "Grafique Ventas y Balance vs Mes, pero usando gráficos de barras."
   ]
  },
  {
   "cell_type": "markdown",
   "metadata": {},
   "source": [
    "## Ejercicio 5\n",
    "\n",
    "Muestre toda la información de los meses impares."
   ]
  },
  {
   "cell_type": "code",
   "execution_count": null,
   "metadata": {
    "colab": {
     "base_uri": "https://localhost:8080/"
    },
    "executionInfo": {
     "elapsed": 225,
     "status": "ok",
     "timestamp": 1729009355965,
     "user": {
      "displayName": "Breyner Posso Bautista",
      "userId": "13049344394225357947"
     },
     "user_tz": 300
    },
    "id": "a7l8pdLLDw9M",
    "outputId": "053c102d-8900-4293-cd72-0900320037d1"
   },
   "outputs": [],
   "source": [
    "## Solución\n",
    "\n",
    "meses_impares = [x for x in range(12) if x%2==1]\n",
    "print(meses_impares)"
   ]
  },
  {
   "cell_type": "code",
   "execution_count": null,
   "metadata": {
    "colab": {
     "base_uri": "https://localhost:8080/"
    },
    "executionInfo": {
     "elapsed": 231,
     "status": "ok",
     "timestamp": 1729009410553,
     "user": {
      "displayName": "Breyner Posso Bautista",
      "userId": "13049344394225357947"
     },
     "user_tz": 300
    },
    "id": "QNyurS2GDS4K",
    "outputId": "7614ed67-2968-4278-963c-282660bb47eb"
   },
   "outputs": [],
   "source": [
    "info_meses_impares = df_1.loc[meses_impares,:]\n",
    "print(info_meses_impares)"
   ]
  },
  {
   "cell_type": "code",
   "execution_count": null,
   "metadata": {},
   "outputs": [],
   "source": []
  }
 ],
 "metadata": {
  "colab": {
   "authorship_tag": "ABX9TyP/tkna3gpzsSohy03vkd2J",
   "provenance": []
  },
  "kernelspec": {
   "display_name": "prog",
   "language": "python",
   "name": "python3"
  },
  "language_info": {
   "codemirror_mode": {
    "name": "ipython",
    "version": 3
   },
   "file_extension": ".py",
   "mimetype": "text/x-python",
   "name": "python",
   "nbconvert_exporter": "python",
   "pygments_lexer": "ipython3",
   "version": "3.12.1"
  }
 },
 "nbformat": 4,
 "nbformat_minor": 0
}
