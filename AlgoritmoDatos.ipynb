{
 "cells": [
  {
   "cell_type": "markdown",
   "id": "1e167569",
   "metadata": {},
   "source": [
    "# **Algoritmos de ordenamiento y búsqueda:**"
   ]
  },
  {
   "cell_type": "markdown",
   "id": "a51cdc80",
   "metadata": {
    "notebookRunGroups": {
     "groupValue": "2"
    }
   },
   "source": [
    "    + Búsqueda lineal\n",
    "    + Búsqueda binaria\n",
    "    + Ordenamiento burbuja (Bubble Sort)\n",
    "    + Ordenamiento por inserción (Insertion Sort)\n",
    "    + Ordenamiento rápido (Quick Sort)\n",
    "    + Algoritmo de Euclides para el MCD\n",
    "    + Algoritmo de Dijkstra (básico)\n",
    "    + Algoritmo de recorrido en profundidad (DFS)\n",
    "    + Algoritmo de recorrido en anchura (BFS)\n",
    "    + Merge Sort"
   ]
  },
  {
   "cell_type": "markdown",
   "id": "94e1fd96",
   "metadata": {},
   "source": [
    "## Búsqueda Lineal\n",
    "~~~\n",
    "#Descripción: \n",
    "    - Recorre cada elemento de una lista hasta encontrar el valor deseado.\n",
    "~~~\n",
    "~~~\n",
    "#Complejidad: \n",
    "    - O(n) en el peor caso.\n",
    "~~~"
   ]
  },
  {
   "cell_type": "code",
   "execution_count": 1,
   "id": "f78d3872",
   "metadata": {},
   "outputs": [
    {
     "name": "stdout",
     "output_type": "stream",
     "text": [
      "2\n"
     ]
    }
   ],
   "source": [
    "def busqueda_lineal(lista, valor):\n",
    "    # Recorre cada elemento de la lista\n",
    "    for i in range(len(lista)):\n",
    "        # Si encuentra el valor, retorna su índice\n",
    "        if lista[i] == valor:\n",
    "            return i\n",
    "    # Si no lo encuentra, retorna -1\n",
    "    return -1\n",
    "\n",
    "# Ejemplo de uso\n",
    "lista = [3, 1, 4, 1, 5, 9]\n",
    "print(busqueda_lineal(lista, 4))  # Salida: 2 (índice del valor 4)"
   ]
  },
  {
   "cell_type": "markdown",
   "id": "dc9f73cf",
   "metadata": {},
   "source": [
    "## Búsqueda Binaria\n",
    "~~~\n",
    "Descripción: \n",
    "    -Busca en una lista ordenada dividiéndola a la mitad en cada paso.\n",
    "~~~\n",
    "~~~\n",
    "Complejidad: \n",
    "    -O(log n).\n",
    "~~~"
   ]
  },
  {
   "cell_type": "code",
   "execution_count": 2,
   "id": "08de8666",
   "metadata": {},
   "outputs": [
    {
     "name": "stdout",
     "output_type": "stream",
     "text": [
      "2\n"
     ]
    }
   ],
   "source": [
    "def busqueda_binaria(lista, valor):\n",
    "    izquierda, derecha = 0, len(lista) - 1\n",
    "    \n",
    "    while izquierda <= derecha:\n",
    "        medio = (izquierda + derecha) // 2\n",
    "        # Si el valor está en el medio, retorna su índice\n",
    "        if lista[medio] == valor:\n",
    "            return medio\n",
    "        # Si el valor es menor, busca en la mitad izquierda\n",
    "        elif lista[medio] > valor:\n",
    "            derecha = medio - 1\n",
    "        # Si el valor es mayor, busca en la mitad derecha\n",
    "        else:\n",
    "            izquierda = medio + 1\n",
    "    # Si no se encuentra, retorna -1\n",
    "    return -1\n",
    "\n",
    "# Ejemplo de uso (lista debe estar ordenada)\n",
    "lista_ordenada = [1, 3, 5, 7, 9]\n",
    "print(busqueda_binaria(lista_ordenada, 5))  # Salida: 2"
   ]
  },
  {
   "cell_type": "markdown",
   "id": "9c6e091a",
   "metadata": {},
   "source": [
    "## Ordenamiento Burbuja (Bubble Sort)\n",
    "~~~\n",
    "Descripción: \n",
    "    -Compara pares de elementos adyacentes y los intercambia si están en el orden incorrecto.\n",
    "~~~\n",
    "~~~\n",
    "Complejidad: \n",
    "    -O(n²).\n",
    "~~~"
   ]
  },
  {
   "cell_type": "code",
   "execution_count": 3,
   "id": "1a66b9e8",
   "metadata": {},
   "outputs": [
    {
     "name": "stdout",
     "output_type": "stream",
     "text": [
      "[12, 22, 25, 34, 64]\n"
     ]
    }
   ],
   "source": [
    "def bubble_sort(lista):\n",
    "    n = len(lista)\n",
    "    # Recorre todos los elementos\n",
    "    for i in range(n):\n",
    "        # Últimos i elementos ya están ordenados\n",
    "        for j in range(0, n-i-1):\n",
    "            # Intercambia si el elemento actual es mayor que el siguiente\n",
    "            if lista[j] > lista[j+1]:\n",
    "                lista[j], lista[j+1] = lista[j+1], lista[j]\n",
    "\n",
    "# Ejemplo de uso\n",
    "lista = [64, 34, 25, 12, 22]\n",
    "bubble_sort(lista)\n",
    "print(lista)  # Salida: [12, 22, 25, 34, 64]"
   ]
  },
  {
   "cell_type": "markdown",
   "id": "80ed782a",
   "metadata": {},
   "source": [
    "## Ordenamiento por Inserción (Insertion Sort)\n",
    "~~~\n",
    "Descripción: \n",
    "    -Construye una lista ordenada insertando un elemento a la vez en su posición correcta.\n",
    "~~~\n",
    "~~~\n",
    "Complejidad: \n",
    "    -O(n²).\n",
    "~~~"
   ]
  },
  {
   "cell_type": "code",
   "execution_count": 4,
   "id": "b1e55191",
   "metadata": {},
   "outputs": [
    {
     "name": "stdout",
     "output_type": "stream",
     "text": [
      "[5, 6, 11, 12, 13]\n"
     ]
    }
   ],
   "source": [
    "def insertion_sort(lista):\n",
    "    # Recorre desde el segundo elemento hasta el final\n",
    "    for i in range(1, len(lista)):\n",
    "        clave = lista[i]\n",
    "        j = i - 1\n",
    "        # Mueve los elementos mayores que la clave a la derecha\n",
    "        while j >= 0 and clave < lista[j]:\n",
    "            lista[j+1] = lista[j]\n",
    "            j -= 1\n",
    "        # Inserta la clave en su posición correcta\n",
    "        lista[j+1] = clave\n",
    "\n",
    "# Ejemplo de uso\n",
    "lista = [12, 11, 13, 5, 6]\n",
    "insertion_sort(lista)\n",
    "print(lista)  # Salida: [5, 6, 11, 12, 13]"
   ]
  },
  {
   "cell_type": "markdown",
   "id": "1710053b",
   "metadata": {},
   "source": [
    "## Ordenamiento Rápido (Quick Sort)\n",
    "~~~\n",
    "Descripción: \n",
    "    -Divide la lista usando un \"pivote\" y ordena recursivamente las sublistas.\n",
    "~~~\n",
    "~~~\n",
    "Complejidad: \n",
    "    -O(n log n) en promedio, O(n²) en el peor caso.\n",
    "~~~"
   ]
  },
  {
   "cell_type": "code",
   "execution_count": 5,
   "id": "15117901",
   "metadata": {},
   "outputs": [
    {
     "name": "stdout",
     "output_type": "stream",
     "text": [
      "[1, 5, 7, 8, 9, 10]\n"
     ]
    }
   ],
   "source": [
    "def quick_sort(lista):\n",
    "    if len(lista) <= 1:\n",
    "        return lista\n",
    "    else:\n",
    "        pivote = lista[0]\n",
    "        # Elementos menores que el pivote\n",
    "        menores = [x for x in lista[1:] if x <= pivote]\n",
    "        # Elementos mayores que el pivote\n",
    "        mayores = [x for x in lista[1:] if x > pivote]\n",
    "        # Recursivamente ordena y concatena\n",
    "        return quick_sort(menores) + [pivote] + quick_sort(mayores)\n",
    "\n",
    "# Ejemplo de uso\n",
    "lista = [10, 7, 8, 9, 1, 5]\n",
    "lista_ordenada = quick_sort(lista)\n",
    "print(lista_ordenada)  # Salida: [1, 5, 7, 8, 9, 10]"
   ]
  },
  {
   "cell_type": "markdown",
   "id": "33e0571c",
   "metadata": {},
   "source": [
    "## Algoritmo de Euclides para el MCD\n",
    "~~~\n",
    "Descripción: \n",
    "    -Calcula el máximo común divisor (MCD) usando división recursiva.\n",
    "~~~\n",
    "~~~\n",
    "Complejidad: \n",
    "    -O(log(min(a, b))).\n",
    "~~~"
   ]
  },
  {
   "cell_type": "code",
   "execution_count": 6,
   "id": "ba719b81",
   "metadata": {},
   "outputs": [
    {
     "name": "stdout",
     "output_type": "stream",
     "text": [
      "6\n"
     ]
    }
   ],
   "source": [
    "def mcd_euclides(a, b):\n",
    "    while b:\n",
    "        # a toma el valor de b, y b el residuo de a/b\n",
    "        a, b = b, a % b\n",
    "    return a\n",
    "\n",
    "# Ejemplo de uso\n",
    "print(mcd_euclides(48, 18))  # Salida: 6"
   ]
  },
  {
   "cell_type": "markdown",
   "id": "6596639e",
   "metadata": {},
   "source": [
    "## Algoritmo de Dijkstra (básico)\n",
    "~~~\n",
    "Descripción: Encuentra el camino más corto desde un nodo origen a todos los demás en un grafo con pesos no negativos.\n",
    "~~~"
   ]
  },
  {
   "cell_type": "code",
   "execution_count": 7,
   "id": "3b7621b2",
   "metadata": {},
   "outputs": [
    {
     "name": "stdout",
     "output_type": "stream",
     "text": [
      "{'A': 0, 'B': 1, 'C': 3, 'D': 4}\n"
     ]
    }
   ],
   "source": [
    "import heapq\n",
    "\n",
    "def dijkstra(grafo, inicio):\n",
    "    distancias = {nodo: float('inf') for nodo in grafo}\n",
    "    distancias[inicio] = 0\n",
    "    cola = [(0, inicio)]\n",
    "    \n",
    "    while cola:\n",
    "        distancia_actual, nodo_actual = heapq.heappop(cola)\n",
    "        # Si ya encontramos un camino más corto, lo ignoramos\n",
    "        if distancia_actual > distancias[nodo_actual]:\n",
    "            continue\n",
    "        for vecino, peso in grafo[nodo_actual].items():\n",
    "            distancia = distancia_actual + peso\n",
    "            # Si encontramos un camino más corto al vecino, actualizamos\n",
    "            if distancia < distancias[vecino]:\n",
    "                distancias[vecino] = distancia\n",
    "                heapq.heappush(cola, (distancia, vecino))\n",
    "    return distancias\n",
    "\n",
    "# Ejemplo de uso (grafo como diccionario de diccionarios)\n",
    "grafo = {\n",
    "    'A': {'B': 1, 'C': 4},\n",
    "    'B': {'A': 1, 'C': 2, 'D': 5},\n",
    "    'C': {'A': 4, 'B': 2, 'D': 1},\n",
    "    'D': {'B': 5, 'C': 1}\n",
    "}\n",
    "print(dijkstra(grafo, 'A'))  # Salida: {'A': 0, 'B': 1, 'C': 3, 'D': 4}"
   ]
  },
  {
   "cell_type": "markdown",
   "id": "f8c63969",
   "metadata": {},
   "source": [
    "## DFS (Depth-First Search)\n",
    "~~~\n",
    "Descripción:\n",
    "    - Recorre un grafo profundizando en cada nodo antes de retroceder.\n",
    "~~~"
   ]
  },
  {
   "cell_type": "code",
   "execution_count": 8,
   "id": "df40889b",
   "metadata": {},
   "outputs": [
    {
     "name": "stdout",
     "output_type": "stream",
     "text": [
      "A B D E F C "
     ]
    }
   ],
   "source": [
    "def dfs(grafo, nodo, visitado=None):\n",
    "    if visitado is None:\n",
    "        visitado = set()\n",
    "    visitado.add(nodo)\n",
    "    print(nodo, end=\" \")  # Procesa el nodo (aquí solo lo imprime)\n",
    "    # Recorre todos los vecinos no visitados\n",
    "    for vecino in grafo[nodo]:\n",
    "        if vecino not in visitado:\n",
    "            dfs(grafo, vecino, visitado)\n",
    "\n",
    "# Ejemplo de uso (grafo como diccionario de listas)\n",
    "grafo = {\n",
    "    'A': ['B', 'C'],\n",
    "    'B': ['D', 'E'],\n",
    "    'C': ['F'],\n",
    "    'D': [],\n",
    "    'E': ['F'],\n",
    "    'F': []\n",
    "}\n",
    "dfs(grafo, 'A')  # Salida: A B D E F C"
   ]
  },
  {
   "cell_type": "markdown",
   "id": "f5610bcb",
   "metadata": {},
   "source": [
    "## BFS (Breadth-First Search)\n",
    "~~~\n",
    "Descripción: \n",
    "    - Recorre un grafo nivel por nivel, usando una cola.\n",
    "~~~"
   ]
  },
  {
   "cell_type": "code",
   "execution_count": 9,
   "id": "4d110779",
   "metadata": {},
   "outputs": [
    {
     "name": "stdout",
     "output_type": "stream",
     "text": [
      "A B C D E F "
     ]
    }
   ],
   "source": [
    "from collections import deque\n",
    "\n",
    "def bfs(grafo, inicio):\n",
    "    visitado = set()\n",
    "    cola = deque([inicio])\n",
    "    visitado.add(inicio)\n",
    "    \n",
    "    while cola:\n",
    "        nodo = cola.popleft()\n",
    "        print(nodo, end=\" \")  # Procesa el nodo\n",
    "        # Añade todos los vecinos no visitados a la cola\n",
    "        for vecino in grafo[nodo]:\n",
    "            if vecino not in visitado:\n",
    "                visitado.add(vecino)\n",
    "                cola.append(vecino)\n",
    "\n",
    "# Ejemplo de uso (mismo grafo que DFS)\n",
    "bfs(grafo, 'A')  # Salida: A B C D E F"
   ]
  },
  {
   "cell_type": "markdown",
   "id": "dc35491e",
   "metadata": {},
   "source": [
    "## Merge Sort\n",
    "~~~\n",
    "Descripción: \n",
    "    - Divide la lista en mitades, ordena cada mitad recursivamente y las fusiona.\n",
    "~~~\n",
    "~~~\n",
    "Complejidad: \n",
    "    - O(n log n).\n",
    "~~~\n"
   ]
  },
  {
   "cell_type": "code",
   "execution_count": 10,
   "id": "6dab9d47",
   "metadata": {},
   "outputs": [
    {
     "name": "stdout",
     "output_type": "stream",
     "text": [
      "[3, 9, 10, 27, 38, 43, 82]\n"
     ]
    }
   ],
   "source": [
    "def merge_sort(lista):\n",
    "    if len(lista) > 1:\n",
    "        medio = len(lista) // 2\n",
    "        izquierda = lista[:medio]\n",
    "        derecha = lista[medio:]\n",
    "        # Ordena recursivamente cada mitad\n",
    "        merge_sort(izquierda)\n",
    "        merge_sort(derecha)\n",
    "        \n",
    "        i = j = k = 0\n",
    "        # Fusiona las dos mitades ordenadas\n",
    "        while i < len(izquierda) and j < len(derecha):\n",
    "            if izquierda[i] < derecha[j]:\n",
    "                lista[k] = izquierda[i]\n",
    "                i += 1\n",
    "            else:\n",
    "                lista[k] = derecha[j]\n",
    "                j += 1\n",
    "            k += 1\n",
    "        # Añade los elementos restantes de izquierda\n",
    "        while i < len(izquierda):\n",
    "            lista[k] = izquierda[i]\n",
    "            i += 1\n",
    "            k += 1\n",
    "        # Añade los elementos restantes de derecha\n",
    "        while j < len(derecha):\n",
    "            lista[k] = derecha[j]\n",
    "            j += 1\n",
    "            k += 1\n",
    "\n",
    "# Ejemplo de uso\n",
    "lista = [38, 27, 43, 3, 9, 82, 10]\n",
    "merge_sort(lista)\n",
    "print(lista)  # Salida: [3, 9, 10, 27, 38, 43, 82]"
   ]
  }
 ],
 "metadata": {
  "kernelspec": {
   "display_name": ".venv",
   "language": "python",
   "name": "python3"
  },
  "language_info": {
   "codemirror_mode": {
    "name": "ipython",
    "version": 3
   },
   "file_extension": ".py",
   "mimetype": "text/x-python",
   "name": "python",
   "nbconvert_exporter": "python",
   "pygments_lexer": "ipython3",
   "version": "3.12.4"
  }
 },
 "nbformat": 4,
 "nbformat_minor": 5
}
