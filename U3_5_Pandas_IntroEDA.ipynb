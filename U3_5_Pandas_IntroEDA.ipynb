{
 "cells": [
  {
   "cell_type": "markdown",
   "metadata": {
    "id": "7uxaTjU5DI-r"
   },
   "source": [
    "# **Introducción al Análisis Exploratorio de Datos**"
   ]
  },
  {
   "cell_type": "markdown",
   "metadata": {
    "id": "xDp8Rs67DiAH"
   },
   "source": [
    "### 0. Importar librerías"
   ]
  },
  {
   "cell_type": "code",
   "execution_count": null,
   "metadata": {
    "executionInfo": {
     "elapsed": 8000,
     "status": "ok",
     "timestamp": 1731427958836,
     "user": {
      "displayName": "Breyner Posso Bautista",
      "userId": "13049344394225357947"
     },
     "user_tz": 300
    },
    "id": "wysJxQU3DCPY"
   },
   "outputs": [],
   "source": [
    "import pandas as pd\n",
    "import numpy as np\n",
    "import matplotlib.pyplot as plt\n",
    "import seaborn as sns\n",
    "from tabulate import tabulate"
   ]
  },
  {
   "cell_type": "markdown",
   "metadata": {
    "id": "NfOpPIS7Dmkx"
   },
   "source": [
    "### 1. Cargar conjunto de datos"
   ]
  },
  {
   "cell_type": "code",
   "execution_count": null,
   "metadata": {
    "colab": {
     "base_uri": "https://localhost:8080/"
    },
    "executionInfo": {
     "elapsed": 57702,
     "status": "ok",
     "timestamp": 1731428016536,
     "user": {
      "displayName": "Breyner Posso Bautista",
      "userId": "13049344394225357947"
     },
     "user_tz": 300
    },
    "id": "KoBACugZDIXk",
    "outputId": "36ef1d8d-3038-4940-8d2c-b9f36f82ac72"
   },
   "outputs": [],
   "source": [
    "#Al ejecutar esta celda, Google colab lo va a llevar a su cuenta de google,\n",
    "#y le va a pedir que copie y pegue un código un código de acceso en un recuadro.\n",
    "\n",
    "from google.colab import drive\n",
    "drive.mount('/gdrive')"
   ]
  },
  {
   "cell_type": "code",
   "execution_count": null,
   "metadata": {
    "executionInfo": {
     "elapsed": 761,
     "status": "ok",
     "timestamp": 1731428017292,
     "user": {
      "displayName": "Breyner Posso Bautista",
      "userId": "13049344394225357947"
     },
     "user_tz": 300
    },
    "id": "jjdIpQldDvpr"
   },
   "outputs": [],
   "source": [
    "# Se va a utilizar el conjunto de datos titanic\n",
    "# https://www.kaggle.com/c/titanic/data?select=train.csv\n",
    "\n",
    "df = pd.read_csv('/gdrive/MyDrive/Programming/Datasets/titanic.csv')"
   ]
  },
  {
   "cell_type": "code",
   "execution_count": null,
   "metadata": {
    "colab": {
     "base_uri": "https://localhost:8080/"
    },
    "executionInfo": {
     "elapsed": 192,
     "status": "ok",
     "timestamp": 1731428348327,
     "user": {
      "displayName": "Breyner Posso Bautista",
      "userId": "13049344394225357947"
     },
     "user_tz": 300
    },
    "id": "ipT2qzP-JIHv",
    "outputId": "426a0d41-6a06-4a9a-b929-905d340c7a72"
   },
   "outputs": [],
   "source": [
    "print(type(df))"
   ]
  },
  {
   "cell_type": "markdown",
   "metadata": {
    "id": "zeXuc7SvGSDE"
   },
   "source": [
    "### 2. Análisis Exploratorio de Datos (EDA)"
   ]
  },
  {
   "cell_type": "markdown",
   "metadata": {
    "id": "OTAMO3gyGYkp"
   },
   "source": [
    "#### 2a. Conocimiento básico del dataset\n",
    "\n",
    "Para lograr un conocimiento básico del dataset se puede plantear identificar lo siguiente:\n",
    "\n",
    "*   a. ¿Qué representa cada uno de los atributos del dataset? Esto se puede realizar viendo la documentación del conujunto de datos.\n",
    "*   b. Número de observaciones y Número de atributos.\n",
    "*   c. Nombre y tipo de cada uno de los atributos.\n",
    "*   d. ¿Cuáles atributos toman valores discretos y cuáles atributos toman valores continuos?\n",
    "*   e. Visualizar un subconjunto de de observaciones del conjunto de datos."
   ]
  },
  {
   "cell_type": "code",
   "execution_count": null,
   "metadata": {
    "colab": {
     "base_uri": "https://localhost:8080/"
    },
    "executionInfo": {
     "elapsed": 165,
     "status": "ok",
     "timestamp": 1731428351698,
     "user": {
      "displayName": "Breyner Posso Bautista",
      "userId": "13049344394225357947"
     },
     "user_tz": 300
    },
    "id": "gwtfiw0dGOCE",
    "outputId": "bb99f999-69fc-4c8e-a9b9-1eb950bc3e39"
   },
   "outputs": [],
   "source": [
    "df.shape"
   ]
  },
  {
   "cell_type": "code",
   "execution_count": null,
   "metadata": {
    "colab": {
     "base_uri": "https://localhost:8080/",
     "height": 458
    },
    "executionInfo": {
     "elapsed": 545,
     "status": "ok",
     "timestamp": 1729180385863,
     "user": {
      "displayName": "Breyner Posso Bautista",
      "userId": "13049344394225357947"
     },
     "user_tz": 300
    },
    "id": "BA3kmw2MLqtz",
    "outputId": "fb675797-0f5e-474e-e592-b1485e23a22d"
   },
   "outputs": [],
   "source": [
    "df"
   ]
  },
  {
   "cell_type": "code",
   "execution_count": null,
   "metadata": {
    "colab": {
     "base_uri": "https://localhost:8080/"
    },
    "executionInfo": {
     "elapsed": 214,
     "status": "ok",
     "timestamp": 1729264885429,
     "user": {
      "displayName": "Breyner Posso Bautista",
      "userId": "13049344394225357947"
     },
     "user_tz": 300
    },
    "id": "lsq9fU9-HLu3",
    "outputId": "0fdecc76-d7c3-4914-fd27-3919a052761e"
   },
   "outputs": [],
   "source": [
    "df.info()"
   ]
  },
  {
   "cell_type": "code",
   "execution_count": null,
   "metadata": {
    "colab": {
     "base_uri": "https://localhost:8080/",
     "height": 460
    },
    "executionInfo": {
     "elapsed": 220,
     "status": "ok",
     "timestamp": 1729264888796,
     "user": {
      "displayName": "Breyner Posso Bautista",
      "userId": "13049344394225357947"
     },
     "user_tz": 300
    },
    "id": "ZkVfbZcFH5AD",
    "outputId": "df45e70c-c85e-4caa-9848-fae7d3e64216"
   },
   "outputs": [],
   "source": [
    "# Cantidad de valores nulos por columna\n",
    "\n",
    "df.isnull().sum()"
   ]
  },
  {
   "cell_type": "code",
   "execution_count": null,
   "metadata": {
    "colab": {
     "base_uri": "https://localhost:8080/",
     "height": 460
    },
    "executionInfo": {
     "elapsed": 246,
     "status": "ok",
     "timestamp": 1729264957717,
     "user": {
      "displayName": "Breyner Posso Bautista",
      "userId": "13049344394225357947"
     },
     "user_tz": 300
    },
    "id": "pq79GezdJNZi",
    "outputId": "a2d24a74-b821-4633-c0ad-7608aa7e962f"
   },
   "outputs": [],
   "source": [
    "# Porcentaje de valores nulos por columna\n",
    "obs, _ = df.shape\n",
    "df.isnull().sum()*100/obs"
   ]
  },
  {
   "cell_type": "code",
   "execution_count": null,
   "metadata": {
    "colab": {
     "base_uri": "https://localhost:8080/",
     "height": 241
    },
    "collapsed": true,
    "executionInfo": {
     "elapsed": 222,
     "status": "ok",
     "timestamp": 1729264968800,
     "user": {
      "displayName": "Breyner Posso Bautista",
      "userId": "13049344394225357947"
     },
     "user_tz": 300
    },
    "id": "92b2GHh2Jw1f",
    "outputId": "b3b84342-fcc2-4cd7-a213-379b54b05dfb"
   },
   "outputs": [],
   "source": [
    "df.head()"
   ]
  },
  {
   "cell_type": "code",
   "execution_count": null,
   "metadata": {
    "colab": {
     "base_uri": "https://localhost:8080/",
     "height": 206
    },
    "executionInfo": {
     "elapsed": 292,
     "status": "ok",
     "timestamp": 1729264974922,
     "user": {
      "displayName": "Breyner Posso Bautista",
      "userId": "13049344394225357947"
     },
     "user_tz": 300
    },
    "id": "myna0LopJ9ti",
    "outputId": "34f3ac14-28c7-41b2-f00e-ebb4fbe7c976"
   },
   "outputs": [],
   "source": [
    "df.tail()"
   ]
  },
  {
   "cell_type": "code",
   "execution_count": null,
   "metadata": {
    "colab": {
     "base_uri": "https://localhost:8080/",
     "height": 460
    },
    "executionInfo": {
     "elapsed": 223,
     "status": "ok",
     "timestamp": 1729264985886,
     "user": {
      "displayName": "Breyner Posso Bautista",
      "userId": "13049344394225357947"
     },
     "user_tz": 300
    },
    "id": "vwI2UrgvNsxb",
    "outputId": "c3e17355-2bca-40df-e8b0-5c2c06a17aff"
   },
   "outputs": [],
   "source": [
    "df.dtypes"
   ]
  },
  {
   "cell_type": "markdown",
   "metadata": {
    "id": "I3LVLIRIin4f"
   },
   "source": [
    "#### 2b. Análisis Univariado\n",
    "\n",
    "Incluye:\n",
    "+ Medidas de tendencia central: media, mediana, moda.\n",
    "+ Medidas de dispersión: rango, variance, valor máximo y mínimo, cuartiles (incluyendo rango intercuartil) y desviación estándar.\n",
    "+ Para variables numéricas discretas y categóricas: cantidad de valores únicos, valor con mayor frecuencia, etc.\n",
    "\n",
    "También se pueden se pueden usar gráficos como:\n",
    "+ Histogramas.\n",
    "+ Para variables numéricas discretas y categóricas: gráficos de barras, gráficos circulares."
   ]
  },
  {
   "cell_type": "code",
   "execution_count": null,
   "metadata": {
    "colab": {
     "base_uri": "https://localhost:8080/",
     "height": 300
    },
    "executionInfo": {
     "elapsed": 265,
     "status": "ok",
     "timestamp": 1729181173885,
     "user": {
      "displayName": "Breyner Posso Bautista",
      "userId": "13049344394225357947"
     },
     "user_tz": 300
    },
    "id": "GSd-0nPSJ_pX",
    "outputId": "1dafa0f0-19ee-4fcd-e67c-98c9b315e392"
   },
   "outputs": [],
   "source": [
    "df.describe()"
   ]
  },
  {
   "cell_type": "code",
   "execution_count": null,
   "metadata": {
    "colab": {
     "base_uri": "https://localhost:8080/",
     "height": 394
    },
    "executionInfo": {
     "elapsed": 288,
     "status": "ok",
     "timestamp": 1729181362664,
     "user": {
      "displayName": "Breyner Posso Bautista",
      "userId": "13049344394225357947"
     },
     "user_tz": 300
    },
    "id": "yDHbGOlEPWiS",
    "outputId": "60d12d0f-d3ba-44c4-8ab1-0bad268a57cf"
   },
   "outputs": [],
   "source": [
    "df.describe(include='all')"
   ]
  },
  {
   "cell_type": "code",
   "execution_count": null,
   "metadata": {
    "colab": {
     "base_uri": "https://localhost:8080/",
     "height": 430
    },
    "executionInfo": {
     "elapsed": 592,
     "status": "ok",
     "timestamp": 1729265017567,
     "user": {
      "displayName": "Breyner Posso Bautista",
      "userId": "13049344394225357947"
     },
     "user_tz": 300
    },
    "id": "Jykl4qhaPwYh",
    "outputId": "99b28ebe-d0c3-4bef-fb38-5dcb6f880043"
   },
   "outputs": [],
   "source": [
    "# Histograma con matplotlib\n",
    "\n",
    "variable = 'Age'\n",
    "bins = 30\n",
    "\n",
    "plt.hist(df[variable], bins = bins)\n",
    "plt.show()"
   ]
  },
  {
   "cell_type": "code",
   "execution_count": null,
   "metadata": {
    "colab": {
     "base_uri": "https://localhost:8080/",
     "height": 564
    },
    "executionInfo": {
     "elapsed": 1176,
     "status": "ok",
     "timestamp": 1729182699082,
     "user": {
      "displayName": "Breyner Posso Bautista",
      "userId": "13049344394225357947"
     },
     "user_tz": 300
    },
    "id": "qZ-7hJEDi071",
    "outputId": "a3ad6b14-6d2d-4f15-e5d9-a214aac5cd3b"
   },
   "outputs": [],
   "source": [
    "# Histograma\n",
    "\n",
    "column = 'Pclass'\n",
    "plt.figure(figsize=(6,6))\n",
    "sns.histplot(data = df,\n",
    "             x = column,\n",
    "             bins = 30,\n",
    "             color = 'red',\n",
    "             fill = True,\n",
    "             stat = 'count')    #'count' muestra el número de observaciones.\n",
    "                                #'frequency' muestra el número de observaciones dividida por el ancho del bin.\n",
    "                                #'density' normaliza las cuentas tal que el área del histograma es 1.\n",
    "                                #'probability' normaliza las cuentas tal que la suma de la altura de las barras es 1.\n",
    "\n",
    "plt.xlabel(column) #Texto en el eje x.\n",
    "plt.ylabel('Cuentas')              #Texto en el eje y.\n",
    "plt.title('Histograma')             #Título del gráfico.\n",
    "plt.show()"
   ]
  },
  {
   "cell_type": "code",
   "execution_count": null,
   "metadata": {
    "id": "V1CuZBvjyMXL"
   },
   "outputs": [],
   "source": [
    "# Función para calcular Outliers\n",
    "\n",
    "def outliers(df, atributo):\n",
    "    ax = sns.boxplot(x=df[atributo])\n",
    "    plt.show()\n",
    "\n",
    "    arr1 = df[atributo].values\n",
    "    arr1 = arr1[~np.isnan(arr1)]\n",
    "\n",
    "    # Encontrar el 1st quartil\n",
    "    q1 = np.quantile(arr1, 0.25)\n",
    "\n",
    "    # Encontrar el 3rd quartil\n",
    "    q3 = np.quantile(arr1, 0.75)\n",
    "\n",
    "    # Encontrar el 2nd quartil\n",
    "    med = np.median(arr1)\n",
    "\n",
    "    # Encontrar el rango inter quartil (iqr)\n",
    "    iqr = q3-q1\n",
    "\n",
    "    # Encontrar los bigotes superior e inferior\n",
    "    upper_bound = q3+(1.5*iqr)\n",
    "    lower_bound = q1-(1.5*iqr)\n",
    "\n",
    "    outliers_l = arr1[(arr1 <= lower_bound)]\n",
    "    outliers_u = arr1[(arr1 >= upper_bound)]\n",
    "    print(f'The lower bound is {lower_bound}')\n",
    "    print(f'The upper bound is {upper_bound}')\n",
    "    print('The number of lower outliers is {}'.format(len(outliers_l)))\n",
    "    print('The following are the lower outliers in {} : {}'.format(atributo,outliers_l))\n",
    "    print('The number of upper outliers is {}'.format(len(outliers_u)))\n",
    "    print('The following are the upper outliers in {} : {}'.format(atributo,outliers_u))"
   ]
  },
  {
   "cell_type": "code",
   "execution_count": null,
   "metadata": {
    "colab": {
     "base_uri": "https://localhost:8080/",
     "height": 803
    },
    "executionInfo": {
     "elapsed": 258,
     "status": "ok",
     "timestamp": 1729182827095,
     "user": {
      "displayName": "Breyner Posso Bautista",
      "userId": "13049344394225357947"
     },
     "user_tz": 300
    },
    "id": "-gvCW-VVyZ5Y",
    "outputId": "c4bbc65f-9a8d-4a5f-8fca-f86e18d9adfd"
   },
   "outputs": [],
   "source": [
    "outliers(df, 'Fare')"
   ]
  },
  {
   "cell_type": "markdown",
   "metadata": {
    "id": "JrZZhgijkEq6"
   },
   "source": [
    "#### 2c. Análisis Bivariado\n",
    "\n",
    "Es una técnica estadística que se aplica a un par de variables (atributos o características) para determinar la relación empírica entre ellas."
   ]
  },
  {
   "cell_type": "code",
   "execution_count": null,
   "metadata": {
    "colab": {
     "base_uri": "https://localhost:8080/",
     "height": 505
    },
    "executionInfo": {
     "elapsed": 961,
     "status": "ok",
     "timestamp": 1729183170078,
     "user": {
      "displayName": "Breyner Posso Bautista",
      "userId": "13049344394225357947"
     },
     "user_tz": 300
    },
    "id": "etzi5Uc8jmk-",
    "outputId": "b1bf06dd-0f83-4fdd-832c-8bcc97163e87"
   },
   "outputs": [],
   "source": [
    "# Matriz de correlación\n",
    "# Vamos a crear un DataFrame solo con las columnas numéricas\n",
    "\n",
    "df_num = df.select_dtypes(include='number')\n",
    "\n",
    "df_num.corr()\n",
    "\n",
    "# Vamos a graficar la matriz de correlación como un mapa de calor\n",
    "\n",
    "sns.heatmap(df_num.corr(), annot=True, cmap='Blues')\n",
    "plt.show()"
   ]
  },
  {
   "cell_type": "code",
   "execution_count": null,
   "metadata": {
    "colab": {
     "base_uri": "https://localhost:8080/",
     "height": 564
    },
    "executionInfo": {
     "elapsed": 731,
     "status": "ok",
     "timestamp": 1729266791148,
     "user": {
      "displayName": "Breyner Posso Bautista",
      "userId": "13049344394225357947"
     },
     "user_tz": 300
    },
    "id": "fXSMdrHMkcwK",
    "outputId": "1aad82c2-f244-4e6f-845f-8d3de6e76b5f"
   },
   "outputs": [],
   "source": [
    "# Histograma\n",
    "\n",
    "column = 'Pclass'\n",
    "plt.figure(figsize=(6,6))\n",
    "sns.histplot(data = df,\n",
    "             x = column,\n",
    "             hue = 'Survived',\n",
    "             bins = 30,\n",
    "             color = 'red',\n",
    "             fill = True,\n",
    "             stat = 'count')    #'count' muestra el número de observaciones.\n",
    "                                #'frequency' muestra el número de observaciones dividida por el ancho del bin.\n",
    "                                #'density' normaliza las cuentas tal que el área del histograma es 1.\n",
    "                                #'probability' normaliza las cuentas tal que la suma de la altura de las barras es 1.\n",
    "\n",
    "plt.xlabel(column) #Texto en el eje x.\n",
    "plt.ylabel('Cuentas')              #Texto en el eje y.\n",
    "plt.title('Histograma')             #Título del gráfico.\n",
    "plt.show()"
   ]
  },
  {
   "cell_type": "markdown",
   "metadata": {
    "id": "NkY1stEuJwIs"
   },
   "source": [
    "### Pregunta 1:\n",
    "\n",
    "¿Porcentaje de hombres y mujeres que sobrevivieron?"
   ]
  },
  {
   "cell_type": "code",
   "execution_count": null,
   "metadata": {
    "colab": {
     "base_uri": "https://localhost:8080/"
    },
    "collapsed": true,
    "executionInfo": {
     "elapsed": 7,
     "status": "ok",
     "timestamp": 1729265197143,
     "user": {
      "displayName": "Breyner Posso Bautista",
      "userId": "13049344394225357947"
     },
     "user_tz": 300
    },
    "id": "bDOjumhRcAaL",
    "outputId": "ac2e90c5-7332-4990-f44c-361015e5b653"
   },
   "outputs": [],
   "source": [
    "filtro_1 = df['Sex'] == 'male'\n",
    "print(filtro_1)"
   ]
  },
  {
   "cell_type": "code",
   "execution_count": null,
   "metadata": {
    "id": "n3Z4K43_Ks9D"
   },
   "outputs": [],
   "source": [
    "df_male = df[filtro_1]\n",
    "\n",
    "df_female = df[df['Sex'] == 'female']"
   ]
  },
  {
   "cell_type": "code",
   "execution_count": null,
   "metadata": {
    "colab": {
     "base_uri": "https://localhost:8080/"
    },
    "executionInfo": {
     "elapsed": 276,
     "status": "ok",
     "timestamp": 1729265199892,
     "user": {
      "displayName": "Breyner Posso Bautista",
      "userId": "13049344394225357947"
     },
     "user_tz": 300
    },
    "id": "PDZaSs24cf7e",
    "outputId": "49ea771c-a010-4723-8d1f-903133cff16e"
   },
   "outputs": [],
   "source": [
    "df_male.shape"
   ]
  },
  {
   "cell_type": "code",
   "execution_count": null,
   "metadata": {
    "colab": {
     "base_uri": "https://localhost:8080/"
    },
    "executionInfo": {
     "elapsed": 3,
     "status": "ok",
     "timestamp": 1729265200131,
     "user": {
      "displayName": "Breyner Posso Bautista",
      "userId": "13049344394225357947"
     },
     "user_tz": 300
    },
    "id": "3b8eAwCQXphb",
    "outputId": "87b4b0e1-53d1-4c8b-ec06-d3c25eb025e4"
   },
   "outputs": [],
   "source": [
    "num_hombres = df_male.shape[0]\n",
    "num_mujeres = df_female.shape[0]\n",
    "\n",
    "print(f'El número de hombres es {num_hombres}')\n",
    "print(f'El número de mujeres es {num_mujeres}')"
   ]
  },
  {
   "cell_type": "code",
   "execution_count": null,
   "metadata": {
    "id": "j-TBPGyjX1Ty"
   },
   "outputs": [],
   "source": [
    "df_male_survived = df_male[df_male['Survived'] == 1]\n",
    "df_male_no_survived = df_male[df_male['Survived'] == 0]\n",
    "\n",
    "df_female_survived = df_female[df_female['Survived'] == 1]\n",
    "df_female_no_survived = df_female[df_female['Survived'] == 0]"
   ]
  },
  {
   "cell_type": "code",
   "execution_count": null,
   "metadata": {
    "colab": {
     "base_uri": "https://localhost:8080/"
    },
    "executionInfo": {
     "elapsed": 4,
     "status": "ok",
     "timestamp": 1729265202323,
     "user": {
      "displayName": "Breyner Posso Bautista",
      "userId": "13049344394225357947"
     },
     "user_tz": 300
    },
    "id": "G0VfM3JjYK4L",
    "outputId": "a987ce83-2365-4363-83cd-4b7aedb0ef3f"
   },
   "outputs": [],
   "source": [
    "num_hombres_survived = df_male_survived.shape[0]\n",
    "num_mujeres_survived = df_female_survived.shape[0]\n",
    "\n",
    "print(f'El porcentaje de hombres que sobrevivieron es {100*num_hombres_survived/num_hombres:.2f} %')\n",
    "print(f'El número de mujeres que sobrevivieron es {100*num_mujeres_survived/num_mujeres:.2f} %')"
   ]
  },
  {
   "cell_type": "markdown",
   "metadata": {
    "id": "Jdq_dRPQs9_O"
   },
   "source": [
    "Pregunta\n",
    "\n",
    "¿Cuál es el promedio de edad de los hombres?\n",
    "¿Cuál es el promedio de edad de las mujeres?\n",
    "(En general, y de los que sobrevivieron y no sobrevivieron)"
   ]
  },
  {
   "cell_type": "code",
   "execution_count": null,
   "metadata": {
    "colab": {
     "base_uri": "https://localhost:8080/"
    },
    "executionInfo": {
     "elapsed": 276,
     "status": "ok",
     "timestamp": 1729185041634,
     "user": {
      "displayName": "Breyner Posso Bautista",
      "userId": "13049344394225357947"
     },
     "user_tz": 300
    },
    "id": "sAyr7PSMb1a8",
    "outputId": "0ad88d61-1a3c-40b8-8f13-755e64d3bd79"
   },
   "outputs": [],
   "source": [
    "media_hombres = df_male['Age'].mean()\n",
    "\n",
    "print(f'La media de la edad de los hombres es {media_hombres:.2f} años')"
   ]
  },
  {
   "cell_type": "code",
   "execution_count": null,
   "metadata": {
    "colab": {
     "base_uri": "https://localhost:8080/"
    },
    "executionInfo": {
     "elapsed": 236,
     "status": "ok",
     "timestamp": 1729185013721,
     "user": {
      "displayName": "Breyner Posso Bautista",
      "userId": "13049344394225357947"
     },
     "user_tz": 300
    },
    "id": "ZvHjVW9ddJBM",
    "outputId": "66bb5720-18ad-45d1-d5c5-4d2f27be8e80"
   },
   "outputs": [],
   "source": [
    "media_mujeres = df_female['Age'].mean()\n",
    "\n",
    "print(f'La media de la edad de las mujeres es {media_mujeres:.2f} años')"
   ]
  },
  {
   "cell_type": "code",
   "execution_count": null,
   "metadata": {
    "colab": {
     "base_uri": "https://localhost:8080/"
    },
    "executionInfo": {
     "elapsed": 270,
     "status": "ok",
     "timestamp": 1729185223802,
     "user": {
      "displayName": "Breyner Posso Bautista",
      "userId": "13049344394225357947"
     },
     "user_tz": 300
    },
    "id": "7Iwns1NVddUK",
    "outputId": "fc6f1fe6-3a33-48ac-f4a1-efc816d4037c"
   },
   "outputs": [],
   "source": [
    "media_hombres_survived = df_male_survived['Age'].mean()\n",
    "media_hombres_no_survived = df_male_no_survived['Age'].mean()\n",
    "\n",
    "print(f'El promedio de la edad de los hombres que sobrevivieron es {media_hombres_survived:.2f} años')\n",
    "print(f'El promedio de la edad de los hombres que no sobrevivieron es {media_hombres_no_survived:.2f} años')"
   ]
  },
  {
   "cell_type": "code",
   "execution_count": null,
   "metadata": {
    "colab": {
     "base_uri": "https://localhost:8080/"
    },
    "executionInfo": {
     "elapsed": 254,
     "status": "ok",
     "timestamp": 1729185458027,
     "user": {
      "displayName": "Breyner Posso Bautista",
      "userId": "13049344394225357947"
     },
     "user_tz": 300
    },
    "id": "aehEJeOueObk",
    "outputId": "784c4756-3827-4234-e5a6-f9af0fe655a2"
   },
   "outputs": [],
   "source": [
    "mediana_hombres_survived = df_male_survived['Age'].median()\n",
    "mediana_hombres_no_survived = df_male_no_survived['Age'].median()\n",
    "\n",
    "print(f'La mediana de la edad de los hombres que sobrevivieron es {mediana_hombres_survived:.2f} años')\n",
    "print(f'La mediana de la edad de los hombres que no sobrevivieron es {mediana_hombres_no_survived:.2f} años')"
   ]
  },
  {
   "cell_type": "code",
   "execution_count": null,
   "metadata": {
    "colab": {
     "base_uri": "https://localhost:8080/"
    },
    "executionInfo": {
     "elapsed": 227,
     "status": "ok",
     "timestamp": 1729185354198,
     "user": {
      "displayName": "Breyner Posso Bautista",
      "userId": "13049344394225357947"
     },
     "user_tz": 300
    },
    "id": "dIMCG9rGegXO",
    "outputId": "b6e16f64-c68b-42b1-de0a-43f6c28b9e81"
   },
   "outputs": [],
   "source": [
    "mayor_edad = df_male['Age'].max()\n",
    "\n",
    "print(mayor_edad)"
   ]
  },
  {
   "cell_type": "code",
   "execution_count": null,
   "metadata": {
    "colab": {
     "base_uri": "https://localhost:8080/"
    },
    "executionInfo": {
     "elapsed": 256,
     "status": "ok",
     "timestamp": 1729185441535,
     "user": {
      "displayName": "Breyner Posso Bautista",
      "userId": "13049344394225357947"
     },
     "user_tz": 300
    },
    "id": "BoHs401xerXd",
    "outputId": "e20efc4e-96bc-49cf-d83f-bb0166b9aaa7"
   },
   "outputs": [],
   "source": [
    "hombre_mayor = df_male[df_male['Age']==mayor_edad]\n",
    "\n",
    "print(hombre_mayor)"
   ]
  },
  {
   "cell_type": "code",
   "execution_count": null,
   "metadata": {
    "colab": {
     "base_uri": "https://localhost:8080/"
    },
    "executionInfo": {
     "elapsed": 252,
     "status": "ok",
     "timestamp": 1729185523638,
     "user": {
      "displayName": "Breyner Posso Bautista",
      "userId": "13049344394225357947"
     },
     "user_tz": 300
    },
    "id": "h4LUJGx1fQlj",
    "outputId": "dec67fe1-322a-4fc8-dd65-56b5ae2026e3"
   },
   "outputs": [],
   "source": [
    "hombre_mayor = df_male.loc[df_male['Age']==mayor_edad]\n",
    "\n",
    "print(hombre_mayor)"
   ]
  },
  {
   "cell_type": "code",
   "execution_count": null,
   "metadata": {
    "colab": {
     "base_uri": "https://localhost:8080/"
    },
    "executionInfo": {
     "elapsed": 248,
     "status": "ok",
     "timestamp": 1729185733399,
     "user": {
      "displayName": "Breyner Posso Bautista",
      "userId": "13049344394225357947"
     },
     "user_tz": 300
    },
    "id": "__2nxPXHf5fE",
    "outputId": "a4178a70-d872-4a37-f015-8b98843a102b"
   },
   "outputs": [],
   "source": [
    "## Vamos a analizar lo que pasó con el hombre de menor edad\n",
    "\n",
    "menor_edad = df_male['Age'].min()\n",
    "\n",
    "print(menor_edad)"
   ]
  },
  {
   "cell_type": "code",
   "execution_count": null,
   "metadata": {
    "colab": {
     "base_uri": "https://localhost:8080/"
    },
    "executionInfo": {
     "elapsed": 268,
     "status": "ok",
     "timestamp": 1729185772679,
     "user": {
      "displayName": "Breyner Posso Bautista",
      "userId": "13049344394225357947"
     },
     "user_tz": 300
    },
    "id": "llSRWpAegG37",
    "outputId": "5cdfb961-325d-4e19-d12e-f3c7312749cc"
   },
   "outputs": [],
   "source": [
    "hombre_menor = df_male.loc[df_male['Age']==menor_edad]\n",
    "\n",
    "print(hombre_menor)"
   ]
  },
  {
   "cell_type": "code",
   "execution_count": null,
   "metadata": {
    "colab": {
     "base_uri": "https://localhost:8080/"
    },
    "executionInfo": {
     "elapsed": 265,
     "status": "ok",
     "timestamp": 1729185654100,
     "user": {
      "displayName": "Breyner Posso Bautista",
      "userId": "13049344394225357947"
     },
     "user_tz": 300
    },
    "id": "F64v4cJPfiCs",
    "outputId": "0e175d32-5fb7-4120-e202-362696934709"
   },
   "outputs": [],
   "source": [
    "## Vamos a hacer lo mismo para las mujeres\n",
    "\n",
    "media_mujeres_survived = df_female_survived['Age'].mean()\n",
    "media_mujeres_no_survived = df_female_no_survived['Age'].mean()\n",
    "\n",
    "print(f'El promedio de la edad de las mujeres que sobrevivieron es {media_mujeres_survived:.2f} años')\n",
    "print(f'El promedio de la edad de las mujeres que no sobrevivieron es {media_mujeres_no_survived:.2f} años')"
   ]
  },
  {
   "cell_type": "code",
   "execution_count": null,
   "metadata": {
    "colab": {
     "base_uri": "https://localhost:8080/"
    },
    "executionInfo": {
     "elapsed": 246,
     "status": "ok",
     "timestamp": 1729185932004,
     "user": {
      "displayName": "Breyner Posso Bautista",
      "userId": "13049344394225357947"
     },
     "user_tz": 300
    },
    "id": "CV-JWm2agf-8",
    "outputId": "94e9c07f-38c2-4730-e995-896d84ef1623"
   },
   "outputs": [],
   "source": [
    "## Vamos a analizar qué pasó con la mujer de mayor edad\n",
    "\n",
    "mayor_edad_f = df_female['Age'].max()\n",
    "\n",
    "print(mayor_edad_f)\n",
    "\n",
    "mujer_mayor = df_female[df_female['Age']==mayor_edad_f]\n",
    "\n",
    "print(mujer_mayor)"
   ]
  },
  {
   "cell_type": "code",
   "execution_count": null,
   "metadata": {
    "colab": {
     "base_uri": "https://localhost:8080/"
    },
    "executionInfo": {
     "elapsed": 259,
     "status": "ok",
     "timestamp": 1729186012015,
     "user": {
      "displayName": "Breyner Posso Bautista",
      "userId": "13049344394225357947"
     },
     "user_tz": 300
    },
    "id": "E9jnTbr_hExH",
    "outputId": "fb318c64-f705-4e01-eb35-9ec2d5737146"
   },
   "outputs": [],
   "source": [
    "print(tabulate(mujer_mayor, headers = 'keys', tablefmt = 'fancy_grid'))"
   ]
  },
  {
   "cell_type": "code",
   "execution_count": null,
   "metadata": {
    "colab": {
     "base_uri": "https://localhost:8080/"
    },
    "collapsed": true,
    "executionInfo": {
     "elapsed": 771,
     "status": "ok",
     "timestamp": 1729265387130,
     "user": {
      "displayName": "Breyner Posso Bautista",
      "userId": "13049344394225357947"
     },
     "user_tz": 300
    },
    "id": "NGAmAF77PyxS",
    "outputId": "11819c31-e85e-40bb-c9e1-2f39df76a7db"
   },
   "outputs": [],
   "source": [
    "print(tabulate(df_male, headers = 'keys', tablefmt = 'fancy_grid'))"
   ]
  },
  {
   "cell_type": "markdown",
   "metadata": {
    "id": "A1aCiGZ0lOwz"
   },
   "source": [
    "### Pregunta 2:\n",
    "\n",
    "¿Porcentaje de hombres y mujeres que sobrevivieron por clase?"
   ]
  },
  {
   "cell_type": "markdown",
   "metadata": {
    "id": "g3nrfWoSQG9M"
   },
   "source": [
    "Paso a paso:\n",
    "\n",
    "1. Obtener el número de los hombres y mujeres del conjunto de datos\n",
    "2. Obtener el número de hombres que viajaban en cada clase.\n",
    "3. Obtener el número de hombres que sobrevivieron y no sobrevivieron por cada clase.\n",
    "4. Calcular el porcentaje por cada clase.\n",
    "5. Obtener el número de mujeres que viajaban en cada clase.\n",
    "3. Obtener el númer de mujeres que sobrevivieron y no sobrevivieron por cada clase.\n",
    "4. Calcular el porcentaje por cada clase."
   ]
  },
  {
   "cell_type": "code",
   "execution_count": null,
   "metadata": {
    "colab": {
     "base_uri": "https://localhost:8080/"
    },
    "executionInfo": {
     "elapsed": 217,
     "status": "ok",
     "timestamp": 1729265884299,
     "user": {
      "displayName": "Breyner Posso Bautista",
      "userId": "13049344394225357947"
     },
     "user_tz": 300
    },
    "id": "DEnSDZ_0RfzZ",
    "outputId": "871447d0-ccaa-4997-afe4-e33a06ce6a5a"
   },
   "outputs": [],
   "source": [
    "## Paso 1\n",
    "\n",
    "num_hombres = df[df['Sex']=='male'].shape[0]\n",
    "print(num_hombres)"
   ]
  },
  {
   "cell_type": "code",
   "execution_count": null,
   "metadata": {
    "colab": {
     "base_uri": "https://localhost:8080/"
    },
    "executionInfo": {
     "elapsed": 203,
     "status": "ok",
     "timestamp": 1729266039926,
     "user": {
      "displayName": "Breyner Posso Bautista",
      "userId": "13049344394225357947"
     },
     "user_tz": 300
    },
    "id": "S00zHPzMSJ4T",
    "outputId": "cb8a0f25-2895-47de-82ed-6f9c133f1b96"
   },
   "outputs": [],
   "source": [
    "df_male = df[df['Sex']=='male']\n",
    "print(df_male.shape[0])"
   ]
  },
  {
   "cell_type": "code",
   "execution_count": null,
   "metadata": {
    "colab": {
     "base_uri": "https://localhost:8080/"
    },
    "executionInfo": {
     "elapsed": 198,
     "status": "ok",
     "timestamp": 1729266085182,
     "user": {
      "displayName": "Breyner Posso Bautista",
      "userId": "13049344394225357947"
     },
     "user_tz": 300
    },
    "id": "kW0bbMu6SBhh",
    "outputId": "be7d79d7-989f-4c49-8aa2-8fba1d16499d"
   },
   "outputs": [],
   "source": [
    "num_mujeres = df[df['Sex']=='female'].shape[0]\n",
    "print(num_mujeres)"
   ]
  },
  {
   "cell_type": "code",
   "execution_count": null,
   "metadata": {
    "colab": {
     "base_uri": "https://localhost:8080/"
    },
    "executionInfo": {
     "elapsed": 225,
     "status": "ok",
     "timestamp": 1729266393389,
     "user": {
      "displayName": "Breyner Posso Bautista",
      "userId": "13049344394225357947"
     },
     "user_tz": 300
    },
    "id": "QTX-u1cOSnR6",
    "outputId": "2d92c288-514e-4344-d806-2fc623c54870"
   },
   "outputs": [],
   "source": [
    "## Paso 2\n",
    "\n",
    "filtro = (df['Sex']=='male') & (df['Pclass']==1)\n",
    "num_hom_c1 = df[filtro].shape[0]\n",
    "print(f'La cantidad de hommbres que viajaban en primera clase es {num_hom_c1}')\n",
    "\n",
    "filtro = (df['Sex']=='male') & (df['Pclass']==2)\n",
    "num_hom_c2 = df[filtro].shape[0]\n",
    "print(f'La cantidad de hommbres que viajaban en segunda clase es {num_hom_c2}')\n",
    "\n",
    "filtro = (df['Sex']=='male') & (df['Pclass']==3)\n",
    "num_hom_c3 = df[filtro].shape[0]\n",
    "print(f'La cantidad de hommbres que viajaban en tercera clase es {num_hom_c3}')\n",
    "\n",
    "#print(num_hom_c1+num_hom_c2+num_hom_c3)"
   ]
  },
  {
   "cell_type": "code",
   "execution_count": null,
   "metadata": {
    "colab": {
     "base_uri": "https://localhost:8080/"
    },
    "executionInfo": {
     "elapsed": 249,
     "status": "ok",
     "timestamp": 1729266908324,
     "user": {
      "displayName": "Breyner Posso Bautista",
      "userId": "13049344394225357947"
     },
     "user_tz": 300
    },
    "id": "fTjQ548aT-Tc",
    "outputId": "90297bdb-b2ae-4220-ae36-3cd0bbd8360d"
   },
   "outputs": [],
   "source": [
    "## Paso 3\n",
    "\n",
    "filtro = (df['Sex']=='male') & (df['Pclass']==1) & (df['Survived']==1)\n",
    "num_hom_c1_s = df[filtro].shape[0]\n",
    "print(f'La cantidad de hombres que viajaban en primera clase y sobrevivió es {num_hom_c1_s}')\n",
    "\n",
    "filtro = (df['Sex']=='male') & (df['Pclass']==2) & (df['Survived']==1)\n",
    "num_hom_c2_s = df[filtro].shape[0]\n",
    "print(f'La cantidad de hombres que viajaban en segunda clase y sobrevivió es {num_hom_c2_s}')"
   ]
  },
  {
   "cell_type": "code",
   "execution_count": null,
   "metadata": {
    "colab": {
     "base_uri": "https://localhost:8080/"
    },
    "executionInfo": {
     "elapsed": 218,
     "status": "ok",
     "timestamp": 1729266955219,
     "user": {
      "displayName": "Breyner Posso Bautista",
      "userId": "13049344394225357947"
     },
     "user_tz": 300
    },
    "id": "O7c7AHZLUe4V",
    "outputId": "e83fa7fc-65fe-40c3-ae98-c2d1d40d0ca1"
   },
   "outputs": [],
   "source": [
    "## Paso 4\n",
    "\n",
    "porcentaje_h_c1_s = (100 *num_hom_c1_s)/num_hom_c1\n",
    "\n",
    "print(f'El porcentaje de hombres que viajaban en primera clase y sobrevivió es {porcentaje_h_c1_s:.2f}')\n",
    "\n",
    "porcentaje_h_c2_s = (100 *num_hom_c2_s)/num_hom_c2\n",
    "\n",
    "print(f'El porcentaje de hombres que viajaban en segunda clase y sobrevivió es {porcentaje_h_c2_s:.2f}')"
   ]
  },
  {
   "cell_type": "markdown",
   "metadata": {
    "id": "1NK6VDjto-Al"
   },
   "source": [
    "### Pregunta 3:\n",
    "\n",
    "¿Cuál es la distribución de las edades de los hombres que sobrevivieron?"
   ]
  },
  {
   "cell_type": "markdown",
   "metadata": {
    "id": "U7oPcU3eWCB4"
   },
   "source": [
    "Paso a Paso\n",
    "\n",
    "1. Crear un nuevo DataFrame con los hombres que sobrevivieron\n",
    "2. Analizar la distribución de las edades: calcular estadísticas básicas, generar el histograma, construir el boxplot"
   ]
  },
  {
   "cell_type": "code",
   "execution_count": null,
   "metadata": {
    "id": "DiXre4PfWBLt"
   },
   "outputs": [],
   "source": [
    "## Paso 1\n",
    "\n",
    "filtro = (df['Sex']=='male') &(df['Survived']==1)\n",
    "df_male_s = df[filtro]"
   ]
  },
  {
   "cell_type": "code",
   "execution_count": null,
   "metadata": {
    "colab": {
     "base_uri": "https://localhost:8080/",
     "height": 564
    },
    "executionInfo": {
     "elapsed": 455,
     "status": "ok",
     "timestamp": 1729267185126,
     "user": {
      "displayName": "Breyner Posso Bautista",
      "userId": "13049344394225357947"
     },
     "user_tz": 300
    },
    "id": "N9Tzf28cWmXx",
    "outputId": "802d2d29-d996-4c55-dc6a-e38f99df9e09"
   },
   "outputs": [],
   "source": [
    "## Paso 2\n",
    "# Histograma\n",
    "\n",
    "column = 'Age'\n",
    "plt.figure(figsize=(6,6))\n",
    "sns.histplot(data = df_male_s,\n",
    "             x = column,\n",
    "             #hue = 'Survived',\n",
    "             bins = 30,\n",
    "             color = 'red',\n",
    "             fill = True,\n",
    "             stat = 'count')    #'count' muestra el número de observaciones.\n",
    "                                #'frequency' muestra el número de observaciones dividida por el ancho del bin.\n",
    "                                #'density' normaliza las cuentas tal que el área del histograma es 1.\n",
    "                                #'probability' normaliza las cuentas tal que la suma de la altura de las barras es 1.\n",
    "\n",
    "plt.xlabel(column) #Texto en el eje x.\n",
    "plt.ylabel('Cuentas')              #Texto en el eje y.\n",
    "plt.title('Histograma')             #Título del gráfico.\n",
    "plt.show()"
   ]
  },
  {
   "cell_type": "code",
   "execution_count": null,
   "metadata": {
    "colab": {
     "base_uri": "https://localhost:8080/",
     "height": 335
    },
    "executionInfo": {
     "elapsed": 231,
     "status": "ok",
     "timestamp": 1729267234364,
     "user": {
      "displayName": "Breyner Posso Bautista",
      "userId": "13049344394225357947"
     },
     "user_tz": 300
    },
    "id": "WAjZI3A2W59m",
    "outputId": "33820e7c-7fa5-417f-8cb3-c7b11394dafe"
   },
   "outputs": [],
   "source": [
    "df_male_s['Age'].describe()"
   ]
  },
  {
   "cell_type": "code",
   "execution_count": null,
   "metadata": {
    "id": "stmjGjjRXLJ5"
   },
   "outputs": [],
   "source": [
    "filtro = (df['Sex']=='female') &(df['Survived']==1)\n",
    "df_female_s = df[filtro]"
   ]
  },
  {
   "cell_type": "code",
   "execution_count": null,
   "metadata": {
    "colab": {
     "base_uri": "https://localhost:8080/",
     "height": 564
    },
    "executionInfo": {
     "elapsed": 1099,
     "status": "ok",
     "timestamp": 1729267308254,
     "user": {
      "displayName": "Breyner Posso Bautista",
      "userId": "13049344394225357947"
     },
     "user_tz": 300
    },
    "id": "t2RfPKL1XP3H",
    "outputId": "d221b1e9-db99-48bb-916a-cdf46da638ca"
   },
   "outputs": [],
   "source": [
    "## Paso 2\n",
    "# Histograma\n",
    "\n",
    "column = 'Age'\n",
    "plt.figure(figsize=(6,6))\n",
    "sns.histplot(data = df_female_s,\n",
    "             x = column,\n",
    "             #hue = 'Survived',\n",
    "             bins = 30,\n",
    "             color = 'red',\n",
    "             fill = True,\n",
    "             stat = 'count')    #'count' muestra el número de observaciones.\n",
    "                                #'frequency' muestra el número de observaciones dividida por el ancho del bin.\n",
    "                                #'density' normaliza las cuentas tal que el área del histograma es 1.\n",
    "                                #'probability' normaliza las cuentas tal que la suma de la altura de las barras es 1.\n",
    "\n",
    "plt.xlabel(column) #Texto en el eje x.\n",
    "plt.ylabel('Cuentas')              #Texto en el eje y.\n",
    "plt.title('Histograma')             #Título del gráfico.\n",
    "plt.show()"
   ]
  },
  {
   "cell_type": "markdown",
   "metadata": {
    "id": "7Oj4cNy5rvLt"
   },
   "source": [
    "### Pregunta 4:\n",
    "\n",
    "¿Tiene alguna influencia el puerto dónde embarcó en sobrevivir o no?"
   ]
  },
  {
   "cell_type": "code",
   "execution_count": null,
   "metadata": {
    "colab": {
     "base_uri": "https://localhost:8080/",
     "height": 564
    },
    "executionInfo": {
     "elapsed": 1198,
     "status": "ok",
     "timestamp": 1729267416673,
     "user": {
      "displayName": "Breyner Posso Bautista",
      "userId": "13049344394225357947"
     },
     "user_tz": 300
    },
    "id": "0viyS1fcuJ9I",
    "outputId": "8f8709c5-e51e-42f1-c5ec-2ca0baf56449"
   },
   "outputs": [],
   "source": [
    "## Paso 2\n",
    "# Histograma\n",
    "\n",
    "column = 'Embarked'\n",
    "plt.figure(figsize=(6,6))\n",
    "sns.histplot(data = df,\n",
    "             x = column,\n",
    "             hue = 'Survived',\n",
    "             bins = 30,\n",
    "             color = 'red',\n",
    "             fill = True,\n",
    "             stat = 'count')    #'count' muestra el número de observaciones.\n",
    "                                #'frequency' muestra el número de observaciones dividida por el ancho del bin.\n",
    "                                #'density' normaliza las cuentas tal que el área del histograma es 1.\n",
    "                                #'probability' normaliza las cuentas tal que la suma de la altura de las barras es 1.\n",
    "\n",
    "plt.xlabel(column) #Texto en el eje x.\n",
    "plt.ylabel('Cuentas')              #Texto en el eje y.\n",
    "plt.title('Histograma')             #Título del gráfico.\n",
    "plt.show()"
   ]
  },
  {
   "cell_type": "markdown",
   "metadata": {
    "id": "uFnx8QzrhYYE"
   },
   "source": [
    "### Pregunta 5:\n",
    "\n",
    "Hagan una pregunta que les parezca interesante contestar con los datos."
   ]
  },
  {
   "cell_type": "code",
   "execution_count": null,
   "metadata": {
    "id": "24SkhN9chfud"
   },
   "outputs": [],
   "source": []
  },
  {
   "cell_type": "markdown",
   "metadata": {
    "id": "IYdsDKqq5ar-"
   },
   "source": [
    "Vamos a graficar los nombres y la cabina"
   ]
  },
  {
   "cell_type": "code",
   "execution_count": null,
   "metadata": {
    "colab": {
     "base_uri": "https://localhost:8080/",
     "height": 423
    },
    "executionInfo": {
     "elapsed": 444,
     "status": "ok",
     "timestamp": 1729611870275,
     "user": {
      "displayName": "Breyner Posso Bautista",
      "userId": "13049344394225357947"
     },
     "user_tz": 300
    },
    "id": "KHazt7he5qVq",
    "outputId": "3bc95a16-adc4-4f21-fdcd-426f859ec8ae"
   },
   "outputs": [],
   "source": [
    "df"
   ]
  },
  {
   "cell_type": "code",
   "execution_count": null,
   "metadata": {
    "colab": {
     "base_uri": "https://localhost:8080/",
     "height": 430
    },
    "executionInfo": {
     "elapsed": 8220,
     "status": "ok",
     "timestamp": 1729611935534,
     "user": {
      "displayName": "Breyner Posso Bautista",
      "userId": "13049344394225357947"
     },
     "user_tz": 300
    },
    "id": "1S6b0JAY5aTA",
    "outputId": "75788ab7-cabd-4b17-862b-768853f9d176"
   },
   "outputs": [],
   "source": [
    "plt.bar(df['Name'],df['Pclass'])\n",
    "plt.show()"
   ]
  },
  {
   "cell_type": "code",
   "execution_count": null,
   "metadata": {
    "colab": {
     "base_uri": "https://localhost:8080/",
     "height": 241
    },
    "executionInfo": {
     "elapsed": 179,
     "status": "ok",
     "timestamp": 1731428484448,
     "user": {
      "displayName": "Breyner Posso Bautista",
      "userId": "13049344394225357947"
     },
     "user_tz": 300
    },
    "id": "RUK87pcG54IL",
    "outputId": "65a0bd0c-6b57-4b8e-ff7c-047fc0b1984a"
   },
   "outputs": [],
   "source": [
    "Deporte = df.groupby(['Survived','Sex'])['Age'].mean()\n",
    "Deporte"
   ]
  },
  {
   "cell_type": "code",
   "execution_count": null,
   "metadata": {
    "colab": {
     "base_uri": "https://localhost:8080/"
    },
    "executionInfo": {
     "elapsed": 160,
     "status": "ok",
     "timestamp": 1731428726687,
     "user": {
      "displayName": "Breyner Posso Bautista",
      "userId": "13049344394225357947"
     },
     "user_tz": 300
    },
    "id": "8NR9l44UMK83",
    "outputId": "e0c55042-57d2-4be9-abd9-59110bb73a70"
   },
   "outputs": [],
   "source": [
    "Deporte.index[0]"
   ]
  },
  {
   "cell_type": "code",
   "execution_count": null,
   "metadata": {
    "colab": {
     "base_uri": "https://localhost:8080/"
    },
    "executionInfo": {
     "elapsed": 155,
     "status": "ok",
     "timestamp": 1731429059364,
     "user": {
      "displayName": "Breyner Posso Bautista",
      "userId": "13049344394225357947"
     },
     "user_tz": 300
    },
    "id": "l2Wmnr0hMp4w",
    "outputId": "573e528b-61c8-483a-ae52-51ee4d3015fb"
   },
   "outputs": [],
   "source": [
    "valores = []\n",
    "for i in range(len(Deporte)):\n",
    "    if Deporte.index[i][1] == 'female':\n",
    "        print(i)\n",
    "        valores.append(Deporte[Deporte.index[i]])\n",
    "valores"
   ]
  },
  {
   "cell_type": "code",
   "execution_count": null,
   "metadata": {
    "colab": {
     "base_uri": "https://localhost:8080/"
    },
    "executionInfo": {
     "elapsed": 181,
     "status": "ok",
     "timestamp": 1731428755627,
     "user": {
      "displayName": "Breyner Posso Bautista",
      "userId": "13049344394225357947"
     },
     "user_tz": 300
    },
    "id": "fy3ibUy7MfGk",
    "outputId": "2dac2187-2bd7-46d7-bec2-5d6ab85fa82e"
   },
   "outputs": [],
   "source": [
    "Deporte[(0, 'female')]"
   ]
  },
  {
   "cell_type": "code",
   "execution_count": null,
   "metadata": {
    "colab": {
     "base_uri": "https://localhost:8080/",
     "height": 560
    },
    "executionInfo": {
     "elapsed": 208,
     "status": "error",
     "timestamp": 1731428652604,
     "user": {
      "displayName": "Breyner Posso Bautista",
      "userId": "13049344394225357947"
     },
     "user_tz": 300
    },
    "id": "13cLZob1LQml",
    "outputId": "c62c763a-edea-4452-fba1-47448965df7f"
   },
   "outputs": [],
   "source": [
    "# Vamos a tomar los valores del índice Sex = female\n",
    "\n",
    "a = Deporte[:,'Sex']\n",
    "a"
   ]
  },
  {
   "cell_type": "code",
   "execution_count": null,
   "metadata": {
    "id": "KHU46Z9ILaQT"
   },
   "outputs": [],
   "source": []
  }
 ],
 "metadata": {
  "colab": {
   "authorship_tag": "ABX9TyPdfaJhc+tJIoqGwlRL1aPw",
   "provenance": []
  },
  "kernelspec": {
   "display_name": "Python 3",
   "name": "python3"
  },
  "language_info": {
   "name": "python"
  }
 },
 "nbformat": 4,
 "nbformat_minor": 0
}
