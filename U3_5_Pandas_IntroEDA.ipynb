{
 "cells": [
  {
   "cell_type": "markdown",
   "metadata": {
    "id": "7uxaTjU5DI-r"
   },
   "source": [
    "# **Introducción al Análisis Exploratorio de Datos**"
   ]
  },
  {
   "cell_type": "markdown",
   "metadata": {
    "id": "xDp8Rs67DiAH"
   },
   "source": [
    "### 0. Importar librerías"
   ]
  },
  {
   "cell_type": "code",
   "execution_count": 7,
   "metadata": {
    "executionInfo": {
     "elapsed": 8000,
     "status": "ok",
     "timestamp": 1731427958836,
     "user": {
      "displayName": "Breyner Posso Bautista",
      "userId": "13049344394225357947"
     },
     "user_tz": 300
    },
    "id": "wysJxQU3DCPY"
   },
   "outputs": [],
   "source": [
    "import pandas as pd\n",
    "import numpy as np\n",
    "import matplotlib.pyplot as plt\n",
    "import seaborn as sns\n",
    "from tabulate import tabulate"
   ]
  },
  {
   "cell_type": "markdown",
   "metadata": {
    "id": "NfOpPIS7Dmkx"
   },
   "source": [
    "### 1. Cargar conjunto de datos"
   ]
  },
  {
   "cell_type": "code",
   "execution_count": null,
   "metadata": {
    "colab": {
     "base_uri": "https://localhost:8080/"
    },
    "executionInfo": {
     "elapsed": 57702,
     "status": "ok",
     "timestamp": 1731428016536,
     "user": {
      "displayName": "Breyner Posso Bautista",
      "userId": "13049344394225357947"
     },
     "user_tz": 300
    },
    "id": "KoBACugZDIXk",
    "outputId": "36ef1d8d-3038-4940-8d2c-b9f36f82ac72"
   },
   "outputs": [],
   "source": [
    "#Al ejecutar esta celda, Google colab lo va a llevar a su cuenta de google,\n",
    "#y le va a pedir que copie y pegue un código un código de acceso en un recuadro.\n",
    "# No necesario si esta el archivo localmente\n",
    "\n",
    "from google.colab import drive\n",
    "drive.mount('/gdrive')"
   ]
  },
  {
   "cell_type": "code",
   "execution_count": null,
   "metadata": {
    "executionInfo": {
     "elapsed": 761,
     "status": "ok",
     "timestamp": 1731428017292,
     "user": {
      "displayName": "Breyner Posso Bautista",
      "userId": "13049344394225357947"
     },
     "user_tz": 300
    },
    "id": "jjdIpQldDvpr"
   },
   "outputs": [],
   "source": [
    "# Se va a utilizar el conjunto de datos titanic\n",
    "# https://www.kaggle.com/c/titanic/data?select=train.csv\n",
    "# No necesario si esta el archivo localmente\n",
    "\n",
    "df = pd.read_csv('/gdrive/MyDrive/Programming/Datasets/titanic.csv')"
   ]
  },
  {
   "cell_type": "code",
   "execution_count": 9,
   "metadata": {},
   "outputs": [],
   "source": [
    "# Se va a utilizar el conjunto de datos titanic\n",
    "# Ejecuta si se tiene el archivo localmente\n",
    "\n",
    "df = pd.read_csv('datasets/titanic.csv')"
   ]
  },
  {
   "cell_type": "code",
   "execution_count": 11,
   "metadata": {
    "colab": {
     "base_uri": "https://localhost:8080/"
    },
    "executionInfo": {
     "elapsed": 192,
     "status": "ok",
     "timestamp": 1731428348327,
     "user": {
      "displayName": "Breyner Posso Bautista",
      "userId": "13049344394225357947"
     },
     "user_tz": 300
    },
    "id": "ipT2qzP-JIHv",
    "outputId": "426a0d41-6a06-4a9a-b929-905d340c7a72"
   },
   "outputs": [
    {
     "name": "stdout",
     "output_type": "stream",
     "text": [
      "<class 'pandas.core.frame.DataFrame'>\n"
     ]
    }
   ],
   "source": [
    "print(type(df))"
   ]
  },
  {
   "cell_type": "markdown",
   "metadata": {
    "id": "zeXuc7SvGSDE"
   },
   "source": [
    "### 2. Análisis Exploratorio de Datos (EDA)"
   ]
  },
  {
   "cell_type": "markdown",
   "metadata": {
    "id": "OTAMO3gyGYkp"
   },
   "source": [
    "#### 2a. Conocimiento básico del dataset\n",
    "\n",
    "Para lograr un conocimiento básico del dataset se puede plantear identificar lo siguiente:\n",
    "\n",
    "*   a. ¿Qué representa cada uno de los atributos del dataset? Esto se puede realizar viendo la documentación del conujunto de datos.\n",
    "*   b. Número de observaciones y Número de atributos.\n",
    "*   c. Nombre y tipo de cada uno de los atributos.\n",
    "*   d. ¿Cuáles atributos toman valores discretos y cuáles atributos toman valores continuos?\n",
    "*   e. Visualizar un subconjunto de de observaciones del conjunto de datos."
   ]
  },
  {
   "cell_type": "code",
   "execution_count": 12,
   "metadata": {
    "colab": {
     "base_uri": "https://localhost:8080/"
    },
    "executionInfo": {
     "elapsed": 165,
     "status": "ok",
     "timestamp": 1731428351698,
     "user": {
      "displayName": "Breyner Posso Bautista",
      "userId": "13049344394225357947"
     },
     "user_tz": 300
    },
    "id": "gwtfiw0dGOCE",
    "outputId": "bb99f999-69fc-4c8e-a9b9-1eb950bc3e39"
   },
   "outputs": [
    {
     "data": {
      "text/plain": [
       "(891, 12)"
      ]
     },
     "execution_count": 12,
     "metadata": {},
     "output_type": "execute_result"
    }
   ],
   "source": [
    "df.shape"
   ]
  },
  {
   "cell_type": "code",
   "execution_count": 13,
   "metadata": {
    "colab": {
     "base_uri": "https://localhost:8080/",
     "height": 458
    },
    "executionInfo": {
     "elapsed": 545,
     "status": "ok",
     "timestamp": 1729180385863,
     "user": {
      "displayName": "Breyner Posso Bautista",
      "userId": "13049344394225357947"
     },
     "user_tz": 300
    },
    "id": "BA3kmw2MLqtz",
    "outputId": "fb675797-0f5e-474e-e592-b1485e23a22d"
   },
   "outputs": [
    {
     "data": {
      "text/html": [
       "<div>\n",
       "<style scoped>\n",
       "    .dataframe tbody tr th:only-of-type {\n",
       "        vertical-align: middle;\n",
       "    }\n",
       "\n",
       "    .dataframe tbody tr th {\n",
       "        vertical-align: top;\n",
       "    }\n",
       "\n",
       "    .dataframe thead th {\n",
       "        text-align: right;\n",
       "    }\n",
       "</style>\n",
       "<table border=\"1\" class=\"dataframe\">\n",
       "  <thead>\n",
       "    <tr style=\"text-align: right;\">\n",
       "      <th></th>\n",
       "      <th>PassengerId</th>\n",
       "      <th>Survived</th>\n",
       "      <th>Pclass</th>\n",
       "      <th>Name</th>\n",
       "      <th>Sex</th>\n",
       "      <th>Age</th>\n",
       "      <th>SibSp</th>\n",
       "      <th>Parch</th>\n",
       "      <th>Ticket</th>\n",
       "      <th>Fare</th>\n",
       "      <th>Cabin</th>\n",
       "      <th>Embarked</th>\n",
       "    </tr>\n",
       "  </thead>\n",
       "  <tbody>\n",
       "    <tr>\n",
       "      <th>0</th>\n",
       "      <td>1</td>\n",
       "      <td>0</td>\n",
       "      <td>3</td>\n",
       "      <td>Braund, Mr. Owen Harris</td>\n",
       "      <td>male</td>\n",
       "      <td>22.0</td>\n",
       "      <td>1</td>\n",
       "      <td>0</td>\n",
       "      <td>A/5 21171</td>\n",
       "      <td>7.2500</td>\n",
       "      <td>NaN</td>\n",
       "      <td>S</td>\n",
       "    </tr>\n",
       "    <tr>\n",
       "      <th>1</th>\n",
       "      <td>2</td>\n",
       "      <td>1</td>\n",
       "      <td>1</td>\n",
       "      <td>Cumings, Mrs. John Bradley (Florence Briggs Th...</td>\n",
       "      <td>female</td>\n",
       "      <td>38.0</td>\n",
       "      <td>1</td>\n",
       "      <td>0</td>\n",
       "      <td>PC 17599</td>\n",
       "      <td>71.2833</td>\n",
       "      <td>C85</td>\n",
       "      <td>C</td>\n",
       "    </tr>\n",
       "    <tr>\n",
       "      <th>2</th>\n",
       "      <td>3</td>\n",
       "      <td>1</td>\n",
       "      <td>3</td>\n",
       "      <td>Heikkinen, Miss. Laina</td>\n",
       "      <td>female</td>\n",
       "      <td>26.0</td>\n",
       "      <td>0</td>\n",
       "      <td>0</td>\n",
       "      <td>STON/O2. 3101282</td>\n",
       "      <td>7.9250</td>\n",
       "      <td>NaN</td>\n",
       "      <td>S</td>\n",
       "    </tr>\n",
       "    <tr>\n",
       "      <th>3</th>\n",
       "      <td>4</td>\n",
       "      <td>1</td>\n",
       "      <td>1</td>\n",
       "      <td>Futrelle, Mrs. Jacques Heath (Lily May Peel)</td>\n",
       "      <td>female</td>\n",
       "      <td>35.0</td>\n",
       "      <td>1</td>\n",
       "      <td>0</td>\n",
       "      <td>113803</td>\n",
       "      <td>53.1000</td>\n",
       "      <td>C123</td>\n",
       "      <td>S</td>\n",
       "    </tr>\n",
       "    <tr>\n",
       "      <th>4</th>\n",
       "      <td>5</td>\n",
       "      <td>0</td>\n",
       "      <td>3</td>\n",
       "      <td>Allen, Mr. William Henry</td>\n",
       "      <td>male</td>\n",
       "      <td>35.0</td>\n",
       "      <td>0</td>\n",
       "      <td>0</td>\n",
       "      <td>373450</td>\n",
       "      <td>8.0500</td>\n",
       "      <td>NaN</td>\n",
       "      <td>S</td>\n",
       "    </tr>\n",
       "    <tr>\n",
       "      <th>...</th>\n",
       "      <td>...</td>\n",
       "      <td>...</td>\n",
       "      <td>...</td>\n",
       "      <td>...</td>\n",
       "      <td>...</td>\n",
       "      <td>...</td>\n",
       "      <td>...</td>\n",
       "      <td>...</td>\n",
       "      <td>...</td>\n",
       "      <td>...</td>\n",
       "      <td>...</td>\n",
       "      <td>...</td>\n",
       "    </tr>\n",
       "    <tr>\n",
       "      <th>886</th>\n",
       "      <td>887</td>\n",
       "      <td>0</td>\n",
       "      <td>2</td>\n",
       "      <td>Montvila, Rev. Juozas</td>\n",
       "      <td>male</td>\n",
       "      <td>27.0</td>\n",
       "      <td>0</td>\n",
       "      <td>0</td>\n",
       "      <td>211536</td>\n",
       "      <td>13.0000</td>\n",
       "      <td>NaN</td>\n",
       "      <td>S</td>\n",
       "    </tr>\n",
       "    <tr>\n",
       "      <th>887</th>\n",
       "      <td>888</td>\n",
       "      <td>1</td>\n",
       "      <td>1</td>\n",
       "      <td>Graham, Miss. Margaret Edith</td>\n",
       "      <td>female</td>\n",
       "      <td>19.0</td>\n",
       "      <td>0</td>\n",
       "      <td>0</td>\n",
       "      <td>112053</td>\n",
       "      <td>30.0000</td>\n",
       "      <td>B42</td>\n",
       "      <td>S</td>\n",
       "    </tr>\n",
       "    <tr>\n",
       "      <th>888</th>\n",
       "      <td>889</td>\n",
       "      <td>0</td>\n",
       "      <td>3</td>\n",
       "      <td>Johnston, Miss. Catherine Helen \"Carrie\"</td>\n",
       "      <td>female</td>\n",
       "      <td>NaN</td>\n",
       "      <td>1</td>\n",
       "      <td>2</td>\n",
       "      <td>W./C. 6607</td>\n",
       "      <td>23.4500</td>\n",
       "      <td>NaN</td>\n",
       "      <td>S</td>\n",
       "    </tr>\n",
       "    <tr>\n",
       "      <th>889</th>\n",
       "      <td>890</td>\n",
       "      <td>1</td>\n",
       "      <td>1</td>\n",
       "      <td>Behr, Mr. Karl Howell</td>\n",
       "      <td>male</td>\n",
       "      <td>26.0</td>\n",
       "      <td>0</td>\n",
       "      <td>0</td>\n",
       "      <td>111369</td>\n",
       "      <td>30.0000</td>\n",
       "      <td>C148</td>\n",
       "      <td>C</td>\n",
       "    </tr>\n",
       "    <tr>\n",
       "      <th>890</th>\n",
       "      <td>891</td>\n",
       "      <td>0</td>\n",
       "      <td>3</td>\n",
       "      <td>Dooley, Mr. Patrick</td>\n",
       "      <td>male</td>\n",
       "      <td>32.0</td>\n",
       "      <td>0</td>\n",
       "      <td>0</td>\n",
       "      <td>370376</td>\n",
       "      <td>7.7500</td>\n",
       "      <td>NaN</td>\n",
       "      <td>Q</td>\n",
       "    </tr>\n",
       "  </tbody>\n",
       "</table>\n",
       "<p>891 rows × 12 columns</p>\n",
       "</div>"
      ],
      "text/plain": [
       "     PassengerId  Survived  Pclass  \\\n",
       "0              1         0       3   \n",
       "1              2         1       1   \n",
       "2              3         1       3   \n",
       "3              4         1       1   \n",
       "4              5         0       3   \n",
       "..           ...       ...     ...   \n",
       "886          887         0       2   \n",
       "887          888         1       1   \n",
       "888          889         0       3   \n",
       "889          890         1       1   \n",
       "890          891         0       3   \n",
       "\n",
       "                                                  Name     Sex   Age  SibSp  \\\n",
       "0                              Braund, Mr. Owen Harris    male  22.0      1   \n",
       "1    Cumings, Mrs. John Bradley (Florence Briggs Th...  female  38.0      1   \n",
       "2                               Heikkinen, Miss. Laina  female  26.0      0   \n",
       "3         Futrelle, Mrs. Jacques Heath (Lily May Peel)  female  35.0      1   \n",
       "4                             Allen, Mr. William Henry    male  35.0      0   \n",
       "..                                                 ...     ...   ...    ...   \n",
       "886                              Montvila, Rev. Juozas    male  27.0      0   \n",
       "887                       Graham, Miss. Margaret Edith  female  19.0      0   \n",
       "888           Johnston, Miss. Catherine Helen \"Carrie\"  female   NaN      1   \n",
       "889                              Behr, Mr. Karl Howell    male  26.0      0   \n",
       "890                                Dooley, Mr. Patrick    male  32.0      0   \n",
       "\n",
       "     Parch            Ticket     Fare Cabin Embarked  \n",
       "0        0         A/5 21171   7.2500   NaN        S  \n",
       "1        0          PC 17599  71.2833   C85        C  \n",
       "2        0  STON/O2. 3101282   7.9250   NaN        S  \n",
       "3        0            113803  53.1000  C123        S  \n",
       "4        0            373450   8.0500   NaN        S  \n",
       "..     ...               ...      ...   ...      ...  \n",
       "886      0            211536  13.0000   NaN        S  \n",
       "887      0            112053  30.0000   B42        S  \n",
       "888      2        W./C. 6607  23.4500   NaN        S  \n",
       "889      0            111369  30.0000  C148        C  \n",
       "890      0            370376   7.7500   NaN        Q  \n",
       "\n",
       "[891 rows x 12 columns]"
      ]
     },
     "execution_count": 13,
     "metadata": {},
     "output_type": "execute_result"
    }
   ],
   "source": [
    "df"
   ]
  },
  {
   "cell_type": "code",
   "execution_count": 14,
   "metadata": {
    "colab": {
     "base_uri": "https://localhost:8080/"
    },
    "executionInfo": {
     "elapsed": 214,
     "status": "ok",
     "timestamp": 1729264885429,
     "user": {
      "displayName": "Breyner Posso Bautista",
      "userId": "13049344394225357947"
     },
     "user_tz": 300
    },
    "id": "lsq9fU9-HLu3",
    "outputId": "0fdecc76-d7c3-4914-fd27-3919a052761e"
   },
   "outputs": [
    {
     "name": "stdout",
     "output_type": "stream",
     "text": [
      "<class 'pandas.core.frame.DataFrame'>\n",
      "RangeIndex: 891 entries, 0 to 890\n",
      "Data columns (total 12 columns):\n",
      " #   Column       Non-Null Count  Dtype  \n",
      "---  ------       --------------  -----  \n",
      " 0   PassengerId  891 non-null    int64  \n",
      " 1   Survived     891 non-null    int64  \n",
      " 2   Pclass       891 non-null    int64  \n",
      " 3   Name         891 non-null    object \n",
      " 4   Sex          891 non-null    object \n",
      " 5   Age          714 non-null    float64\n",
      " 6   SibSp        891 non-null    int64  \n",
      " 7   Parch        891 non-null    int64  \n",
      " 8   Ticket       891 non-null    object \n",
      " 9   Fare         891 non-null    float64\n",
      " 10  Cabin        204 non-null    object \n",
      " 11  Embarked     889 non-null    object \n",
      "dtypes: float64(2), int64(5), object(5)\n",
      "memory usage: 83.7+ KB\n"
     ]
    }
   ],
   "source": [
    "df.info()"
   ]
  },
  {
   "cell_type": "code",
   "execution_count": 15,
   "metadata": {
    "colab": {
     "base_uri": "https://localhost:8080/",
     "height": 460
    },
    "executionInfo": {
     "elapsed": 220,
     "status": "ok",
     "timestamp": 1729264888796,
     "user": {
      "displayName": "Breyner Posso Bautista",
      "userId": "13049344394225357947"
     },
     "user_tz": 300
    },
    "id": "ZkVfbZcFH5AD",
    "outputId": "df45e70c-c85e-4caa-9848-fae7d3e64216"
   },
   "outputs": [
    {
     "data": {
      "text/plain": [
       "PassengerId      0\n",
       "Survived         0\n",
       "Pclass           0\n",
       "Name             0\n",
       "Sex              0\n",
       "Age            177\n",
       "SibSp            0\n",
       "Parch            0\n",
       "Ticket           0\n",
       "Fare             0\n",
       "Cabin          687\n",
       "Embarked         2\n",
       "dtype: int64"
      ]
     },
     "execution_count": 15,
     "metadata": {},
     "output_type": "execute_result"
    }
   ],
   "source": [
    "# Cantidad de valores nulos por columna\n",
    "\n",
    "df.isnull().sum()"
   ]
  },
  {
   "cell_type": "code",
   "execution_count": 16,
   "metadata": {
    "colab": {
     "base_uri": "https://localhost:8080/",
     "height": 460
    },
    "executionInfo": {
     "elapsed": 246,
     "status": "ok",
     "timestamp": 1729264957717,
     "user": {
      "displayName": "Breyner Posso Bautista",
      "userId": "13049344394225357947"
     },
     "user_tz": 300
    },
    "id": "pq79GezdJNZi",
    "outputId": "a2d24a74-b821-4633-c0ad-7608aa7e962f"
   },
   "outputs": [
    {
     "data": {
      "text/plain": [
       "PassengerId     0.000000\n",
       "Survived        0.000000\n",
       "Pclass          0.000000\n",
       "Name            0.000000\n",
       "Sex             0.000000\n",
       "Age            19.865320\n",
       "SibSp           0.000000\n",
       "Parch           0.000000\n",
       "Ticket          0.000000\n",
       "Fare            0.000000\n",
       "Cabin          77.104377\n",
       "Embarked        0.224467\n",
       "dtype: float64"
      ]
     },
     "execution_count": 16,
     "metadata": {},
     "output_type": "execute_result"
    }
   ],
   "source": [
    "# Porcentaje de valores nulos por columna\n",
    "obs, _ = df.shape\n",
    "df.isnull().sum()*100/obs"
   ]
  },
  {
   "cell_type": "code",
   "execution_count": 17,
   "metadata": {
    "colab": {
     "base_uri": "https://localhost:8080/",
     "height": 241
    },
    "collapsed": true,
    "executionInfo": {
     "elapsed": 222,
     "status": "ok",
     "timestamp": 1729264968800,
     "user": {
      "displayName": "Breyner Posso Bautista",
      "userId": "13049344394225357947"
     },
     "user_tz": 300
    },
    "id": "92b2GHh2Jw1f",
    "outputId": "b3b84342-fcc2-4cd7-a213-379b54b05dfb"
   },
   "outputs": [
    {
     "data": {
      "text/html": [
       "<div>\n",
       "<style scoped>\n",
       "    .dataframe tbody tr th:only-of-type {\n",
       "        vertical-align: middle;\n",
       "    }\n",
       "\n",
       "    .dataframe tbody tr th {\n",
       "        vertical-align: top;\n",
       "    }\n",
       "\n",
       "    .dataframe thead th {\n",
       "        text-align: right;\n",
       "    }\n",
       "</style>\n",
       "<table border=\"1\" class=\"dataframe\">\n",
       "  <thead>\n",
       "    <tr style=\"text-align: right;\">\n",
       "      <th></th>\n",
       "      <th>PassengerId</th>\n",
       "      <th>Survived</th>\n",
       "      <th>Pclass</th>\n",
       "      <th>Name</th>\n",
       "      <th>Sex</th>\n",
       "      <th>Age</th>\n",
       "      <th>SibSp</th>\n",
       "      <th>Parch</th>\n",
       "      <th>Ticket</th>\n",
       "      <th>Fare</th>\n",
       "      <th>Cabin</th>\n",
       "      <th>Embarked</th>\n",
       "    </tr>\n",
       "  </thead>\n",
       "  <tbody>\n",
       "    <tr>\n",
       "      <th>0</th>\n",
       "      <td>1</td>\n",
       "      <td>0</td>\n",
       "      <td>3</td>\n",
       "      <td>Braund, Mr. Owen Harris</td>\n",
       "      <td>male</td>\n",
       "      <td>22.0</td>\n",
       "      <td>1</td>\n",
       "      <td>0</td>\n",
       "      <td>A/5 21171</td>\n",
       "      <td>7.2500</td>\n",
       "      <td>NaN</td>\n",
       "      <td>S</td>\n",
       "    </tr>\n",
       "    <tr>\n",
       "      <th>1</th>\n",
       "      <td>2</td>\n",
       "      <td>1</td>\n",
       "      <td>1</td>\n",
       "      <td>Cumings, Mrs. John Bradley (Florence Briggs Th...</td>\n",
       "      <td>female</td>\n",
       "      <td>38.0</td>\n",
       "      <td>1</td>\n",
       "      <td>0</td>\n",
       "      <td>PC 17599</td>\n",
       "      <td>71.2833</td>\n",
       "      <td>C85</td>\n",
       "      <td>C</td>\n",
       "    </tr>\n",
       "    <tr>\n",
       "      <th>2</th>\n",
       "      <td>3</td>\n",
       "      <td>1</td>\n",
       "      <td>3</td>\n",
       "      <td>Heikkinen, Miss. Laina</td>\n",
       "      <td>female</td>\n",
       "      <td>26.0</td>\n",
       "      <td>0</td>\n",
       "      <td>0</td>\n",
       "      <td>STON/O2. 3101282</td>\n",
       "      <td>7.9250</td>\n",
       "      <td>NaN</td>\n",
       "      <td>S</td>\n",
       "    </tr>\n",
       "    <tr>\n",
       "      <th>3</th>\n",
       "      <td>4</td>\n",
       "      <td>1</td>\n",
       "      <td>1</td>\n",
       "      <td>Futrelle, Mrs. Jacques Heath (Lily May Peel)</td>\n",
       "      <td>female</td>\n",
       "      <td>35.0</td>\n",
       "      <td>1</td>\n",
       "      <td>0</td>\n",
       "      <td>113803</td>\n",
       "      <td>53.1000</td>\n",
       "      <td>C123</td>\n",
       "      <td>S</td>\n",
       "    </tr>\n",
       "    <tr>\n",
       "      <th>4</th>\n",
       "      <td>5</td>\n",
       "      <td>0</td>\n",
       "      <td>3</td>\n",
       "      <td>Allen, Mr. William Henry</td>\n",
       "      <td>male</td>\n",
       "      <td>35.0</td>\n",
       "      <td>0</td>\n",
       "      <td>0</td>\n",
       "      <td>373450</td>\n",
       "      <td>8.0500</td>\n",
       "      <td>NaN</td>\n",
       "      <td>S</td>\n",
       "    </tr>\n",
       "  </tbody>\n",
       "</table>\n",
       "</div>"
      ],
      "text/plain": [
       "   PassengerId  Survived  Pclass  \\\n",
       "0            1         0       3   \n",
       "1            2         1       1   \n",
       "2            3         1       3   \n",
       "3            4         1       1   \n",
       "4            5         0       3   \n",
       "\n",
       "                                                Name     Sex   Age  SibSp  \\\n",
       "0                            Braund, Mr. Owen Harris    male  22.0      1   \n",
       "1  Cumings, Mrs. John Bradley (Florence Briggs Th...  female  38.0      1   \n",
       "2                             Heikkinen, Miss. Laina  female  26.0      0   \n",
       "3       Futrelle, Mrs. Jacques Heath (Lily May Peel)  female  35.0      1   \n",
       "4                           Allen, Mr. William Henry    male  35.0      0   \n",
       "\n",
       "   Parch            Ticket     Fare Cabin Embarked  \n",
       "0      0         A/5 21171   7.2500   NaN        S  \n",
       "1      0          PC 17599  71.2833   C85        C  \n",
       "2      0  STON/O2. 3101282   7.9250   NaN        S  \n",
       "3      0            113803  53.1000  C123        S  \n",
       "4      0            373450   8.0500   NaN        S  "
      ]
     },
     "execution_count": 17,
     "metadata": {},
     "output_type": "execute_result"
    }
   ],
   "source": [
    "df.head()"
   ]
  },
  {
   "cell_type": "code",
   "execution_count": 18,
   "metadata": {
    "colab": {
     "base_uri": "https://localhost:8080/",
     "height": 206
    },
    "executionInfo": {
     "elapsed": 292,
     "status": "ok",
     "timestamp": 1729264974922,
     "user": {
      "displayName": "Breyner Posso Bautista",
      "userId": "13049344394225357947"
     },
     "user_tz": 300
    },
    "id": "myna0LopJ9ti",
    "outputId": "34f3ac14-28c7-41b2-f00e-ebb4fbe7c976"
   },
   "outputs": [
    {
     "data": {
      "text/html": [
       "<div>\n",
       "<style scoped>\n",
       "    .dataframe tbody tr th:only-of-type {\n",
       "        vertical-align: middle;\n",
       "    }\n",
       "\n",
       "    .dataframe tbody tr th {\n",
       "        vertical-align: top;\n",
       "    }\n",
       "\n",
       "    .dataframe thead th {\n",
       "        text-align: right;\n",
       "    }\n",
       "</style>\n",
       "<table border=\"1\" class=\"dataframe\">\n",
       "  <thead>\n",
       "    <tr style=\"text-align: right;\">\n",
       "      <th></th>\n",
       "      <th>PassengerId</th>\n",
       "      <th>Survived</th>\n",
       "      <th>Pclass</th>\n",
       "      <th>Name</th>\n",
       "      <th>Sex</th>\n",
       "      <th>Age</th>\n",
       "      <th>SibSp</th>\n",
       "      <th>Parch</th>\n",
       "      <th>Ticket</th>\n",
       "      <th>Fare</th>\n",
       "      <th>Cabin</th>\n",
       "      <th>Embarked</th>\n",
       "    </tr>\n",
       "  </thead>\n",
       "  <tbody>\n",
       "    <tr>\n",
       "      <th>886</th>\n",
       "      <td>887</td>\n",
       "      <td>0</td>\n",
       "      <td>2</td>\n",
       "      <td>Montvila, Rev. Juozas</td>\n",
       "      <td>male</td>\n",
       "      <td>27.0</td>\n",
       "      <td>0</td>\n",
       "      <td>0</td>\n",
       "      <td>211536</td>\n",
       "      <td>13.00</td>\n",
       "      <td>NaN</td>\n",
       "      <td>S</td>\n",
       "    </tr>\n",
       "    <tr>\n",
       "      <th>887</th>\n",
       "      <td>888</td>\n",
       "      <td>1</td>\n",
       "      <td>1</td>\n",
       "      <td>Graham, Miss. Margaret Edith</td>\n",
       "      <td>female</td>\n",
       "      <td>19.0</td>\n",
       "      <td>0</td>\n",
       "      <td>0</td>\n",
       "      <td>112053</td>\n",
       "      <td>30.00</td>\n",
       "      <td>B42</td>\n",
       "      <td>S</td>\n",
       "    </tr>\n",
       "    <tr>\n",
       "      <th>888</th>\n",
       "      <td>889</td>\n",
       "      <td>0</td>\n",
       "      <td>3</td>\n",
       "      <td>Johnston, Miss. Catherine Helen \"Carrie\"</td>\n",
       "      <td>female</td>\n",
       "      <td>NaN</td>\n",
       "      <td>1</td>\n",
       "      <td>2</td>\n",
       "      <td>W./C. 6607</td>\n",
       "      <td>23.45</td>\n",
       "      <td>NaN</td>\n",
       "      <td>S</td>\n",
       "    </tr>\n",
       "    <tr>\n",
       "      <th>889</th>\n",
       "      <td>890</td>\n",
       "      <td>1</td>\n",
       "      <td>1</td>\n",
       "      <td>Behr, Mr. Karl Howell</td>\n",
       "      <td>male</td>\n",
       "      <td>26.0</td>\n",
       "      <td>0</td>\n",
       "      <td>0</td>\n",
       "      <td>111369</td>\n",
       "      <td>30.00</td>\n",
       "      <td>C148</td>\n",
       "      <td>C</td>\n",
       "    </tr>\n",
       "    <tr>\n",
       "      <th>890</th>\n",
       "      <td>891</td>\n",
       "      <td>0</td>\n",
       "      <td>3</td>\n",
       "      <td>Dooley, Mr. Patrick</td>\n",
       "      <td>male</td>\n",
       "      <td>32.0</td>\n",
       "      <td>0</td>\n",
       "      <td>0</td>\n",
       "      <td>370376</td>\n",
       "      <td>7.75</td>\n",
       "      <td>NaN</td>\n",
       "      <td>Q</td>\n",
       "    </tr>\n",
       "  </tbody>\n",
       "</table>\n",
       "</div>"
      ],
      "text/plain": [
       "     PassengerId  Survived  Pclass                                      Name  \\\n",
       "886          887         0       2                     Montvila, Rev. Juozas   \n",
       "887          888         1       1              Graham, Miss. Margaret Edith   \n",
       "888          889         0       3  Johnston, Miss. Catherine Helen \"Carrie\"   \n",
       "889          890         1       1                     Behr, Mr. Karl Howell   \n",
       "890          891         0       3                       Dooley, Mr. Patrick   \n",
       "\n",
       "        Sex   Age  SibSp  Parch      Ticket   Fare Cabin Embarked  \n",
       "886    male  27.0      0      0      211536  13.00   NaN        S  \n",
       "887  female  19.0      0      0      112053  30.00   B42        S  \n",
       "888  female   NaN      1      2  W./C. 6607  23.45   NaN        S  \n",
       "889    male  26.0      0      0      111369  30.00  C148        C  \n",
       "890    male  32.0      0      0      370376   7.75   NaN        Q  "
      ]
     },
     "execution_count": 18,
     "metadata": {},
     "output_type": "execute_result"
    }
   ],
   "source": [
    "df.tail()"
   ]
  },
  {
   "cell_type": "code",
   "execution_count": 19,
   "metadata": {
    "colab": {
     "base_uri": "https://localhost:8080/",
     "height": 460
    },
    "executionInfo": {
     "elapsed": 223,
     "status": "ok",
     "timestamp": 1729264985886,
     "user": {
      "displayName": "Breyner Posso Bautista",
      "userId": "13049344394225357947"
     },
     "user_tz": 300
    },
    "id": "vwI2UrgvNsxb",
    "outputId": "c3e17355-2bca-40df-e8b0-5c2c06a17aff"
   },
   "outputs": [
    {
     "data": {
      "text/plain": [
       "PassengerId      int64\n",
       "Survived         int64\n",
       "Pclass           int64\n",
       "Name            object\n",
       "Sex             object\n",
       "Age            float64\n",
       "SibSp            int64\n",
       "Parch            int64\n",
       "Ticket          object\n",
       "Fare           float64\n",
       "Cabin           object\n",
       "Embarked        object\n",
       "dtype: object"
      ]
     },
     "execution_count": 19,
     "metadata": {},
     "output_type": "execute_result"
    }
   ],
   "source": [
    "df.dtypes"
   ]
  },
  {
   "cell_type": "markdown",
   "metadata": {
    "id": "I3LVLIRIin4f"
   },
   "source": [
    "#### 2b. Análisis Univariado\n",
    "\n",
    "Incluye:\n",
    "+ Medidas de tendencia central: media, mediana, moda.\n",
    "+ Medidas de dispersión: rango, variance, valor máximo y mínimo, cuartiles (incluyendo rango intercuartil) y desviación estándar.\n",
    "+ Para variables numéricas discretas y categóricas: cantidad de valores únicos, valor con mayor frecuencia, etc.\n",
    "\n",
    "También se pueden se pueden usar gráficos como:\n",
    "+ Histogramas.\n",
    "+ Para variables numéricas discretas y categóricas: gráficos de barras, gráficos circulares."
   ]
  },
  {
   "cell_type": "code",
   "execution_count": 20,
   "metadata": {
    "colab": {
     "base_uri": "https://localhost:8080/",
     "height": 300
    },
    "executionInfo": {
     "elapsed": 265,
     "status": "ok",
     "timestamp": 1729181173885,
     "user": {
      "displayName": "Breyner Posso Bautista",
      "userId": "13049344394225357947"
     },
     "user_tz": 300
    },
    "id": "GSd-0nPSJ_pX",
    "outputId": "1dafa0f0-19ee-4fcd-e67c-98c9b315e392"
   },
   "outputs": [
    {
     "data": {
      "text/html": [
       "<div>\n",
       "<style scoped>\n",
       "    .dataframe tbody tr th:only-of-type {\n",
       "        vertical-align: middle;\n",
       "    }\n",
       "\n",
       "    .dataframe tbody tr th {\n",
       "        vertical-align: top;\n",
       "    }\n",
       "\n",
       "    .dataframe thead th {\n",
       "        text-align: right;\n",
       "    }\n",
       "</style>\n",
       "<table border=\"1\" class=\"dataframe\">\n",
       "  <thead>\n",
       "    <tr style=\"text-align: right;\">\n",
       "      <th></th>\n",
       "      <th>PassengerId</th>\n",
       "      <th>Survived</th>\n",
       "      <th>Pclass</th>\n",
       "      <th>Age</th>\n",
       "      <th>SibSp</th>\n",
       "      <th>Parch</th>\n",
       "      <th>Fare</th>\n",
       "    </tr>\n",
       "  </thead>\n",
       "  <tbody>\n",
       "    <tr>\n",
       "      <th>count</th>\n",
       "      <td>891.000000</td>\n",
       "      <td>891.000000</td>\n",
       "      <td>891.000000</td>\n",
       "      <td>714.000000</td>\n",
       "      <td>891.000000</td>\n",
       "      <td>891.000000</td>\n",
       "      <td>891.000000</td>\n",
       "    </tr>\n",
       "    <tr>\n",
       "      <th>mean</th>\n",
       "      <td>446.000000</td>\n",
       "      <td>0.383838</td>\n",
       "      <td>2.308642</td>\n",
       "      <td>29.699118</td>\n",
       "      <td>0.523008</td>\n",
       "      <td>0.381594</td>\n",
       "      <td>32.204208</td>\n",
       "    </tr>\n",
       "    <tr>\n",
       "      <th>std</th>\n",
       "      <td>257.353842</td>\n",
       "      <td>0.486592</td>\n",
       "      <td>0.836071</td>\n",
       "      <td>14.526497</td>\n",
       "      <td>1.102743</td>\n",
       "      <td>0.806057</td>\n",
       "      <td>49.693429</td>\n",
       "    </tr>\n",
       "    <tr>\n",
       "      <th>min</th>\n",
       "      <td>1.000000</td>\n",
       "      <td>0.000000</td>\n",
       "      <td>1.000000</td>\n",
       "      <td>0.420000</td>\n",
       "      <td>0.000000</td>\n",
       "      <td>0.000000</td>\n",
       "      <td>0.000000</td>\n",
       "    </tr>\n",
       "    <tr>\n",
       "      <th>25%</th>\n",
       "      <td>223.500000</td>\n",
       "      <td>0.000000</td>\n",
       "      <td>2.000000</td>\n",
       "      <td>20.125000</td>\n",
       "      <td>0.000000</td>\n",
       "      <td>0.000000</td>\n",
       "      <td>7.910400</td>\n",
       "    </tr>\n",
       "    <tr>\n",
       "      <th>50%</th>\n",
       "      <td>446.000000</td>\n",
       "      <td>0.000000</td>\n",
       "      <td>3.000000</td>\n",
       "      <td>28.000000</td>\n",
       "      <td>0.000000</td>\n",
       "      <td>0.000000</td>\n",
       "      <td>14.454200</td>\n",
       "    </tr>\n",
       "    <tr>\n",
       "      <th>75%</th>\n",
       "      <td>668.500000</td>\n",
       "      <td>1.000000</td>\n",
       "      <td>3.000000</td>\n",
       "      <td>38.000000</td>\n",
       "      <td>1.000000</td>\n",
       "      <td>0.000000</td>\n",
       "      <td>31.000000</td>\n",
       "    </tr>\n",
       "    <tr>\n",
       "      <th>max</th>\n",
       "      <td>891.000000</td>\n",
       "      <td>1.000000</td>\n",
       "      <td>3.000000</td>\n",
       "      <td>80.000000</td>\n",
       "      <td>8.000000</td>\n",
       "      <td>6.000000</td>\n",
       "      <td>512.329200</td>\n",
       "    </tr>\n",
       "  </tbody>\n",
       "</table>\n",
       "</div>"
      ],
      "text/plain": [
       "       PassengerId    Survived      Pclass         Age       SibSp  \\\n",
       "count   891.000000  891.000000  891.000000  714.000000  891.000000   \n",
       "mean    446.000000    0.383838    2.308642   29.699118    0.523008   \n",
       "std     257.353842    0.486592    0.836071   14.526497    1.102743   \n",
       "min       1.000000    0.000000    1.000000    0.420000    0.000000   \n",
       "25%     223.500000    0.000000    2.000000   20.125000    0.000000   \n",
       "50%     446.000000    0.000000    3.000000   28.000000    0.000000   \n",
       "75%     668.500000    1.000000    3.000000   38.000000    1.000000   \n",
       "max     891.000000    1.000000    3.000000   80.000000    8.000000   \n",
       "\n",
       "            Parch        Fare  \n",
       "count  891.000000  891.000000  \n",
       "mean     0.381594   32.204208  \n",
       "std      0.806057   49.693429  \n",
       "min      0.000000    0.000000  \n",
       "25%      0.000000    7.910400  \n",
       "50%      0.000000   14.454200  \n",
       "75%      0.000000   31.000000  \n",
       "max      6.000000  512.329200  "
      ]
     },
     "execution_count": 20,
     "metadata": {},
     "output_type": "execute_result"
    }
   ],
   "source": [
    "df.describe()"
   ]
  },
  {
   "cell_type": "code",
   "execution_count": 21,
   "metadata": {
    "colab": {
     "base_uri": "https://localhost:8080/",
     "height": 394
    },
    "executionInfo": {
     "elapsed": 288,
     "status": "ok",
     "timestamp": 1729181362664,
     "user": {
      "displayName": "Breyner Posso Bautista",
      "userId": "13049344394225357947"
     },
     "user_tz": 300
    },
    "id": "yDHbGOlEPWiS",
    "outputId": "60d12d0f-d3ba-44c4-8ab1-0bad268a57cf"
   },
   "outputs": [
    {
     "data": {
      "text/html": [
       "<div>\n",
       "<style scoped>\n",
       "    .dataframe tbody tr th:only-of-type {\n",
       "        vertical-align: middle;\n",
       "    }\n",
       "\n",
       "    .dataframe tbody tr th {\n",
       "        vertical-align: top;\n",
       "    }\n",
       "\n",
       "    .dataframe thead th {\n",
       "        text-align: right;\n",
       "    }\n",
       "</style>\n",
       "<table border=\"1\" class=\"dataframe\">\n",
       "  <thead>\n",
       "    <tr style=\"text-align: right;\">\n",
       "      <th></th>\n",
       "      <th>PassengerId</th>\n",
       "      <th>Survived</th>\n",
       "      <th>Pclass</th>\n",
       "      <th>Name</th>\n",
       "      <th>Sex</th>\n",
       "      <th>Age</th>\n",
       "      <th>SibSp</th>\n",
       "      <th>Parch</th>\n",
       "      <th>Ticket</th>\n",
       "      <th>Fare</th>\n",
       "      <th>Cabin</th>\n",
       "      <th>Embarked</th>\n",
       "    </tr>\n",
       "  </thead>\n",
       "  <tbody>\n",
       "    <tr>\n",
       "      <th>count</th>\n",
       "      <td>891.000000</td>\n",
       "      <td>891.000000</td>\n",
       "      <td>891.000000</td>\n",
       "      <td>891</td>\n",
       "      <td>891</td>\n",
       "      <td>714.000000</td>\n",
       "      <td>891.000000</td>\n",
       "      <td>891.000000</td>\n",
       "      <td>891</td>\n",
       "      <td>891.000000</td>\n",
       "      <td>204</td>\n",
       "      <td>889</td>\n",
       "    </tr>\n",
       "    <tr>\n",
       "      <th>unique</th>\n",
       "      <td>NaN</td>\n",
       "      <td>NaN</td>\n",
       "      <td>NaN</td>\n",
       "      <td>891</td>\n",
       "      <td>2</td>\n",
       "      <td>NaN</td>\n",
       "      <td>NaN</td>\n",
       "      <td>NaN</td>\n",
       "      <td>681</td>\n",
       "      <td>NaN</td>\n",
       "      <td>147</td>\n",
       "      <td>3</td>\n",
       "    </tr>\n",
       "    <tr>\n",
       "      <th>top</th>\n",
       "      <td>NaN</td>\n",
       "      <td>NaN</td>\n",
       "      <td>NaN</td>\n",
       "      <td>Dooley, Mr. Patrick</td>\n",
       "      <td>male</td>\n",
       "      <td>NaN</td>\n",
       "      <td>NaN</td>\n",
       "      <td>NaN</td>\n",
       "      <td>347082</td>\n",
       "      <td>NaN</td>\n",
       "      <td>G6</td>\n",
       "      <td>S</td>\n",
       "    </tr>\n",
       "    <tr>\n",
       "      <th>freq</th>\n",
       "      <td>NaN</td>\n",
       "      <td>NaN</td>\n",
       "      <td>NaN</td>\n",
       "      <td>1</td>\n",
       "      <td>577</td>\n",
       "      <td>NaN</td>\n",
       "      <td>NaN</td>\n",
       "      <td>NaN</td>\n",
       "      <td>7</td>\n",
       "      <td>NaN</td>\n",
       "      <td>4</td>\n",
       "      <td>644</td>\n",
       "    </tr>\n",
       "    <tr>\n",
       "      <th>mean</th>\n",
       "      <td>446.000000</td>\n",
       "      <td>0.383838</td>\n",
       "      <td>2.308642</td>\n",
       "      <td>NaN</td>\n",
       "      <td>NaN</td>\n",
       "      <td>29.699118</td>\n",
       "      <td>0.523008</td>\n",
       "      <td>0.381594</td>\n",
       "      <td>NaN</td>\n",
       "      <td>32.204208</td>\n",
       "      <td>NaN</td>\n",
       "      <td>NaN</td>\n",
       "    </tr>\n",
       "    <tr>\n",
       "      <th>std</th>\n",
       "      <td>257.353842</td>\n",
       "      <td>0.486592</td>\n",
       "      <td>0.836071</td>\n",
       "      <td>NaN</td>\n",
       "      <td>NaN</td>\n",
       "      <td>14.526497</td>\n",
       "      <td>1.102743</td>\n",
       "      <td>0.806057</td>\n",
       "      <td>NaN</td>\n",
       "      <td>49.693429</td>\n",
       "      <td>NaN</td>\n",
       "      <td>NaN</td>\n",
       "    </tr>\n",
       "    <tr>\n",
       "      <th>min</th>\n",
       "      <td>1.000000</td>\n",
       "      <td>0.000000</td>\n",
       "      <td>1.000000</td>\n",
       "      <td>NaN</td>\n",
       "      <td>NaN</td>\n",
       "      <td>0.420000</td>\n",
       "      <td>0.000000</td>\n",
       "      <td>0.000000</td>\n",
       "      <td>NaN</td>\n",
       "      <td>0.000000</td>\n",
       "      <td>NaN</td>\n",
       "      <td>NaN</td>\n",
       "    </tr>\n",
       "    <tr>\n",
       "      <th>25%</th>\n",
       "      <td>223.500000</td>\n",
       "      <td>0.000000</td>\n",
       "      <td>2.000000</td>\n",
       "      <td>NaN</td>\n",
       "      <td>NaN</td>\n",
       "      <td>20.125000</td>\n",
       "      <td>0.000000</td>\n",
       "      <td>0.000000</td>\n",
       "      <td>NaN</td>\n",
       "      <td>7.910400</td>\n",
       "      <td>NaN</td>\n",
       "      <td>NaN</td>\n",
       "    </tr>\n",
       "    <tr>\n",
       "      <th>50%</th>\n",
       "      <td>446.000000</td>\n",
       "      <td>0.000000</td>\n",
       "      <td>3.000000</td>\n",
       "      <td>NaN</td>\n",
       "      <td>NaN</td>\n",
       "      <td>28.000000</td>\n",
       "      <td>0.000000</td>\n",
       "      <td>0.000000</td>\n",
       "      <td>NaN</td>\n",
       "      <td>14.454200</td>\n",
       "      <td>NaN</td>\n",
       "      <td>NaN</td>\n",
       "    </tr>\n",
       "    <tr>\n",
       "      <th>75%</th>\n",
       "      <td>668.500000</td>\n",
       "      <td>1.000000</td>\n",
       "      <td>3.000000</td>\n",
       "      <td>NaN</td>\n",
       "      <td>NaN</td>\n",
       "      <td>38.000000</td>\n",
       "      <td>1.000000</td>\n",
       "      <td>0.000000</td>\n",
       "      <td>NaN</td>\n",
       "      <td>31.000000</td>\n",
       "      <td>NaN</td>\n",
       "      <td>NaN</td>\n",
       "    </tr>\n",
       "    <tr>\n",
       "      <th>max</th>\n",
       "      <td>891.000000</td>\n",
       "      <td>1.000000</td>\n",
       "      <td>3.000000</td>\n",
       "      <td>NaN</td>\n",
       "      <td>NaN</td>\n",
       "      <td>80.000000</td>\n",
       "      <td>8.000000</td>\n",
       "      <td>6.000000</td>\n",
       "      <td>NaN</td>\n",
       "      <td>512.329200</td>\n",
       "      <td>NaN</td>\n",
       "      <td>NaN</td>\n",
       "    </tr>\n",
       "  </tbody>\n",
       "</table>\n",
       "</div>"
      ],
      "text/plain": [
       "        PassengerId    Survived      Pclass                 Name   Sex  \\\n",
       "count    891.000000  891.000000  891.000000                  891   891   \n",
       "unique          NaN         NaN         NaN                  891     2   \n",
       "top             NaN         NaN         NaN  Dooley, Mr. Patrick  male   \n",
       "freq            NaN         NaN         NaN                    1   577   \n",
       "mean     446.000000    0.383838    2.308642                  NaN   NaN   \n",
       "std      257.353842    0.486592    0.836071                  NaN   NaN   \n",
       "min        1.000000    0.000000    1.000000                  NaN   NaN   \n",
       "25%      223.500000    0.000000    2.000000                  NaN   NaN   \n",
       "50%      446.000000    0.000000    3.000000                  NaN   NaN   \n",
       "75%      668.500000    1.000000    3.000000                  NaN   NaN   \n",
       "max      891.000000    1.000000    3.000000                  NaN   NaN   \n",
       "\n",
       "               Age       SibSp       Parch  Ticket        Fare Cabin Embarked  \n",
       "count   714.000000  891.000000  891.000000     891  891.000000   204      889  \n",
       "unique         NaN         NaN         NaN     681         NaN   147        3  \n",
       "top            NaN         NaN         NaN  347082         NaN    G6        S  \n",
       "freq           NaN         NaN         NaN       7         NaN     4      644  \n",
       "mean     29.699118    0.523008    0.381594     NaN   32.204208   NaN      NaN  \n",
       "std      14.526497    1.102743    0.806057     NaN   49.693429   NaN      NaN  \n",
       "min       0.420000    0.000000    0.000000     NaN    0.000000   NaN      NaN  \n",
       "25%      20.125000    0.000000    0.000000     NaN    7.910400   NaN      NaN  \n",
       "50%      28.000000    0.000000    0.000000     NaN   14.454200   NaN      NaN  \n",
       "75%      38.000000    1.000000    0.000000     NaN   31.000000   NaN      NaN  \n",
       "max      80.000000    8.000000    6.000000     NaN  512.329200   NaN      NaN  "
      ]
     },
     "execution_count": 21,
     "metadata": {},
     "output_type": "execute_result"
    }
   ],
   "source": [
    "df.describe(include='all')"
   ]
  },
  {
   "cell_type": "code",
   "execution_count": 22,
   "metadata": {
    "colab": {
     "base_uri": "https://localhost:8080/",
     "height": 430
    },
    "executionInfo": {
     "elapsed": 592,
     "status": "ok",
     "timestamp": 1729265017567,
     "user": {
      "displayName": "Breyner Posso Bautista",
      "userId": "13049344394225357947"
     },
     "user_tz": 300
    },
    "id": "Jykl4qhaPwYh",
    "outputId": "99b28ebe-d0c3-4bef-fb38-5dcb6f880043"
   },
   "outputs": [
    {
     "data": {
      "image/png": "[encoded data removed]",
      "text/plain": [
       "<Figure size 640x480 with 1 Axes>"
      ]
     },
     "metadata": {},
     "output_type": "display_data"
    }
   ],
   "source": [
    "# Histograma con matplotlib\n",
    "\n",
    "variable = 'Age'\n",
    "bins = 30\n",
    "\n",
    "plt.hist(df[variable], bins = bins)\n",
    "plt.show()"
   ]
  },
  {
   "cell_type": "code",
   "execution_count": 23,
   "metadata": {
    "colab": {
     "base_uri": "https://localhost:8080/",
     "height": 564
    },
    "executionInfo": {
     "elapsed": 1176,
     "status": "ok",
     "timestamp": 1729182699082,
     "user": {
      "displayName": "Breyner Posso Bautista",
      "userId": "13049344394225357947"
     },
     "user_tz": 300
    },
    "id": "qZ-7hJEDi071",
    "outputId": "a3ad6b14-6d2d-4f15-e5d9-a214aac5cd3b"
   },
   "outputs": [
    {
     "data": {
      "image/png": "[encoded data removed]",
      "text/plain": [
       "<Figure size 600x600 with 1 Axes>"
      ]
     },
     "metadata": {},
     "output_type": "display_data"
    }
   ],
   "source": [
    "# Histograma\n",
    "\n",
    "column = 'Pclass'\n",
    "plt.figure(figsize=(6,6))\n",
    "sns.histplot(data = df,\n",
    "             x = column,\n",
    "             bins = 30,\n",
    "             color = 'red',\n",
    "             fill = True,\n",
    "             stat = 'count')    #'count' muestra el número de observaciones.\n",
    "                                #'frequency' muestra el número de observaciones dividida por el ancho del bin.\n",
    "                                #'density' normaliza las cuentas tal que el área del histograma es 1.\n",
    "                                #'probability' normaliza las cuentas tal que la suma de la altura de las barras es 1.\n",
    "\n",
    "plt.xlabel(column) #Texto en el eje x.\n",
    "plt.ylabel('Cuentas')              #Texto en el eje y.\n",
    "plt.title('Histograma')             #Título del gráfico.\n",
    "plt.show()"
   ]
  },
  {
   "cell_type": "code",
   "execution_count": 24,
   "metadata": {
    "id": "V1CuZBvjyMXL"
   },
   "outputs": [],
   "source": [
    "# Función para calcular Outliers\n",
    "\n",
    "def outliers(df, atributo):\n",
    "    ax = sns.boxplot(x=df[atributo])\n",
    "    plt.show()\n",
    "\n",
    "    arr1 = df[atributo].values\n",
    "    arr1 = arr1[~np.isnan(arr1)]\n",
    "\n",
    "    # Encontrar el 1st quartil\n",
    "    q1 = np.quantile(arr1, 0.25)\n",
    "\n",
    "    # Encontrar el 3rd quartil\n",
    "    q3 = np.quantile(arr1, 0.75)\n",
    "\n",
    "    # Encontrar el 2nd quartil\n",
    "    med = np.median(arr1)\n",
    "\n",
    "    # Encontrar el rango inter quartil (iqr)\n",
    "    iqr = q3-q1\n",
    "\n",
    "    # Encontrar los bigotes superior e inferior\n",
    "    upper_bound = q3+(1.5*iqr)\n",
    "    lower_bound = q1-(1.5*iqr)\n",
    "\n",
    "    outliers_l = arr1[(arr1 <= lower_bound)]\n",
    "    outliers_u = arr1[(arr1 >= upper_bound)]\n",
    "    print(f'The lower bound is {lower_bound}')\n",
    "    print(f'The upper bound is {upper_bound}')\n",
    "    print('The number of lower outliers is {}'.format(len(outliers_l)))\n",
    "    print('The following are the lower outliers in {} : {}'.format(atributo,outliers_l))\n",
    "    print('The number of upper outliers is {}'.format(len(outliers_u)))\n",
    "    print('The following are the upper outliers in {} : {}'.format(atributo,outliers_u))"
   ]
  },
  {
   "cell_type": "code",
   "execution_count": 25,
   "metadata": {
    "colab": {
     "base_uri": "https://localhost:8080/",
     "height": 803
    },
    "executionInfo": {
     "elapsed": 258,
     "status": "ok",
     "timestamp": 1729182827095,
     "user": {
      "displayName": "Breyner Posso Bautista",
      "userId": "13049344394225357947"
     },
     "user_tz": 300
    },
    "id": "-gvCW-VVyZ5Y",
    "outputId": "c4bbc65f-9a8d-4a5f-8fca-f86e18d9adfd"
   },
   "outputs": [
    {
     "data": {
      "image/png": "[encoded data removed]",
      "text/plain": [
       "<Figure size 640x480 with 1 Axes>"
      ]
     },
     "metadata": {},
     "output_type": "display_data"
    },
    {
     "name": "stdout",
     "output_type": "stream",
     "text": [
      "The lower bound is -26.724\n",
      "The upper bound is 65.6344\n",
      "The number of lower outliers is 0\n",
      "The following are the lower outliers in Fare : []\n",
      "The number of upper outliers is 116\n",
      "The following are the upper outliers in Fare : [ 71.2833 263.     146.5208  82.1708  76.7292  80.      83.475   73.5\n",
      " 263.      77.2875 247.5208  73.5     77.2875  79.2     66.6     69.55\n",
      "  69.55   146.5208  69.55   113.275   76.2917  90.      83.475   90.\n",
      "  79.2     86.5    512.3292  79.65   153.4625 135.6333  77.9583  78.85\n",
      "  91.0792 151.55   247.5208 151.55   110.8833 108.9     83.1583 262.375\n",
      " 164.8667 134.5     69.55   135.6333 153.4625 133.65    66.6    134.5\n",
      " 263.      75.25    69.3    135.6333  82.1708 211.5    227.525   73.5\n",
      " 120.     113.275   90.     120.     263.      81.8583  89.1042  91.0792\n",
      "  90.      78.2667 151.55    86.5    108.9     93.5    221.7792 106.425\n",
      "  71.     106.425  110.8833 227.525   79.65   110.8833  79.65    79.2\n",
      "  78.2667 153.4625  77.9583  69.3     76.7292  73.5    113.275  133.65\n",
      "  73.5    512.3292  76.7292 211.3375 110.8833 227.525  151.55   227.525\n",
      " 211.3375 512.3292  78.85   262.375   71.      86.5    120.      77.9583\n",
      " 211.3375  79.2     69.55   120.      93.5     80.      83.1583  69.55\n",
      "  89.1042 164.8667  69.55    83.1583]\n"
     ]
    }
   ],
   "source": [
    "outliers(df, 'Fare')"
   ]
  },
  {
   "cell_type": "code",
   "execution_count": 26,
   "metadata": {},
   "outputs": [
    {
     "data": {
      "text/plain": [
       "Sex\n",
       "male      577\n",
       "female    314\n",
       "Name: count, dtype: int64"
      ]
     },
     "execution_count": 26,
     "metadata": {},
     "output_type": "execute_result"
    }
   ],
   "source": [
    "df['Sex'].value_counts()"
   ]
  },
  {
   "cell_type": "code",
   "execution_count": 27,
   "metadata": {},
   "outputs": [
    {
     "data": {
      "text/plain": [
       "Pclass\n",
       "3    491\n",
       "1    216\n",
       "2    184\n",
       "Name: count, dtype: int64"
      ]
     },
     "execution_count": 27,
     "metadata": {},
     "output_type": "execute_result"
    }
   ],
   "source": [
    "df['Pclass'].value_counts()"
   ]
  },
  {
   "cell_type": "markdown",
   "metadata": {
    "id": "JrZZhgijkEq6"
   },
   "source": [
    "#### 2c. Análisis Bivariado\n",
    "\n",
    "Es una técnica estadística que se aplica a un par de variables (atributos o características) para determinar la relación empírica entre ellas."
   ]
  },
  {
   "cell_type": "code",
   "execution_count": 28,
   "metadata": {
    "colab": {
     "base_uri": "https://localhost:8080/",
     "height": 505
    },
    "executionInfo": {
     "elapsed": 961,
     "status": "ok",
     "timestamp": 1729183170078,
     "user": {
      "displayName": "Breyner Posso Bautista",
      "userId": "13049344394225357947"
     },
     "user_tz": 300
    },
    "id": "etzi5Uc8jmk-",
    "outputId": "b1bf06dd-0f83-4fdd-832c-8bcc97163e87"
   },
   "outputs": [
    {
     "data": {
      "image/png": "[encoded data removed]",
      "text/plain": [
       "<Figure size 640x480 with 2 Axes>"
      ]
     },
     "metadata": {},
     "output_type": "display_data"
    }
   ],
   "source": [
    "# Matriz de correlación\n",
    "# Vamos a crear un DataFrame solo con las columnas numéricas\n",
    "\n",
    "df_num = df.select_dtypes(include='number')\n",
    "\n",
    "df_num.corr()\n",
    "\n",
    "# Vamos a graficar la matriz de correlación como un mapa de calor\n",
    "\n",
    "sns.heatmap(df_num.corr(), annot=True, cmap='Blues')\n",
    "plt.show()"
   ]
  },
  {
   "cell_type": "code",
   "execution_count": 29,
   "metadata": {
    "colab": {
     "base_uri": "https://localhost:8080/",
     "height": 564
    },
    "executionInfo": {
     "elapsed": 731,
     "status": "ok",
     "timestamp": 1729266791148,
     "user": {
      "displayName": "Breyner Posso Bautista",
      "userId": "13049344394225357947"
     },
     "user_tz": 300
    },
    "id": "fXSMdrHMkcwK",
    "outputId": "1aad82c2-f244-4e6f-845f-8d3de6e76b5f"
   },
   "outputs": [
    {
     "data": {
      "image/png": "[encoded data removed]",
      "text/plain": [
       "<Figure size 600x600 with 1 Axes>"
      ]
     },
     "metadata": {},
     "output_type": "display_data"
    }
   ],
   "source": [
    "# Histograma\n",
    "\n",
    "column = 'Pclass'\n",
    "plt.figure(figsize=(6,6))\n",
    "sns.histplot(data = df,\n",
    "             x = column,\n",
    "             hue = 'Survived',\n",
    "             bins = 30,\n",
    "             color = 'red',\n",
    "             fill = True,\n",
    "             stat = 'count')    #'count' muestra el número de observaciones.\n",
    "                                #'frequency' muestra el número de observaciones dividida por el ancho del bin.\n",
    "                                #'density' normaliza las cuentas tal que el área del histograma es 1.\n",
    "                                #'probability' normaliza las cuentas tal que la suma de la altura de las barras es 1.\n",
    "\n",
    "plt.xlabel(column) #Texto en el eje x.\n",
    "plt.ylabel('Cuentas')              #Texto en el eje y.\n",
    "plt.title('Histograma')             #Título del gráfico.\n",
    "plt.show()"
   ]
  },
  {
   "cell_type": "markdown",
   "metadata": {
    "id": "NkY1stEuJwIs"
   },
   "source": [
    "### Pregunta 1:\n",
    "\n",
    "¿Porcentaje de hombres y mujeres que sobrevivieron?"
   ]
  },
  {
   "cell_type": "code",
   "execution_count": 30,
   "metadata": {
    "colab": {
     "base_uri": "https://localhost:8080/"
    },
    "collapsed": true,
    "executionInfo": {
     "elapsed": 7,
     "status": "ok",
     "timestamp": 1729265197143,
     "user": {
      "displayName": "Breyner Posso Bautista",
      "userId": "13049344394225357947"
     },
     "user_tz": 300
    },
    "id": "bDOjumhRcAaL",
    "outputId": "ac2e90c5-7332-4990-f44c-361015e5b653"
   },
   "outputs": [
    {
     "name": "stdout",
     "output_type": "stream",
     "text": [
      "0       True\n",
      "1      False\n",
      "2      False\n",
      "3      False\n",
      "4       True\n",
      "       ...  \n",
      "886     True\n",
      "887    False\n",
      "888    False\n",
      "889     True\n",
      "890     True\n",
      "Name: Sex, Length: 891, dtype: bool\n"
     ]
    }
   ],
   "source": [
    "filtro_1 = df['Sex'] == 'male'\n",
    "print(filtro_1)"
   ]
  },
  {
   "cell_type": "code",
   "execution_count": 31,
   "metadata": {
    "id": "n3Z4K43_Ks9D"
   },
   "outputs": [],
   "source": [
    "df_male = df[filtro_1]\n",
    "\n",
    "df_female = df[df['Sex'] == 'female']"
   ]
  },
  {
   "cell_type": "code",
   "execution_count": 32,
   "metadata": {
    "colab": {
     "base_uri": "https://localhost:8080/"
    },
    "executionInfo": {
     "elapsed": 276,
     "status": "ok",
     "timestamp": 1729265199892,
     "user": {
      "displayName": "Breyner Posso Bautista",
      "userId": "13049344394225357947"
     },
     "user_tz": 300
    },
    "id": "PDZaSs24cf7e",
    "outputId": "49ea771c-a010-4723-8d1f-903133cff16e"
   },
   "outputs": [
    {
     "data": {
      "text/plain": [
       "(577, 12)"
      ]
     },
     "execution_count": 32,
     "metadata": {},
     "output_type": "execute_result"
    }
   ],
   "source": [
    "df_male.shape"
   ]
  },
  {
   "cell_type": "code",
   "execution_count": 33,
   "metadata": {
    "colab": {
     "base_uri": "https://localhost:8080/"
    },
    "executionInfo": {
     "elapsed": 3,
     "status": "ok",
     "timestamp": 1729265200131,
     "user": {
      "displayName": "Breyner Posso Bautista",
      "userId": "13049344394225357947"
     },
     "user_tz": 300
    },
    "id": "3b8eAwCQXphb",
    "outputId": "87b4b0e1-53d1-4c8b-ec06-d3c25eb025e4"
   },
   "outputs": [
    {
     "name": "stdout",
     "output_type": "stream",
     "text": [
      "El número de hombres es 577\n",
      "El número de mujeres es 314\n"
     ]
    }
   ],
   "source": [
    "num_hombres = df_male.shape[0]\n",
    "num_mujeres = df_female.shape[0]\n",
    "\n",
    "print(f'El número de hombres es {num_hombres}')\n",
    "print(f'El número de mujeres es {num_mujeres}')"
   ]
  },
  {
   "cell_type": "code",
   "execution_count": 34,
   "metadata": {
    "id": "j-TBPGyjX1Ty"
   },
   "outputs": [],
   "source": [
    "df_male_survived = df_male[df_male['Survived'] == 1]\n",
    "df_male_no_survived = df_male[df_male['Survived'] == 0]\n",
    "\n",
    "df_female_survived = df_female[df_female['Survived'] == 1]\n",
    "df_female_no_survived = df_female[df_female['Survived'] == 0]"
   ]
  },
  {
   "cell_type": "code",
   "execution_count": 27,
   "metadata": {
    "colab": {
     "base_uri": "https://localhost:8080/"
    },
    "executionInfo": {
     "elapsed": 4,
     "status": "ok",
     "timestamp": 1729265202323,
     "user": {
      "displayName": "Breyner Posso Bautista",
      "userId": "13049344394225357947"
     },
     "user_tz": 300
    },
    "id": "G0VfM3JjYK4L",
    "outputId": "a987ce83-2365-4363-83cd-4b7aedb0ef3f"
   },
   "outputs": [
    {
     "name": "stdout",
     "output_type": "stream",
     "text": [
      "El porcentaje de hombres que sobrevivieron es 18.89 %\n",
      "El número de mujeres que sobrevivieron es 74.20 %\n"
     ]
    }
   ],
   "source": [
    "num_hombres_survived = df_male_survived.shape[0]\n",
    "num_mujeres_survived = df_female_survived.shape[0]\n",
    "\n",
    "print(f'El porcentaje de hombres que sobrevivieron es {100*num_hombres_survived/num_hombres:.2f} %')\n",
    "print(f'El número de mujeres que sobrevivieron es {100*num_mujeres_survived/num_mujeres:.2f} %')"
   ]
  },
  {
   "cell_type": "code",
   "execution_count": 35,
   "metadata": {},
   "outputs": [
    {
     "name": "stdout",
     "output_type": "stream",
     "text": [
      "18.89\n"
     ]
    }
   ],
   "source": [
    "cantidad_h_s = df[ (df['Sex']=='male') & (df['Survived']==1) ].shape[0]\n",
    "cantidad_h = df[ (df['Sex']=='male') ].shape[0]\n",
    "porcentaje = (cantidad_h_s/cantidad_h)*100\n",
    "print(f\"{porcentaje:.2f}\")"
   ]
  },
  {
   "cell_type": "markdown",
   "metadata": {
    "id": "Jdq_dRPQs9_O"
   },
   "source": [
    "Pregunta\n",
    "\n",
    "¿Cuál es el promedio de edad de los hombres?\n",
    "¿Cuál es el promedio de edad de las mujeres?\n",
    "(En general, y de los que sobrevivieron y no sobrevivieron)"
   ]
  },
  {
   "cell_type": "code",
   "execution_count": 36,
   "metadata": {
    "colab": {
     "base_uri": "https://localhost:8080/"
    },
    "executionInfo": {
     "elapsed": 276,
     "status": "ok",
     "timestamp": 1729185041634,
     "user": {
      "displayName": "Breyner Posso Bautista",
      "userId": "13049344394225357947"
     },
     "user_tz": 300
    },
    "id": "sAyr7PSMb1a8",
    "outputId": "0ad88d61-1a3c-40b8-8f13-755e64d3bd79"
   },
   "outputs": [
    {
     "name": "stdout",
     "output_type": "stream",
     "text": [
      "La media de la edad de los hombres es 30.73 años\n"
     ]
    }
   ],
   "source": [
    "media_hombres = df_male['Age'].mean()\n",
    "\n",
    "print(f'La media de la edad de los hombres es {media_hombres:.2f} años')"
   ]
  },
  {
   "cell_type": "code",
   "execution_count": 37,
   "metadata": {
    "colab": {
     "base_uri": "https://localhost:8080/"
    },
    "executionInfo": {
     "elapsed": 236,
     "status": "ok",
     "timestamp": 1729185013721,
     "user": {
      "displayName": "Breyner Posso Bautista",
      "userId": "13049344394225357947"
     },
     "user_tz": 300
    },
    "id": "ZvHjVW9ddJBM",
    "outputId": "66bb5720-18ad-45d1-d5c5-4d2f27be8e80"
   },
   "outputs": [
    {
     "name": "stdout",
     "output_type": "stream",
     "text": [
      "La media de la edad de las mujeres es 27.92 años\n"
     ]
    }
   ],
   "source": [
    "media_mujeres = df_female['Age'].mean()\n",
    "\n",
    "print(f'La media de la edad de las mujeres es {media_mujeres:.2f} años')"
   ]
  },
  {
   "cell_type": "code",
   "execution_count": 38,
   "metadata": {
    "colab": {
     "base_uri": "https://localhost:8080/"
    },
    "executionInfo": {
     "elapsed": 270,
     "status": "ok",
     "timestamp": 1729185223802,
     "user": {
      "displayName": "Breyner Posso Bautista",
      "userId": "13049344394225357947"
     },
     "user_tz": 300
    },
    "id": "7Iwns1NVddUK",
    "outputId": "fc6f1fe6-3a33-48ac-f4a1-efc816d4037c"
   },
   "outputs": [
    {
     "name": "stdout",
     "output_type": "stream",
     "text": [
      "El promedio de la edad de los hombres que sobrevivieron es 27.28 años\n",
      "El promedio de la edad de los hombres que no sobrevivieron es 31.62 años\n"
     ]
    }
   ],
   "source": [
    "media_hombres_survived = df_male_survived['Age'].mean()\n",
    "media_hombres_no_survived = df_male_no_survived['Age'].mean()\n",
    "\n",
    "print(f'El promedio de la edad de los hombres que sobrevivieron es {media_hombres_survived:.2f} años')\n",
    "print(f'El promedio de la edad de los hombres que no sobrevivieron es {media_hombres_no_survived:.2f} años')"
   ]
  },
  {
   "cell_type": "code",
   "execution_count": 39,
   "metadata": {
    "colab": {
     "base_uri": "https://localhost:8080/"
    },
    "executionInfo": {
     "elapsed": 254,
     "status": "ok",
     "timestamp": 1729185458027,
     "user": {
      "displayName": "Breyner Posso Bautista",
      "userId": "13049344394225357947"
     },
     "user_tz": 300
    },
    "id": "aehEJeOueObk",
    "outputId": "784c4756-3827-4234-e5a6-f9af0fe655a2"
   },
   "outputs": [
    {
     "name": "stdout",
     "output_type": "stream",
     "text": [
      "La mediana de la edad de los hombres que sobrevivieron es 28.00 años\n",
      "La mediana de la edad de los hombres que no sobrevivieron es 29.00 años\n"
     ]
    }
   ],
   "source": [
    "mediana_hombres_survived = df_male_survived['Age'].median()\n",
    "mediana_hombres_no_survived = df_male_no_survived['Age'].median()\n",
    "\n",
    "print(f'La mediana de la edad de los hombres que sobrevivieron es {mediana_hombres_survived:.2f} años')\n",
    "print(f'La mediana de la edad de los hombres que no sobrevivieron es {mediana_hombres_no_survived:.2f} años')"
   ]
  },
  {
   "cell_type": "code",
   "execution_count": 40,
   "metadata": {
    "colab": {
     "base_uri": "https://localhost:8080/"
    },
    "executionInfo": {
     "elapsed": 227,
     "status": "ok",
     "timestamp": 1729185354198,
     "user": {
      "displayName": "Breyner Posso Bautista",
      "userId": "13049344394225357947"
     },
     "user_tz": 300
    },
    "id": "dIMCG9rGegXO",
    "outputId": "b6e16f64-c68b-42b1-de0a-43f6c28b9e81"
   },
   "outputs": [
    {
     "name": "stdout",
     "output_type": "stream",
     "text": [
      "80.0\n"
     ]
    }
   ],
   "source": [
    "mayor_edad = df_male['Age'].max()\n",
    "\n",
    "print(mayor_edad)"
   ]
  },
  {
   "cell_type": "code",
   "execution_count": 41,
   "metadata": {
    "colab": {
     "base_uri": "https://localhost:8080/"
    },
    "executionInfo": {
     "elapsed": 256,
     "status": "ok",
     "timestamp": 1729185441535,
     "user": {
      "displayName": "Breyner Posso Bautista",
      "userId": "13049344394225357947"
     },
     "user_tz": 300
    },
    "id": "BoHs401xerXd",
    "outputId": "e20efc4e-96bc-49cf-d83f-bb0166b9aaa7"
   },
   "outputs": [
    {
     "name": "stdout",
     "output_type": "stream",
     "text": [
      "     PassengerId  Survived  Pclass                                  Name  \\\n",
      "630          631         1       1  Barkworth, Mr. Algernon Henry Wilson   \n",
      "\n",
      "      Sex   Age  SibSp  Parch Ticket  Fare Cabin Embarked  \n",
      "630  male  80.0      0      0  27042  30.0   A23        S  \n"
     ]
    }
   ],
   "source": [
    "hombre_mayor = df_male[df_male['Age']==mayor_edad]\n",
    "\n",
    "print(hombre_mayor)"
   ]
  },
  {
   "cell_type": "code",
   "execution_count": 42,
   "metadata": {},
   "outputs": [
    {
     "name": "stdout",
     "output_type": "stream",
     "text": [
      "512.3292\n"
     ]
    }
   ],
   "source": [
    "fare_max = df['Fare'].max()\n",
    "print(fare_max)"
   ]
  },
  {
   "cell_type": "code",
   "execution_count": 43,
   "metadata": {},
   "outputs": [
    {
     "name": "stdout",
     "output_type": "stream",
     "text": [
      "╒═════╤═══════════════╤════════════╤══════════╤════════════════════════════════════╤════════╤═══════╤═════════╤═════════╤══════════╤═════════╤═════════════╤════════════╕\n",
      "│     │   PassengerId │   Survived │   Pclass │ Name                               │ Sex    │   Age │   SibSp │   Parch │ Ticket   │    Fare │ Cabin       │ Embarked   │\n",
      "╞═════╪═══════════════╪════════════╪══════════╪════════════════════════════════════╪════════╪═══════╪═════════╪═════════╪══════════╪═════════╪═════════════╪════════════╡\n",
      "│ 258 │           259 │          1 │        1 │ Ward, Miss. Anna                   │ female │    35 │       0 │       0 │ PC 17755 │ 512.329 │ nan         │ C          │\n",
      "├─────┼───────────────┼────────────┼──────────┼────────────────────────────────────┼────────┼───────┼─────────┼─────────┼──────────┼─────────┼─────────────┼────────────┤\n",
      "│ 679 │           680 │          1 │        1 │ Cardeza, Mr. Thomas Drake Martinez │ male   │    36 │       0 │       1 │ PC 17755 │ 512.329 │ B51 B53 B55 │ C          │\n",
      "├─────┼───────────────┼────────────┼──────────┼────────────────────────────────────┼────────┼───────┼─────────┼─────────┼──────────┼─────────┼─────────────┼────────────┤\n",
      "│ 737 │           738 │          1 │        1 │ Lesurer, Mr. Gustave J             │ male   │    35 │       0 │       0 │ PC 17755 │ 512.329 │ B101        │ C          │\n",
      "╘═════╧═══════════════╧════════════╧══════════╧════════════════════════════════════╧════════╧═══════╧═════════╧═════════╧══════════╧═════════╧═════════════╧════════════╛\n"
     ]
    }
   ],
   "source": [
    "mayor_fare = df[df['Fare']==fare_max]\n",
    "print(tabulate(mayor_fare, headers = 'keys', tablefmt = 'fancy_grid'))"
   ]
  },
  {
   "cell_type": "code",
   "execution_count": 44,
   "metadata": {
    "colab": {
     "base_uri": "https://localhost:8080/"
    },
    "executionInfo": {
     "elapsed": 252,
     "status": "ok",
     "timestamp": 1729185523638,
     "user": {
      "displayName": "Breyner Posso Bautista",
      "userId": "13049344394225357947"
     },
     "user_tz": 300
    },
    "id": "h4LUJGx1fQlj",
    "outputId": "dec67fe1-322a-4fc8-dd65-56b5ae2026e3"
   },
   "outputs": [
    {
     "name": "stdout",
     "output_type": "stream",
     "text": [
      "     PassengerId  Survived  Pclass                                  Name  \\\n",
      "630          631         1       1  Barkworth, Mr. Algernon Henry Wilson   \n",
      "\n",
      "      Sex   Age  SibSp  Parch Ticket  Fare Cabin Embarked  \n",
      "630  male  80.0      0      0  27042  30.0   A23        S  \n"
     ]
    }
   ],
   "source": [
    "hombre_mayor = df_male.loc[df_male['Age']==mayor_edad]\n",
    "\n",
    "print(hombre_mayor)"
   ]
  },
  {
   "cell_type": "code",
   "execution_count": 45,
   "metadata": {
    "colab": {
     "base_uri": "https://localhost:8080/"
    },
    "executionInfo": {
     "elapsed": 248,
     "status": "ok",
     "timestamp": 1729185733399,
     "user": {
      "displayName": "Breyner Posso Bautista",
      "userId": "13049344394225357947"
     },
     "user_tz": 300
    },
    "id": "__2nxPXHf5fE",
    "outputId": "a4178a70-d872-4a37-f015-8b98843a102b"
   },
   "outputs": [
    {
     "name": "stdout",
     "output_type": "stream",
     "text": [
      "0.42\n"
     ]
    }
   ],
   "source": [
    "## Vamos a analizar lo que pasó con el hombre de menor edad\n",
    "\n",
    "menor_edad = df_male['Age'].min()\n",
    "\n",
    "print(menor_edad)"
   ]
  },
  {
   "cell_type": "code",
   "execution_count": 46,
   "metadata": {
    "colab": {
     "base_uri": "https://localhost:8080/"
    },
    "executionInfo": {
     "elapsed": 268,
     "status": "ok",
     "timestamp": 1729185772679,
     "user": {
      "displayName": "Breyner Posso Bautista",
      "userId": "13049344394225357947"
     },
     "user_tz": 300
    },
    "id": "llSRWpAegG37",
    "outputId": "5cdfb961-325d-4e19-d12e-f3c7312749cc"
   },
   "outputs": [
    {
     "name": "stdout",
     "output_type": "stream",
     "text": [
      "     PassengerId  Survived  Pclass                             Name   Sex  \\\n",
      "803          804         1       3  Thomas, Master. Assad Alexander  male   \n",
      "\n",
      "      Age  SibSp  Parch Ticket    Fare Cabin Embarked  \n",
      "803  0.42      0      1   2625  8.5167   NaN        C  \n"
     ]
    }
   ],
   "source": [
    "hombre_menor = df_male.loc[df_male['Age']==menor_edad]\n",
    "\n",
    "print(hombre_menor)"
   ]
  },
  {
   "cell_type": "code",
   "execution_count": 47,
   "metadata": {
    "colab": {
     "base_uri": "https://localhost:8080/"
    },
    "executionInfo": {
     "elapsed": 265,
     "status": "ok",
     "timestamp": 1729185654100,
     "user": {
      "displayName": "Breyner Posso Bautista",
      "userId": "13049344394225357947"
     },
     "user_tz": 300
    },
    "id": "F64v4cJPfiCs",
    "outputId": "0e175d32-5fb7-4120-e202-362696934709"
   },
   "outputs": [
    {
     "name": "stdout",
     "output_type": "stream",
     "text": [
      "El promedio de la edad de las mujeres que sobrevivieron es 28.85 años\n",
      "El promedio de la edad de las mujeres que no sobrevivieron es 25.05 años\n"
     ]
    }
   ],
   "source": [
    "## Vamos a hacer lo mismo para las mujeres\n",
    "\n",
    "media_mujeres_survived = df_female_survived['Age'].mean()\n",
    "media_mujeres_no_survived = df_female_no_survived['Age'].mean()\n",
    "\n",
    "print(f'El promedio de la edad de las mujeres que sobrevivieron es {media_mujeres_survived:.2f} años')\n",
    "print(f'El promedio de la edad de las mujeres que no sobrevivieron es {media_mujeres_no_survived:.2f} años')"
   ]
  },
  {
   "cell_type": "code",
   "execution_count": 48,
   "metadata": {
    "colab": {
     "base_uri": "https://localhost:8080/"
    },
    "executionInfo": {
     "elapsed": 246,
     "status": "ok",
     "timestamp": 1729185932004,
     "user": {
      "displayName": "Breyner Posso Bautista",
      "userId": "13049344394225357947"
     },
     "user_tz": 300
    },
    "id": "CV-JWm2agf-8",
    "outputId": "94e9c07f-38c2-4730-e995-896d84ef1623"
   },
   "outputs": [
    {
     "name": "stdout",
     "output_type": "stream",
     "text": [
      "63.0\n",
      "     PassengerId  Survived  Pclass                               Name     Sex  \\\n",
      "275          276         1       1  Andrews, Miss. Kornelia Theodosia  female   \n",
      "483          484         1       3             Turkula, Mrs. (Hedwig)  female   \n",
      "\n",
      "      Age  SibSp  Parch Ticket     Fare Cabin Embarked  \n",
      "275  63.0      1      0  13502  77.9583    D7        S  \n",
      "483  63.0      0      0   4134   9.5875   NaN        S  \n"
     ]
    }
   ],
   "source": [
    "## Vamos a analizar qué pasó con la mujer de mayor edad\n",
    "\n",
    "mayor_edad_f = df_female['Age'].max()\n",
    "\n",
    "print(mayor_edad_f)\n",
    "\n",
    "mujer_mayor = df_female[df_female['Age']==mayor_edad_f]\n",
    "\n",
    "print(mujer_mayor)"
   ]
  },
  {
   "cell_type": "code",
   "execution_count": 49,
   "metadata": {
    "colab": {
     "base_uri": "https://localhost:8080/"
    },
    "executionInfo": {
     "elapsed": 259,
     "status": "ok",
     "timestamp": 1729186012015,
     "user": {
      "displayName": "Breyner Posso Bautista",
      "userId": "13049344394225357947"
     },
     "user_tz": 300
    },
    "id": "E9jnTbr_hExH",
    "outputId": "fb318c64-f705-4e01-eb35-9ec2d5737146"
   },
   "outputs": [
    {
     "name": "stdout",
     "output_type": "stream",
     "text": [
      "╒═════╤═══════════════╤════════════╤══════════╤═══════════════════════════════════╤════════╤═══════╤═════════╤═════════╤══════════╤═════════╤═════════╤════════════╕\n",
      "│     │   PassengerId │   Survived │   Pclass │ Name                              │ Sex    │   Age │   SibSp │   Parch │   Ticket │    Fare │ Cabin   │ Embarked   │\n",
      "╞═════╪═══════════════╪════════════╪══════════╪═══════════════════════════════════╪════════╪═══════╪═════════╪═════════╪══════════╪═════════╪═════════╪════════════╡\n",
      "│ 275 │           276 │          1 │        1 │ Andrews, Miss. Kornelia Theodosia │ female │    63 │       1 │       0 │    13502 │ 77.9583 │ D7      │ S          │\n",
      "├─────┼───────────────┼────────────┼──────────┼───────────────────────────────────┼────────┼───────┼─────────┼─────────┼──────────┼─────────┼─────────┼────────────┤\n",
      "│ 483 │           484 │          1 │        3 │ Turkula, Mrs. (Hedwig)            │ female │    63 │       0 │       0 │     4134 │  9.5875 │ nan     │ S          │\n",
      "╘═════╧═══════════════╧════════════╧══════════╧═══════════════════════════════════╧════════╧═══════╧═════════╧═════════╧══════════╧═════════╧═════════╧════════════╛\n"
     ]
    }
   ],
   "source": [
    "print(tabulate(mujer_mayor, headers = 'keys', tablefmt = 'fancy_grid'))"
   ]
  },
  {
   "cell_type": "code",
   "execution_count": 50,
   "metadata": {
    "colab": {
     "base_uri": "https://localhost:8080/"
    },
    "collapsed": true,
    "executionInfo": {
     "elapsed": 771,
     "status": "ok",
     "timestamp": 1729265387130,
     "user": {
      "displayName": "Breyner Posso Bautista",
      "userId": "13049344394225357947"
     },
     "user_tz": 300
    },
    "id": "NGAmAF77PyxS",
    "outputId": "11819c31-e85e-40bb-c9e1-2f39df76a7db"
   },
   "outputs": [
    {
     "name": "stdout",
     "output_type": "stream",
     "text": [
      "╒═════╤═══════════════╤════════════╤══════════╤═══════════════════════════════════════════════════╤═══════╤════════╤═════════╤═════════╤════════════════════╤══════════╤═════════════╤════════════╕\n",
      "│     │   PassengerId │   Survived │   Pclass │ Name                                              │ Sex   │    Age │   SibSp │   Parch │ Ticket             │     Fare │ Cabin       │ Embarked   │\n",
      "╞═════╪═══════════════╪════════════╪══════════╪═══════════════════════════════════════════════════╪═══════╪════════╪═════════╪═════════╪════════════════════╪══════════╪═════════════╪════════════╡\n",
      "│   0 │             1 │          0 │        3 │ Braund, Mr. Owen Harris                           │ male  │  22    │       1 │       0 │ A/5 21171          │   7.25   │ nan         │ S          │\n",
      "├─────┼───────────────┼────────────┼──────────┼───────────────────────────────────────────────────┼───────┼────────┼─────────┼─────────┼────────────────────┼──────────┼─────────────┼────────────┤\n",
      "│   4 │             5 │          0 │        3 │ Allen, Mr. William Henry                          │ male  │  35    │       0 │       0 │ 373450             │   8.05   │ nan         │ S          │\n",
      "├─────┼───────────────┼────────────┼──────────┼───────────────────────────────────────────────────┼───────┼────────┼─────────┼─────────┼────────────────────┼──────────┼─────────────┼────────────┤\n",
      "│   5 │             6 │          0 │        3 │ Moran, Mr. James                                  │ male  │ nan    │       0 │       0 │ 330877             │   8.4583 │ nan         │ Q          │\n",
      "├─────┼───────────────┼────────────┼──────────┼───────────────────────────────────────────────────┼───────┼────────┼─────────┼─────────┼────────────────────┼──────────┼─────────────┼────────────┤\n",
      "│   6 │             7 │          0 │        1 │ McCarthy, Mr. Timothy J                           │ male  │  54    │       0 │       0 │ 17463              │  51.8625 │ E46         │ S          │\n",
      "├─────┼───────────────┼────────────┼──────────┼───────────────────────────────────────────────────┼───────┼────────┼─────────┼─────────┼────────────────────┼──────────┼─────────────┼────────────┤\n",
      "│   7 │             8 │          0 │        3 │ Palsson, Master. Gosta Leonard                    │ male  │   2    │       3 │       1 │ 349909             │  21.075  │ nan         │ S          │\n",
      "├─────┼───────────────┼────────────┼──────────┼───────────────────────────────────────────────────┼───────┼────────┼─────────┼─────────┼────────────────────┼──────────┼─────────────┼────────────┤\n",
      "│  12 │            13 │          0 │        3 │ Saundercock, Mr. William Henry                    │ male  │  20    │       0 │       0 │ A/5. 2151          │   8.05   │ nan         │ S          │\n",
      "├─────┼───────────────┼────────────┼──────────┼───────────────────────────────────────────────────┼───────┼────────┼─────────┼─────────┼────────────────────┼──────────┼─────────────┼────────────┤\n",
      "│  13 │            14 │          0 │        3 │ Andersson, Mr. Anders Johan                       │ male  │  39    │       1 │       5 │ 347082             │  31.275  │ nan         │ S          │\n",
      "├─────┼───────────────┼────────────┼──────────┼───────────────────────────────────────────────────┼───────┼────────┼─────────┼─────────┼────────────────────┼──────────┼─────────────┼────────────┤\n",
      "│  16 │            17 │          0 │        3 │ Rice, Master. Eugene                              │ male  │   2    │       4 │       1 │ 382652             │  29.125  │ nan         │ Q          │\n",
      "├─────┼───────────────┼────────────┼──────────┼───────────────────────────────────────────────────┼───────┼────────┼─────────┼─────────┼────────────────────┼──────────┼─────────────┼────────────┤\n",
      "│  17 │            18 │          1 │        2 │ Williams, Mr. Charles Eugene                      │ male  │ nan    │       0 │       0 │ 244373             │  13      │ nan         │ S          │\n",
      "├─────┼───────────────┼────────────┼──────────┼───────────────────────────────────────────────────┼───────┼────────┼─────────┼─────────┼────────────────────┼──────────┼─────────────┼────────────┤\n",
      "│  20 │            21 │          0 │        2 │ Fynney, Mr. Joseph J                              │ male  │  35    │       0 │       0 │ 239865             │  26      │ nan         │ S          │\n",
      "├─────┼───────────────┼────────────┼──────────┼───────────────────────────────────────────────────┼───────┼────────┼─────────┼─────────┼────────────────────┼──────────┼─────────────┼────────────┤\n",
      "│  21 │            22 │          1 │        2 │ Beesley, Mr. Lawrence                             │ male  │  34    │       0 │       0 │ 248698             │  13      │ D56         │ S          │\n",
      "├─────┼───────────────┼────────────┼──────────┼───────────────────────────────────────────────────┼───────┼────────┼─────────┼─────────┼────────────────────┼──────────┼─────────────┼────────────┤\n",
      "│  23 │            24 │          1 │        1 │ Sloper, Mr. William Thompson                      │ male  │  28    │       0 │       0 │ 113788             │  35.5    │ A6          │ S          │\n",
      "├─────┼───────────────┼────────────┼──────────┼───────────────────────────────────────────────────┼───────┼────────┼─────────┼─────────┼────────────────────┼──────────┼─────────────┼────────────┤\n",
      "│  26 │            27 │          0 │        3 │ Emir, Mr. Farred Chehab                           │ male  │ nan    │       0 │       0 │ 2631               │   7.225  │ nan         │ C          │\n",
      "├─────┼───────────────┼────────────┼──────────┼───────────────────────────────────────────────────┼───────┼────────┼─────────┼─────────┼────────────────────┼──────────┼─────────────┼────────────┤\n",
      "│  27 │            28 │          0 │        1 │ Fortune, Mr. Charles Alexander                    │ male  │  19    │       3 │       2 │ 19950              │ 263      │ C23 C25 C27 │ S          │\n",
      "├─────┼───────────────┼────────────┼──────────┼───────────────────────────────────────────────────┼───────┼────────┼─────────┼─────────┼────────────────────┼──────────┼─────────────┼────────────┤\n",
      "│  29 │            30 │          0 │        3 │ Todoroff, Mr. Lalio                               │ male  │ nan    │       0 │       0 │ 349216             │   7.8958 │ nan         │ S          │\n",
      "├─────┼───────────────┼────────────┼──────────┼───────────────────────────────────────────────────┼───────┼────────┼─────────┼─────────┼────────────────────┼──────────┼─────────────┼────────────┤\n",
      "│  30 │            31 │          0 │        1 │ Uruchurtu, Don. Manuel E                          │ male  │  40    │       0 │       0 │ PC 17601           │  27.7208 │ nan         │ C          │\n",
      "├─────┼───────────────┼────────────┼──────────┼───────────────────────────────────────────────────┼───────┼────────┼─────────┼─────────┼────────────────────┼──────────┼─────────────┼────────────┤\n",
      "│  33 │            34 │          0 │        2 │ Wheadon, Mr. Edward H                             │ male  │  66    │       0 │       0 │ C.A. 24579         │  10.5    │ nan         │ S          │\n",
      "├─────┼───────────────┼────────────┼──────────┼───────────────────────────────────────────────────┼───────┼────────┼─────────┼─────────┼────────────────────┼──────────┼─────────────┼────────────┤\n",
      "│  34 │            35 │          0 │        1 │ Meyer, Mr. Edgar Joseph                           │ male  │  28    │       1 │       0 │ PC 17604           │  82.1708 │ nan         │ C          │\n",
      "├─────┼───────────────┼────────────┼──────────┼───────────────────────────────────────────────────┼───────┼────────┼─────────┼─────────┼────────────────────┼──────────┼─────────────┼────────────┤\n",
      "│  35 │            36 │          0 │        1 │ Holverson, Mr. Alexander Oskar                    │ male  │  42    │       1 │       0 │ 113789             │  52      │ nan         │ S          │\n",
      "├─────┼───────────────┼────────────┼──────────┼───────────────────────────────────────────────────┼───────┼────────┼─────────┼─────────┼────────────────────┼──────────┼─────────────┼────────────┤\n",
      "│  36 │            37 │          1 │        3 │ Mamee, Mr. Hanna                                  │ male  │ nan    │       0 │       0 │ 2677               │   7.2292 │ nan         │ C          │\n",
      "├─────┼───────────────┼────────────┼──────────┼───────────────────────────────────────────────────┼───────┼────────┼─────────┼─────────┼────────────────────┼──────────┼─────────────┼────────────┤\n",
      "│  37 │            38 │          0 │        3 │ Cann, Mr. Ernest Charles                          │ male  │  21    │       0 │       0 │ A./5. 2152         │   8.05   │ nan         │ S          │\n",
      "├─────┼───────────────┼────────────┼──────────┼───────────────────────────────────────────────────┼───────┼────────┼─────────┼─────────┼────────────────────┼──────────┼─────────────┼────────────┤\n",
      "│  42 │            43 │          0 │        3 │ Kraeff, Mr. Theodor                               │ male  │ nan    │       0 │       0 │ 349253             │   7.8958 │ nan         │ C          │\n",
      "├─────┼───────────────┼────────────┼──────────┼───────────────────────────────────────────────────┼───────┼────────┼─────────┼─────────┼────────────────────┼──────────┼─────────────┼────────────┤\n",
      "│  45 │            46 │          0 │        3 │ Rogers, Mr. William John                          │ male  │ nan    │       0 │       0 │ S.C./A.4. 23567    │   8.05   │ nan         │ S          │\n",
      "├─────┼───────────────┼────────────┼──────────┼───────────────────────────────────────────────────┼───────┼────────┼─────────┼─────────┼────────────────────┼──────────┼─────────────┼────────────┤\n",
      "│  46 │            47 │          0 │        3 │ Lennon, Mr. Denis                                 │ male  │ nan    │       1 │       0 │ 370371             │  15.5    │ nan         │ Q          │\n",
      "├─────┼───────────────┼────────────┼──────────┼───────────────────────────────────────────────────┼───────┼────────┼─────────┼─────────┼────────────────────┼──────────┼─────────────┼────────────┤\n",
      "│  48 │            49 │          0 │        3 │ Samaan, Mr. Youssef                               │ male  │ nan    │       2 │       0 │ 2662               │  21.6792 │ nan         │ C          │\n",
      "├─────┼───────────────┼────────────┼──────────┼───────────────────────────────────────────────────┼───────┼────────┼─────────┼─────────┼────────────────────┼──────────┼─────────────┼────────────┤\n",
      "│  50 │            51 │          0 │        3 │ Panula, Master. Juha Niilo                        │ male  │   7    │       4 │       1 │ 3101295            │  39.6875 │ nan         │ S          │\n",
      "├─────┼───────────────┼────────────┼──────────┼───────────────────────────────────────────────────┼───────┼────────┼─────────┼─────────┼────────────────────┼──────────┼─────────────┼────────────┤\n",
      "│  51 │            52 │          0 │        3 │ Nosworthy, Mr. Richard Cater                      │ male  │  21    │       0 │       0 │ A/4. 39886         │   7.8    │ nan         │ S          │\n",
      "├─────┼───────────────┼────────────┼──────────┼───────────────────────────────────────────────────┼───────┼────────┼─────────┼─────────┼────────────────────┼──────────┼─────────────┼────────────┤\n",
      "│  54 │            55 │          0 │        1 │ Ostby, Mr. Engelhart Cornelius                    │ male  │  65    │       0 │       1 │ 113509             │  61.9792 │ B30         │ C          │\n",
      "├─────┼───────────────┼────────────┼──────────┼───────────────────────────────────────────────────┼───────┼────────┼─────────┼─────────┼────────────────────┼──────────┼─────────────┼────────────┤\n",
      "│  55 │            56 │          1 │        1 │ Woolner, Mr. Hugh                                 │ male  │ nan    │       0 │       0 │ 19947              │  35.5    │ C52         │ S          │\n",
      "├─────┼───────────────┼────────────┼──────────┼───────────────────────────────────────────────────┼───────┼────────┼─────────┼─────────┼────────────────────┼──────────┼─────────────┼────────────┤\n",
      "│  57 │            58 │          0 │        3 │ Novel, Mr. Mansouer                               │ male  │  28.5  │       0 │       0 │ 2697               │   7.2292 │ nan         │ C          │\n",
      "├─────┼───────────────┼────────────┼──────────┼───────────────────────────────────────────────────┼───────┼────────┼─────────┼─────────┼────────────────────┼──────────┼─────────────┼────────────┤\n",
      "│  59 │            60 │          0 │        3 │ Goodwin, Master. William Frederick                │ male  │  11    │       5 │       2 │ CA 2144            │  46.9    │ nan         │ S          │\n",
      "├─────┼───────────────┼────────────┼──────────┼───────────────────────────────────────────────────┼───────┼────────┼─────────┼─────────┼────────────────────┼──────────┼─────────────┼────────────┤\n",
      "│  60 │            61 │          0 │        3 │ Sirayanian, Mr. Orsen                             │ male  │  22    │       0 │       0 │ 2669               │   7.2292 │ nan         │ C          │\n",
      "├─────┼───────────────┼────────────┼──────────┼───────────────────────────────────────────────────┼───────┼────────┼─────────┼─────────┼────────────────────┼──────────┼─────────────┼────────────┤\n",
      "│  62 │            63 │          0 │        1 │ Harris, Mr. Henry Birkhardt                       │ male  │  45    │       1 │       0 │ 36973              │  83.475  │ C83         │ S          │\n",
      "├─────┼───────────────┼────────────┼──────────┼───────────────────────────────────────────────────┼───────┼────────┼─────────┼─────────┼────────────────────┼──────────┼─────────────┼────────────┤\n",
      "│  63 │            64 │          0 │        3 │ Skoog, Master. Harald                             │ male  │   4    │       3 │       2 │ 347088             │  27.9    │ nan         │ S          │\n",
      "├─────┼───────────────┼────────────┼──────────┼───────────────────────────────────────────────────┼───────┼────────┼─────────┼─────────┼────────────────────┼──────────┼─────────────┼────────────┤\n",
      "│  64 │            65 │          0 │        1 │ Stewart, Mr. Albert A                             │ male  │ nan    │       0 │       0 │ PC 17605           │  27.7208 │ nan         │ C          │\n",
      "├─────┼───────────────┼────────────┼──────────┼───────────────────────────────────────────────────┼───────┼────────┼─────────┼─────────┼────────────────────┼──────────┼─────────────┼────────────┤\n",
      "│  65 │            66 │          1 │        3 │ Moubarek, Master. Gerios                          │ male  │ nan    │       1 │       1 │ 2661               │  15.2458 │ nan         │ C          │\n",
      "├─────┼───────────────┼────────────┼──────────┼───────────────────────────────────────────────────┼───────┼────────┼─────────┼─────────┼────────────────────┼──────────┼─────────────┼────────────┤\n",
      "│  67 │            68 │          0 │        3 │ Crease, Mr. Ernest James                          │ male  │  19    │       0 │       0 │ S.P. 3464          │   8.1583 │ nan         │ S          │\n",
      "├─────┼───────────────┼────────────┼──────────┼───────────────────────────────────────────────────┼───────┼────────┼─────────┼─────────┼────────────────────┼──────────┼─────────────┼────────────┤\n",
      "│  69 │            70 │          0 │        3 │ Kink, Mr. Vincenz                                 │ male  │  26    │       2 │       0 │ 315151             │   8.6625 │ nan         │ S          │\n",
      "├─────┼───────────────┼────────────┼──────────┼───────────────────────────────────────────────────┼───────┼────────┼─────────┼─────────┼────────────────────┼──────────┼─────────────┼────────────┤\n",
      "│  70 │            71 │          0 │        2 │ Jenkin, Mr. Stephen Curnow                        │ male  │  32    │       0 │       0 │ C.A. 33111         │  10.5    │ nan         │ S          │\n",
      "├─────┼───────────────┼────────────┼──────────┼───────────────────────────────────────────────────┼───────┼────────┼─────────┼─────────┼────────────────────┼──────────┼─────────────┼────────────┤\n",
      "│  72 │            73 │          0 │        2 │ Hood, Mr. Ambrose Jr                              │ male  │  21    │       0 │       0 │ S.O.C. 14879       │  73.5    │ nan         │ S          │\n",
      "├─────┼───────────────┼────────────┼──────────┼───────────────────────────────────────────────────┼───────┼────────┼─────────┼─────────┼────────────────────┼──────────┼─────────────┼────────────┤\n",
      "│  73 │            74 │          0 │        3 │ Chronopoulos, Mr. Apostolos                       │ male  │  26    │       1 │       0 │ 2680               │  14.4542 │ nan         │ C          │\n",
      "├─────┼───────────────┼────────────┼──────────┼───────────────────────────────────────────────────┼───────┼────────┼─────────┼─────────┼────────────────────┼──────────┼─────────────┼────────────┤\n",
      "│  74 │            75 │          1 │        3 │ Bing, Mr. Lee                                     │ male  │  32    │       0 │       0 │ 1601               │  56.4958 │ nan         │ S          │\n",
      "├─────┼───────────────┼────────────┼──────────┼───────────────────────────────────────────────────┼───────┼────────┼─────────┼─────────┼────────────────────┼──────────┼─────────────┼────────────┤\n",
      "│  75 │            76 │          0 │        3 │ Moen, Mr. Sigurd Hansen                           │ male  │  25    │       0 │       0 │ 348123             │   7.65   │ F G73       │ S          │\n",
      "├─────┼───────────────┼────────────┼──────────┼───────────────────────────────────────────────────┼───────┼────────┼─────────┼─────────┼────────────────────┼──────────┼─────────────┼────────────┤\n",
      "│  76 │            77 │          0 │        3 │ Staneff, Mr. Ivan                                 │ male  │ nan    │       0 │       0 │ 349208             │   7.8958 │ nan         │ S          │\n",
      "├─────┼───────────────┼────────────┼──────────┼───────────────────────────────────────────────────┼───────┼────────┼─────────┼─────────┼────────────────────┼──────────┼─────────────┼────────────┤\n",
      "│  77 │            78 │          0 │        3 │ Moutal, Mr. Rahamin Haim                          │ male  │ nan    │       0 │       0 │ 374746             │   8.05   │ nan         │ S          │\n",
      "├─────┼───────────────┼────────────┼──────────┼───────────────────────────────────────────────────┼───────┼────────┼─────────┼─────────┼────────────────────┼──────────┼─────────────┼────────────┤\n",
      "│  78 │            79 │          1 │        2 │ Caldwell, Master. Alden Gates                     │ male  │   0.83 │       0 │       2 │ 248738             │  29      │ nan         │ S          │\n",
      "├─────┼───────────────┼────────────┼──────────┼───────────────────────────────────────────────────┼───────┼────────┼─────────┼─────────┼────────────────────┼──────────┼─────────────┼────────────┤\n",
      "│  80 │            81 │          0 │        3 │ Waelens, Mr. Achille                              │ male  │  22    │       0 │       0 │ 345767             │   9      │ nan         │ S          │\n",
      "├─────┼───────────────┼────────────┼──────────┼───────────────────────────────────────────────────┼───────┼────────┼─────────┼─────────┼────────────────────┼──────────┼─────────────┼────────────┤\n",
      "│  81 │            82 │          1 │        3 │ Sheerlinck, Mr. Jan Baptist                       │ male  │  29    │       0 │       0 │ 345779             │   9.5    │ nan         │ S          │\n",
      "├─────┼───────────────┼────────────┼──────────┼───────────────────────────────────────────────────┼───────┼────────┼─────────┼─────────┼────────────────────┼──────────┼─────────────┼────────────┤\n",
      "│  83 │            84 │          0 │        1 │ Carrau, Mr. Francisco M                           │ male  │  28    │       0 │       0 │ 113059             │  47.1    │ nan         │ S          │\n",
      "├─────┼───────────────┼────────────┼──────────┼───────────────────────────────────────────────────┼───────┼────────┼─────────┼─────────┼────────────────────┼──────────┼─────────────┼────────────┤\n",
      "│  86 │            87 │          0 │        3 │ Ford, Mr. William Neal                            │ male  │  16    │       1 │       3 │ W./C. 6608         │  34.375  │ nan         │ S          │\n",
      "├─────┼───────────────┼────────────┼──────────┼───────────────────────────────────────────────────┼───────┼────────┼─────────┼─────────┼────────────────────┼──────────┼─────────────┼────────────┤\n",
      "│  87 │            88 │          0 │        3 │ Slocovski, Mr. Selman Francis                     │ male  │ nan    │       0 │       0 │ SOTON/OQ 392086    │   8.05   │ nan         │ S          │\n",
      "├─────┼───────────────┼────────────┼──────────┼───────────────────────────────────────────────────┼───────┼────────┼─────────┼─────────┼────────────────────┼──────────┼─────────────┼────────────┤\n",
      "│  89 │            90 │          0 │        3 │ Celotti, Mr. Francesco                            │ male  │  24    │       0 │       0 │ 343275             │   8.05   │ nan         │ S          │\n",
      "├─────┼───────────────┼────────────┼──────────┼───────────────────────────────────────────────────┼───────┼────────┼─────────┼─────────┼────────────────────┼──────────┼─────────────┼────────────┤\n",
      "│  90 │            91 │          0 │        3 │ Christmann, Mr. Emil                              │ male  │  29    │       0 │       0 │ 343276             │   8.05   │ nan         │ S          │\n",
      "├─────┼───────────────┼────────────┼──────────┼───────────────────────────────────────────────────┼───────┼────────┼─────────┼─────────┼────────────────────┼──────────┼─────────────┼────────────┤\n",
      "│  91 │            92 │          0 │        3 │ Andreasson, Mr. Paul Edvin                        │ male  │  20    │       0 │       0 │ 347466             │   7.8542 │ nan         │ S          │\n",
      "├─────┼───────────────┼────────────┼──────────┼───────────────────────────────────────────────────┼───────┼────────┼─────────┼─────────┼────────────────────┼──────────┼─────────────┼────────────┤\n",
      "│  92 │            93 │          0 │        1 │ Chaffee, Mr. Herbert Fuller                       │ male  │  46    │       1 │       0 │ W.E.P. 5734        │  61.175  │ E31         │ S          │\n",
      "├─────┼───────────────┼────────────┼──────────┼───────────────────────────────────────────────────┼───────┼────────┼─────────┼─────────┼────────────────────┼──────────┼─────────────┼────────────┤\n",
      "│  93 │            94 │          0 │        3 │ Dean, Mr. Bertram Frank                           │ male  │  26    │       1 │       2 │ C.A. 2315          │  20.575  │ nan         │ S          │\n",
      "├─────┼───────────────┼────────────┼──────────┼───────────────────────────────────────────────────┼───────┼────────┼─────────┼─────────┼────────────────────┼──────────┼─────────────┼────────────┤\n",
      "│  94 │            95 │          0 │        3 │ Coxon, Mr. Daniel                                 │ male  │  59    │       0 │       0 │ 364500             │   7.25   │ nan         │ S          │\n",
      "├─────┼───────────────┼────────────┼──────────┼───────────────────────────────────────────────────┼───────┼────────┼─────────┼─────────┼────────────────────┼──────────┼─────────────┼────────────┤\n",
      "│  95 │            96 │          0 │        3 │ Shorney, Mr. Charles Joseph                       │ male  │ nan    │       0 │       0 │ 374910             │   8.05   │ nan         │ S          │\n",
      "├─────┼───────────────┼────────────┼──────────┼───────────────────────────────────────────────────┼───────┼────────┼─────────┼─────────┼────────────────────┼──────────┼─────────────┼────────────┤\n",
      "│  96 │            97 │          0 │        1 │ Goldschmidt, Mr. George B                         │ male  │  71    │       0 │       0 │ PC 17754           │  34.6542 │ A5          │ C          │\n",
      "├─────┼───────────────┼────────────┼──────────┼───────────────────────────────────────────────────┼───────┼────────┼─────────┼─────────┼────────────────────┼──────────┼─────────────┼────────────┤\n",
      "│  97 │            98 │          1 │        1 │ Greenfield, Mr. William Bertram                   │ male  │  23    │       0 │       1 │ PC 17759           │  63.3583 │ D10 D12     │ C          │\n",
      "├─────┼───────────────┼────────────┼──────────┼───────────────────────────────────────────────────┼───────┼────────┼─────────┼─────────┼────────────────────┼──────────┼─────────────┼────────────┤\n",
      "│  99 │           100 │          0 │        2 │ Kantor, Mr. Sinai                                 │ male  │  34    │       1 │       0 │ 244367             │  26      │ nan         │ S          │\n",
      "├─────┼───────────────┼────────────┼──────────┼───────────────────────────────────────────────────┼───────┼────────┼─────────┼─────────┼────────────────────┼──────────┼─────────────┼────────────┤\n",
      "│ 101 │           102 │          0 │        3 │ Petroff, Mr. Pastcho (\"Pentcho\")                  │ male  │ nan    │       0 │       0 │ 349215             │   7.8958 │ nan         │ S          │\n",
      "├─────┼───────────────┼────────────┼──────────┼───────────────────────────────────────────────────┼───────┼────────┼─────────┼─────────┼────────────────────┼──────────┼─────────────┼────────────┤\n",
      "│ 102 │           103 │          0 │        1 │ White, Mr. Richard Frasar                         │ male  │  21    │       0 │       1 │ 35281              │  77.2875 │ D26         │ S          │\n",
      "├─────┼───────────────┼────────────┼──────────┼───────────────────────────────────────────────────┼───────┼────────┼─────────┼─────────┼────────────────────┼──────────┼─────────────┼────────────┤\n",
      "│ 103 │           104 │          0 │        3 │ Johansson, Mr. Gustaf Joel                        │ male  │  33    │       0 │       0 │ 7540               │   8.6542 │ nan         │ S          │\n",
      "├─────┼───────────────┼────────────┼──────────┼───────────────────────────────────────────────────┼───────┼────────┼─────────┼─────────┼────────────────────┼──────────┼─────────────┼────────────┤\n",
      "│ 104 │           105 │          0 │        3 │ Gustafsson, Mr. Anders Vilhelm                    │ male  │  37    │       2 │       0 │ 3101276            │   7.925  │ nan         │ S          │\n",
      "├─────┼───────────────┼────────────┼──────────┼───────────────────────────────────────────────────┼───────┼────────┼─────────┼─────────┼────────────────────┼──────────┼─────────────┼────────────┤\n",
      "│ 105 │           106 │          0 │        3 │ Mionoff, Mr. Stoytcho                             │ male  │  28    │       0 │       0 │ 349207             │   7.8958 │ nan         │ S          │\n",
      "├─────┼───────────────┼────────────┼──────────┼───────────────────────────────────────────────────┼───────┼────────┼─────────┼─────────┼────────────────────┼──────────┼─────────────┼────────────┤\n",
      "│ 107 │           108 │          1 │        3 │ Moss, Mr. Albert Johan                            │ male  │ nan    │       0 │       0 │ 312991             │   7.775  │ nan         │ S          │\n",
      "├─────┼───────────────┼────────────┼──────────┼───────────────────────────────────────────────────┼───────┼────────┼─────────┼─────────┼────────────────────┼──────────┼─────────────┼────────────┤\n",
      "│ 108 │           109 │          0 │        3 │ Rekic, Mr. Tido                                   │ male  │  38    │       0 │       0 │ 349249             │   7.8958 │ nan         │ S          │\n",
      "├─────┼───────────────┼────────────┼──────────┼───────────────────────────────────────────────────┼───────┼────────┼─────────┼─────────┼────────────────────┼──────────┼─────────────┼────────────┤\n",
      "│ 110 │           111 │          0 │        1 │ Porter, Mr. Walter Chamberlain                    │ male  │  47    │       0 │       0 │ 110465             │  52      │ C110        │ S          │\n",
      "├─────┼───────────────┼────────────┼──────────┼───────────────────────────────────────────────────┼───────┼────────┼─────────┼─────────┼────────────────────┼──────────┼─────────────┼────────────┤\n",
      "│ 112 │           113 │          0 │        3 │ Barton, Mr. David John                            │ male  │  22    │       0 │       0 │ 324669             │   8.05   │ nan         │ S          │\n",
      "├─────┼───────────────┼────────────┼──────────┼───────────────────────────────────────────────────┼───────┼────────┼─────────┼─────────┼────────────────────┼──────────┼─────────────┼────────────┤\n",
      "│ 115 │           116 │          0 │        3 │ Pekoniemi, Mr. Edvard                             │ male  │  21    │       0 │       0 │ STON/O 2. 3101294  │   7.925  │ nan         │ S          │\n",
      "├─────┼───────────────┼────────────┼──────────┼───────────────────────────────────────────────────┼───────┼────────┼─────────┼─────────┼────────────────────┼──────────┼─────────────┼────────────┤\n",
      "│ 116 │           117 │          0 │        3 │ Connors, Mr. Patrick                              │ male  │  70.5  │       0 │       0 │ 370369             │   7.75   │ nan         │ Q          │\n",
      "├─────┼───────────────┼────────────┼──────────┼───────────────────────────────────────────────────┼───────┼────────┼─────────┼─────────┼────────────────────┼──────────┼─────────────┼────────────┤\n",
      "│ 117 │           118 │          0 │        2 │ Turpin, Mr. William John Robert                   │ male  │  29    │       1 │       0 │ 11668              │  21      │ nan         │ S          │\n",
      "├─────┼───────────────┼────────────┼──────────┼───────────────────────────────────────────────────┼───────┼────────┼─────────┼─────────┼────────────────────┼──────────┼─────────────┼────────────┤\n",
      "│ 118 │           119 │          0 │        1 │ Baxter, Mr. Quigg Edmond                          │ male  │  24    │       0 │       1 │ PC 17558           │ 247.521  │ B58 B60     │ C          │\n",
      "├─────┼───────────────┼────────────┼──────────┼───────────────────────────────────────────────────┼───────┼────────┼─────────┼─────────┼────────────────────┼──────────┼─────────────┼────────────┤\n",
      "│ 120 │           121 │          0 │        2 │ Hickman, Mr. Stanley George                       │ male  │  21    │       2 │       0 │ S.O.C. 14879       │  73.5    │ nan         │ S          │\n",
      "├─────┼───────────────┼────────────┼──────────┼───────────────────────────────────────────────────┼───────┼────────┼─────────┼─────────┼────────────────────┼──────────┼─────────────┼────────────┤\n",
      "│ 121 │           122 │          0 │        3 │ Moore, Mr. Leonard Charles                        │ male  │ nan    │       0 │       0 │ A4. 54510          │   8.05   │ nan         │ S          │\n",
      "├─────┼───────────────┼────────────┼──────────┼───────────────────────────────────────────────────┼───────┼────────┼─────────┼─────────┼────────────────────┼──────────┼─────────────┼────────────┤\n",
      "│ 122 │           123 │          0 │        2 │ Nasser, Mr. Nicholas                              │ male  │  32.5  │       1 │       0 │ 237736             │  30.0708 │ nan         │ C          │\n",
      "├─────┼───────────────┼────────────┼──────────┼───────────────────────────────────────────────────┼───────┼────────┼─────────┼─────────┼────────────────────┼──────────┼─────────────┼────────────┤\n",
      "│ 124 │           125 │          0 │        1 │ White, Mr. Percival Wayland                       │ male  │  54    │       0 │       1 │ 35281              │  77.2875 │ D26         │ S          │\n",
      "├─────┼───────────────┼────────────┼──────────┼───────────────────────────────────────────────────┼───────┼────────┼─────────┼─────────┼────────────────────┼──────────┼─────────────┼────────────┤\n",
      "│ 125 │           126 │          1 │        3 │ Nicola-Yarred, Master. Elias                      │ male  │  12    │       1 │       0 │ 2651               │  11.2417 │ nan         │ C          │\n",
      "├─────┼───────────────┼────────────┼──────────┼───────────────────────────────────────────────────┼───────┼────────┼─────────┼─────────┼────────────────────┼──────────┼─────────────┼────────────┤\n",
      "│ 126 │           127 │          0 │        3 │ McMahon, Mr. Martin                               │ male  │ nan    │       0 │       0 │ 370372             │   7.75   │ nan         │ Q          │\n",
      "├─────┼───────────────┼────────────┼──────────┼───────────────────────────────────────────────────┼───────┼────────┼─────────┼─────────┼────────────────────┼──────────┼─────────────┼────────────┤\n",
      "│ 127 │           128 │          1 │        3 │ Madsen, Mr. Fridtjof Arne                         │ male  │  24    │       0 │       0 │ C 17369            │   7.1417 │ nan         │ S          │\n",
      "├─────┼───────────────┼────────────┼──────────┼───────────────────────────────────────────────────┼───────┼────────┼─────────┼─────────┼────────────────────┼──────────┼─────────────┼────────────┤\n",
      "│ 129 │           130 │          0 │        3 │ Ekstrom, Mr. Johan                                │ male  │  45    │       0 │       0 │ 347061             │   6.975  │ nan         │ S          │\n",
      "├─────┼───────────────┼────────────┼──────────┼───────────────────────────────────────────────────┼───────┼────────┼─────────┼─────────┼────────────────────┼──────────┼─────────────┼────────────┤\n",
      "│ 130 │           131 │          0 │        3 │ Drazenoic, Mr. Jozef                              │ male  │  33    │       0 │       0 │ 349241             │   7.8958 │ nan         │ C          │\n",
      "├─────┼───────────────┼────────────┼──────────┼───────────────────────────────────────────────────┼───────┼────────┼─────────┼─────────┼────────────────────┼──────────┼─────────────┼────────────┤\n",
      "│ 131 │           132 │          0 │        3 │ Coelho, Mr. Domingos Fernandeo                    │ male  │  20    │       0 │       0 │ SOTON/O.Q. 3101307 │   7.05   │ nan         │ S          │\n",
      "├─────┼───────────────┼────────────┼──────────┼───────────────────────────────────────────────────┼───────┼────────┼─────────┼─────────┼────────────────────┼──────────┼─────────────┼────────────┤\n",
      "│ 134 │           135 │          0 │        2 │ Sobey, Mr. Samuel James Hayden                    │ male  │  25    │       0 │       0 │ C.A. 29178         │  13      │ nan         │ S          │\n",
      "├─────┼───────────────┼────────────┼──────────┼───────────────────────────────────────────────────┼───────┼────────┼─────────┼─────────┼────────────────────┼──────────┼─────────────┼────────────┤\n",
      "│ 135 │           136 │          0 │        2 │ Richard, Mr. Emile                                │ male  │  23    │       0 │       0 │ SC/PARIS 2133      │  15.0458 │ nan         │ C          │\n",
      "├─────┼───────────────┼────────────┼──────────┼───────────────────────────────────────────────────┼───────┼────────┼─────────┼─────────┼────────────────────┼──────────┼─────────────┼────────────┤\n",
      "│ 137 │           138 │          0 │        1 │ Futrelle, Mr. Jacques Heath                       │ male  │  37    │       1 │       0 │ 113803             │  53.1    │ C123        │ S          │\n",
      "├─────┼───────────────┼────────────┼──────────┼───────────────────────────────────────────────────┼───────┼────────┼─────────┼─────────┼────────────────────┼──────────┼─────────────┼────────────┤\n",
      "│ 138 │           139 │          0 │        3 │ Osen, Mr. Olaf Elon                               │ male  │  16    │       0 │       0 │ 7534               │   9.2167 │ nan         │ S          │\n",
      "├─────┼───────────────┼────────────┼──────────┼───────────────────────────────────────────────────┼───────┼────────┼─────────┼─────────┼────────────────────┼──────────┼─────────────┼────────────┤\n",
      "│ 139 │           140 │          0 │        1 │ Giglio, Mr. Victor                                │ male  │  24    │       0 │       0 │ PC 17593           │  79.2    │ B86         │ C          │\n",
      "├─────┼───────────────┼────────────┼──────────┼───────────────────────────────────────────────────┼───────┼────────┼─────────┼─────────┼────────────────────┼──────────┼─────────────┼────────────┤\n",
      "│ 143 │           144 │          0 │        3 │ Burke, Mr. Jeremiah                               │ male  │  19    │       0 │       0 │ 365222             │   6.75   │ nan         │ Q          │\n",
      "├─────┼───────────────┼────────────┼──────────┼───────────────────────────────────────────────────┼───────┼────────┼─────────┼─────────┼────────────────────┼──────────┼─────────────┼────────────┤\n",
      "│ 144 │           145 │          0 │        2 │ Andrew, Mr. Edgardo Samuel                        │ male  │  18    │       0 │       0 │ 231945             │  11.5    │ nan         │ S          │\n",
      "├─────┼───────────────┼────────────┼──────────┼───────────────────────────────────────────────────┼───────┼────────┼─────────┼─────────┼────────────────────┼──────────┼─────────────┼────────────┤\n",
      "│ 145 │           146 │          0 │        2 │ Nicholls, Mr. Joseph Charles                      │ male  │  19    │       1 │       1 │ C.A. 33112         │  36.75   │ nan         │ S          │\n",
      "├─────┼───────────────┼────────────┼──────────┼───────────────────────────────────────────────────┼───────┼────────┼─────────┼─────────┼────────────────────┼──────────┼─────────────┼────────────┤\n",
      "│ 146 │           147 │          1 │        3 │ Andersson, Mr. August Edvard (\"Wennerstrom\")      │ male  │  27    │       0 │       0 │ 350043             │   7.7958 │ nan         │ S          │\n",
      "├─────┼───────────────┼────────────┼──────────┼───────────────────────────────────────────────────┼───────┼────────┼─────────┼─────────┼────────────────────┼──────────┼─────────────┼────────────┤\n",
      "│ 148 │           149 │          0 │        2 │ Navratil, Mr. Michel (\"Louis M Hoffman\")          │ male  │  36.5  │       0 │       2 │ 230080             │  26      │ F2          │ S          │\n",
      "├─────┼───────────────┼────────────┼──────────┼───────────────────────────────────────────────────┼───────┼────────┼─────────┼─────────┼────────────────────┼──────────┼─────────────┼────────────┤\n",
      "│ 149 │           150 │          0 │        2 │ Byles, Rev. Thomas Roussel Davids                 │ male  │  42    │       0 │       0 │ 244310             │  13      │ nan         │ S          │\n",
      "├─────┼───────────────┼────────────┼──────────┼───────────────────────────────────────────────────┼───────┼────────┼─────────┼─────────┼────────────────────┼──────────┼─────────────┼────────────┤\n",
      "│ 150 │           151 │          0 │        2 │ Bateman, Rev. Robert James                        │ male  │  51    │       0 │       0 │ S.O.P. 1166        │  12.525  │ nan         │ S          │\n",
      "├─────┼───────────────┼────────────┼──────────┼───────────────────────────────────────────────────┼───────┼────────┼─────────┼─────────┼────────────────────┼──────────┼─────────────┼────────────┤\n",
      "│ 152 │           153 │          0 │        3 │ Meo, Mr. Alfonzo                                  │ male  │  55.5  │       0 │       0 │ A.5. 11206         │   8.05   │ nan         │ S          │\n",
      "├─────┼───────────────┼────────────┼──────────┼───────────────────────────────────────────────────┼───────┼────────┼─────────┼─────────┼────────────────────┼──────────┼─────────────┼────────────┤\n",
      "│ 153 │           154 │          0 │        3 │ van Billiard, Mr. Austin Blyler                   │ male  │  40.5  │       0 │       2 │ A/5. 851           │  14.5    │ nan         │ S          │\n",
      "├─────┼───────────────┼────────────┼──────────┼───────────────────────────────────────────────────┼───────┼────────┼─────────┼─────────┼────────────────────┼──────────┼─────────────┼────────────┤\n",
      "│ 154 │           155 │          0 │        3 │ Olsen, Mr. Ole Martin                             │ male  │ nan    │       0 │       0 │ Fa 265302          │   7.3125 │ nan         │ S          │\n",
      "├─────┼───────────────┼────────────┼──────────┼───────────────────────────────────────────────────┼───────┼────────┼─────────┼─────────┼────────────────────┼──────────┼─────────────┼────────────┤\n",
      "│ 155 │           156 │          0 │        1 │ Williams, Mr. Charles Duane                       │ male  │  51    │       0 │       1 │ PC 17597           │  61.3792 │ nan         │ C          │\n",
      "├─────┼───────────────┼────────────┼──────────┼───────────────────────────────────────────────────┼───────┼────────┼─────────┼─────────┼────────────────────┼──────────┼─────────────┼────────────┤\n",
      "│ 157 │           158 │          0 │        3 │ Corn, Mr. Harry                                   │ male  │  30    │       0 │       0 │ SOTON/OQ 392090    │   8.05   │ nan         │ S          │\n",
      "├─────┼───────────────┼────────────┼──────────┼───────────────────────────────────────────────────┼───────┼────────┼─────────┼─────────┼────────────────────┼──────────┼─────────────┼────────────┤\n",
      "│ 158 │           159 │          0 │        3 │ Smiljanic, Mr. Mile                               │ male  │ nan    │       0 │       0 │ 315037             │   8.6625 │ nan         │ S          │\n",
      "├─────┼───────────────┼────────────┼──────────┼───────────────────────────────────────────────────┼───────┼────────┼─────────┼─────────┼────────────────────┼──────────┼─────────────┼────────────┤\n",
      "│ 159 │           160 │          0 │        3 │ Sage, Master. Thomas Henry                        │ male  │ nan    │       8 │       2 │ CA. 2343           │  69.55   │ nan         │ S          │\n",
      "├─────┼───────────────┼────────────┼──────────┼───────────────────────────────────────────────────┼───────┼────────┼─────────┼─────────┼────────────────────┼──────────┼─────────────┼────────────┤\n",
      "│ 160 │           161 │          0 │        3 │ Cribb, Mr. John Hatfield                          │ male  │  44    │       0 │       1 │ 371362             │  16.1    │ nan         │ S          │\n",
      "├─────┼───────────────┼────────────┼──────────┼───────────────────────────────────────────────────┼───────┼────────┼─────────┼─────────┼────────────────────┼──────────┼─────────────┼────────────┤\n",
      "│ 162 │           163 │          0 │        3 │ Bengtsson, Mr. John Viktor                        │ male  │  26    │       0 │       0 │ 347068             │   7.775  │ nan         │ S          │\n",
      "├─────┼───────────────┼────────────┼──────────┼───────────────────────────────────────────────────┼───────┼────────┼─────────┼─────────┼────────────────────┼──────────┼─────────────┼────────────┤\n",
      "│ 163 │           164 │          0 │        3 │ Calic, Mr. Jovo                                   │ male  │  17    │       0 │       0 │ 315093             │   8.6625 │ nan         │ S          │\n",
      "├─────┼───────────────┼────────────┼──────────┼───────────────────────────────────────────────────┼───────┼────────┼─────────┼─────────┼────────────────────┼──────────┼─────────────┼────────────┤\n",
      "│ 164 │           165 │          0 │        3 │ Panula, Master. Eino Viljami                      │ male  │   1    │       4 │       1 │ 3101295            │  39.6875 │ nan         │ S          │\n",
      "├─────┼───────────────┼────────────┼──────────┼───────────────────────────────────────────────────┼───────┼────────┼─────────┼─────────┼────────────────────┼──────────┼─────────────┼────────────┤\n",
      "│ 165 │           166 │          1 │        3 │ Goldsmith, Master. Frank John William \"Frankie\"   │ male  │   9    │       0 │       2 │ 363291             │  20.525  │ nan         │ S          │\n",
      "├─────┼───────────────┼────────────┼──────────┼───────────────────────────────────────────────────┼───────┼────────┼─────────┼─────────┼────────────────────┼──────────┼─────────────┼────────────┤\n",
      "│ 168 │           169 │          0 │        1 │ Baumann, Mr. John D                               │ male  │ nan    │       0 │       0 │ PC 17318           │  25.925  │ nan         │ S          │\n",
      "├─────┼───────────────┼────────────┼──────────┼───────────────────────────────────────────────────┼───────┼────────┼─────────┼─────────┼────────────────────┼──────────┼─────────────┼────────────┤\n",
      "│ 169 │           170 │          0 │        3 │ Ling, Mr. Lee                                     │ male  │  28    │       0 │       0 │ 1601               │  56.4958 │ nan         │ S          │\n",
      "├─────┼───────────────┼────────────┼──────────┼───────────────────────────────────────────────────┼───────┼────────┼─────────┼─────────┼────────────────────┼──────────┼─────────────┼────────────┤\n",
      "│ 170 │           171 │          0 │        1 │ Van der hoef, Mr. Wyckoff                         │ male  │  61    │       0 │       0 │ 111240             │  33.5    │ B19         │ S          │\n",
      "├─────┼───────────────┼────────────┼──────────┼───────────────────────────────────────────────────┼───────┼────────┼─────────┼─────────┼────────────────────┼──────────┼─────────────┼────────────┤\n",
      "│ 171 │           172 │          0 │        3 │ Rice, Master. Arthur                              │ male  │   4    │       4 │       1 │ 382652             │  29.125  │ nan         │ Q          │\n",
      "├─────┼───────────────┼────────────┼──────────┼───────────────────────────────────────────────────┼───────┼────────┼─────────┼─────────┼────────────────────┼──────────┼─────────────┼────────────┤\n",
      "│ 173 │           174 │          0 │        3 │ Sivola, Mr. Antti Wilhelm                         │ male  │  21    │       0 │       0 │ STON/O 2. 3101280  │   7.925  │ nan         │ S          │\n",
      "├─────┼───────────────┼────────────┼──────────┼───────────────────────────────────────────────────┼───────┼────────┼─────────┼─────────┼────────────────────┼──────────┼─────────────┼────────────┤\n",
      "│ 174 │           175 │          0 │        1 │ Smith, Mr. James Clinch                           │ male  │  56    │       0 │       0 │ 17764              │  30.6958 │ A7          │ C          │\n",
      "├─────┼───────────────┼────────────┼──────────┼───────────────────────────────────────────────────┼───────┼────────┼─────────┼─────────┼────────────────────┼──────────┼─────────────┼────────────┤\n",
      "│ 175 │           176 │          0 │        3 │ Klasen, Mr. Klas Albin                            │ male  │  18    │       1 │       1 │ 350404             │   7.8542 │ nan         │ S          │\n",
      "├─────┼───────────────┼────────────┼──────────┼───────────────────────────────────────────────────┼───────┼────────┼─────────┼─────────┼────────────────────┼──────────┼─────────────┼────────────┤\n",
      "│ 176 │           177 │          0 │        3 │ Lefebre, Master. Henry Forbes                     │ male  │ nan    │       3 │       1 │ 4133               │  25.4667 │ nan         │ S          │\n",
      "├─────┼───────────────┼────────────┼──────────┼───────────────────────────────────────────────────┼───────┼────────┼─────────┼─────────┼────────────────────┼──────────┼─────────────┼────────────┤\n",
      "│ 178 │           179 │          0 │        2 │ Hale, Mr. Reginald                                │ male  │  30    │       0 │       0 │ 250653             │  13      │ nan         │ S          │\n",
      "├─────┼───────────────┼────────────┼──────────┼───────────────────────────────────────────────────┼───────┼────────┼─────────┼─────────┼────────────────────┼──────────┼─────────────┼────────────┤\n",
      "│ 179 │           180 │          0 │        3 │ Leonard, Mr. Lionel                               │ male  │  36    │       0 │       0 │ LINE               │   0      │ nan         │ S          │\n",
      "├─────┼───────────────┼────────────┼──────────┼───────────────────────────────────────────────────┼───────┼────────┼─────────┼─────────┼────────────────────┼──────────┼─────────────┼────────────┤\n",
      "│ 181 │           182 │          0 │        2 │ Pernot, Mr. Rene                                  │ male  │ nan    │       0 │       0 │ SC/PARIS 2131      │  15.05   │ nan         │ C          │\n",
      "├─────┼───────────────┼────────────┼──────────┼───────────────────────────────────────────────────┼───────┼────────┼─────────┼─────────┼────────────────────┼──────────┼─────────────┼────────────┤\n",
      "│ 182 │           183 │          0 │        3 │ Asplund, Master. Clarence Gustaf Hugo             │ male  │   9    │       4 │       2 │ 347077             │  31.3875 │ nan         │ S          │\n",
      "├─────┼───────────────┼────────────┼──────────┼───────────────────────────────────────────────────┼───────┼────────┼─────────┼─────────┼────────────────────┼──────────┼─────────────┼────────────┤\n",
      "│ 183 │           184 │          1 │        2 │ Becker, Master. Richard F                         │ male  │   1    │       2 │       1 │ 230136             │  39      │ F4          │ S          │\n",
      "├─────┼───────────────┼────────────┼──────────┼───────────────────────────────────────────────────┼───────┼────────┼─────────┼─────────┼────────────────────┼──────────┼─────────────┼────────────┤\n",
      "│ 185 │           186 │          0 │        1 │ Rood, Mr. Hugh Roscoe                             │ male  │ nan    │       0 │       0 │ 113767             │  50      │ A32         │ S          │\n",
      "├─────┼───────────────┼────────────┼──────────┼───────────────────────────────────────────────────┼───────┼────────┼─────────┼─────────┼────────────────────┼──────────┼─────────────┼────────────┤\n",
      "│ 187 │           188 │          1 │        1 │ Romaine, Mr. Charles Hallace (\"Mr C Rolmane\")     │ male  │  45    │       0 │       0 │ 111428             │  26.55   │ nan         │ S          │\n",
      "├─────┼───────────────┼────────────┼──────────┼───────────────────────────────────────────────────┼───────┼────────┼─────────┼─────────┼────────────────────┼──────────┼─────────────┼────────────┤\n",
      "│ 188 │           189 │          0 │        3 │ Bourke, Mr. John                                  │ male  │  40    │       1 │       1 │ 364849             │  15.5    │ nan         │ Q          │\n",
      "├─────┼───────────────┼────────────┼──────────┼───────────────────────────────────────────────────┼───────┼────────┼─────────┼─────────┼────────────────────┼──────────┼─────────────┼────────────┤\n",
      "│ 189 │           190 │          0 │        3 │ Turcin, Mr. Stjepan                               │ male  │  36    │       0 │       0 │ 349247             │   7.8958 │ nan         │ S          │\n",
      "├─────┼───────────────┼────────────┼──────────┼───────────────────────────────────────────────────┼───────┼────────┼─────────┼─────────┼────────────────────┼──────────┼─────────────┼────────────┤\n",
      "│ 191 │           192 │          0 │        2 │ Carbines, Mr. William                             │ male  │  19    │       0 │       0 │ 28424              │  13      │ nan         │ S          │\n",
      "├─────┼───────────────┼────────────┼──────────┼───────────────────────────────────────────────────┼───────┼────────┼─────────┼─────────┼────────────────────┼──────────┼─────────────┼────────────┤\n",
      "│ 193 │           194 │          1 │        2 │ Navratil, Master. Michel M                        │ male  │   3    │       1 │       1 │ 230080             │  26      │ F2          │ S          │\n",
      "├─────┼───────────────┼────────────┼──────────┼───────────────────────────────────────────────────┼───────┼────────┼─────────┼─────────┼────────────────────┼──────────┼─────────────┼────────────┤\n",
      "│ 196 │           197 │          0 │        3 │ Mernagh, Mr. Robert                               │ male  │ nan    │       0 │       0 │ 368703             │   7.75   │ nan         │ Q          │\n",
      "├─────┼───────────────┼────────────┼──────────┼───────────────────────────────────────────────────┼───────┼────────┼─────────┼─────────┼────────────────────┼──────────┼─────────────┼────────────┤\n",
      "│ 197 │           198 │          0 │        3 │ Olsen, Mr. Karl Siegwart Andreas                  │ male  │  42    │       0 │       1 │ 4579               │   8.4042 │ nan         │ S          │\n",
      "├─────┼───────────────┼────────────┼──────────┼───────────────────────────────────────────────────┼───────┼────────┼─────────┼─────────┼────────────────────┼──────────┼─────────────┼────────────┤\n",
      "│ 200 │           201 │          0 │        3 │ Vande Walle, Mr. Nestor Cyriel                    │ male  │  28    │       0 │       0 │ 345770             │   9.5    │ nan         │ S          │\n",
      "├─────┼───────────────┼────────────┼──────────┼───────────────────────────────────────────────────┼───────┼────────┼─────────┼─────────┼────────────────────┼──────────┼─────────────┼────────────┤\n",
      "│ 201 │           202 │          0 │        3 │ Sage, Mr. Frederick                               │ male  │ nan    │       8 │       2 │ CA. 2343           │  69.55   │ nan         │ S          │\n",
      "├─────┼───────────────┼────────────┼──────────┼───────────────────────────────────────────────────┼───────┼────────┼─────────┼─────────┼────────────────────┼──────────┼─────────────┼────────────┤\n",
      "│ 202 │           203 │          0 │        3 │ Johanson, Mr. Jakob Alfred                        │ male  │  34    │       0 │       0 │ 3101264            │   6.4958 │ nan         │ S          │\n",
      "├─────┼───────────────┼────────────┼──────────┼───────────────────────────────────────────────────┼───────┼────────┼─────────┼─────────┼────────────────────┼──────────┼─────────────┼────────────┤\n",
      "│ 203 │           204 │          0 │        3 │ Youseff, Mr. Gerious                              │ male  │  45.5  │       0 │       0 │ 2628               │   7.225  │ nan         │ C          │\n",
      "├─────┼───────────────┼────────────┼──────────┼───────────────────────────────────────────────────┼───────┼────────┼─────────┼─────────┼────────────────────┼──────────┼─────────────┼────────────┤\n",
      "│ 204 │           205 │          1 │        3 │ Cohen, Mr. Gurshon \"Gus\"                          │ male  │  18    │       0 │       0 │ A/5 3540           │   8.05   │ nan         │ S          │\n",
      "├─────┼───────────────┼────────────┼──────────┼───────────────────────────────────────────────────┼───────┼────────┼─────────┼─────────┼────────────────────┼──────────┼─────────────┼────────────┤\n",
      "│ 206 │           207 │          0 │        3 │ Backstrom, Mr. Karl Alfred                        │ male  │  32    │       1 │       0 │ 3101278            │  15.85   │ nan         │ S          │\n",
      "├─────┼───────────────┼────────────┼──────────┼───────────────────────────────────────────────────┼───────┼────────┼─────────┼─────────┼────────────────────┼──────────┼─────────────┼────────────┤\n",
      "│ 207 │           208 │          1 │        3 │ Albimona, Mr. Nassef Cassem                       │ male  │  26    │       0 │       0 │ 2699               │  18.7875 │ nan         │ C          │\n",
      "├─────┼───────────────┼────────────┼──────────┼───────────────────────────────────────────────────┼───────┼────────┼─────────┼─────────┼────────────────────┼──────────┼─────────────┼────────────┤\n",
      "│ 209 │           210 │          1 │        1 │ Blank, Mr. Henry                                  │ male  │  40    │       0 │       0 │ 112277             │  31      │ A31         │ C          │\n",
      "├─────┼───────────────┼────────────┼──────────┼───────────────────────────────────────────────────┼───────┼────────┼─────────┼─────────┼────────────────────┼──────────┼─────────────┼────────────┤\n",
      "│ 210 │           211 │          0 │        3 │ Ali, Mr. Ahmed                                    │ male  │  24    │       0 │       0 │ SOTON/O.Q. 3101311 │   7.05   │ nan         │ S          │\n",
      "├─────┼───────────────┼────────────┼──────────┼───────────────────────────────────────────────────┼───────┼────────┼─────────┼─────────┼────────────────────┼──────────┼─────────────┼────────────┤\n",
      "│ 212 │           213 │          0 │        3 │ Perkin, Mr. John Henry                            │ male  │  22    │       0 │       0 │ A/5 21174          │   7.25   │ nan         │ S          │\n",
      "├─────┼───────────────┼────────────┼──────────┼───────────────────────────────────────────────────┼───────┼────────┼─────────┼─────────┼────────────────────┼──────────┼─────────────┼────────────┤\n",
      "│ 213 │           214 │          0 │        2 │ Givard, Mr. Hans Kristensen                       │ male  │  30    │       0 │       0 │ 250646             │  13      │ nan         │ S          │\n",
      "├─────┼───────────────┼────────────┼──────────┼───────────────────────────────────────────────────┼───────┼────────┼─────────┼─────────┼────────────────────┼──────────┼─────────────┼────────────┤\n",
      "│ 214 │           215 │          0 │        3 │ Kiernan, Mr. Philip                               │ male  │ nan    │       1 │       0 │ 367229             │   7.75   │ nan         │ Q          │\n",
      "├─────┼───────────────┼────────────┼──────────┼───────────────────────────────────────────────────┼───────┼────────┼─────────┼─────────┼────────────────────┼──────────┼─────────────┼────────────┤\n",
      "│ 217 │           218 │          0 │        2 │ Jacobsohn, Mr. Sidney Samuel                      │ male  │  42    │       1 │       0 │ 243847             │  27      │ nan         │ S          │\n",
      "├─────┼───────────────┼────────────┼──────────┼───────────────────────────────────────────────────┼───────┼────────┼─────────┼─────────┼────────────────────┼──────────┼─────────────┼────────────┤\n",
      "│ 219 │           220 │          0 │        2 │ Harris, Mr. Walter                                │ male  │  30    │       0 │       0 │ W/C 14208          │  10.5    │ nan         │ S          │\n",
      "├─────┼───────────────┼────────────┼──────────┼───────────────────────────────────────────────────┼───────┼────────┼─────────┼─────────┼────────────────────┼──────────┼─────────────┼────────────┤\n",
      "│ 220 │           221 │          1 │        3 │ Sunderland, Mr. Victor Francis                    │ male  │  16    │       0 │       0 │ SOTON/OQ 392089    │   8.05   │ nan         │ S          │\n",
      "├─────┼───────────────┼────────────┼──────────┼───────────────────────────────────────────────────┼───────┼────────┼─────────┼─────────┼────────────────────┼──────────┼─────────────┼────────────┤\n",
      "│ 221 │           222 │          0 │        2 │ Bracken, Mr. James H                              │ male  │  27    │       0 │       0 │ 220367             │  13      │ nan         │ S          │\n",
      "├─────┼───────────────┼────────────┼──────────┼───────────────────────────────────────────────────┼───────┼────────┼─────────┼─────────┼────────────────────┼──────────┼─────────────┼────────────┤\n",
      "│ 222 │           223 │          0 │        3 │ Green, Mr. George Henry                           │ male  │  51    │       0 │       0 │ 21440              │   8.05   │ nan         │ S          │\n",
      "├─────┼───────────────┼────────────┼──────────┼───────────────────────────────────────────────────┼───────┼────────┼─────────┼─────────┼────────────────────┼──────────┼─────────────┼────────────┤\n",
      "│ 223 │           224 │          0 │        3 │ Nenkoff, Mr. Christo                              │ male  │ nan    │       0 │       0 │ 349234             │   7.8958 │ nan         │ S          │\n",
      "├─────┼───────────────┼────────────┼──────────┼───────────────────────────────────────────────────┼───────┼────────┼─────────┼─────────┼────────────────────┼──────────┼─────────────┼────────────┤\n",
      "│ 224 │           225 │          1 │        1 │ Hoyt, Mr. Frederick Maxfield                      │ male  │  38    │       1 │       0 │ 19943              │  90      │ C93         │ S          │\n",
      "├─────┼───────────────┼────────────┼──────────┼───────────────────────────────────────────────────┼───────┼────────┼─────────┼─────────┼────────────────────┼──────────┼─────────────┼────────────┤\n",
      "│ 225 │           226 │          0 │        3 │ Berglund, Mr. Karl Ivar Sven                      │ male  │  22    │       0 │       0 │ PP 4348            │   9.35   │ nan         │ S          │\n",
      "├─────┼───────────────┼────────────┼──────────┼───────────────────────────────────────────────────┼───────┼────────┼─────────┼─────────┼────────────────────┼──────────┼─────────────┼────────────┤\n",
      "│ 226 │           227 │          1 │        2 │ Mellors, Mr. William John                         │ male  │  19    │       0 │       0 │ SW/PP 751          │  10.5    │ nan         │ S          │\n",
      "├─────┼───────────────┼────────────┼──────────┼───────────────────────────────────────────────────┼───────┼────────┼─────────┼─────────┼────────────────────┼──────────┼─────────────┼────────────┤\n",
      "│ 227 │           228 │          0 │        3 │ Lovell, Mr. John Hall (\"Henry\")                   │ male  │  20.5  │       0 │       0 │ A/5 21173          │   7.25   │ nan         │ S          │\n",
      "├─────┼───────────────┼────────────┼──────────┼───────────────────────────────────────────────────┼───────┼────────┼─────────┼─────────┼────────────────────┼──────────┼─────────────┼────────────┤\n",
      "│ 228 │           229 │          0 │        2 │ Fahlstrom, Mr. Arne Jonas                         │ male  │  18    │       0 │       0 │ 236171             │  13      │ nan         │ S          │\n",
      "├─────┼───────────────┼────────────┼──────────┼───────────────────────────────────────────────────┼───────┼────────┼─────────┼─────────┼────────────────────┼──────────┼─────────────┼────────────┤\n",
      "│ 231 │           232 │          0 │        3 │ Larsson, Mr. Bengt Edvin                          │ male  │  29    │       0 │       0 │ 347067             │   7.775  │ nan         │ S          │\n",
      "├─────┼───────────────┼────────────┼──────────┼───────────────────────────────────────────────────┼───────┼────────┼─────────┼─────────┼────────────────────┼──────────┼─────────────┼────────────┤\n",
      "│ 232 │           233 │          0 │        2 │ Sjostedt, Mr. Ernst Adolf                         │ male  │  59    │       0 │       0 │ 237442             │  13.5    │ nan         │ S          │\n",
      "├─────┼───────────────┼────────────┼──────────┼───────────────────────────────────────────────────┼───────┼────────┼─────────┼─────────┼────────────────────┼──────────┼─────────────┼────────────┤\n",
      "│ 234 │           235 │          0 │        2 │ Leyson, Mr. Robert William Norman                 │ male  │  24    │       0 │       0 │ C.A. 29566         │  10.5    │ nan         │ S          │\n",
      "├─────┼───────────────┼────────────┼──────────┼───────────────────────────────────────────────────┼───────┼────────┼─────────┼─────────┼────────────────────┼──────────┼─────────────┼────────────┤\n",
      "│ 236 │           237 │          0 │        2 │ Hold, Mr. Stephen                                 │ male  │  44    │       1 │       0 │ 26707              │  26      │ nan         │ S          │\n",
      "├─────┼───────────────┼────────────┼──────────┼───────────────────────────────────────────────────┼───────┼────────┼─────────┼─────────┼────────────────────┼──────────┼─────────────┼────────────┤\n",
      "│ 238 │           239 │          0 │        2 │ Pengelly, Mr. Frederick William                   │ male  │  19    │       0 │       0 │ 28665              │  10.5    │ nan         │ S          │\n",
      "├─────┼───────────────┼────────────┼──────────┼───────────────────────────────────────────────────┼───────┼────────┼─────────┼─────────┼────────────────────┼──────────┼─────────────┼────────────┤\n",
      "│ 239 │           240 │          0 │        2 │ Hunt, Mr. George Henry                            │ male  │  33    │       0 │       0 │ SCO/W 1585         │  12.275  │ nan         │ S          │\n",
      "├─────┼───────────────┼────────────┼──────────┼───────────────────────────────────────────────────┼───────┼────────┼─────────┼─────────┼────────────────────┼──────────┼─────────────┼────────────┤\n",
      "│ 242 │           243 │          0 │        2 │ Coleridge, Mr. Reginald Charles                   │ male  │  29    │       0 │       0 │ W./C. 14263        │  10.5    │ nan         │ S          │\n",
      "├─────┼───────────────┼────────────┼──────────┼───────────────────────────────────────────────────┼───────┼────────┼─────────┼─────────┼────────────────────┼──────────┼─────────────┼────────────┤\n",
      "│ 243 │           244 │          0 │        3 │ Maenpaa, Mr. Matti Alexanteri                     │ male  │  22    │       0 │       0 │ STON/O 2. 3101275  │   7.125  │ nan         │ S          │\n",
      "├─────┼───────────────┼────────────┼──────────┼───────────────────────────────────────────────────┼───────┼────────┼─────────┼─────────┼────────────────────┼──────────┼─────────────┼────────────┤\n",
      "│ 244 │           245 │          0 │        3 │ Attalah, Mr. Sleiman                              │ male  │  30    │       0 │       0 │ 2694               │   7.225  │ nan         │ C          │\n",
      "├─────┼───────────────┼────────────┼──────────┼───────────────────────────────────────────────────┼───────┼────────┼─────────┼─────────┼────────────────────┼──────────┼─────────────┼────────────┤\n",
      "│ 245 │           246 │          0 │        1 │ Minahan, Dr. William Edward                       │ male  │  44    │       2 │       0 │ 19928              │  90      │ C78         │ Q          │\n",
      "├─────┼───────────────┼────────────┼──────────┼───────────────────────────────────────────────────┼───────┼────────┼─────────┼─────────┼────────────────────┼──────────┼─────────────┼────────────┤\n",
      "│ 248 │           249 │          1 │        1 │ Beckwith, Mr. Richard Leonard                     │ male  │  37    │       1 │       1 │ 11751              │  52.5542 │ D35         │ S          │\n",
      "├─────┼───────────────┼────────────┼──────────┼───────────────────────────────────────────────────┼───────┼────────┼─────────┼─────────┼────────────────────┼──────────┼─────────────┼────────────┤\n",
      "│ 249 │           250 │          0 │        2 │ Carter, Rev. Ernest Courtenay                     │ male  │  54    │       1 │       0 │ 244252             │  26      │ nan         │ S          │\n",
      "├─────┼───────────────┼────────────┼──────────┼───────────────────────────────────────────────────┼───────┼────────┼─────────┼─────────┼────────────────────┼──────────┼─────────────┼────────────┤\n",
      "│ 250 │           251 │          0 │        3 │ Reed, Mr. James George                            │ male  │ nan    │       0 │       0 │ 362316             │   7.25   │ nan         │ S          │\n",
      "├─────┼───────────────┼────────────┼──────────┼───────────────────────────────────────────────────┼───────┼────────┼─────────┼─────────┼────────────────────┼──────────┼─────────────┼────────────┤\n",
      "│ 252 │           253 │          0 │        1 │ Stead, Mr. William Thomas                         │ male  │  62    │       0 │       0 │ 113514             │  26.55   │ C87         │ S          │\n",
      "├─────┼───────────────┼────────────┼──────────┼───────────────────────────────────────────────────┼───────┼────────┼─────────┼─────────┼────────────────────┼──────────┼─────────────┼────────────┤\n",
      "│ 253 │           254 │          0 │        3 │ Lobb, Mr. William Arthur                          │ male  │  30    │       1 │       0 │ A/5. 3336          │  16.1    │ nan         │ S          │\n",
      "├─────┼───────────────┼────────────┼──────────┼───────────────────────────────────────────────────┼───────┼────────┼─────────┼─────────┼────────────────────┼──────────┼─────────────┼────────────┤\n",
      "│ 260 │           261 │          0 │        3 │ Smith, Mr. Thomas                                 │ male  │ nan    │       0 │       0 │ 384461             │   7.75   │ nan         │ Q          │\n",
      "├─────┼───────────────┼────────────┼──────────┼───────────────────────────────────────────────────┼───────┼────────┼─────────┼─────────┼────────────────────┼──────────┼─────────────┼────────────┤\n",
      "│ 261 │           262 │          1 │        3 │ Asplund, Master. Edvin Rojj Felix                 │ male  │   3    │       4 │       2 │ 347077             │  31.3875 │ nan         │ S          │\n",
      "├─────┼───────────────┼────────────┼──────────┼───────────────────────────────────────────────────┼───────┼────────┼─────────┼─────────┼────────────────────┼──────────┼─────────────┼────────────┤\n",
      "│ 262 │           263 │          0 │        1 │ Taussig, Mr. Emil                                 │ male  │  52    │       1 │       1 │ 110413             │  79.65   │ E67         │ S          │\n",
      "├─────┼───────────────┼────────────┼──────────┼───────────────────────────────────────────────────┼───────┼────────┼─────────┼─────────┼────────────────────┼──────────┼─────────────┼────────────┤\n",
      "│ 263 │           264 │          0 │        1 │ Harrison, Mr. William                             │ male  │  40    │       0 │       0 │ 112059             │   0      │ B94         │ S          │\n",
      "├─────┼───────────────┼────────────┼──────────┼───────────────────────────────────────────────────┼───────┼────────┼─────────┼─────────┼────────────────────┼──────────┼─────────────┼────────────┤\n",
      "│ 265 │           266 │          0 │        2 │ Reeves, Mr. David                                 │ male  │  36    │       0 │       0 │ C.A. 17248         │  10.5    │ nan         │ S          │\n",
      "├─────┼───────────────┼────────────┼──────────┼───────────────────────────────────────────────────┼───────┼────────┼─────────┼─────────┼────────────────────┼──────────┼─────────────┼────────────┤\n",
      "│ 266 │           267 │          0 │        3 │ Panula, Mr. Ernesti Arvid                         │ male  │  16    │       4 │       1 │ 3101295            │  39.6875 │ nan         │ S          │\n",
      "├─────┼───────────────┼────────────┼──────────┼───────────────────────────────────────────────────┼───────┼────────┼─────────┼─────────┼────────────────────┼──────────┼─────────────┼────────────┤\n",
      "│ 267 │           268 │          1 │        3 │ Persson, Mr. Ernst Ulrik                          │ male  │  25    │       1 │       0 │ 347083             │   7.775  │ nan         │ S          │\n",
      "├─────┼───────────────┼────────────┼──────────┼───────────────────────────────────────────────────┼───────┼────────┼─────────┼─────────┼────────────────────┼──────────┼─────────────┼────────────┤\n",
      "│ 270 │           271 │          0 │        1 │ Cairns, Mr. Alexander                             │ male  │ nan    │       0 │       0 │ 113798             │  31      │ nan         │ S          │\n",
      "├─────┼───────────────┼────────────┼──────────┼───────────────────────────────────────────────────┼───────┼────────┼─────────┼─────────┼────────────────────┼──────────┼─────────────┼────────────┤\n",
      "│ 271 │           272 │          1 │        3 │ Tornquist, Mr. William Henry                      │ male  │  25    │       0 │       0 │ LINE               │   0      │ nan         │ S          │\n",
      "├─────┼───────────────┼────────────┼──────────┼───────────────────────────────────────────────────┼───────┼────────┼─────────┼─────────┼────────────────────┼──────────┼─────────────┼────────────┤\n",
      "│ 273 │           274 │          0 │        1 │ Natsch, Mr. Charles H                             │ male  │  37    │       0 │       1 │ PC 17596           │  29.7    │ C118        │ C          │\n",
      "├─────┼───────────────┼────────────┼──────────┼───────────────────────────────────────────────────┼───────┼────────┼─────────┼─────────┼────────────────────┼──────────┼─────────────┼────────────┤\n",
      "│ 277 │           278 │          0 │        2 │ Parkes, Mr. Francis \"Frank\"                       │ male  │ nan    │       0 │       0 │ 239853             │   0      │ nan         │ S          │\n",
      "├─────┼───────────────┼────────────┼──────────┼───────────────────────────────────────────────────┼───────┼────────┼─────────┼─────────┼────────────────────┼──────────┼─────────────┼────────────┤\n",
      "│ 278 │           279 │          0 │        3 │ Rice, Master. Eric                                │ male  │   7    │       4 │       1 │ 382652             │  29.125  │ nan         │ Q          │\n",
      "├─────┼───────────────┼────────────┼──────────┼───────────────────────────────────────────────────┼───────┼────────┼─────────┼─────────┼────────────────────┼──────────┼─────────────┼────────────┤\n",
      "│ 280 │           281 │          0 │        3 │ Duane, Mr. Frank                                  │ male  │  65    │       0 │       0 │ 336439             │   7.75   │ nan         │ Q          │\n",
      "├─────┼───────────────┼────────────┼──────────┼───────────────────────────────────────────────────┼───────┼────────┼─────────┼─────────┼────────────────────┼──────────┼─────────────┼────────────┤\n",
      "│ 281 │           282 │          0 │        3 │ Olsson, Mr. Nils Johan Goransson                  │ male  │  28    │       0 │       0 │ 347464             │   7.8542 │ nan         │ S          │\n",
      "├─────┼───────────────┼────────────┼──────────┼───────────────────────────────────────────────────┼───────┼────────┼─────────┼─────────┼────────────────────┼──────────┼─────────────┼────────────┤\n",
      "│ 282 │           283 │          0 │        3 │ de Pelsmaeker, Mr. Alfons                         │ male  │  16    │       0 │       0 │ 345778             │   9.5    │ nan         │ S          │\n",
      "├─────┼───────────────┼────────────┼──────────┼───────────────────────────────────────────────────┼───────┼────────┼─────────┼─────────┼────────────────────┼──────────┼─────────────┼────────────┤\n",
      "│ 283 │           284 │          1 │        3 │ Dorking, Mr. Edward Arthur                        │ male  │  19    │       0 │       0 │ A/5. 10482         │   8.05   │ nan         │ S          │\n",
      "├─────┼───────────────┼────────────┼──────────┼───────────────────────────────────────────────────┼───────┼────────┼─────────┼─────────┼────────────────────┼──────────┼─────────────┼────────────┤\n",
      "│ 284 │           285 │          0 │        1 │ Smith, Mr. Richard William                        │ male  │ nan    │       0 │       0 │ 113056             │  26      │ A19         │ S          │\n",
      "├─────┼───────────────┼────────────┼──────────┼───────────────────────────────────────────────────┼───────┼────────┼─────────┼─────────┼────────────────────┼──────────┼─────────────┼────────────┤\n",
      "│ 285 │           286 │          0 │        3 │ Stankovic, Mr. Ivan                               │ male  │  33    │       0 │       0 │ 349239             │   8.6625 │ nan         │ C          │\n",
      "├─────┼───────────────┼────────────┼──────────┼───────────────────────────────────────────────────┼───────┼────────┼─────────┼─────────┼────────────────────┼──────────┼─────────────┼────────────┤\n",
      "│ 286 │           287 │          1 │        3 │ de Mulder, Mr. Theodore                           │ male  │  30    │       0 │       0 │ 345774             │   9.5    │ nan         │ S          │\n",
      "├─────┼───────────────┼────────────┼──────────┼───────────────────────────────────────────────────┼───────┼────────┼─────────┼─────────┼────────────────────┼──────────┼─────────────┼────────────┤\n",
      "│ 287 │           288 │          0 │        3 │ Naidenoff, Mr. Penko                              │ male  │  22    │       0 │       0 │ 349206             │   7.8958 │ nan         │ S          │\n",
      "├─────┼───────────────┼────────────┼──────────┼───────────────────────────────────────────────────┼───────┼────────┼─────────┼─────────┼────────────────────┼──────────┼─────────────┼────────────┤\n",
      "│ 288 │           289 │          1 │        2 │ Hosono, Mr. Masabumi                              │ male  │  42    │       0 │       0 │ 237798             │  13      │ nan         │ S          │\n",
      "├─────┼───────────────┼────────────┼──────────┼───────────────────────────────────────────────────┼───────┼────────┼─────────┼─────────┼────────────────────┼──────────┼─────────────┼────────────┤\n",
      "│ 292 │           293 │          0 │        2 │ Levy, Mr. Rene Jacques                            │ male  │  36    │       0 │       0 │ SC/Paris 2163      │  12.875  │ D           │ C          │\n",
      "├─────┼───────────────┼────────────┼──────────┼───────────────────────────────────────────────────┼───────┼────────┼─────────┼─────────┼────────────────────┼──────────┼─────────────┼────────────┤\n",
      "│ 294 │           295 │          0 │        3 │ Mineff, Mr. Ivan                                  │ male  │  24    │       0 │       0 │ 349233             │   7.8958 │ nan         │ S          │\n",
      "├─────┼───────────────┼────────────┼──────────┼───────────────────────────────────────────────────┼───────┼────────┼─────────┼─────────┼────────────────────┼──────────┼─────────────┼────────────┤\n",
      "│ 295 │           296 │          0 │        1 │ Lewy, Mr. Ervin G                                 │ male  │ nan    │       0 │       0 │ PC 17612           │  27.7208 │ nan         │ C          │\n",
      "├─────┼───────────────┼────────────┼──────────┼───────────────────────────────────────────────────┼───────┼────────┼─────────┼─────────┼────────────────────┼──────────┼─────────────┼────────────┤\n",
      "│ 296 │           297 │          0 │        3 │ Hanna, Mr. Mansour                                │ male  │  23.5  │       0 │       0 │ 2693               │   7.2292 │ nan         │ C          │\n",
      "├─────┼───────────────┼────────────┼──────────┼───────────────────────────────────────────────────┼───────┼────────┼─────────┼─────────┼────────────────────┼──────────┼─────────────┼────────────┤\n",
      "│ 298 │           299 │          1 │        1 │ Saalfeld, Mr. Adolphe                             │ male  │ nan    │       0 │       0 │ 19988              │  30.5    │ C106        │ S          │\n",
      "├─────┼───────────────┼────────────┼──────────┼───────────────────────────────────────────────────┼───────┼────────┼─────────┼─────────┼────────────────────┼──────────┼─────────────┼────────────┤\n",
      "│ 301 │           302 │          1 │        3 │ McCoy, Mr. Bernard                                │ male  │ nan    │       2 │       0 │ 367226             │  23.25   │ nan         │ Q          │\n",
      "├─────┼───────────────┼────────────┼──────────┼───────────────────────────────────────────────────┼───────┼────────┼─────────┼─────────┼────────────────────┼──────────┼─────────────┼────────────┤\n",
      "│ 302 │           303 │          0 │        3 │ Johnson, Mr. William Cahoone Jr                   │ male  │  19    │       0 │       0 │ LINE               │   0      │ nan         │ S          │\n",
      "├─────┼───────────────┼────────────┼──────────┼───────────────────────────────────────────────────┼───────┼────────┼─────────┼─────────┼────────────────────┼──────────┼─────────────┼────────────┤\n",
      "│ 304 │           305 │          0 │        3 │ Williams, Mr. Howard Hugh \"Harry\"                 │ male  │ nan    │       0 │       0 │ A/5 2466           │   8.05   │ nan         │ S          │\n",
      "├─────┼───────────────┼────────────┼──────────┼───────────────────────────────────────────────────┼───────┼────────┼─────────┼─────────┼────────────────────┼──────────┼─────────────┼────────────┤\n",
      "│ 305 │           306 │          1 │        1 │ Allison, Master. Hudson Trevor                    │ male  │   0.92 │       1 │       2 │ 113781             │ 151.55   │ C22 C26     │ S          │\n",
      "├─────┼───────────────┼────────────┼──────────┼───────────────────────────────────────────────────┼───────┼────────┼─────────┼─────────┼────────────────────┼──────────┼─────────────┼────────────┤\n",
      "│ 308 │           309 │          0 │        2 │ Abelson, Mr. Samuel                               │ male  │  30    │       1 │       0 │ P/PP 3381          │  24      │ nan         │ C          │\n",
      "├─────┼───────────────┼────────────┼──────────┼───────────────────────────────────────────────────┼───────┼────────┼─────────┼─────────┼────────────────────┼──────────┼─────────────┼────────────┤\n",
      "│ 313 │           314 │          0 │        3 │ Hendekovic, Mr. Ignjac                            │ male  │  28    │       0 │       0 │ 349243             │   7.8958 │ nan         │ S          │\n",
      "├─────┼───────────────┼────────────┼──────────┼───────────────────────────────────────────────────┼───────┼────────┼─────────┼─────────┼────────────────────┼──────────┼─────────────┼────────────┤\n",
      "│ 314 │           315 │          0 │        2 │ Hart, Mr. Benjamin                                │ male  │  43    │       1 │       1 │ F.C.C. 13529       │  26.25   │ nan         │ S          │\n",
      "├─────┼───────────────┼────────────┼──────────┼───────────────────────────────────────────────────┼───────┼────────┼─────────┼─────────┼────────────────────┼──────────┼─────────────┼────────────┤\n",
      "│ 317 │           318 │          0 │        2 │ Moraweck, Dr. Ernest                              │ male  │  54    │       0 │       0 │ 29011              │  14      │ nan         │ S          │\n",
      "├─────┼───────────────┼────────────┼──────────┼───────────────────────────────────────────────────┼───────┼────────┼─────────┼─────────┼────────────────────┼──────────┼─────────────┼────────────┤\n",
      "│ 320 │           321 │          0 │        3 │ Dennis, Mr. Samuel                                │ male  │  22    │       0 │       0 │ A/5 21172          │   7.25   │ nan         │ S          │\n",
      "├─────┼───────────────┼────────────┼──────────┼───────────────────────────────────────────────────┼───────┼────────┼─────────┼─────────┼────────────────────┼──────────┼─────────────┼────────────┤\n",
      "│ 321 │           322 │          0 │        3 │ Danoff, Mr. Yoto                                  │ male  │  27    │       0 │       0 │ 349219             │   7.8958 │ nan         │ S          │\n",
      "├─────┼───────────────┼────────────┼──────────┼───────────────────────────────────────────────────┼───────┼────────┼─────────┼─────────┼────────────────────┼──────────┼─────────────┼────────────┤\n",
      "│ 324 │           325 │          0 │        3 │ Sage, Mr. George John Jr                          │ male  │ nan    │       8 │       2 │ CA. 2343           │  69.55   │ nan         │ S          │\n",
      "├─────┼───────────────┼────────────┼──────────┼───────────────────────────────────────────────────┼───────┼────────┼─────────┼─────────┼────────────────────┼──────────┼─────────────┼────────────┤\n",
      "│ 326 │           327 │          0 │        3 │ Nysveen, Mr. Johan Hansen                         │ male  │  61    │       0 │       0 │ 345364             │   6.2375 │ nan         │ S          │\n",
      "├─────┼───────────────┼────────────┼──────────┼───────────────────────────────────────────────────┼───────┼────────┼─────────┼─────────┼────────────────────┼──────────┼─────────────┼────────────┤\n",
      "│ 331 │           332 │          0 │        1 │ Partner, Mr. Austen                               │ male  │  45.5  │       0 │       0 │ 113043             │  28.5    │ C124        │ S          │\n",
      "├─────┼───────────────┼────────────┼──────────┼───────────────────────────────────────────────────┼───────┼────────┼─────────┼─────────┼────────────────────┼──────────┼─────────────┼────────────┤\n",
      "│ 332 │           333 │          0 │        1 │ Graham, Mr. George Edward                         │ male  │  38    │       0 │       1 │ PC 17582           │ 153.463  │ C91         │ S          │\n",
      "├─────┼───────────────┼────────────┼──────────┼───────────────────────────────────────────────────┼───────┼────────┼─────────┼─────────┼────────────────────┼──────────┼─────────────┼────────────┤\n",
      "│ 333 │           334 │          0 │        3 │ Vander Planke, Mr. Leo Edmondus                   │ male  │  16    │       2 │       0 │ 345764             │  18      │ nan         │ S          │\n",
      "├─────┼───────────────┼────────────┼──────────┼───────────────────────────────────────────────────┼───────┼────────┼─────────┼─────────┼────────────────────┼──────────┼─────────────┼────────────┤\n",
      "│ 335 │           336 │          0 │        3 │ Denkoff, Mr. Mitto                                │ male  │ nan    │       0 │       0 │ 349225             │   7.8958 │ nan         │ S          │\n",
      "├─────┼───────────────┼────────────┼──────────┼───────────────────────────────────────────────────┼───────┼────────┼─────────┼─────────┼────────────────────┼──────────┼─────────────┼────────────┤\n",
      "│ 336 │           337 │          0 │        1 │ Pears, Mr. Thomas Clinton                         │ male  │  29    │       1 │       0 │ 113776             │  66.6    │ C2          │ S          │\n",
      "├─────┼───────────────┼────────────┼──────────┼───────────────────────────────────────────────────┼───────┼────────┼─────────┼─────────┼────────────────────┼──────────┼─────────────┼────────────┤\n",
      "│ 338 │           339 │          1 │        3 │ Dahl, Mr. Karl Edwart                             │ male  │  45    │       0 │       0 │ 7598               │   8.05   │ nan         │ S          │\n",
      "├─────┼───────────────┼────────────┼──────────┼───────────────────────────────────────────────────┼───────┼────────┼─────────┼─────────┼────────────────────┼──────────┼─────────────┼────────────┤\n",
      "│ 339 │           340 │          0 │        1 │ Blackwell, Mr. Stephen Weart                      │ male  │  45    │       0 │       0 │ 113784             │  35.5    │ T           │ S          │\n",
      "├─────┼───────────────┼────────────┼──────────┼───────────────────────────────────────────────────┼───────┼────────┼─────────┼─────────┼────────────────────┼──────────┼─────────────┼────────────┤\n",
      "│ 340 │           341 │          1 │        2 │ Navratil, Master. Edmond Roger                    │ male  │   2    │       1 │       1 │ 230080             │  26      │ F2          │ S          │\n",
      "├─────┼───────────────┼────────────┼──────────┼───────────────────────────────────────────────────┼───────┼────────┼─────────┼─────────┼────────────────────┼──────────┼─────────────┼────────────┤\n",
      "│ 342 │           343 │          0 │        2 │ Collander, Mr. Erik Gustaf                        │ male  │  28    │       0 │       0 │ 248740             │  13      │ nan         │ S          │\n",
      "├─────┼───────────────┼────────────┼──────────┼───────────────────────────────────────────────────┼───────┼────────┼─────────┼─────────┼────────────────────┼──────────┼─────────────┼────────────┤\n",
      "│ 343 │           344 │          0 │        2 │ Sedgwick, Mr. Charles Frederick Waddington        │ male  │  25    │       0 │       0 │ 244361             │  13      │ nan         │ S          │\n",
      "├─────┼───────────────┼────────────┼──────────┼───────────────────────────────────────────────────┼───────┼────────┼─────────┼─────────┼────────────────────┼──────────┼─────────────┼────────────┤\n",
      "│ 344 │           345 │          0 │        2 │ Fox, Mr. Stanley Hubert                           │ male  │  36    │       0 │       0 │ 229236             │  13      │ nan         │ S          │\n",
      "├─────┼───────────────┼────────────┼──────────┼───────────────────────────────────────────────────┼───────┼────────┼─────────┼─────────┼────────────────────┼──────────┼─────────────┼────────────┤\n",
      "│ 348 │           349 │          1 │        3 │ Coutts, Master. William Loch \"William\"            │ male  │   3    │       1 │       1 │ C.A. 37671         │  15.9    │ nan         │ S          │\n",
      "├─────┼───────────────┼────────────┼──────────┼───────────────────────────────────────────────────┼───────┼────────┼─────────┼─────────┼────────────────────┼──────────┼─────────────┼────────────┤\n",
      "│ 349 │           350 │          0 │        3 │ Dimic, Mr. Jovan                                  │ male  │  42    │       0 │       0 │ 315088             │   8.6625 │ nan         │ S          │\n",
      "├─────┼───────────────┼────────────┼──────────┼───────────────────────────────────────────────────┼───────┼────────┼─────────┼─────────┼────────────────────┼──────────┼─────────────┼────────────┤\n",
      "│ 350 │           351 │          0 │        3 │ Odahl, Mr. Nils Martin                            │ male  │  23    │       0 │       0 │ 7267               │   9.225  │ nan         │ S          │\n",
      "├─────┼───────────────┼────────────┼──────────┼───────────────────────────────────────────────────┼───────┼────────┼─────────┼─────────┼────────────────────┼──────────┼─────────────┼────────────┤\n",
      "│ 351 │           352 │          0 │        1 │ Williams-Lambert, Mr. Fletcher Fellows            │ male  │ nan    │       0 │       0 │ 113510             │  35      │ C128        │ S          │\n",
      "├─────┼───────────────┼────────────┼──────────┼───────────────────────────────────────────────────┼───────┼────────┼─────────┼─────────┼────────────────────┼──────────┼─────────────┼────────────┤\n",
      "│ 352 │           353 │          0 │        3 │ Elias, Mr. Tannous                                │ male  │  15    │       1 │       1 │ 2695               │   7.2292 │ nan         │ C          │\n",
      "├─────┼───────────────┼────────────┼──────────┼───────────────────────────────────────────────────┼───────┼────────┼─────────┼─────────┼────────────────────┼──────────┼─────────────┼────────────┤\n",
      "│ 353 │           354 │          0 │        3 │ Arnold-Franchi, Mr. Josef                         │ male  │  25    │       1 │       0 │ 349237             │  17.8    │ nan         │ S          │\n",
      "├─────┼───────────────┼────────────┼──────────┼───────────────────────────────────────────────────┼───────┼────────┼─────────┼─────────┼────────────────────┼──────────┼─────────────┼────────────┤\n",
      "│ 354 │           355 │          0 │        3 │ Yousif, Mr. Wazli                                 │ male  │ nan    │       0 │       0 │ 2647               │   7.225  │ nan         │ C          │\n",
      "├─────┼───────────────┼────────────┼──────────┼───────────────────────────────────────────────────┼───────┼────────┼─────────┼─────────┼────────────────────┼──────────┼─────────────┼────────────┤\n",
      "│ 355 │           356 │          0 │        3 │ Vanden Steen, Mr. Leo Peter                       │ male  │  28    │       0 │       0 │ 345783             │   9.5    │ nan         │ S          │\n",
      "├─────┼───────────────┼────────────┼──────────┼───────────────────────────────────────────────────┼───────┼────────┼─────────┼─────────┼────────────────────┼──────────┼─────────────┼────────────┤\n",
      "│ 360 │           361 │          0 │        3 │ Skoog, Mr. Wilhelm                                │ male  │  40    │       1 │       4 │ 347088             │  27.9    │ nan         │ S          │\n",
      "├─────┼───────────────┼────────────┼──────────┼───────────────────────────────────────────────────┼───────┼────────┼─────────┼─────────┼────────────────────┼──────────┼─────────────┼────────────┤\n",
      "│ 361 │           362 │          0 │        2 │ del Carlo, Mr. Sebastiano                         │ male  │  29    │       1 │       0 │ SC/PARIS 2167      │  27.7208 │ nan         │ C          │\n",
      "├─────┼───────────────┼────────────┼──────────┼───────────────────────────────────────────────────┼───────┼────────┼─────────┼─────────┼────────────────────┼──────────┼─────────────┼────────────┤\n",
      "│ 363 │           364 │          0 │        3 │ Asim, Mr. Adola                                   │ male  │  35    │       0 │       0 │ SOTON/O.Q. 3101310 │   7.05   │ nan         │ S          │\n",
      "├─────┼───────────────┼────────────┼──────────┼───────────────────────────────────────────────────┼───────┼────────┼─────────┼─────────┼────────────────────┼──────────┼─────────────┼────────────┤\n",
      "│ 364 │           365 │          0 │        3 │ O'Brien, Mr. Thomas                               │ male  │ nan    │       1 │       0 │ 370365             │  15.5    │ nan         │ Q          │\n",
      "├─────┼───────────────┼────────────┼──────────┼───────────────────────────────────────────────────┼───────┼────────┼─────────┼─────────┼────────────────────┼──────────┼─────────────┼────────────┤\n",
      "│ 365 │           366 │          0 │        3 │ Adahl, Mr. Mauritz Nils Martin                    │ male  │  30    │       0 │       0 │ C 7076             │   7.25   │ nan         │ S          │\n",
      "├─────┼───────────────┼────────────┼──────────┼───────────────────────────────────────────────────┼───────┼────────┼─────────┼─────────┼────────────────────┼──────────┼─────────────┼────────────┤\n",
      "│ 370 │           371 │          1 │        1 │ Harder, Mr. George Achilles                       │ male  │  25    │       1 │       0 │ 11765              │  55.4417 │ E50         │ C          │\n",
      "├─────┼───────────────┼────────────┼──────────┼───────────────────────────────────────────────────┼───────┼────────┼─────────┼─────────┼────────────────────┼──────────┼─────────────┼────────────┤\n",
      "│ 371 │           372 │          0 │        3 │ Wiklund, Mr. Jakob Alfred                         │ male  │  18    │       1 │       0 │ 3101267            │   6.4958 │ nan         │ S          │\n",
      "├─────┼───────────────┼────────────┼──────────┼───────────────────────────────────────────────────┼───────┼────────┼─────────┼─────────┼────────────────────┼──────────┼─────────────┼────────────┤\n",
      "│ 372 │           373 │          0 │        3 │ Beavan, Mr. William Thomas                        │ male  │  19    │       0 │       0 │ 323951             │   8.05   │ nan         │ S          │\n",
      "├─────┼───────────────┼────────────┼──────────┼───────────────────────────────────────────────────┼───────┼────────┼─────────┼─────────┼────────────────────┼──────────┼─────────────┼────────────┤\n",
      "│ 373 │           374 │          0 │        1 │ Ringhini, Mr. Sante                               │ male  │  22    │       0 │       0 │ PC 17760           │ 135.633  │ nan         │ C          │\n",
      "├─────┼───────────────┼────────────┼──────────┼───────────────────────────────────────────────────┼───────┼────────┼─────────┼─────────┼────────────────────┼──────────┼─────────────┼────────────┤\n",
      "│ 377 │           378 │          0 │        1 │ Widener, Mr. Harry Elkins                         │ male  │  27    │       0 │       2 │ 113503             │ 211.5    │ C82         │ C          │\n",
      "├─────┼───────────────┼────────────┼──────────┼───────────────────────────────────────────────────┼───────┼────────┼─────────┼─────────┼────────────────────┼──────────┼─────────────┼────────────┤\n",
      "│ 378 │           379 │          0 │        3 │ Betros, Mr. Tannous                               │ male  │  20    │       0 │       0 │ 2648               │   4.0125 │ nan         │ C          │\n",
      "├─────┼───────────────┼────────────┼──────────┼───────────────────────────────────────────────────┼───────┼────────┼─────────┼─────────┼────────────────────┼──────────┼─────────────┼────────────┤\n",
      "│ 379 │           380 │          0 │        3 │ Gustafsson, Mr. Karl Gideon                       │ male  │  19    │       0 │       0 │ 347069             │   7.775  │ nan         │ S          │\n",
      "├─────┼───────────────┼────────────┼──────────┼───────────────────────────────────────────────────┼───────┼────────┼─────────┼─────────┼────────────────────┼──────────┼─────────────┼────────────┤\n",
      "│ 382 │           383 │          0 │        3 │ Tikkanen, Mr. Juho                                │ male  │  32    │       0 │       0 │ STON/O 2. 3101293  │   7.925  │ nan         │ S          │\n",
      "├─────┼───────────────┼────────────┼──────────┼───────────────────────────────────────────────────┼───────┼────────┼─────────┼─────────┼────────────────────┼──────────┼─────────────┼────────────┤\n",
      "│ 384 │           385 │          0 │        3 │ Plotcharsky, Mr. Vasil                            │ male  │ nan    │       0 │       0 │ 349227             │   7.8958 │ nan         │ S          │\n",
      "├─────┼───────────────┼────────────┼──────────┼───────────────────────────────────────────────────┼───────┼────────┼─────────┼─────────┼────────────────────┼──────────┼─────────────┼────────────┤\n",
      "│ 385 │           386 │          0 │        2 │ Davies, Mr. Charles Henry                         │ male  │  18    │       0 │       0 │ S.O.C. 14879       │  73.5    │ nan         │ S          │\n",
      "├─────┼───────────────┼────────────┼──────────┼───────────────────────────────────────────────────┼───────┼────────┼─────────┼─────────┼────────────────────┼──────────┼─────────────┼────────────┤\n",
      "│ 386 │           387 │          0 │        3 │ Goodwin, Master. Sidney Leonard                   │ male  │   1    │       5 │       2 │ CA 2144            │  46.9    │ nan         │ S          │\n",
      "├─────┼───────────────┼────────────┼──────────┼───────────────────────────────────────────────────┼───────┼────────┼─────────┼─────────┼────────────────────┼──────────┼─────────────┼────────────┤\n",
      "│ 388 │           389 │          0 │        3 │ Sadlier, Mr. Matthew                              │ male  │ nan    │       0 │       0 │ 367655             │   7.7292 │ nan         │ Q          │\n",
      "├─────┼───────────────┼────────────┼──────────┼───────────────────────────────────────────────────┼───────┼────────┼─────────┼─────────┼────────────────────┼──────────┼─────────────┼────────────┤\n",
      "│ 390 │           391 │          1 │        1 │ Carter, Mr. William Ernest                        │ male  │  36    │       1 │       2 │ 113760             │ 120      │ B96 B98     │ S          │\n",
      "├─────┼───────────────┼────────────┼──────────┼───────────────────────────────────────────────────┼───────┼────────┼─────────┼─────────┼────────────────────┼──────────┼─────────────┼────────────┤\n",
      "│ 391 │           392 │          1 │        3 │ Jansson, Mr. Carl Olof                            │ male  │  21    │       0 │       0 │ 350034             │   7.7958 │ nan         │ S          │\n",
      "├─────┼───────────────┼────────────┼──────────┼───────────────────────────────────────────────────┼───────┼────────┼─────────┼─────────┼────────────────────┼──────────┼─────────────┼────────────┤\n",
      "│ 392 │           393 │          0 │        3 │ Gustafsson, Mr. Johan Birger                      │ male  │  28    │       2 │       0 │ 3101277            │   7.925  │ nan         │ S          │\n",
      "├─────┼───────────────┼────────────┼──────────┼───────────────────────────────────────────────────┼───────┼────────┼─────────┼─────────┼────────────────────┼──────────┼─────────────┼────────────┤\n",
      "│ 395 │           396 │          0 │        3 │ Johansson, Mr. Erik                               │ male  │  22    │       0 │       0 │ 350052             │   7.7958 │ nan         │ S          │\n",
      "├─────┼───────────────┼────────────┼──────────┼───────────────────────────────────────────────────┼───────┼────────┼─────────┼─────────┼────────────────────┼──────────┼─────────────┼────────────┤\n",
      "│ 397 │           398 │          0 │        2 │ McKane, Mr. Peter David                           │ male  │  46    │       0 │       0 │ 28403              │  26      │ nan         │ S          │\n",
      "├─────┼───────────────┼────────────┼──────────┼───────────────────────────────────────────────────┼───────┼────────┼─────────┼─────────┼────────────────────┼──────────┼─────────────┼────────────┤\n",
      "│ 398 │           399 │          0 │        2 │ Pain, Dr. Alfred                                  │ male  │  23    │       0 │       0 │ 244278             │  10.5    │ nan         │ S          │\n",
      "├─────┼───────────────┼────────────┼──────────┼───────────────────────────────────────────────────┼───────┼────────┼─────────┼─────────┼────────────────────┼──────────┼─────────────┼────────────┤\n",
      "│ 400 │           401 │          1 │        3 │ Niskanen, Mr. Juha                                │ male  │  39    │       0 │       0 │ STON/O 2. 3101289  │   7.925  │ nan         │ S          │\n",
      "├─────┼───────────────┼────────────┼──────────┼───────────────────────────────────────────────────┼───────┼────────┼─────────┼─────────┼────────────────────┼──────────┼─────────────┼────────────┤\n",
      "│ 401 │           402 │          0 │        3 │ Adams, Mr. John                                   │ male  │  26    │       0 │       0 │ 341826             │   8.05   │ nan         │ S          │\n",
      "├─────┼───────────────┼────────────┼──────────┼───────────────────────────────────────────────────┼───────┼────────┼─────────┼─────────┼────────────────────┼──────────┼─────────────┼────────────┤\n",
      "│ 403 │           404 │          0 │        3 │ Hakkarainen, Mr. Pekka Pietari                    │ male  │  28    │       1 │       0 │ STON/O2. 3101279   │  15.85   │ nan         │ S          │\n",
      "├─────┼───────────────┼────────────┼──────────┼───────────────────────────────────────────────────┼───────┼────────┼─────────┼─────────┼────────────────────┼──────────┼─────────────┼────────────┤\n",
      "│ 405 │           406 │          0 │        2 │ Gale, Mr. Shadrach                                │ male  │  34    │       1 │       0 │ 28664              │  21      │ nan         │ S          │\n",
      "├─────┼───────────────┼────────────┼──────────┼───────────────────────────────────────────────────┼───────┼────────┼─────────┼─────────┼────────────────────┼──────────┼─────────────┼────────────┤\n",
      "│ 406 │           407 │          0 │        3 │ Widegren, Mr. Carl/Charles Peter                  │ male  │  51    │       0 │       0 │ 347064             │   7.75   │ nan         │ S          │\n",
      "├─────┼───────────────┼────────────┼──────────┼───────────────────────────────────────────────────┼───────┼────────┼─────────┼─────────┼────────────────────┼──────────┼─────────────┼────────────┤\n",
      "│ 407 │           408 │          1 │        2 │ Richards, Master. William Rowe                    │ male  │   3    │       1 │       1 │ 29106              │  18.75   │ nan         │ S          │\n",
      "├─────┼───────────────┼────────────┼──────────┼───────────────────────────────────────────────────┼───────┼────────┼─────────┼─────────┼────────────────────┼──────────┼─────────────┼────────────┤\n",
      "│ 408 │           409 │          0 │        3 │ Birkeland, Mr. Hans Martin Monsen                 │ male  │  21    │       0 │       0 │ 312992             │   7.775  │ nan         │ S          │\n",
      "├─────┼───────────────┼────────────┼──────────┼───────────────────────────────────────────────────┼───────┼────────┼─────────┼─────────┼────────────────────┼──────────┼─────────────┼────────────┤\n",
      "│ 410 │           411 │          0 │        3 │ Sdycoff, Mr. Todor                                │ male  │ nan    │       0 │       0 │ 349222             │   7.8958 │ nan         │ S          │\n",
      "├─────┼───────────────┼────────────┼──────────┼───────────────────────────────────────────────────┼───────┼────────┼─────────┼─────────┼────────────────────┼──────────┼─────────────┼────────────┤\n",
      "│ 411 │           412 │          0 │        3 │ Hart, Mr. Henry                                   │ male  │ nan    │       0 │       0 │ 394140             │   6.8583 │ nan         │ Q          │\n",
      "├─────┼───────────────┼────────────┼──────────┼───────────────────────────────────────────────────┼───────┼────────┼─────────┼─────────┼────────────────────┼──────────┼─────────────┼────────────┤\n",
      "│ 413 │           414 │          0 │        2 │ Cunningham, Mr. Alfred Fleming                    │ male  │ nan    │       0 │       0 │ 239853             │   0      │ nan         │ S          │\n",
      "├─────┼───────────────┼────────────┼──────────┼───────────────────────────────────────────────────┼───────┼────────┼─────────┼─────────┼────────────────────┼──────────┼─────────────┼────────────┤\n",
      "│ 414 │           415 │          1 │        3 │ Sundman, Mr. Johan Julian                         │ male  │  44    │       0 │       0 │ STON/O 2. 3101269  │   7.925  │ nan         │ S          │\n",
      "├─────┼───────────────┼────────────┼──────────┼───────────────────────────────────────────────────┼───────┼────────┼─────────┼─────────┼────────────────────┼──────────┼─────────────┼────────────┤\n",
      "│ 418 │           419 │          0 │        2 │ Matthews, Mr. William John                        │ male  │  30    │       0 │       0 │ 28228              │  13      │ nan         │ S          │\n",
      "├─────┼───────────────┼────────────┼──────────┼───────────────────────────────────────────────────┼───────┼────────┼─────────┼─────────┼────────────────────┼──────────┼─────────────┼────────────┤\n",
      "│ 420 │           421 │          0 │        3 │ Gheorgheff, Mr. Stanio                            │ male  │ nan    │       0 │       0 │ 349254             │   7.8958 │ nan         │ C          │\n",
      "├─────┼───────────────┼────────────┼──────────┼───────────────────────────────────────────────────┼───────┼────────┼─────────┼─────────┼────────────────────┼──────────┼─────────────┼────────────┤\n",
      "│ 421 │           422 │          0 │        3 │ Charters, Mr. David                               │ male  │  21    │       0 │       0 │ A/5. 13032         │   7.7333 │ nan         │ Q          │\n",
      "├─────┼───────────────┼────────────┼──────────┼───────────────────────────────────────────────────┼───────┼────────┼─────────┼─────────┼────────────────────┼──────────┼─────────────┼────────────┤\n",
      "│ 422 │           423 │          0 │        3 │ Zimmerman, Mr. Leo                                │ male  │  29    │       0 │       0 │ 315082             │   7.875  │ nan         │ S          │\n",
      "├─────┼───────────────┼────────────┼──────────┼───────────────────────────────────────────────────┼───────┼────────┼─────────┼─────────┼────────────────────┼──────────┼─────────────┼────────────┤\n",
      "│ 424 │           425 │          0 │        3 │ Rosblom, Mr. Viktor Richard                       │ male  │  18    │       1 │       1 │ 370129             │  20.2125 │ nan         │ S          │\n",
      "├─────┼───────────────┼────────────┼──────────┼───────────────────────────────────────────────────┼───────┼────────┼─────────┼─────────┼────────────────────┼──────────┼─────────────┼────────────┤\n",
      "│ 425 │           426 │          0 │        3 │ Wiseman, Mr. Phillippe                            │ male  │ nan    │       0 │       0 │ A/4. 34244         │   7.25   │ nan         │ S          │\n",
      "├─────┼───────────────┼────────────┼──────────┼───────────────────────────────────────────────────┼───────┼────────┼─────────┼─────────┼────────────────────┼──────────┼─────────────┼────────────┤\n",
      "│ 428 │           429 │          0 │        3 │ Flynn, Mr. James                                  │ male  │ nan    │       0 │       0 │ 364851             │   7.75   │ nan         │ Q          │\n",
      "├─────┼───────────────┼────────────┼──────────┼───────────────────────────────────────────────────┼───────┼────────┼─────────┼─────────┼────────────────────┼──────────┼─────────────┼────────────┤\n",
      "│ 429 │           430 │          1 │        3 │ Pickard, Mr. Berk (Berk Trembisky)                │ male  │  32    │       0 │       0 │ SOTON/O.Q. 392078  │   8.05   │ E10         │ S          │\n",
      "├─────┼───────────────┼────────────┼──────────┼───────────────────────────────────────────────────┼───────┼────────┼─────────┼─────────┼────────────────────┼──────────┼─────────────┼────────────┤\n",
      "│ 430 │           431 │          1 │        1 │ Bjornstrom-Steffansson, Mr. Mauritz Hakan         │ male  │  28    │       0 │       0 │ 110564             │  26.55   │ C52         │ S          │\n",
      "├─────┼───────────────┼────────────┼──────────┼───────────────────────────────────────────────────┼───────┼────────┼─────────┼─────────┼────────────────────┼──────────┼─────────────┼────────────┤\n",
      "│ 433 │           434 │          0 │        3 │ Kallio, Mr. Nikolai Erland                        │ male  │  17    │       0 │       0 │ STON/O 2. 3101274  │   7.125  │ nan         │ S          │\n",
      "├─────┼───────────────┼────────────┼──────────┼───────────────────────────────────────────────────┼───────┼────────┼─────────┼─────────┼────────────────────┼──────────┼─────────────┼────────────┤\n",
      "│ 434 │           435 │          0 │        1 │ Silvey, Mr. William Baird                         │ male  │  50    │       1 │       0 │ 13507              │  55.9    │ E44         │ S          │\n",
      "├─────┼───────────────┼────────────┼──────────┼───────────────────────────────────────────────────┼───────┼────────┼─────────┼─────────┼────────────────────┼──────────┼─────────────┼────────────┤\n",
      "│ 438 │           439 │          0 │        1 │ Fortune, Mr. Mark                                 │ male  │  64    │       1 │       4 │ 19950              │ 263      │ C23 C25 C27 │ S          │\n",
      "├─────┼───────────────┼────────────┼──────────┼───────────────────────────────────────────────────┼───────┼────────┼─────────┼─────────┼────────────────────┼──────────┼─────────────┼────────────┤\n",
      "│ 439 │           440 │          0 │        2 │ Kvillner, Mr. Johan Henrik Johannesson            │ male  │  31    │       0 │       0 │ C.A. 18723         │  10.5    │ nan         │ S          │\n",
      "├─────┼───────────────┼────────────┼──────────┼───────────────────────────────────────────────────┼───────┼────────┼─────────┼─────────┼────────────────────┼──────────┼─────────────┼────────────┤\n",
      "│ 441 │           442 │          0 │        3 │ Hampe, Mr. Leon                                   │ male  │  20    │       0 │       0 │ 345769             │   9.5    │ nan         │ S          │\n",
      "├─────┼───────────────┼────────────┼──────────┼───────────────────────────────────────────────────┼───────┼────────┼─────────┼─────────┼────────────────────┼──────────┼─────────────┼────────────┤\n",
      "│ 442 │           443 │          0 │        3 │ Petterson, Mr. Johan Emil                         │ male  │  25    │       1 │       0 │ 347076             │   7.775  │ nan         │ S          │\n",
      "├─────┼───────────────┼────────────┼──────────┼───────────────────────────────────────────────────┼───────┼────────┼─────────┼─────────┼────────────────────┼──────────┼─────────────┼────────────┤\n",
      "│ 444 │           445 │          1 │        3 │ Johannesen-Bratthammer, Mr. Bernt                 │ male  │ nan    │       0 │       0 │ 65306              │   8.1125 │ nan         │ S          │\n",
      "├─────┼───────────────┼────────────┼──────────┼───────────────────────────────────────────────────┼───────┼────────┼─────────┼─────────┼────────────────────┼──────────┼─────────────┼────────────┤\n",
      "│ 445 │           446 │          1 │        1 │ Dodge, Master. Washington                         │ male  │   4    │       0 │       2 │ 33638              │  81.8583 │ A34         │ S          │\n",
      "├─────┼───────────────┼────────────┼──────────┼───────────────────────────────────────────────────┼───────┼────────┼─────────┼─────────┼────────────────────┼──────────┼─────────────┼────────────┤\n",
      "│ 447 │           448 │          1 │        1 │ Seward, Mr. Frederic Kimber                       │ male  │  34    │       0 │       0 │ 113794             │  26.55   │ nan         │ S          │\n",
      "├─────┼───────────────┼────────────┼──────────┼───────────────────────────────────────────────────┼───────┼────────┼─────────┼─────────┼────────────────────┼──────────┼─────────────┼────────────┤\n",
      "│ 449 │           450 │          1 │        1 │ Peuchen, Major. Arthur Godfrey                    │ male  │  52    │       0 │       0 │ 113786             │  30.5    │ C104        │ S          │\n",
      "├─────┼───────────────┼────────────┼──────────┼───────────────────────────────────────────────────┼───────┼────────┼─────────┼─────────┼────────────────────┼──────────┼─────────────┼────────────┤\n",
      "│ 450 │           451 │          0 │        2 │ West, Mr. Edwy Arthur                             │ male  │  36    │       1 │       2 │ C.A. 34651         │  27.75   │ nan         │ S          │\n",
      "├─────┼───────────────┼────────────┼──────────┼───────────────────────────────────────────────────┼───────┼────────┼─────────┼─────────┼────────────────────┼──────────┼─────────────┼────────────┤\n",
      "│ 451 │           452 │          0 │        3 │ Hagland, Mr. Ingvald Olai Olsen                   │ male  │ nan    │       1 │       0 │ 65303              │  19.9667 │ nan         │ S          │\n",
      "├─────┼───────────────┼────────────┼──────────┼───────────────────────────────────────────────────┼───────┼────────┼─────────┼─────────┼────────────────────┼──────────┼─────────────┼────────────┤\n",
      "│ 452 │           453 │          0 │        1 │ Foreman, Mr. Benjamin Laventall                   │ male  │  30    │       0 │       0 │ 113051             │  27.75   │ C111        │ C          │\n",
      "├─────┼───────────────┼────────────┼──────────┼───────────────────────────────────────────────────┼───────┼────────┼─────────┼─────────┼────────────────────┼──────────┼─────────────┼────────────┤\n",
      "│ 453 │           454 │          1 │        1 │ Goldenberg, Mr. Samuel L                          │ male  │  49    │       1 │       0 │ 17453              │  89.1042 │ C92         │ C          │\n",
      "├─────┼───────────────┼────────────┼──────────┼───────────────────────────────────────────────────┼───────┼────────┼─────────┼─────────┼────────────────────┼──────────┼─────────────┼────────────┤\n",
      "│ 454 │           455 │          0 │        3 │ Peduzzi, Mr. Joseph                               │ male  │ nan    │       0 │       0 │ A/5 2817           │   8.05   │ nan         │ S          │\n",
      "├─────┼───────────────┼────────────┼──────────┼───────────────────────────────────────────────────┼───────┼────────┼─────────┼─────────┼────────────────────┼──────────┼─────────────┼────────────┤\n",
      "│ 455 │           456 │          1 │        3 │ Jalsevac, Mr. Ivan                                │ male  │  29    │       0 │       0 │ 349240             │   7.8958 │ nan         │ C          │\n",
      "├─────┼───────────────┼────────────┼──────────┼───────────────────────────────────────────────────┼───────┼────────┼─────────┼─────────┼────────────────────┼──────────┼─────────────┼────────────┤\n",
      "│ 456 │           457 │          0 │        1 │ Millet, Mr. Francis Davis                         │ male  │  65    │       0 │       0 │ 13509              │  26.55   │ E38         │ S          │\n",
      "├─────┼───────────────┼────────────┼──────────┼───────────────────────────────────────────────────┼───────┼────────┼─────────┼─────────┼────────────────────┼──────────┼─────────────┼────────────┤\n",
      "│ 459 │           460 │          0 │        3 │ O'Connor, Mr. Maurice                             │ male  │ nan    │       0 │       0 │ 371060             │   7.75   │ nan         │ Q          │\n",
      "├─────┼───────────────┼────────────┼──────────┼───────────────────────────────────────────────────┼───────┼────────┼─────────┼─────────┼────────────────────┼──────────┼─────────────┼────────────┤\n",
      "│ 460 │           461 │          1 │        1 │ Anderson, Mr. Harry                               │ male  │  48    │       0 │       0 │ 19952              │  26.55   │ E12         │ S          │\n",
      "├─────┼───────────────┼────────────┼──────────┼───────────────────────────────────────────────────┼───────┼────────┼─────────┼─────────┼────────────────────┼──────────┼─────────────┼────────────┤\n",
      "│ 461 │           462 │          0 │        3 │ Morley, Mr. William                               │ male  │  34    │       0 │       0 │ 364506             │   8.05   │ nan         │ S          │\n",
      "├─────┼───────────────┼────────────┼──────────┼───────────────────────────────────────────────────┼───────┼────────┼─────────┼─────────┼────────────────────┼──────────┼─────────────┼────────────┤\n",
      "│ 462 │           463 │          0 │        1 │ Gee, Mr. Arthur H                                 │ male  │  47    │       0 │       0 │ 111320             │  38.5    │ E63         │ S          │\n",
      "├─────┼───────────────┼────────────┼──────────┼───────────────────────────────────────────────────┼───────┼────────┼─────────┼─────────┼────────────────────┼──────────┼─────────────┼────────────┤\n",
      "│ 463 │           464 │          0 │        2 │ Milling, Mr. Jacob Christian                      │ male  │  48    │       0 │       0 │ 234360             │  13      │ nan         │ S          │\n",
      "├─────┼───────────────┼────────────┼──────────┼───────────────────────────────────────────────────┼───────┼────────┼─────────┼─────────┼────────────────────┼──────────┼─────────────┼────────────┤\n",
      "│ 464 │           465 │          0 │        3 │ Maisner, Mr. Simon                                │ male  │ nan    │       0 │       0 │ A/S 2816           │   8.05   │ nan         │ S          │\n",
      "├─────┼───────────────┼────────────┼──────────┼───────────────────────────────────────────────────┼───────┼────────┼─────────┼─────────┼────────────────────┼──────────┼─────────────┼────────────┤\n",
      "│ 465 │           466 │          0 │        3 │ Goncalves, Mr. Manuel Estanslas                   │ male  │  38    │       0 │       0 │ SOTON/O.Q. 3101306 │   7.05   │ nan         │ S          │\n",
      "├─────┼───────────────┼────────────┼──────────┼───────────────────────────────────────────────────┼───────┼────────┼─────────┼─────────┼────────────────────┼──────────┼─────────────┼────────────┤\n",
      "│ 466 │           467 │          0 │        2 │ Campbell, Mr. William                             │ male  │ nan    │       0 │       0 │ 239853             │   0      │ nan         │ S          │\n",
      "├─────┼───────────────┼────────────┼──────────┼───────────────────────────────────────────────────┼───────┼────────┼─────────┼─────────┼────────────────────┼──────────┼─────────────┼────────────┤\n",
      "│ 467 │           468 │          0 │        1 │ Smart, Mr. John Montgomery                        │ male  │  56    │       0 │       0 │ 113792             │  26.55   │ nan         │ S          │\n",
      "├─────┼───────────────┼────────────┼──────────┼───────────────────────────────────────────────────┼───────┼────────┼─────────┼─────────┼────────────────────┼──────────┼─────────────┼────────────┤\n",
      "│ 468 │           469 │          0 │        3 │ Scanlan, Mr. James                                │ male  │ nan    │       0 │       0 │ 36209              │   7.725  │ nan         │ Q          │\n",
      "├─────┼───────────────┼────────────┼──────────┼───────────────────────────────────────────────────┼───────┼────────┼─────────┼─────────┼────────────────────┼──────────┼─────────────┼────────────┤\n",
      "│ 470 │           471 │          0 │        3 │ Keefe, Mr. Arthur                                 │ male  │ nan    │       0 │       0 │ 323592             │   7.25   │ nan         │ S          │\n",
      "├─────┼───────────────┼────────────┼──────────┼───────────────────────────────────────────────────┼───────┼────────┼─────────┼─────────┼────────────────────┼──────────┼─────────────┼────────────┤\n",
      "│ 471 │           472 │          0 │        3 │ Cacic, Mr. Luka                                   │ male  │  38    │       0 │       0 │ 315089             │   8.6625 │ nan         │ S          │\n",
      "├─────┼───────────────┼────────────┼──────────┼───────────────────────────────────────────────────┼───────┼────────┼─────────┼─────────┼────────────────────┼──────────┼─────────────┼────────────┤\n",
      "│ 475 │           476 │          0 │        1 │ Clifford, Mr. George Quincy                       │ male  │ nan    │       0 │       0 │ 110465             │  52      │ A14         │ S          │\n",
      "├─────┼───────────────┼────────────┼──────────┼───────────────────────────────────────────────────┼───────┼────────┼─────────┼─────────┼────────────────────┼──────────┼─────────────┼────────────┤\n",
      "│ 476 │           477 │          0 │        2 │ Renouf, Mr. Peter Henry                           │ male  │  34    │       1 │       0 │ 31027              │  21      │ nan         │ S          │\n",
      "├─────┼───────────────┼────────────┼──────────┼───────────────────────────────────────────────────┼───────┼────────┼─────────┼─────────┼────────────────────┼──────────┼─────────────┼────────────┤\n",
      "│ 477 │           478 │          0 │        3 │ Braund, Mr. Lewis Richard                         │ male  │  29    │       1 │       0 │ 3460               │   7.0458 │ nan         │ S          │\n",
      "├─────┼───────────────┼────────────┼──────────┼───────────────────────────────────────────────────┼───────┼────────┼─────────┼─────────┼────────────────────┼──────────┼─────────────┼────────────┤\n",
      "│ 478 │           479 │          0 │        3 │ Karlsson, Mr. Nils August                         │ male  │  22    │       0 │       0 │ 350060             │   7.5208 │ nan         │ S          │\n",
      "├─────┼───────────────┼────────────┼──────────┼───────────────────────────────────────────────────┼───────┼────────┼─────────┼─────────┼────────────────────┼──────────┼─────────────┼────────────┤\n",
      "│ 480 │           481 │          0 │        3 │ Goodwin, Master. Harold Victor                    │ male  │   9    │       5 │       2 │ CA 2144            │  46.9    │ nan         │ S          │\n",
      "├─────┼───────────────┼────────────┼──────────┼───────────────────────────────────────────────────┼───────┼────────┼─────────┼─────────┼────────────────────┼──────────┼─────────────┼────────────┤\n",
      "│ 481 │           482 │          0 │        2 │ Frost, Mr. Anthony Wood \"Archie\"                  │ male  │ nan    │       0 │       0 │ 239854             │   0      │ nan         │ S          │\n",
      "├─────┼───────────────┼────────────┼──────────┼───────────────────────────────────────────────────┼───────┼────────┼─────────┼─────────┼────────────────────┼──────────┼─────────────┼────────────┤\n",
      "│ 482 │           483 │          0 │        3 │ Rouse, Mr. Richard Henry                          │ male  │  50    │       0 │       0 │ A/5 3594           │   8.05   │ nan         │ S          │\n",
      "├─────┼───────────────┼────────────┼──────────┼───────────────────────────────────────────────────┼───────┼────────┼─────────┼─────────┼────────────────────┼──────────┼─────────────┼────────────┤\n",
      "│ 484 │           485 │          1 │        1 │ Bishop, Mr. Dickinson H                           │ male  │  25    │       1 │       0 │ 11967              │  91.0792 │ B49         │ C          │\n",
      "├─────┼───────────────┼────────────┼──────────┼───────────────────────────────────────────────────┼───────┼────────┼─────────┼─────────┼────────────────────┼──────────┼─────────────┼────────────┤\n",
      "│ 487 │           488 │          0 │        1 │ Kent, Mr. Edward Austin                           │ male  │  58    │       0 │       0 │ 11771              │  29.7    │ B37         │ C          │\n",
      "├─────┼───────────────┼────────────┼──────────┼───────────────────────────────────────────────────┼───────┼────────┼─────────┼─────────┼────────────────────┼──────────┼─────────────┼────────────┤\n",
      "│ 488 │           489 │          0 │        3 │ Somerton, Mr. Francis William                     │ male  │  30    │       0 │       0 │ A.5. 18509         │   8.05   │ nan         │ S          │\n",
      "├─────┼───────────────┼────────────┼──────────┼───────────────────────────────────────────────────┼───────┼────────┼─────────┼─────────┼────────────────────┼──────────┼─────────────┼────────────┤\n",
      "│ 489 │           490 │          1 │        3 │ Coutts, Master. Eden Leslie \"Neville\"             │ male  │   9    │       1 │       1 │ C.A. 37671         │  15.9    │ nan         │ S          │\n",
      "├─────┼───────────────┼────────────┼──────────┼───────────────────────────────────────────────────┼───────┼────────┼─────────┼─────────┼────────────────────┼──────────┼─────────────┼────────────┤\n",
      "│ 490 │           491 │          0 │        3 │ Hagland, Mr. Konrad Mathias Reiersen              │ male  │ nan    │       1 │       0 │ 65304              │  19.9667 │ nan         │ S          │\n",
      "├─────┼───────────────┼────────────┼──────────┼───────────────────────────────────────────────────┼───────┼────────┼─────────┼─────────┼────────────────────┼──────────┼─────────────┼────────────┤\n",
      "│ 491 │           492 │          0 │        3 │ Windelov, Mr. Einar                               │ male  │  21    │       0 │       0 │ SOTON/OQ 3101317   │   7.25   │ nan         │ S          │\n",
      "├─────┼───────────────┼────────────┼──────────┼───────────────────────────────────────────────────┼───────┼────────┼─────────┼─────────┼────────────────────┼──────────┼─────────────┼────────────┤\n",
      "│ 492 │           493 │          0 │        1 │ Molson, Mr. Harry Markland                        │ male  │  55    │       0 │       0 │ 113787             │  30.5    │ C30         │ S          │\n",
      "├─────┼───────────────┼────────────┼──────────┼───────────────────────────────────────────────────┼───────┼────────┼─────────┼─────────┼────────────────────┼──────────┼─────────────┼────────────┤\n",
      "│ 493 │           494 │          0 │        1 │ Artagaveytia, Mr. Ramon                           │ male  │  71    │       0 │       0 │ PC 17609           │  49.5042 │ nan         │ C          │\n",
      "├─────┼───────────────┼────────────┼──────────┼───────────────────────────────────────────────────┼───────┼────────┼─────────┼─────────┼────────────────────┼──────────┼─────────────┼────────────┤\n",
      "│ 494 │           495 │          0 │        3 │ Stanley, Mr. Edward Roland                        │ male  │  21    │       0 │       0 │ A/4 45380          │   8.05   │ nan         │ S          │\n",
      "├─────┼───────────────┼────────────┼──────────┼───────────────────────────────────────────────────┼───────┼────────┼─────────┼─────────┼────────────────────┼──────────┼─────────────┼────────────┤\n",
      "│ 495 │           496 │          0 │        3 │ Yousseff, Mr. Gerious                             │ male  │ nan    │       0 │       0 │ 2627               │  14.4583 │ nan         │ C          │\n",
      "├─────┼───────────────┼────────────┼──────────┼───────────────────────────────────────────────────┼───────┼────────┼─────────┼─────────┼────────────────────┼──────────┼─────────────┼────────────┤\n",
      "│ 497 │           498 │          0 │        3 │ Shellard, Mr. Frederick William                   │ male  │ nan    │       0 │       0 │ C.A. 6212          │  15.1    │ nan         │ S          │\n",
      "├─────┼───────────────┼────────────┼──────────┼───────────────────────────────────────────────────┼───────┼────────┼─────────┼─────────┼────────────────────┼──────────┼─────────────┼────────────┤\n",
      "│ 499 │           500 │          0 │        3 │ Svensson, Mr. Olof                                │ male  │  24    │       0 │       0 │ 350035             │   7.7958 │ nan         │ S          │\n",
      "├─────┼───────────────┼────────────┼──────────┼───────────────────────────────────────────────────┼───────┼────────┼─────────┼─────────┼────────────────────┼──────────┼─────────────┼────────────┤\n",
      "│ 500 │           501 │          0 │        3 │ Calic, Mr. Petar                                  │ male  │  17    │       0 │       0 │ 315086             │   8.6625 │ nan         │ S          │\n",
      "├─────┼───────────────┼────────────┼──────────┼───────────────────────────────────────────────────┼───────┼────────┼─────────┼─────────┼────────────────────┼──────────┼─────────────┼────────────┤\n",
      "│ 505 │           506 │          0 │        1 │ Penasco y Castellana, Mr. Victor de Satode        │ male  │  18    │       1 │       0 │ PC 17758           │ 108.9    │ C65         │ C          │\n",
      "├─────┼───────────────┼────────────┼──────────┼───────────────────────────────────────────────────┼───────┼────────┼─────────┼─────────┼────────────────────┼──────────┼─────────────┼────────────┤\n",
      "│ 507 │           508 │          1 │        1 │ Bradley, Mr. George (\"George Arthur Brayton\")     │ male  │ nan    │       0 │       0 │ 111427             │  26.55   │ nan         │ S          │\n",
      "├─────┼───────────────┼────────────┼──────────┼───────────────────────────────────────────────────┼───────┼────────┼─────────┼─────────┼────────────────────┼──────────┼─────────────┼────────────┤\n",
      "│ 508 │           509 │          0 │        3 │ Olsen, Mr. Henry Margido                          │ male  │  28    │       0 │       0 │ C 4001             │  22.525  │ nan         │ S          │\n",
      "├─────┼───────────────┼────────────┼──────────┼───────────────────────────────────────────────────┼───────┼────────┼─────────┼─────────┼────────────────────┼──────────┼─────────────┼────────────┤\n",
      "│ 509 │           510 │          1 │        3 │ Lang, Mr. Fang                                    │ male  │  26    │       0 │       0 │ 1601               │  56.4958 │ nan         │ S          │\n",
      "├─────┼───────────────┼────────────┼──────────┼───────────────────────────────────────────────────┼───────┼────────┼─────────┼─────────┼────────────────────┼──────────┼─────────────┼────────────┤\n",
      "│ 510 │           511 │          1 │        3 │ Daly, Mr. Eugene Patrick                          │ male  │  29    │       0 │       0 │ 382651             │   7.75   │ nan         │ Q          │\n",
      "├─────┼───────────────┼────────────┼──────────┼───────────────────────────────────────────────────┼───────┼────────┼─────────┼─────────┼────────────────────┼──────────┼─────────────┼────────────┤\n",
      "│ 511 │           512 │          0 │        3 │ Webber, Mr. James                                 │ male  │ nan    │       0 │       0 │ SOTON/OQ 3101316   │   8.05   │ nan         │ S          │\n",
      "├─────┼───────────────┼────────────┼──────────┼───────────────────────────────────────────────────┼───────┼────────┼─────────┼─────────┼────────────────────┼──────────┼─────────────┼────────────┤\n",
      "│ 512 │           513 │          1 │        1 │ McGough, Mr. James Robert                         │ male  │  36    │       0 │       0 │ PC 17473           │  26.2875 │ E25         │ S          │\n",
      "├─────┼───────────────┼────────────┼──────────┼───────────────────────────────────────────────────┼───────┼────────┼─────────┼─────────┼────────────────────┼──────────┼─────────────┼────────────┤\n",
      "│ 514 │           515 │          0 │        3 │ Coleff, Mr. Satio                                 │ male  │  24    │       0 │       0 │ 349209             │   7.4958 │ nan         │ S          │\n",
      "├─────┼───────────────┼────────────┼──────────┼───────────────────────────────────────────────────┼───────┼────────┼─────────┼─────────┼────────────────────┼──────────┼─────────────┼────────────┤\n",
      "│ 515 │           516 │          0 │        1 │ Walker, Mr. William Anderson                      │ male  │  47    │       0 │       0 │ 36967              │  34.0208 │ D46         │ S          │\n",
      "├─────┼───────────────┼────────────┼──────────┼───────────────────────────────────────────────────┼───────┼────────┼─────────┼─────────┼────────────────────┼──────────┼─────────────┼────────────┤\n",
      "│ 517 │           518 │          0 │        3 │ Ryan, Mr. Patrick                                 │ male  │ nan    │       0 │       0 │ 371110             │  24.15   │ nan         │ Q          │\n",
      "├─────┼───────────────┼────────────┼──────────┼───────────────────────────────────────────────────┼───────┼────────┼─────────┼─────────┼────────────────────┼──────────┼─────────────┼────────────┤\n",
      "│ 519 │           520 │          0 │        3 │ Pavlovic, Mr. Stefo                               │ male  │  32    │       0 │       0 │ 349242             │   7.8958 │ nan         │ S          │\n",
      "├─────┼───────────────┼────────────┼──────────┼───────────────────────────────────────────────────┼───────┼────────┼─────────┼─────────┼────────────────────┼──────────┼─────────────┼────────────┤\n",
      "│ 521 │           522 │          0 │        3 │ Vovk, Mr. Janko                                   │ male  │  22    │       0 │       0 │ 349252             │   7.8958 │ nan         │ S          │\n",
      "├─────┼───────────────┼────────────┼──────────┼───────────────────────────────────────────────────┼───────┼────────┼─────────┼─────────┼────────────────────┼──────────┼─────────────┼────────────┤\n",
      "│ 522 │           523 │          0 │        3 │ Lahoud, Mr. Sarkis                                │ male  │ nan    │       0 │       0 │ 2624               │   7.225  │ nan         │ C          │\n",
      "├─────┼───────────────┼────────────┼──────────┼───────────────────────────────────────────────────┼───────┼────────┼─────────┼─────────┼────────────────────┼──────────┼─────────────┼────────────┤\n",
      "│ 524 │           525 │          0 │        3 │ Kassem, Mr. Fared                                 │ male  │ nan    │       0 │       0 │ 2700               │   7.2292 │ nan         │ C          │\n",
      "├─────┼───────────────┼────────────┼──────────┼───────────────────────────────────────────────────┼───────┼────────┼─────────┼─────────┼────────────────────┼──────────┼─────────────┼────────────┤\n",
      "│ 525 │           526 │          0 │        3 │ Farrell, Mr. James                                │ male  │  40.5  │       0 │       0 │ 367232             │   7.75   │ nan         │ Q          │\n",
      "├─────┼───────────────┼────────────┼──────────┼───────────────────────────────────────────────────┼───────┼────────┼─────────┼─────────┼────────────────────┼──────────┼─────────────┼────────────┤\n",
      "│ 527 │           528 │          0 │        1 │ Farthing, Mr. John                                │ male  │ nan    │       0 │       0 │ PC 17483           │ 221.779  │ C95         │ S          │\n",
      "├─────┼───────────────┼────────────┼──────────┼───────────────────────────────────────────────────┼───────┼────────┼─────────┼─────────┼────────────────────┼──────────┼─────────────┼────────────┤\n",
      "│ 528 │           529 │          0 │        3 │ Salonen, Mr. Johan Werner                         │ male  │  39    │       0 │       0 │ 3101296            │   7.925  │ nan         │ S          │\n",
      "├─────┼───────────────┼────────────┼──────────┼───────────────────────────────────────────────────┼───────┼────────┼─────────┼─────────┼────────────────────┼──────────┼─────────────┼────────────┤\n",
      "│ 529 │           530 │          0 │        2 │ Hocking, Mr. Richard George                       │ male  │  23    │       2 │       1 │ 29104              │  11.5    │ nan         │ S          │\n",
      "├─────┼───────────────┼────────────┼──────────┼───────────────────────────────────────────────────┼───────┼────────┼─────────┼─────────┼────────────────────┼──────────┼─────────────┼────────────┤\n",
      "│ 531 │           532 │          0 │        3 │ Toufik, Mr. Nakli                                 │ male  │ nan    │       0 │       0 │ 2641               │   7.2292 │ nan         │ C          │\n",
      "├─────┼───────────────┼────────────┼──────────┼───────────────────────────────────────────────────┼───────┼────────┼─────────┼─────────┼────────────────────┼──────────┼─────────────┼────────────┤\n",
      "│ 532 │           533 │          0 │        3 │ Elias, Mr. Joseph Jr                              │ male  │  17    │       1 │       1 │ 2690               │   7.2292 │ nan         │ C          │\n",
      "├─────┼───────────────┼────────────┼──────────┼───────────────────────────────────────────────────┼───────┼────────┼─────────┼─────────┼────────────────────┼──────────┼─────────────┼────────────┤\n",
      "│ 536 │           537 │          0 │        1 │ Butt, Major. Archibald Willingham                 │ male  │  45    │       0 │       0 │ 113050             │  26.55   │ B38         │ S          │\n",
      "├─────┼───────────────┼────────────┼──────────┼───────────────────────────────────────────────────┼───────┼────────┼─────────┼─────────┼────────────────────┼──────────┼─────────────┼────────────┤\n",
      "│ 538 │           539 │          0 │        3 │ Risien, Mr. Samuel Beard                          │ male  │ nan    │       0 │       0 │ 364498             │  14.5    │ nan         │ S          │\n",
      "├─────┼───────────────┼────────────┼──────────┼───────────────────────────────────────────────────┼───────┼────────┼─────────┼─────────┼────────────────────┼──────────┼─────────────┼────────────┤\n",
      "│ 543 │           544 │          1 │        2 │ Beane, Mr. Edward                                 │ male  │  32    │       1 │       0 │ 2908               │  26      │ nan         │ S          │\n",
      "├─────┼───────────────┼────────────┼──────────┼───────────────────────────────────────────────────┼───────┼────────┼─────────┼─────────┼────────────────────┼──────────┼─────────────┼────────────┤\n",
      "│ 544 │           545 │          0 │        1 │ Douglas, Mr. Walter Donald                        │ male  │  50    │       1 │       0 │ PC 17761           │ 106.425  │ C86         │ C          │\n",
      "├─────┼───────────────┼────────────┼──────────┼───────────────────────────────────────────────────┼───────┼────────┼─────────┼─────────┼────────────────────┼──────────┼─────────────┼────────────┤\n",
      "│ 545 │           546 │          0 │        1 │ Nicholson, Mr. Arthur Ernest                      │ male  │  64    │       0 │       0 │ 693                │  26      │ nan         │ S          │\n",
      "├─────┼───────────────┼────────────┼──────────┼───────────────────────────────────────────────────┼───────┼────────┼─────────┼─────────┼────────────────────┼──────────┼─────────────┼────────────┤\n",
      "│ 547 │           548 │          1 │        2 │ Padro y Manent, Mr. Julian                        │ male  │ nan    │       0 │       0 │ SC/PARIS 2146      │  13.8625 │ nan         │ C          │\n",
      "├─────┼───────────────┼────────────┼──────────┼───────────────────────────────────────────────────┼───────┼────────┼─────────┼─────────┼────────────────────┼──────────┼─────────────┼────────────┤\n",
      "│ 548 │           549 │          0 │        3 │ Goldsmith, Mr. Frank John                         │ male  │  33    │       1 │       1 │ 363291             │  20.525  │ nan         │ S          │\n",
      "├─────┼───────────────┼────────────┼──────────┼───────────────────────────────────────────────────┼───────┼────────┼─────────┼─────────┼────────────────────┼──────────┼─────────────┼────────────┤\n",
      "│ 549 │           550 │          1 │        2 │ Davies, Master. John Morgan Jr                    │ male  │   8    │       1 │       1 │ C.A. 33112         │  36.75   │ nan         │ S          │\n",
      "├─────┼───────────────┼────────────┼──────────┼───────────────────────────────────────────────────┼───────┼────────┼─────────┼─────────┼────────────────────┼──────────┼─────────────┼────────────┤\n",
      "│ 550 │           551 │          1 │        1 │ Thayer, Mr. John Borland Jr                       │ male  │  17    │       0 │       2 │ 17421              │ 110.883  │ C70         │ C          │\n",
      "├─────┼───────────────┼────────────┼──────────┼───────────────────────────────────────────────────┼───────┼────────┼─────────┼─────────┼────────────────────┼──────────┼─────────────┼────────────┤\n",
      "│ 551 │           552 │          0 │        2 │ Sharp, Mr. Percival James R                       │ male  │  27    │       0 │       0 │ 244358             │  26      │ nan         │ S          │\n",
      "├─────┼───────────────┼────────────┼──────────┼───────────────────────────────────────────────────┼───────┼────────┼─────────┼─────────┼────────────────────┼──────────┼─────────────┼────────────┤\n",
      "│ 552 │           553 │          0 │        3 │ O'Brien, Mr. Timothy                              │ male  │ nan    │       0 │       0 │ 330979             │   7.8292 │ nan         │ Q          │\n",
      "├─────┼───────────────┼────────────┼──────────┼───────────────────────────────────────────────────┼───────┼────────┼─────────┼─────────┼────────────────────┼──────────┼─────────────┼────────────┤\n",
      "│ 553 │           554 │          1 │        3 │ Leeni, Mr. Fahim (\"Philip Zenni\")                 │ male  │  22    │       0 │       0 │ 2620               │   7.225  │ nan         │ C          │\n",
      "├─────┼───────────────┼────────────┼──────────┼───────────────────────────────────────────────────┼───────┼────────┼─────────┼─────────┼────────────────────┼──────────┼─────────────┼────────────┤\n",
      "│ 555 │           556 │          0 │        1 │ Wright, Mr. George                                │ male  │  62    │       0 │       0 │ 113807             │  26.55   │ nan         │ S          │\n",
      "├─────┼───────────────┼────────────┼──────────┼───────────────────────────────────────────────────┼───────┼────────┼─────────┼─────────┼────────────────────┼──────────┼─────────────┼────────────┤\n",
      "│ 557 │           558 │          0 │        1 │ Robbins, Mr. Victor                               │ male  │ nan    │       0 │       0 │ PC 17757           │ 227.525  │ nan         │ C          │\n",
      "├─────┼───────────────┼────────────┼──────────┼───────────────────────────────────────────────────┼───────┼────────┼─────────┼─────────┼────────────────────┼──────────┼─────────────┼────────────┤\n",
      "│ 560 │           561 │          0 │        3 │ Morrow, Mr. Thomas Rowan                          │ male  │ nan    │       0 │       0 │ 372622             │   7.75   │ nan         │ Q          │\n",
      "├─────┼───────────────┼────────────┼──────────┼───────────────────────────────────────────────────┼───────┼────────┼─────────┼─────────┼────────────────────┼──────────┼─────────────┼────────────┤\n",
      "│ 561 │           562 │          0 │        3 │ Sivic, Mr. Husein                                 │ male  │  40    │       0 │       0 │ 349251             │   7.8958 │ nan         │ S          │\n",
      "├─────┼───────────────┼────────────┼──────────┼───────────────────────────────────────────────────┼───────┼────────┼─────────┼─────────┼────────────────────┼──────────┼─────────────┼────────────┤\n",
      "│ 562 │           563 │          0 │        2 │ Norman, Mr. Robert Douglas                        │ male  │  28    │       0 │       0 │ 218629             │  13.5    │ nan         │ S          │\n",
      "├─────┼───────────────┼────────────┼──────────┼───────────────────────────────────────────────────┼───────┼────────┼─────────┼─────────┼────────────────────┼──────────┼─────────────┼────────────┤\n",
      "│ 563 │           564 │          0 │        3 │ Simmons, Mr. John                                 │ male  │ nan    │       0 │       0 │ SOTON/OQ 392082    │   8.05   │ nan         │ S          │\n",
      "├─────┼───────────────┼────────────┼──────────┼───────────────────────────────────────────────────┼───────┼────────┼─────────┼─────────┼────────────────────┼──────────┼─────────────┼────────────┤\n",
      "│ 565 │           566 │          0 │        3 │ Davies, Mr. Alfred J                              │ male  │  24    │       2 │       0 │ A/4 48871          │  24.15   │ nan         │ S          │\n",
      "├─────┼───────────────┼────────────┼──────────┼───────────────────────────────────────────────────┼───────┼────────┼─────────┼─────────┼────────────────────┼──────────┼─────────────┼────────────┤\n",
      "│ 566 │           567 │          0 │        3 │ Stoytcheff, Mr. Ilia                              │ male  │  19    │       0 │       0 │ 349205             │   7.8958 │ nan         │ S          │\n",
      "├─────┼───────────────┼────────────┼──────────┼───────────────────────────────────────────────────┼───────┼────────┼─────────┼─────────┼────────────────────┼──────────┼─────────────┼────────────┤\n",
      "│ 568 │           569 │          0 │        3 │ Doharr, Mr. Tannous                               │ male  │ nan    │       0 │       0 │ 2686               │   7.2292 │ nan         │ C          │\n",
      "├─────┼───────────────┼────────────┼──────────┼───────────────────────────────────────────────────┼───────┼────────┼─────────┼─────────┼────────────────────┼──────────┼─────────────┼────────────┤\n",
      "│ 569 │           570 │          1 │        3 │ Jonsson, Mr. Carl                                 │ male  │  32    │       0 │       0 │ 350417             │   7.8542 │ nan         │ S          │\n",
      "├─────┼───────────────┼────────────┼──────────┼───────────────────────────────────────────────────┼───────┼────────┼─────────┼─────────┼────────────────────┼──────────┼─────────────┼────────────┤\n",
      "│ 570 │           571 │          1 │        2 │ Harris, Mr. George                                │ male  │  62    │       0 │       0 │ S.W./PP 752        │  10.5    │ nan         │ S          │\n",
      "├─────┼───────────────┼────────────┼──────────┼───────────────────────────────────────────────────┼───────┼────────┼─────────┼─────────┼────────────────────┼──────────┼─────────────┼────────────┤\n",
      "│ 572 │           573 │          1 │        1 │ Flynn, Mr. John Irwin (\"Irving\")                  │ male  │  36    │       0 │       0 │ PC 17474           │  26.3875 │ E25         │ S          │\n",
      "├─────┼───────────────┼────────────┼──────────┼───────────────────────────────────────────────────┼───────┼────────┼─────────┼─────────┼────────────────────┼──────────┼─────────────┼────────────┤\n",
      "│ 574 │           575 │          0 │        3 │ Rush, Mr. Alfred George John                      │ male  │  16    │       0 │       0 │ A/4. 20589         │   8.05   │ nan         │ S          │\n",
      "├─────┼───────────────┼────────────┼──────────┼───────────────────────────────────────────────────┼───────┼────────┼─────────┼─────────┼────────────────────┼──────────┼─────────────┼────────────┤\n",
      "│ 575 │           576 │          0 │        3 │ Patchett, Mr. George                              │ male  │  19    │       0 │       0 │ 358585             │  14.5    │ nan         │ S          │\n",
      "├─────┼───────────────┼────────────┼──────────┼───────────────────────────────────────────────────┼───────┼────────┼─────────┼─────────┼────────────────────┼──────────┼─────────────┼────────────┤\n",
      "│ 579 │           580 │          1 │        3 │ Jussila, Mr. Eiriik                               │ male  │  32    │       0 │       0 │ STON/O 2. 3101286  │   7.925  │ nan         │ S          │\n",
      "├─────┼───────────────┼────────────┼──────────┼───────────────────────────────────────────────────┼───────┼────────┼─────────┼─────────┼────────────────────┼──────────┼─────────────┼────────────┤\n",
      "│ 582 │           583 │          0 │        2 │ Downton, Mr. William James                        │ male  │  54    │       0 │       0 │ 28403              │  26      │ nan         │ S          │\n",
      "├─────┼───────────────┼────────────┼──────────┼───────────────────────────────────────────────────┼───────┼────────┼─────────┼─────────┼────────────────────┼──────────┼─────────────┼────────────┤\n",
      "│ 583 │           584 │          0 │        1 │ Ross, Mr. John Hugo                               │ male  │  36    │       0 │       0 │ 13049              │  40.125  │ A10         │ C          │\n",
      "├─────┼───────────────┼────────────┼──────────┼───────────────────────────────────────────────────┼───────┼────────┼─────────┼─────────┼────────────────────┼──────────┼─────────────┼────────────┤\n",
      "│ 584 │           585 │          0 │        3 │ Paulner, Mr. Uscher                               │ male  │ nan    │       0 │       0 │ 3411               │   8.7125 │ nan         │ C          │\n",
      "├─────┼───────────────┼────────────┼──────────┼───────────────────────────────────────────────────┼───────┼────────┼─────────┼─────────┼────────────────────┼──────────┼─────────────┼────────────┤\n",
      "│ 586 │           587 │          0 │        2 │ Jarvis, Mr. John Denzil                           │ male  │  47    │       0 │       0 │ 237565             │  15      │ nan         │ S          │\n",
      "├─────┼───────────────┼────────────┼──────────┼───────────────────────────────────────────────────┼───────┼────────┼─────────┼─────────┼────────────────────┼──────────┼─────────────┼────────────┤\n",
      "│ 587 │           588 │          1 │        1 │ Frolicher-Stehli, Mr. Maxmillian                  │ male  │  60    │       1 │       1 │ 13567              │  79.2    │ B41         │ C          │\n",
      "├─────┼───────────────┼────────────┼──────────┼───────────────────────────────────────────────────┼───────┼────────┼─────────┼─────────┼────────────────────┼──────────┼─────────────┼────────────┤\n",
      "│ 588 │           589 │          0 │        3 │ Gilinski, Mr. Eliezer                             │ male  │  22    │       0 │       0 │ 14973              │   8.05   │ nan         │ S          │\n",
      "├─────┼───────────────┼────────────┼──────────┼───────────────────────────────────────────────────┼───────┼────────┼─────────┼─────────┼────────────────────┼──────────┼─────────────┼────────────┤\n",
      "│ 589 │           590 │          0 │        3 │ Murdlin, Mr. Joseph                               │ male  │ nan    │       0 │       0 │ A./5. 3235         │   8.05   │ nan         │ S          │\n",
      "├─────┼───────────────┼────────────┼──────────┼───────────────────────────────────────────────────┼───────┼────────┼─────────┼─────────┼────────────────────┼──────────┼─────────────┼────────────┤\n",
      "│ 590 │           591 │          0 │        3 │ Rintamaki, Mr. Matti                              │ male  │  35    │       0 │       0 │ STON/O 2. 3101273  │   7.125  │ nan         │ S          │\n",
      "├─────┼───────────────┼────────────┼──────────┼───────────────────────────────────────────────────┼───────┼────────┼─────────┼─────────┼────────────────────┼──────────┼─────────────┼────────────┤\n",
      "│ 592 │           593 │          0 │        3 │ Elsbury, Mr. William James                        │ male  │  47    │       0 │       0 │ A/5 3902           │   7.25   │ nan         │ S          │\n",
      "├─────┼───────────────┼────────────┼──────────┼───────────────────────────────────────────────────┼───────┼────────┼─────────┼─────────┼────────────────────┼──────────┼─────────────┼────────────┤\n",
      "│ 594 │           595 │          0 │        2 │ Chapman, Mr. John Henry                           │ male  │  37    │       1 │       0 │ SC/AH 29037        │  26      │ nan         │ S          │\n",
      "├─────┼───────────────┼────────────┼──────────┼───────────────────────────────────────────────────┼───────┼────────┼─────────┼─────────┼────────────────────┼──────────┼─────────────┼────────────┤\n",
      "│ 595 │           596 │          0 │        3 │ Van Impe, Mr. Jean Baptiste                       │ male  │  36    │       1 │       1 │ 345773             │  24.15   │ nan         │ S          │\n",
      "├─────┼───────────────┼────────────┼──────────┼───────────────────────────────────────────────────┼───────┼────────┼─────────┼─────────┼────────────────────┼──────────┼─────────────┼────────────┤\n",
      "│ 597 │           598 │          0 │        3 │ Johnson, Mr. Alfred                               │ male  │  49    │       0 │       0 │ LINE               │   0      │ nan         │ S          │\n",
      "├─────┼───────────────┼────────────┼──────────┼───────────────────────────────────────────────────┼───────┼────────┼─────────┼─────────┼────────────────────┼──────────┼─────────────┼────────────┤\n",
      "│ 598 │           599 │          0 │        3 │ Boulos, Mr. Hanna                                 │ male  │ nan    │       0 │       0 │ 2664               │   7.225  │ nan         │ C          │\n",
      "├─────┼───────────────┼────────────┼──────────┼───────────────────────────────────────────────────┼───────┼────────┼─────────┼─────────┼────────────────────┼──────────┼─────────────┼────────────┤\n",
      "│ 599 │           600 │          1 │        1 │ Duff Gordon, Sir. Cosmo Edmund (\"Mr Morgan\")      │ male  │  49    │       1 │       0 │ PC 17485           │  56.9292 │ A20         │ C          │\n",
      "├─────┼───────────────┼────────────┼──────────┼───────────────────────────────────────────────────┼───────┼────────┼─────────┼─────────┼────────────────────┼──────────┼─────────────┼────────────┤\n",
      "│ 601 │           602 │          0 │        3 │ Slabenoff, Mr. Petco                              │ male  │ nan    │       0 │       0 │ 349214             │   7.8958 │ nan         │ S          │\n",
      "├─────┼───────────────┼────────────┼──────────┼───────────────────────────────────────────────────┼───────┼────────┼─────────┼─────────┼────────────────────┼──────────┼─────────────┼────────────┤\n",
      "│ 602 │           603 │          0 │        1 │ Harrington, Mr. Charles H                         │ male  │ nan    │       0 │       0 │ 113796             │  42.4    │ nan         │ S          │\n",
      "├─────┼───────────────┼────────────┼──────────┼───────────────────────────────────────────────────┼───────┼────────┼─────────┼─────────┼────────────────────┼──────────┼─────────────┼────────────┤\n",
      "│ 603 │           604 │          0 │        3 │ Torber, Mr. Ernst William                         │ male  │  44    │       0 │       0 │ 364511             │   8.05   │ nan         │ S          │\n",
      "├─────┼───────────────┼────────────┼──────────┼───────────────────────────────────────────────────┼───────┼────────┼─────────┼─────────┼────────────────────┼──────────┼─────────────┼────────────┤\n",
      "│ 604 │           605 │          1 │        1 │ Homer, Mr. Harry (\"Mr E Haven\")                   │ male  │  35    │       0 │       0 │ 111426             │  26.55   │ nan         │ C          │\n",
      "├─────┼───────────────┼────────────┼──────────┼───────────────────────────────────────────────────┼───────┼────────┼─────────┼─────────┼────────────────────┼──────────┼─────────────┼────────────┤\n",
      "│ 605 │           606 │          0 │        3 │ Lindell, Mr. Edvard Bengtsson                     │ male  │  36    │       1 │       0 │ 349910             │  15.55   │ nan         │ S          │\n",
      "├─────┼───────────────┼────────────┼──────────┼───────────────────────────────────────────────────┼───────┼────────┼─────────┼─────────┼────────────────────┼──────────┼─────────────┼────────────┤\n",
      "│ 606 │           607 │          0 │        3 │ Karaic, Mr. Milan                                 │ male  │  30    │       0 │       0 │ 349246             │   7.8958 │ nan         │ S          │\n",
      "├─────┼───────────────┼────────────┼──────────┼───────────────────────────────────────────────────┼───────┼────────┼─────────┼─────────┼────────────────────┼──────────┼─────────────┼────────────┤\n",
      "│ 607 │           608 │          1 │        1 │ Daniel, Mr. Robert Williams                       │ male  │  27    │       0 │       0 │ 113804             │  30.5    │ nan         │ S          │\n",
      "├─────┼───────────────┼────────────┼──────────┼───────────────────────────────────────────────────┼───────┼────────┼─────────┼─────────┼────────────────────┼──────────┼─────────────┼────────────┤\n",
      "│ 611 │           612 │          0 │        3 │ Jardin, Mr. Jose Neto                             │ male  │ nan    │       0 │       0 │ SOTON/O.Q. 3101305 │   7.05   │ nan         │ S          │\n",
      "├─────┼───────────────┼────────────┼──────────┼───────────────────────────────────────────────────┼───────┼────────┼─────────┼─────────┼────────────────────┼──────────┼─────────────┼────────────┤\n",
      "│ 613 │           614 │          0 │        3 │ Horgan, Mr. John                                  │ male  │ nan    │       0 │       0 │ 370377             │   7.75   │ nan         │ Q          │\n",
      "├─────┼───────────────┼────────────┼──────────┼───────────────────────────────────────────────────┼───────┼────────┼─────────┼─────────┼────────────────────┼──────────┼─────────────┼────────────┤\n",
      "│ 614 │           615 │          0 │        3 │ Brocklebank, Mr. William Alfred                   │ male  │  35    │       0 │       0 │ 364512             │   8.05   │ nan         │ S          │\n",
      "├─────┼───────────────┼────────────┼──────────┼───────────────────────────────────────────────────┼───────┼────────┼─────────┼─────────┼────────────────────┼──────────┼─────────────┼────────────┤\n",
      "│ 616 │           617 │          0 │        3 │ Danbom, Mr. Ernst Gilbert                         │ male  │  34    │       1 │       1 │ 347080             │  14.4    │ nan         │ S          │\n",
      "├─────┼───────────────┼────────────┼──────────┼───────────────────────────────────────────────────┼───────┼────────┼─────────┼─────────┼────────────────────┼──────────┼─────────────┼────────────┤\n",
      "│ 619 │           620 │          0 │        2 │ Gavey, Mr. Lawrence                               │ male  │  26    │       0 │       0 │ 31028              │  10.5    │ nan         │ S          │\n",
      "├─────┼───────────────┼────────────┼──────────┼───────────────────────────────────────────────────┼───────┼────────┼─────────┼─────────┼────────────────────┼──────────┼─────────────┼────────────┤\n",
      "│ 620 │           621 │          0 │        3 │ Yasbeck, Mr. Antoni                               │ male  │  27    │       1 │       0 │ 2659               │  14.4542 │ nan         │ C          │\n",
      "├─────┼───────────────┼────────────┼──────────┼───────────────────────────────────────────────────┼───────┼────────┼─────────┼─────────┼────────────────────┼──────────┼─────────────┼────────────┤\n",
      "│ 621 │           622 │          1 │        1 │ Kimball, Mr. Edwin Nelson Jr                      │ male  │  42    │       1 │       0 │ 11753              │  52.5542 │ D19         │ S          │\n",
      "├─────┼───────────────┼────────────┼──────────┼───────────────────────────────────────────────────┼───────┼────────┼─────────┼─────────┼────────────────────┼──────────┼─────────────┼────────────┤\n",
      "│ 622 │           623 │          1 │        3 │ Nakid, Mr. Sahid                                  │ male  │  20    │       1 │       1 │ 2653               │  15.7417 │ nan         │ C          │\n",
      "├─────┼───────────────┼────────────┼──────────┼───────────────────────────────────────────────────┼───────┼────────┼─────────┼─────────┼────────────────────┼──────────┼─────────────┼────────────┤\n",
      "│ 623 │           624 │          0 │        3 │ Hansen, Mr. Henry Damsgaard                       │ male  │  21    │       0 │       0 │ 350029             │   7.8542 │ nan         │ S          │\n",
      "├─────┼───────────────┼────────────┼──────────┼───────────────────────────────────────────────────┼───────┼────────┼─────────┼─────────┼────────────────────┼──────────┼─────────────┼────────────┤\n",
      "│ 624 │           625 │          0 │        3 │ Bowen, Mr. David John \"Dai\"                       │ male  │  21    │       0 │       0 │ 54636              │  16.1    │ nan         │ S          │\n",
      "├─────┼───────────────┼────────────┼──────────┼───────────────────────────────────────────────────┼───────┼────────┼─────────┼─────────┼────────────────────┼──────────┼─────────────┼────────────┤\n",
      "│ 625 │           626 │          0 │        1 │ Sutton, Mr. Frederick                             │ male  │  61    │       0 │       0 │ 36963              │  32.3208 │ D50         │ S          │\n",
      "├─────┼───────────────┼────────────┼──────────┼───────────────────────────────────────────────────┼───────┼────────┼─────────┼─────────┼────────────────────┼──────────┼─────────────┼────────────┤\n",
      "│ 626 │           627 │          0 │        2 │ Kirkland, Rev. Charles Leonard                    │ male  │  57    │       0 │       0 │ 219533             │  12.35   │ nan         │ Q          │\n",
      "├─────┼───────────────┼────────────┼──────────┼───────────────────────────────────────────────────┼───────┼────────┼─────────┼─────────┼────────────────────┼──────────┼─────────────┼────────────┤\n",
      "│ 628 │           629 │          0 │        3 │ Bostandyeff, Mr. Guentcho                         │ male  │  26    │       0 │       0 │ 349224             │   7.8958 │ nan         │ S          │\n",
      "├─────┼───────────────┼────────────┼──────────┼───────────────────────────────────────────────────┼───────┼────────┼─────────┼─────────┼────────────────────┼──────────┼─────────────┼────────────┤\n",
      "│ 629 │           630 │          0 │        3 │ O'Connell, Mr. Patrick D                          │ male  │ nan    │       0 │       0 │ 334912             │   7.7333 │ nan         │ Q          │\n",
      "├─────┼───────────────┼────────────┼──────────┼───────────────────────────────────────────────────┼───────┼────────┼─────────┼─────────┼────────────────────┼──────────┼─────────────┼────────────┤\n",
      "│ 630 │           631 │          1 │        1 │ Barkworth, Mr. Algernon Henry Wilson              │ male  │  80    │       0 │       0 │ 27042              │  30      │ A23         │ S          │\n",
      "├─────┼───────────────┼────────────┼──────────┼───────────────────────────────────────────────────┼───────┼────────┼─────────┼─────────┼────────────────────┼──────────┼─────────────┼────────────┤\n",
      "│ 631 │           632 │          0 │        3 │ Lundahl, Mr. Johan Svensson                       │ male  │  51    │       0 │       0 │ 347743             │   7.0542 │ nan         │ S          │\n",
      "├─────┼───────────────┼────────────┼──────────┼───────────────────────────────────────────────────┼───────┼────────┼─────────┼─────────┼────────────────────┼──────────┼─────────────┼────────────┤\n",
      "│ 632 │           633 │          1 │        1 │ Stahelin-Maeglin, Dr. Max                         │ male  │  32    │       0 │       0 │ 13214              │  30.5    │ B50         │ C          │\n",
      "├─────┼───────────────┼────────────┼──────────┼───────────────────────────────────────────────────┼───────┼────────┼─────────┼─────────┼────────────────────┼──────────┼─────────────┼────────────┤\n",
      "│ 633 │           634 │          0 │        1 │ Parr, Mr. William Henry Marsh                     │ male  │ nan    │       0 │       0 │ 112052             │   0      │ nan         │ S          │\n",
      "├─────┼───────────────┼────────────┼──────────┼───────────────────────────────────────────────────┼───────┼────────┼─────────┼─────────┼────────────────────┼──────────┼─────────────┼────────────┤\n",
      "│ 636 │           637 │          0 │        3 │ Leinonen, Mr. Antti Gustaf                        │ male  │  32    │       0 │       0 │ STON/O 2. 3101292  │   7.925  │ nan         │ S          │\n",
      "├─────┼───────────────┼────────────┼──────────┼───────────────────────────────────────────────────┼───────┼────────┼─────────┼─────────┼────────────────────┼──────────┼─────────────┼────────────┤\n",
      "│ 637 │           638 │          0 │        2 │ Collyer, Mr. Harvey                               │ male  │  31    │       1 │       1 │ C.A. 31921         │  26.25   │ nan         │ S          │\n",
      "├─────┼───────────────┼────────────┼──────────┼───────────────────────────────────────────────────┼───────┼────────┼─────────┼─────────┼────────────────────┼──────────┼─────────────┼────────────┤\n",
      "│ 639 │           640 │          0 │        3 │ Thorneycroft, Mr. Percival                        │ male  │ nan    │       1 │       0 │ 376564             │  16.1    │ nan         │ S          │\n",
      "├─────┼───────────────┼────────────┼──────────┼───────────────────────────────────────────────────┼───────┼────────┼─────────┼─────────┼────────────────────┼──────────┼─────────────┼────────────┤\n",
      "│ 640 │           641 │          0 │        3 │ Jensen, Mr. Hans Peder                            │ male  │  20    │       0 │       0 │ 350050             │   7.8542 │ nan         │ S          │\n",
      "├─────┼───────────────┼────────────┼──────────┼───────────────────────────────────────────────────┼───────┼────────┼─────────┼─────────┼────────────────────┼──────────┼─────────────┼────────────┤\n",
      "│ 643 │           644 │          1 │        3 │ Foo, Mr. Choong                                   │ male  │ nan    │       0 │       0 │ 1601               │  56.4958 │ nan         │ S          │\n",
      "├─────┼───────────────┼────────────┼──────────┼───────────────────────────────────────────────────┼───────┼────────┼─────────┼─────────┼────────────────────┼──────────┼─────────────┼────────────┤\n",
      "│ 645 │           646 │          1 │        1 │ Harper, Mr. Henry Sleeper                         │ male  │  48    │       1 │       0 │ PC 17572           │  76.7292 │ D33         │ C          │\n",
      "├─────┼───────────────┼────────────┼──────────┼───────────────────────────────────────────────────┼───────┼────────┼─────────┼─────────┼────────────────────┼──────────┼─────────────┼────────────┤\n",
      "│ 646 │           647 │          0 │        3 │ Cor, Mr. Liudevit                                 │ male  │  19    │       0 │       0 │ 349231             │   7.8958 │ nan         │ S          │\n",
      "├─────┼───────────────┼────────────┼──────────┼───────────────────────────────────────────────────┼───────┼────────┼─────────┼─────────┼────────────────────┼──────────┼─────────────┼────────────┤\n",
      "│ 647 │           648 │          1 │        1 │ Simonius-Blumer, Col. Oberst Alfons               │ male  │  56    │       0 │       0 │ 13213              │  35.5    │ A26         │ C          │\n",
      "├─────┼───────────────┼────────────┼──────────┼───────────────────────────────────────────────────┼───────┼────────┼─────────┼─────────┼────────────────────┼──────────┼─────────────┼────────────┤\n",
      "│ 648 │           649 │          0 │        3 │ Willey, Mr. Edward                                │ male  │ nan    │       0 │       0 │ S.O./P.P. 751      │   7.55   │ nan         │ S          │\n",
      "├─────┼───────────────┼────────────┼──────────┼───────────────────────────────────────────────────┼───────┼────────┼─────────┼─────────┼────────────────────┼──────────┼─────────────┼────────────┤\n",
      "│ 650 │           651 │          0 │        3 │ Mitkoff, Mr. Mito                                 │ male  │ nan    │       0 │       0 │ 349221             │   7.8958 │ nan         │ S          │\n",
      "├─────┼───────────────┼────────────┼──────────┼───────────────────────────────────────────────────┼───────┼────────┼─────────┼─────────┼────────────────────┼──────────┼─────────────┼────────────┤\n",
      "│ 652 │           653 │          0 │        3 │ Kalvik, Mr. Johannes Halvorsen                    │ male  │  21    │       0 │       0 │ 8475               │   8.4333 │ nan         │ S          │\n",
      "├─────┼───────────────┼────────────┼──────────┼───────────────────────────────────────────────────┼───────┼────────┼─────────┼─────────┼────────────────────┼──────────┼─────────────┼────────────┤\n",
      "│ 655 │           656 │          0 │        2 │ Hickman, Mr. Leonard Mark                         │ male  │  24    │       2 │       0 │ S.O.C. 14879       │  73.5    │ nan         │ S          │\n",
      "├─────┼───────────────┼────────────┼──────────┼───────────────────────────────────────────────────┼───────┼────────┼─────────┼─────────┼────────────────────┼──────────┼─────────────┼────────────┤\n",
      "│ 656 │           657 │          0 │        3 │ Radeff, Mr. Alexander                             │ male  │ nan    │       0 │       0 │ 349223             │   7.8958 │ nan         │ S          │\n",
      "├─────┼───────────────┼────────────┼──────────┼───────────────────────────────────────────────────┼───────┼────────┼─────────┼─────────┼────────────────────┼──────────┼─────────────┼────────────┤\n",
      "│ 658 │           659 │          0 │        2 │ Eitemiller, Mr. George Floyd                      │ male  │  23    │       0 │       0 │ 29751              │  13      │ nan         │ S          │\n",
      "├─────┼───────────────┼────────────┼──────────┼───────────────────────────────────────────────────┼───────┼────────┼─────────┼─────────┼────────────────────┼──────────┼─────────────┼────────────┤\n",
      "│ 659 │           660 │          0 │        1 │ Newell, Mr. Arthur Webster                        │ male  │  58    │       0 │       2 │ 35273              │ 113.275  │ D48         │ C          │\n",
      "├─────┼───────────────┼────────────┼──────────┼───────────────────────────────────────────────────┼───────┼────────┼─────────┼─────────┼────────────────────┼──────────┼─────────────┼────────────┤\n",
      "│ 660 │           661 │          1 │        1 │ Frauenthal, Dr. Henry William                     │ male  │  50    │       2 │       0 │ PC 17611           │ 133.65   │ nan         │ S          │\n",
      "├─────┼───────────────┼────────────┼──────────┼───────────────────────────────────────────────────┼───────┼────────┼─────────┼─────────┼────────────────────┼──────────┼─────────────┼────────────┤\n",
      "│ 661 │           662 │          0 │        3 │ Badt, Mr. Mohamed                                 │ male  │  40    │       0 │       0 │ 2623               │   7.225  │ nan         │ C          │\n",
      "├─────┼───────────────┼────────────┼──────────┼───────────────────────────────────────────────────┼───────┼────────┼─────────┼─────────┼────────────────────┼──────────┼─────────────┼────────────┤\n",
      "│ 662 │           663 │          0 │        1 │ Colley, Mr. Edward Pomeroy                        │ male  │  47    │       0 │       0 │ 5727               │  25.5875 │ E58         │ S          │\n",
      "├─────┼───────────────┼────────────┼──────────┼───────────────────────────────────────────────────┼───────┼────────┼─────────┼─────────┼────────────────────┼──────────┼─────────────┼────────────┤\n",
      "│ 663 │           664 │          0 │        3 │ Coleff, Mr. Peju                                  │ male  │  36    │       0 │       0 │ 349210             │   7.4958 │ nan         │ S          │\n",
      "├─────┼───────────────┼────────────┼──────────┼───────────────────────────────────────────────────┼───────┼────────┼─────────┼─────────┼────────────────────┼──────────┼─────────────┼────────────┤\n",
      "│ 664 │           665 │          1 │        3 │ Lindqvist, Mr. Eino William                       │ male  │  20    │       1 │       0 │ STON/O 2. 3101285  │   7.925  │ nan         │ S          │\n",
      "├─────┼───────────────┼────────────┼──────────┼───────────────────────────────────────────────────┼───────┼────────┼─────────┼─────────┼────────────────────┼──────────┼─────────────┼────────────┤\n",
      "│ 665 │           666 │          0 │        2 │ Hickman, Mr. Lewis                                │ male  │  32    │       2 │       0 │ S.O.C. 14879       │  73.5    │ nan         │ S          │\n",
      "├─────┼───────────────┼────────────┼──────────┼───────────────────────────────────────────────────┼───────┼────────┼─────────┼─────────┼────────────────────┼──────────┼─────────────┼────────────┤\n",
      "│ 666 │           667 │          0 │        2 │ Butler, Mr. Reginald Fenton                       │ male  │  25    │       0 │       0 │ 234686             │  13      │ nan         │ S          │\n",
      "├─────┼───────────────┼────────────┼──────────┼───────────────────────────────────────────────────┼───────┼────────┼─────────┼─────────┼────────────────────┼──────────┼─────────────┼────────────┤\n",
      "│ 667 │           668 │          0 │        3 │ Rommetvedt, Mr. Knud Paust                        │ male  │ nan    │       0 │       0 │ 312993             │   7.775  │ nan         │ S          │\n",
      "├─────┼───────────────┼────────────┼──────────┼───────────────────────────────────────────────────┼───────┼────────┼─────────┼─────────┼────────────────────┼──────────┼─────────────┼────────────┤\n",
      "│ 668 │           669 │          0 │        3 │ Cook, Mr. Jacob                                   │ male  │  43    │       0 │       0 │ A/5 3536           │   8.05   │ nan         │ S          │\n",
      "├─────┼───────────────┼────────────┼──────────┼───────────────────────────────────────────────────┼───────┼────────┼─────────┼─────────┼────────────────────┼──────────┼─────────────┼────────────┤\n",
      "│ 671 │           672 │          0 │        1 │ Davidson, Mr. Thornton                            │ male  │  31    │       1 │       0 │ F.C. 12750         │  52      │ B71         │ S          │\n",
      "├─────┼───────────────┼────────────┼──────────┼───────────────────────────────────────────────────┼───────┼────────┼─────────┼─────────┼────────────────────┼──────────┼─────────────┼────────────┤\n",
      "│ 672 │           673 │          0 │        2 │ Mitchell, Mr. Henry Michael                       │ male  │  70    │       0 │       0 │ C.A. 24580         │  10.5    │ nan         │ S          │\n",
      "├─────┼───────────────┼────────────┼──────────┼───────────────────────────────────────────────────┼───────┼────────┼─────────┼─────────┼────────────────────┼──────────┼─────────────┼────────────┤\n",
      "│ 673 │           674 │          1 │        2 │ Wilhelms, Mr. Charles                             │ male  │  31    │       0 │       0 │ 244270             │  13      │ nan         │ S          │\n",
      "├─────┼───────────────┼────────────┼──────────┼───────────────────────────────────────────────────┼───────┼────────┼─────────┼─────────┼────────────────────┼──────────┼─────────────┼────────────┤\n",
      "│ 674 │           675 │          0 │        2 │ Watson, Mr. Ennis Hastings                        │ male  │ nan    │       0 │       0 │ 239856             │   0      │ nan         │ S          │\n",
      "├─────┼───────────────┼────────────┼──────────┼───────────────────────────────────────────────────┼───────┼────────┼─────────┼─────────┼────────────────────┼──────────┼─────────────┼────────────┤\n",
      "│ 675 │           676 │          0 │        3 │ Edvardsson, Mr. Gustaf Hjalmar                    │ male  │  18    │       0 │       0 │ 349912             │   7.775  │ nan         │ S          │\n",
      "├─────┼───────────────┼────────────┼──────────┼───────────────────────────────────────────────────┼───────┼────────┼─────────┼─────────┼────────────────────┼──────────┼─────────────┼────────────┤\n",
      "│ 676 │           677 │          0 │        3 │ Sawyer, Mr. Frederick Charles                     │ male  │  24.5  │       0 │       0 │ 342826             │   8.05   │ nan         │ S          │\n",
      "├─────┼───────────────┼────────────┼──────────┼───────────────────────────────────────────────────┼───────┼────────┼─────────┼─────────┼────────────────────┼──────────┼─────────────┼────────────┤\n",
      "│ 679 │           680 │          1 │        1 │ Cardeza, Mr. Thomas Drake Martinez                │ male  │  36    │       0 │       1 │ PC 17755           │ 512.329  │ B51 B53 B55 │ C          │\n",
      "├─────┼───────────────┼────────────┼──────────┼───────────────────────────────────────────────────┼───────┼────────┼─────────┼─────────┼────────────────────┼──────────┼─────────────┼────────────┤\n",
      "│ 681 │           682 │          1 │        1 │ Hassab, Mr. Hammad                                │ male  │  27    │       0 │       0 │ PC 17572           │  76.7292 │ D49         │ C          │\n",
      "├─────┼───────────────┼────────────┼──────────┼───────────────────────────────────────────────────┼───────┼────────┼─────────┼─────────┼────────────────────┼──────────┼─────────────┼────────────┤\n",
      "│ 682 │           683 │          0 │        3 │ Olsvigen, Mr. Thor Anderson                       │ male  │  20    │       0 │       0 │ 6563               │   9.225  │ nan         │ S          │\n",
      "├─────┼───────────────┼────────────┼──────────┼───────────────────────────────────────────────────┼───────┼────────┼─────────┼─────────┼────────────────────┼──────────┼─────────────┼────────────┤\n",
      "│ 683 │           684 │          0 │        3 │ Goodwin, Mr. Charles Edward                       │ male  │  14    │       5 │       2 │ CA 2144            │  46.9    │ nan         │ S          │\n",
      "├─────┼───────────────┼────────────┼──────────┼───────────────────────────────────────────────────┼───────┼────────┼─────────┼─────────┼────────────────────┼──────────┼─────────────┼────────────┤\n",
      "│ 684 │           685 │          0 │        2 │ Brown, Mr. Thomas William Solomon                 │ male  │  60    │       1 │       1 │ 29750              │  39      │ nan         │ S          │\n",
      "├─────┼───────────────┼────────────┼──────────┼───────────────────────────────────────────────────┼───────┼────────┼─────────┼─────────┼────────────────────┼──────────┼─────────────┼────────────┤\n",
      "│ 685 │           686 │          0 │        2 │ Laroche, Mr. Joseph Philippe Lemercier            │ male  │  25    │       1 │       2 │ SC/Paris 2123      │  41.5792 │ nan         │ C          │\n",
      "├─────┼───────────────┼────────────┼──────────┼───────────────────────────────────────────────────┼───────┼────────┼─────────┼─────────┼────────────────────┼──────────┼─────────────┼────────────┤\n",
      "│ 686 │           687 │          0 │        3 │ Panula, Mr. Jaako Arnold                          │ male  │  14    │       4 │       1 │ 3101295            │  39.6875 │ nan         │ S          │\n",
      "├─────┼───────────────┼────────────┼──────────┼───────────────────────────────────────────────────┼───────┼────────┼─────────┼─────────┼────────────────────┼──────────┼─────────────┼────────────┤\n",
      "│ 687 │           688 │          0 │        3 │ Dakic, Mr. Branko                                 │ male  │  19    │       0 │       0 │ 349228             │  10.1708 │ nan         │ S          │\n",
      "├─────┼───────────────┼────────────┼──────────┼───────────────────────────────────────────────────┼───────┼────────┼─────────┼─────────┼────────────────────┼──────────┼─────────────┼────────────┤\n",
      "│ 688 │           689 │          0 │        3 │ Fischer, Mr. Eberhard Thelander                   │ male  │  18    │       0 │       0 │ 350036             │   7.7958 │ nan         │ S          │\n",
      "├─────┼───────────────┼────────────┼──────────┼───────────────────────────────────────────────────┼───────┼────────┼─────────┼─────────┼────────────────────┼──────────┼─────────────┼────────────┤\n",
      "│ 690 │           691 │          1 │        1 │ Dick, Mr. Albert Adrian                           │ male  │  31    │       1 │       0 │ 17474              │  57      │ B20         │ S          │\n",
      "├─────┼───────────────┼────────────┼──────────┼───────────────────────────────────────────────────┼───────┼────────┼─────────┼─────────┼────────────────────┼──────────┼─────────────┼────────────┤\n",
      "│ 692 │           693 │          1 │        3 │ Lam, Mr. Ali                                      │ male  │ nan    │       0 │       0 │ 1601               │  56.4958 │ nan         │ S          │\n",
      "├─────┼───────────────┼────────────┼──────────┼───────────────────────────────────────────────────┼───────┼────────┼─────────┼─────────┼────────────────────┼──────────┼─────────────┼────────────┤\n",
      "│ 693 │           694 │          0 │        3 │ Saad, Mr. Khalil                                  │ male  │  25    │       0 │       0 │ 2672               │   7.225  │ nan         │ C          │\n",
      "├─────┼───────────────┼────────────┼──────────┼───────────────────────────────────────────────────┼───────┼────────┼─────────┼─────────┼────────────────────┼──────────┼─────────────┼────────────┤\n",
      "│ 694 │           695 │          0 │        1 │ Weir, Col. John                                   │ male  │  60    │       0 │       0 │ 113800             │  26.55   │ nan         │ S          │\n",
      "├─────┼───────────────┼────────────┼──────────┼───────────────────────────────────────────────────┼───────┼────────┼─────────┼─────────┼────────────────────┼──────────┼─────────────┼────────────┤\n",
      "│ 695 │           696 │          0 │        2 │ Chapman, Mr. Charles Henry                        │ male  │  52    │       0 │       0 │ 248731             │  13.5    │ nan         │ S          │\n",
      "├─────┼───────────────┼────────────┼──────────┼───────────────────────────────────────────────────┼───────┼────────┼─────────┼─────────┼────────────────────┼──────────┼─────────────┼────────────┤\n",
      "│ 696 │           697 │          0 │        3 │ Kelly, Mr. James                                  │ male  │  44    │       0 │       0 │ 363592             │   8.05   │ nan         │ S          │\n",
      "├─────┼───────────────┼────────────┼──────────┼───────────────────────────────────────────────────┼───────┼────────┼─────────┼─────────┼────────────────────┼──────────┼─────────────┼────────────┤\n",
      "│ 698 │           699 │          0 │        1 │ Thayer, Mr. John Borland                          │ male  │  49    │       1 │       1 │ 17421              │ 110.883  │ C68         │ C          │\n",
      "├─────┼───────────────┼────────────┼──────────┼───────────────────────────────────────────────────┼───────┼────────┼─────────┼─────────┼────────────────────┼──────────┼─────────────┼────────────┤\n",
      "│ 699 │           700 │          0 │        3 │ Humblen, Mr. Adolf Mathias Nicolai Olsen          │ male  │  42    │       0 │       0 │ 348121             │   7.65   │ F G63       │ S          │\n",
      "├─────┼───────────────┼────────────┼──────────┼───────────────────────────────────────────────────┼───────┼────────┼─────────┼─────────┼────────────────────┼──────────┼─────────────┼────────────┤\n",
      "│ 701 │           702 │          1 │        1 │ Silverthorne, Mr. Spencer Victor                  │ male  │  35    │       0 │       0 │ PC 17475           │  26.2875 │ E24         │ S          │\n",
      "├─────┼───────────────┼────────────┼──────────┼───────────────────────────────────────────────────┼───────┼────────┼─────────┼─────────┼────────────────────┼──────────┼─────────────┼────────────┤\n",
      "│ 703 │           704 │          0 │        3 │ Gallagher, Mr. Martin                             │ male  │  25    │       0 │       0 │ 36864              │   7.7417 │ nan         │ Q          │\n",
      "├─────┼───────────────┼────────────┼──────────┼───────────────────────────────────────────────────┼───────┼────────┼─────────┼─────────┼────────────────────┼──────────┼─────────────┼────────────┤\n",
      "│ 704 │           705 │          0 │        3 │ Hansen, Mr. Henrik Juul                           │ male  │  26    │       1 │       0 │ 350025             │   7.8542 │ nan         │ S          │\n",
      "├─────┼───────────────┼────────────┼──────────┼───────────────────────────────────────────────────┼───────┼────────┼─────────┼─────────┼────────────────────┼──────────┼─────────────┼────────────┤\n",
      "│ 705 │           706 │          0 │        2 │ Morley, Mr. Henry Samuel (\"Mr Henry Marshall\")    │ male  │  39    │       0 │       0 │ 250655             │  26      │ nan         │ S          │\n",
      "├─────┼───────────────┼────────────┼──────────┼───────────────────────────────────────────────────┼───────┼────────┼─────────┼─────────┼────────────────────┼──────────┼─────────────┼────────────┤\n",
      "│ 707 │           708 │          1 │        1 │ Calderhead, Mr. Edward Pennington                 │ male  │  42    │       0 │       0 │ PC 17476           │  26.2875 │ E24         │ S          │\n",
      "├─────┼───────────────┼────────────┼──────────┼───────────────────────────────────────────────────┼───────┼────────┼─────────┼─────────┼────────────────────┼──────────┼─────────────┼────────────┤\n",
      "│ 709 │           710 │          1 │        3 │ Moubarek, Master. Halim Gonios (\"William George\") │ male  │ nan    │       1 │       1 │ 2661               │  15.2458 │ nan         │ C          │\n",
      "├─────┼───────────────┼────────────┼──────────┼───────────────────────────────────────────────────┼───────┼────────┼─────────┼─────────┼────────────────────┼──────────┼─────────────┼────────────┤\n",
      "│ 711 │           712 │          0 │        1 │ Klaber, Mr. Herman                                │ male  │ nan    │       0 │       0 │ 113028             │  26.55   │ C124        │ S          │\n",
      "├─────┼───────────────┼────────────┼──────────┼───────────────────────────────────────────────────┼───────┼────────┼─────────┼─────────┼────────────────────┼──────────┼─────────────┼────────────┤\n",
      "│ 712 │           713 │          1 │        1 │ Taylor, Mr. Elmer Zebley                          │ male  │  48    │       1 │       0 │ 19996              │  52      │ C126        │ S          │\n",
      "├─────┼───────────────┼────────────┼──────────┼───────────────────────────────────────────────────┼───────┼────────┼─────────┼─────────┼────────────────────┼──────────┼─────────────┼────────────┤\n",
      "│ 713 │           714 │          0 │        3 │ Larsson, Mr. August Viktor                        │ male  │  29    │       0 │       0 │ 7545               │   9.4833 │ nan         │ S          │\n",
      "├─────┼───────────────┼────────────┼──────────┼───────────────────────────────────────────────────┼───────┼────────┼─────────┼─────────┼────────────────────┼──────────┼─────────────┼────────────┤\n",
      "│ 714 │           715 │          0 │        2 │ Greenberg, Mr. Samuel                             │ male  │  52    │       0 │       0 │ 250647             │  13      │ nan         │ S          │\n",
      "├─────┼───────────────┼────────────┼──────────┼───────────────────────────────────────────────────┼───────┼────────┼─────────┼─────────┼────────────────────┼──────────┼─────────────┼────────────┤\n",
      "│ 715 │           716 │          0 │        3 │ Soholt, Mr. Peter Andreas Lauritz Andersen        │ male  │  19    │       0 │       0 │ 348124             │   7.65   │ F G73       │ S          │\n",
      "├─────┼───────────────┼────────────┼──────────┼───────────────────────────────────────────────────┼───────┼────────┼─────────┼─────────┼────────────────────┼──────────┼─────────────┼────────────┤\n",
      "│ 718 │           719 │          0 │        3 │ McEvoy, Mr. Michael                               │ male  │ nan    │       0 │       0 │ 36568              │  15.5    │ nan         │ Q          │\n",
      "├─────┼───────────────┼────────────┼──────────┼───────────────────────────────────────────────────┼───────┼────────┼─────────┼─────────┼────────────────────┼──────────┼─────────────┼────────────┤\n",
      "│ 719 │           720 │          0 │        3 │ Johnson, Mr. Malkolm Joackim                      │ male  │  33    │       0 │       0 │ 347062             │   7.775  │ nan         │ S          │\n",
      "├─────┼───────────────┼────────────┼──────────┼───────────────────────────────────────────────────┼───────┼────────┼─────────┼─────────┼────────────────────┼──────────┼─────────────┼────────────┤\n",
      "│ 721 │           722 │          0 │        3 │ Jensen, Mr. Svend Lauritz                         │ male  │  17    │       1 │       0 │ 350048             │   7.0542 │ nan         │ S          │\n",
      "├─────┼───────────────┼────────────┼──────────┼───────────────────────────────────────────────────┼───────┼────────┼─────────┼─────────┼────────────────────┼──────────┼─────────────┼────────────┤\n",
      "│ 722 │           723 │          0 │        2 │ Gillespie, Mr. William Henry                      │ male  │  34    │       0 │       0 │ 12233              │  13      │ nan         │ S          │\n",
      "├─────┼───────────────┼────────────┼──────────┼───────────────────────────────────────────────────┼───────┼────────┼─────────┼─────────┼────────────────────┼──────────┼─────────────┼────────────┤\n",
      "│ 723 │           724 │          0 │        2 │ Hodges, Mr. Henry Price                           │ male  │  50    │       0 │       0 │ 250643             │  13      │ nan         │ S          │\n",
      "├─────┼───────────────┼────────────┼──────────┼───────────────────────────────────────────────────┼───────┼────────┼─────────┼─────────┼────────────────────┼──────────┼─────────────┼────────────┤\n",
      "│ 724 │           725 │          1 │        1 │ Chambers, Mr. Norman Campbell                     │ male  │  27    │       1 │       0 │ 113806             │  53.1    │ E8          │ S          │\n",
      "├─────┼───────────────┼────────────┼──────────┼───────────────────────────────────────────────────┼───────┼────────┼─────────┼─────────┼────────────────────┼──────────┼─────────────┼────────────┤\n",
      "│ 725 │           726 │          0 │        3 │ Oreskovic, Mr. Luka                               │ male  │  20    │       0 │       0 │ 315094             │   8.6625 │ nan         │ S          │\n",
      "├─────┼───────────────┼────────────┼──────────┼───────────────────────────────────────────────────┼───────┼────────┼─────────┼─────────┼────────────────────┼──────────┼─────────────┼────────────┤\n",
      "│ 728 │           729 │          0 │        2 │ Bryhl, Mr. Kurt Arnold Gottfrid                   │ male  │  25    │       1 │       0 │ 236853             │  26      │ nan         │ S          │\n",
      "├─────┼───────────────┼────────────┼──────────┼───────────────────────────────────────────────────┼───────┼────────┼─────────┼─────────┼────────────────────┼──────────┼─────────────┼────────────┤\n",
      "│ 731 │           732 │          0 │        3 │ Hassan, Mr. Houssein G N                          │ male  │  11    │       0 │       0 │ 2699               │  18.7875 │ nan         │ C          │\n",
      "├─────┼───────────────┼────────────┼──────────┼───────────────────────────────────────────────────┼───────┼────────┼─────────┼─────────┼────────────────────┼──────────┼─────────────┼────────────┤\n",
      "│ 732 │           733 │          0 │        2 │ Knight, Mr. Robert J                              │ male  │ nan    │       0 │       0 │ 239855             │   0      │ nan         │ S          │\n",
      "├─────┼───────────────┼────────────┼──────────┼───────────────────────────────────────────────────┼───────┼────────┼─────────┼─────────┼────────────────────┼──────────┼─────────────┼────────────┤\n",
      "│ 733 │           734 │          0 │        2 │ Berriman, Mr. William John                        │ male  │  23    │       0 │       0 │ 28425              │  13      │ nan         │ S          │\n",
      "├─────┼───────────────┼────────────┼──────────┼───────────────────────────────────────────────────┼───────┼────────┼─────────┼─────────┼────────────────────┼──────────┼─────────────┼────────────┤\n",
      "│ 734 │           735 │          0 │        2 │ Troupiansky, Mr. Moses Aaron                      │ male  │  23    │       0 │       0 │ 233639             │  13      │ nan         │ S          │\n",
      "├─────┼───────────────┼────────────┼──────────┼───────────────────────────────────────────────────┼───────┼────────┼─────────┼─────────┼────────────────────┼──────────┼─────────────┼────────────┤\n",
      "│ 735 │           736 │          0 │        3 │ Williams, Mr. Leslie                              │ male  │  28.5  │       0 │       0 │ 54636              │  16.1    │ nan         │ S          │\n",
      "├─────┼───────────────┼────────────┼──────────┼───────────────────────────────────────────────────┼───────┼────────┼─────────┼─────────┼────────────────────┼──────────┼─────────────┼────────────┤\n",
      "│ 737 │           738 │          1 │        1 │ Lesurer, Mr. Gustave J                            │ male  │  35    │       0 │       0 │ PC 17755           │ 512.329  │ B101        │ C          │\n",
      "├─────┼───────────────┼────────────┼──────────┼───────────────────────────────────────────────────┼───────┼────────┼─────────┼─────────┼────────────────────┼──────────┼─────────────┼────────────┤\n",
      "│ 738 │           739 │          0 │        3 │ Ivanoff, Mr. Kanio                                │ male  │ nan    │       0 │       0 │ 349201             │   7.8958 │ nan         │ S          │\n",
      "├─────┼───────────────┼────────────┼──────────┼───────────────────────────────────────────────────┼───────┼────────┼─────────┼─────────┼────────────────────┼──────────┼─────────────┼────────────┤\n",
      "│ 739 │           740 │          0 │        3 │ Nankoff, Mr. Minko                                │ male  │ nan    │       0 │       0 │ 349218             │   7.8958 │ nan         │ S          │\n",
      "├─────┼───────────────┼────────────┼──────────┼───────────────────────────────────────────────────┼───────┼────────┼─────────┼─────────┼────────────────────┼──────────┼─────────────┼────────────┤\n",
      "│ 740 │           741 │          1 │        1 │ Hawksford, Mr. Walter James                       │ male  │ nan    │       0 │       0 │ 16988              │  30      │ D45         │ S          │\n",
      "├─────┼───────────────┼────────────┼──────────┼───────────────────────────────────────────────────┼───────┼────────┼─────────┼─────────┼────────────────────┼──────────┼─────────────┼────────────┤\n",
      "│ 741 │           742 │          0 │        1 │ Cavendish, Mr. Tyrell William                     │ male  │  36    │       1 │       0 │ 19877              │  78.85   │ C46         │ S          │\n",
      "├─────┼───────────────┼────────────┼──────────┼───────────────────────────────────────────────────┼───────┼────────┼─────────┼─────────┼────────────────────┼──────────┼─────────────┼────────────┤\n",
      "│ 743 │           744 │          0 │        3 │ McNamee, Mr. Neal                                 │ male  │  24    │       1 │       0 │ 376566             │  16.1    │ nan         │ S          │\n",
      "├─────┼───────────────┼────────────┼──────────┼───────────────────────────────────────────────────┼───────┼────────┼─────────┼─────────┼────────────────────┼──────────┼─────────────┼────────────┤\n",
      "│ 744 │           745 │          1 │        3 │ Stranden, Mr. Juho                                │ male  │  31    │       0 │       0 │ STON/O 2. 3101288  │   7.925  │ nan         │ S          │\n",
      "├─────┼───────────────┼────────────┼──────────┼───────────────────────────────────────────────────┼───────┼────────┼─────────┼─────────┼────────────────────┼──────────┼─────────────┼────────────┤\n",
      "│ 745 │           746 │          0 │        1 │ Crosby, Capt. Edward Gifford                      │ male  │  70    │       1 │       1 │ WE/P 5735          │  71      │ B22         │ S          │\n",
      "├─────┼───────────────┼────────────┼──────────┼───────────────────────────────────────────────────┼───────┼────────┼─────────┼─────────┼────────────────────┼──────────┼─────────────┼────────────┤\n",
      "│ 746 │           747 │          0 │        3 │ Abbott, Mr. Rossmore Edward                       │ male  │  16    │       1 │       1 │ C.A. 2673          │  20.25   │ nan         │ S          │\n",
      "├─────┼───────────────┼────────────┼──────────┼───────────────────────────────────────────────────┼───────┼────────┼─────────┼─────────┼────────────────────┼──────────┼─────────────┼────────────┤\n",
      "│ 748 │           749 │          0 │        1 │ Marvin, Mr. Daniel Warner                         │ male  │  19    │       1 │       0 │ 113773             │  53.1    │ D30         │ S          │\n",
      "├─────┼───────────────┼────────────┼──────────┼───────────────────────────────────────────────────┼───────┼────────┼─────────┼─────────┼────────────────────┼──────────┼─────────────┼────────────┤\n",
      "│ 749 │           750 │          0 │        3 │ Connaghton, Mr. Michael                           │ male  │  31    │       0 │       0 │ 335097             │   7.75   │ nan         │ Q          │\n",
      "├─────┼───────────────┼────────────┼──────────┼───────────────────────────────────────────────────┼───────┼────────┼─────────┼─────────┼────────────────────┼──────────┼─────────────┼────────────┤\n",
      "│ 751 │           752 │          1 │        3 │ Moor, Master. Meier                               │ male  │   6    │       0 │       1 │ 392096             │  12.475  │ E121        │ S          │\n",
      "├─────┼───────────────┼────────────┼──────────┼───────────────────────────────────────────────────┼───────┼────────┼─────────┼─────────┼────────────────────┼──────────┼─────────────┼────────────┤\n",
      "│ 752 │           753 │          0 │        3 │ Vande Velde, Mr. Johannes Joseph                  │ male  │  33    │       0 │       0 │ 345780             │   9.5    │ nan         │ S          │\n",
      "├─────┼───────────────┼────────────┼──────────┼───────────────────────────────────────────────────┼───────┼────────┼─────────┼─────────┼────────────────────┼──────────┼─────────────┼────────────┤\n",
      "│ 753 │           754 │          0 │        3 │ Jonkoff, Mr. Lalio                                │ male  │  23    │       0 │       0 │ 349204             │   7.8958 │ nan         │ S          │\n",
      "├─────┼───────────────┼────────────┼──────────┼───────────────────────────────────────────────────┼───────┼────────┼─────────┼─────────┼────────────────────┼──────────┼─────────────┼────────────┤\n",
      "│ 755 │           756 │          1 │        2 │ Hamalainen, Master. Viljo                         │ male  │   0.67 │       1 │       1 │ 250649             │  14.5    │ nan         │ S          │\n",
      "├─────┼───────────────┼────────────┼──────────┼───────────────────────────────────────────────────┼───────┼────────┼─────────┼─────────┼────────────────────┼──────────┼─────────────┼────────────┤\n",
      "│ 756 │           757 │          0 │        3 │ Carlsson, Mr. August Sigfrid                      │ male  │  28    │       0 │       0 │ 350042             │   7.7958 │ nan         │ S          │\n",
      "├─────┼───────────────┼────────────┼──────────┼───────────────────────────────────────────────────┼───────┼────────┼─────────┼─────────┼────────────────────┼──────────┼─────────────┼────────────┤\n",
      "│ 757 │           758 │          0 │        2 │ Bailey, Mr. Percy Andrew                          │ male  │  18    │       0 │       0 │ 29108              │  11.5    │ nan         │ S          │\n",
      "├─────┼───────────────┼────────────┼──────────┼───────────────────────────────────────────────────┼───────┼────────┼─────────┼─────────┼────────────────────┼──────────┼─────────────┼────────────┤\n",
      "│ 758 │           759 │          0 │        3 │ Theobald, Mr. Thomas Leonard                      │ male  │  34    │       0 │       0 │ 363294             │   8.05   │ nan         │ S          │\n",
      "├─────┼───────────────┼────────────┼──────────┼───────────────────────────────────────────────────┼───────┼────────┼─────────┼─────────┼────────────────────┼──────────┼─────────────┼────────────┤\n",
      "│ 760 │           761 │          0 │        3 │ Garfirth, Mr. John                                │ male  │ nan    │       0 │       0 │ 358585             │  14.5    │ nan         │ S          │\n",
      "├─────┼───────────────┼────────────┼──────────┼───────────────────────────────────────────────────┼───────┼────────┼─────────┼─────────┼────────────────────┼──────────┼─────────────┼────────────┤\n",
      "│ 761 │           762 │          0 │        3 │ Nirva, Mr. Iisakki Antino Aijo                    │ male  │  41    │       0 │       0 │ SOTON/O2 3101272   │   7.125  │ nan         │ S          │\n",
      "├─────┼───────────────┼────────────┼──────────┼───────────────────────────────────────────────────┼───────┼────────┼─────────┼─────────┼────────────────────┼──────────┼─────────────┼────────────┤\n",
      "│ 762 │           763 │          1 │        3 │ Barah, Mr. Hanna Assi                             │ male  │  20    │       0 │       0 │ 2663               │   7.2292 │ nan         │ C          │\n",
      "├─────┼───────────────┼────────────┼──────────┼───────────────────────────────────────────────────┼───────┼────────┼─────────┼─────────┼────────────────────┼──────────┼─────────────┼────────────┤\n",
      "│ 764 │           765 │          0 │        3 │ Eklund, Mr. Hans Linus                            │ male  │  16    │       0 │       0 │ 347074             │   7.775  │ nan         │ S          │\n",
      "├─────┼───────────────┼────────────┼──────────┼───────────────────────────────────────────────────┼───────┼────────┼─────────┼─────────┼────────────────────┼──────────┼─────────────┼────────────┤\n",
      "│ 766 │           767 │          0 │        1 │ Brewe, Dr. Arthur Jackson                         │ male  │ nan    │       0 │       0 │ 112379             │  39.6    │ nan         │ C          │\n",
      "├─────┼───────────────┼────────────┼──────────┼───────────────────────────────────────────────────┼───────┼────────┼─────────┼─────────┼────────────────────┼──────────┼─────────────┼────────────┤\n",
      "│ 768 │           769 │          0 │        3 │ Moran, Mr. Daniel J                               │ male  │ nan    │       1 │       0 │ 371110             │  24.15   │ nan         │ Q          │\n",
      "├─────┼───────────────┼────────────┼──────────┼───────────────────────────────────────────────────┼───────┼────────┼─────────┼─────────┼────────────────────┼──────────┼─────────────┼────────────┤\n",
      "│ 769 │           770 │          0 │        3 │ Gronnestad, Mr. Daniel Danielsen                  │ male  │  32    │       0 │       0 │ 8471               │   8.3625 │ nan         │ S          │\n",
      "├─────┼───────────────┼────────────┼──────────┼───────────────────────────────────────────────────┼───────┼────────┼─────────┼─────────┼────────────────────┼──────────┼─────────────┼────────────┤\n",
      "│ 770 │           771 │          0 │        3 │ Lievens, Mr. Rene Aime                            │ male  │  24    │       0 │       0 │ 345781             │   9.5    │ nan         │ S          │\n",
      "├─────┼───────────────┼────────────┼──────────┼───────────────────────────────────────────────────┼───────┼────────┼─────────┼─────────┼────────────────────┼──────────┼─────────────┼────────────┤\n",
      "│ 771 │           772 │          0 │        3 │ Jensen, Mr. Niels Peder                           │ male  │  48    │       0 │       0 │ 350047             │   7.8542 │ nan         │ S          │\n",
      "├─────┼───────────────┼────────────┼──────────┼───────────────────────────────────────────────────┼───────┼────────┼─────────┼─────────┼────────────────────┼──────────┼─────────────┼────────────┤\n",
      "│ 773 │           774 │          0 │        3 │ Elias, Mr. Dibo                                   │ male  │ nan    │       0 │       0 │ 2674               │   7.225  │ nan         │ C          │\n",
      "├─────┼───────────────┼────────────┼──────────┼───────────────────────────────────────────────────┼───────┼────────┼─────────┼─────────┼────────────────────┼──────────┼─────────────┼────────────┤\n",
      "│ 775 │           776 │          0 │        3 │ Myhrman, Mr. Pehr Fabian Oliver Malkolm           │ male  │  18    │       0 │       0 │ 347078             │   7.75   │ nan         │ S          │\n",
      "├─────┼───────────────┼────────────┼──────────┼───────────────────────────────────────────────────┼───────┼────────┼─────────┼─────────┼────────────────────┼──────────┼─────────────┼────────────┤\n",
      "│ 776 │           777 │          0 │        3 │ Tobin, Mr. Roger                                  │ male  │ nan    │       0 │       0 │ 383121             │   7.75   │ F38         │ Q          │\n",
      "├─────┼───────────────┼────────────┼──────────┼───────────────────────────────────────────────────┼───────┼────────┼─────────┼─────────┼────────────────────┼──────────┼─────────────┼────────────┤\n",
      "│ 778 │           779 │          0 │        3 │ Kilgannon, Mr. Thomas J                           │ male  │ nan    │       0 │       0 │ 36865              │   7.7375 │ nan         │ Q          │\n",
      "├─────┼───────────────┼────────────┼──────────┼───────────────────────────────────────────────────┼───────┼────────┼─────────┼─────────┼────────────────────┼──────────┼─────────────┼────────────┤\n",
      "│ 782 │           783 │          0 │        1 │ Long, Mr. Milton Clyde                            │ male  │  29    │       0 │       0 │ 113501             │  30      │ D6          │ S          │\n",
      "├─────┼───────────────┼────────────┼──────────┼───────────────────────────────────────────────────┼───────┼────────┼─────────┼─────────┼────────────────────┼──────────┼─────────────┼────────────┤\n",
      "│ 783 │           784 │          0 │        3 │ Johnston, Mr. Andrew G                            │ male  │ nan    │       1 │       2 │ W./C. 6607         │  23.45   │ nan         │ S          │\n",
      "├─────┼───────────────┼────────────┼──────────┼───────────────────────────────────────────────────┼───────┼────────┼─────────┼─────────┼────────────────────┼──────────┼─────────────┼────────────┤\n",
      "│ 784 │           785 │          0 │        3 │ Ali, Mr. William                                  │ male  │  25    │       0 │       0 │ SOTON/O.Q. 3101312 │   7.05   │ nan         │ S          │\n",
      "├─────┼───────────────┼────────────┼──────────┼───────────────────────────────────────────────────┼───────┼────────┼─────────┼─────────┼────────────────────┼──────────┼─────────────┼────────────┤\n",
      "│ 785 │           786 │          0 │        3 │ Harmer, Mr. Abraham (David Lishin)                │ male  │  25    │       0 │       0 │ 374887             │   7.25   │ nan         │ S          │\n",
      "├─────┼───────────────┼────────────┼──────────┼───────────────────────────────────────────────────┼───────┼────────┼─────────┼─────────┼────────────────────┼──────────┼─────────────┼────────────┤\n",
      "│ 787 │           788 │          0 │        3 │ Rice, Master. George Hugh                         │ male  │   8    │       4 │       1 │ 382652             │  29.125  │ nan         │ Q          │\n",
      "├─────┼───────────────┼────────────┼──────────┼───────────────────────────────────────────────────┼───────┼────────┼─────────┼─────────┼────────────────────┼──────────┼─────────────┼────────────┤\n",
      "│ 788 │           789 │          1 │        3 │ Dean, Master. Bertram Vere                        │ male  │   1    │       1 │       2 │ C.A. 2315          │  20.575  │ nan         │ S          │\n",
      "├─────┼───────────────┼────────────┼──────────┼───────────────────────────────────────────────────┼───────┼────────┼─────────┼─────────┼────────────────────┼──────────┼─────────────┼────────────┤\n",
      "│ 789 │           790 │          0 │        1 │ Guggenheim, Mr. Benjamin                          │ male  │  46    │       0 │       0 │ PC 17593           │  79.2    │ B82 B84     │ C          │\n",
      "├─────┼───────────────┼────────────┼──────────┼───────────────────────────────────────────────────┼───────┼────────┼─────────┼─────────┼────────────────────┼──────────┼─────────────┼────────────┤\n",
      "│ 790 │           791 │          0 │        3 │ Keane, Mr. Andrew \"Andy\"                          │ male  │ nan    │       0 │       0 │ 12460              │   7.75   │ nan         │ Q          │\n",
      "├─────┼───────────────┼────────────┼──────────┼───────────────────────────────────────────────────┼───────┼────────┼─────────┼─────────┼────────────────────┼──────────┼─────────────┼────────────┤\n",
      "│ 791 │           792 │          0 │        2 │ Gaskell, Mr. Alfred                               │ male  │  16    │       0 │       0 │ 239865             │  26      │ nan         │ S          │\n",
      "├─────┼───────────────┼────────────┼──────────┼───────────────────────────────────────────────────┼───────┼────────┼─────────┼─────────┼────────────────────┼──────────┼─────────────┼────────────┤\n",
      "│ 793 │           794 │          0 │        1 │ Hoyt, Mr. William Fisher                          │ male  │ nan    │       0 │       0 │ PC 17600           │  30.6958 │ nan         │ C          │\n",
      "├─────┼───────────────┼────────────┼──────────┼───────────────────────────────────────────────────┼───────┼────────┼─────────┼─────────┼────────────────────┼──────────┼─────────────┼────────────┤\n",
      "│ 794 │           795 │          0 │        3 │ Dantcheff, Mr. Ristiu                             │ male  │  25    │       0 │       0 │ 349203             │   7.8958 │ nan         │ S          │\n",
      "├─────┼───────────────┼────────────┼──────────┼───────────────────────────────────────────────────┼───────┼────────┼─────────┼─────────┼────────────────────┼──────────┼─────────────┼────────────┤\n",
      "│ 795 │           796 │          0 │        2 │ Otter, Mr. Richard                                │ male  │  39    │       0 │       0 │ 28213              │  13      │ nan         │ S          │\n",
      "├─────┼───────────────┼────────────┼──────────┼───────────────────────────────────────────────────┼───────┼────────┼─────────┼─────────┼────────────────────┼──────────┼─────────────┼────────────┤\n",
      "│ 798 │           799 │          0 │        3 │ Ibrahim Shawah, Mr. Yousseff                      │ male  │  30    │       0 │       0 │ 2685               │   7.2292 │ nan         │ C          │\n",
      "├─────┼───────────────┼────────────┼──────────┼───────────────────────────────────────────────────┼───────┼────────┼─────────┼─────────┼────────────────────┼──────────┼─────────────┼────────────┤\n",
      "│ 800 │           801 │          0 │        2 │ Ponesell, Mr. Martin                              │ male  │  34    │       0 │       0 │ 250647             │  13      │ nan         │ S          │\n",
      "├─────┼───────────────┼────────────┼──────────┼───────────────────────────────────────────────────┼───────┼────────┼─────────┼─────────┼────────────────────┼──────────┼─────────────┼────────────┤\n",
      "│ 802 │           803 │          1 │        1 │ Carter, Master. William Thornton II               │ male  │  11    │       1 │       2 │ 113760             │ 120      │ B96 B98     │ S          │\n",
      "├─────┼───────────────┼────────────┼──────────┼───────────────────────────────────────────────────┼───────┼────────┼─────────┼─────────┼────────────────────┼──────────┼─────────────┼────────────┤\n",
      "│ 803 │           804 │          1 │        3 │ Thomas, Master. Assad Alexander                   │ male  │   0.42 │       0 │       1 │ 2625               │   8.5167 │ nan         │ C          │\n",
      "├─────┼───────────────┼────────────┼──────────┼───────────────────────────────────────────────────┼───────┼────────┼─────────┼─────────┼────────────────────┼──────────┼─────────────┼────────────┤\n",
      "│ 804 │           805 │          1 │        3 │ Hedman, Mr. Oskar Arvid                           │ male  │  27    │       0 │       0 │ 347089             │   6.975  │ nan         │ S          │\n",
      "├─────┼───────────────┼────────────┼──────────┼───────────────────────────────────────────────────┼───────┼────────┼─────────┼─────────┼────────────────────┼──────────┼─────────────┼────────────┤\n",
      "│ 805 │           806 │          0 │        3 │ Johansson, Mr. Karl Johan                         │ male  │  31    │       0 │       0 │ 347063             │   7.775  │ nan         │ S          │\n",
      "├─────┼───────────────┼────────────┼──────────┼───────────────────────────────────────────────────┼───────┼────────┼─────────┼─────────┼────────────────────┼──────────┼─────────────┼────────────┤\n",
      "│ 806 │           807 │          0 │        1 │ Andrews, Mr. Thomas Jr                            │ male  │  39    │       0 │       0 │ 112050             │   0      │ A36         │ S          │\n",
      "├─────┼───────────────┼────────────┼──────────┼───────────────────────────────────────────────────┼───────┼────────┼─────────┼─────────┼────────────────────┼──────────┼─────────────┼────────────┤\n",
      "│ 808 │           809 │          0 │        2 │ Meyer, Mr. August                                 │ male  │  39    │       0 │       0 │ 248723             │  13      │ nan         │ S          │\n",
      "├─────┼───────────────┼────────────┼──────────┼───────────────────────────────────────────────────┼───────┼────────┼─────────┼─────────┼────────────────────┼──────────┼─────────────┼────────────┤\n",
      "│ 810 │           811 │          0 │        3 │ Alexander, Mr. William                            │ male  │  26    │       0 │       0 │ 3474               │   7.8875 │ nan         │ S          │\n",
      "├─────┼───────────────┼────────────┼──────────┼───────────────────────────────────────────────────┼───────┼────────┼─────────┼─────────┼────────────────────┼──────────┼─────────────┼────────────┤\n",
      "│ 811 │           812 │          0 │        3 │ Lester, Mr. James                                 │ male  │  39    │       0 │       0 │ A/4 48871          │  24.15   │ nan         │ S          │\n",
      "├─────┼───────────────┼────────────┼──────────┼───────────────────────────────────────────────────┼───────┼────────┼─────────┼─────────┼────────────────────┼──────────┼─────────────┼────────────┤\n",
      "│ 812 │           813 │          0 │        2 │ Slemen, Mr. Richard James                         │ male  │  35    │       0 │       0 │ 28206              │  10.5    │ nan         │ S          │\n",
      "├─────┼───────────────┼────────────┼──────────┼───────────────────────────────────────────────────┼───────┼────────┼─────────┼─────────┼────────────────────┼──────────┼─────────────┼────────────┤\n",
      "│ 814 │           815 │          0 │        3 │ Tomlin, Mr. Ernest Portage                        │ male  │  30.5  │       0 │       0 │ 364499             │   8.05   │ nan         │ S          │\n",
      "├─────┼───────────────┼────────────┼──────────┼───────────────────────────────────────────────────┼───────┼────────┼─────────┼─────────┼────────────────────┼──────────┼─────────────┼────────────┤\n",
      "│ 815 │           816 │          0 │        1 │ Fry, Mr. Richard                                  │ male  │ nan    │       0 │       0 │ 112058             │   0      │ B102        │ S          │\n",
      "├─────┼───────────────┼────────────┼──────────┼───────────────────────────────────────────────────┼───────┼────────┼─────────┼─────────┼────────────────────┼──────────┼─────────────┼────────────┤\n",
      "│ 817 │           818 │          0 │        2 │ Mallet, Mr. Albert                                │ male  │  31    │       1 │       1 │ S.C./PARIS 2079    │  37.0042 │ nan         │ C          │\n",
      "├─────┼───────────────┼────────────┼──────────┼───────────────────────────────────────────────────┼───────┼────────┼─────────┼─────────┼────────────────────┼──────────┼─────────────┼────────────┤\n",
      "│ 818 │           819 │          0 │        3 │ Holm, Mr. John Fredrik Alexander                  │ male  │  43    │       0 │       0 │ C 7075             │   6.45   │ nan         │ S          │\n",
      "├─────┼───────────────┼────────────┼──────────┼───────────────────────────────────────────────────┼───────┼────────┼─────────┼─────────┼────────────────────┼──────────┼─────────────┼────────────┤\n",
      "│ 819 │           820 │          0 │        3 │ Skoog, Master. Karl Thorsten                      │ male  │  10    │       3 │       2 │ 347088             │  27.9    │ nan         │ S          │\n",
      "├─────┼───────────────┼────────────┼──────────┼───────────────────────────────────────────────────┼───────┼────────┼─────────┼─────────┼────────────────────┼──────────┼─────────────┼────────────┤\n",
      "│ 821 │           822 │          1 │        3 │ Lulic, Mr. Nikola                                 │ male  │  27    │       0 │       0 │ 315098             │   8.6625 │ nan         │ S          │\n",
      "├─────┼───────────────┼────────────┼──────────┼───────────────────────────────────────────────────┼───────┼────────┼─────────┼─────────┼────────────────────┼──────────┼─────────────┼────────────┤\n",
      "│ 822 │           823 │          0 │        1 │ Reuchlin, Jonkheer. John George                   │ male  │  38    │       0 │       0 │ 19972              │   0      │ nan         │ S          │\n",
      "├─────┼───────────────┼────────────┼──────────┼───────────────────────────────────────────────────┼───────┼────────┼─────────┼─────────┼────────────────────┼──────────┼─────────────┼────────────┤\n",
      "│ 824 │           825 │          0 │        3 │ Panula, Master. Urho Abraham                      │ male  │   2    │       4 │       1 │ 3101295            │  39.6875 │ nan         │ S          │\n",
      "├─────┼───────────────┼────────────┼──────────┼───────────────────────────────────────────────────┼───────┼────────┼─────────┼─────────┼────────────────────┼──────────┼─────────────┼────────────┤\n",
      "│ 825 │           826 │          0 │        3 │ Flynn, Mr. John                                   │ male  │ nan    │       0 │       0 │ 368323             │   6.95   │ nan         │ Q          │\n",
      "├─────┼───────────────┼────────────┼──────────┼───────────────────────────────────────────────────┼───────┼────────┼─────────┼─────────┼────────────────────┼──────────┼─────────────┼────────────┤\n",
      "│ 826 │           827 │          0 │        3 │ Lam, Mr. Len                                      │ male  │ nan    │       0 │       0 │ 1601               │  56.4958 │ nan         │ S          │\n",
      "├─────┼───────────────┼────────────┼──────────┼───────────────────────────────────────────────────┼───────┼────────┼─────────┼─────────┼────────────────────┼──────────┼─────────────┼────────────┤\n",
      "│ 827 │           828 │          1 │        2 │ Mallet, Master. Andre                             │ male  │   1    │       0 │       2 │ S.C./PARIS 2079    │  37.0042 │ nan         │ C          │\n",
      "├─────┼───────────────┼────────────┼──────────┼───────────────────────────────────────────────────┼───────┼────────┼─────────┼─────────┼────────────────────┼──────────┼─────────────┼────────────┤\n",
      "│ 828 │           829 │          1 │        3 │ McCormack, Mr. Thomas Joseph                      │ male  │ nan    │       0 │       0 │ 367228             │   7.75   │ nan         │ Q          │\n",
      "├─────┼───────────────┼────────────┼──────────┼───────────────────────────────────────────────────┼───────┼────────┼─────────┼─────────┼────────────────────┼──────────┼─────────────┼────────────┤\n",
      "│ 831 │           832 │          1 │        2 │ Richards, Master. George Sibley                   │ male  │   0.83 │       1 │       1 │ 29106              │  18.75   │ nan         │ S          │\n",
      "├─────┼───────────────┼────────────┼──────────┼───────────────────────────────────────────────────┼───────┼────────┼─────────┼─────────┼────────────────────┼──────────┼─────────────┼────────────┤\n",
      "│ 832 │           833 │          0 │        3 │ Saad, Mr. Amin                                    │ male  │ nan    │       0 │       0 │ 2671               │   7.2292 │ nan         │ C          │\n",
      "├─────┼───────────────┼────────────┼──────────┼───────────────────────────────────────────────────┼───────┼────────┼─────────┼─────────┼────────────────────┼──────────┼─────────────┼────────────┤\n",
      "│ 833 │           834 │          0 │        3 │ Augustsson, Mr. Albert                            │ male  │  23    │       0 │       0 │ 347468             │   7.8542 │ nan         │ S          │\n",
      "├─────┼───────────────┼────────────┼──────────┼───────────────────────────────────────────────────┼───────┼────────┼─────────┼─────────┼────────────────────┼──────────┼─────────────┼────────────┤\n",
      "│ 834 │           835 │          0 │        3 │ Allum, Mr. Owen George                            │ male  │  18    │       0 │       0 │ 2223               │   8.3    │ nan         │ S          │\n",
      "├─────┼───────────────┼────────────┼──────────┼───────────────────────────────────────────────────┼───────┼────────┼─────────┼─────────┼────────────────────┼──────────┼─────────────┼────────────┤\n",
      "│ 836 │           837 │          0 │        3 │ Pasic, Mr. Jakob                                  │ male  │  21    │       0 │       0 │ 315097             │   8.6625 │ nan         │ S          │\n",
      "├─────┼───────────────┼────────────┼──────────┼───────────────────────────────────────────────────┼───────┼────────┼─────────┼─────────┼────────────────────┼──────────┼─────────────┼────────────┤\n",
      "│ 837 │           838 │          0 │        3 │ Sirota, Mr. Maurice                               │ male  │ nan    │       0 │       0 │ 392092             │   8.05   │ nan         │ S          │\n",
      "├─────┼───────────────┼────────────┼──────────┼───────────────────────────────────────────────────┼───────┼────────┼─────────┼─────────┼────────────────────┼──────────┼─────────────┼────────────┤\n",
      "│ 838 │           839 │          1 │        3 │ Chip, Mr. Chang                                   │ male  │  32    │       0 │       0 │ 1601               │  56.4958 │ nan         │ S          │\n",
      "├─────┼───────────────┼────────────┼──────────┼───────────────────────────────────────────────────┼───────┼────────┼─────────┼─────────┼────────────────────┼──────────┼─────────────┼────────────┤\n",
      "│ 839 │           840 │          1 │        1 │ Marechal, Mr. Pierre                              │ male  │ nan    │       0 │       0 │ 11774              │  29.7    │ C47         │ C          │\n",
      "├─────┼───────────────┼────────────┼──────────┼───────────────────────────────────────────────────┼───────┼────────┼─────────┼─────────┼────────────────────┼──────────┼─────────────┼────────────┤\n",
      "│ 840 │           841 │          0 │        3 │ Alhomaki, Mr. Ilmari Rudolf                       │ male  │  20    │       0 │       0 │ SOTON/O2 3101287   │   7.925  │ nan         │ S          │\n",
      "├─────┼───────────────┼────────────┼──────────┼───────────────────────────────────────────────────┼───────┼────────┼─────────┼─────────┼────────────────────┼──────────┼─────────────┼────────────┤\n",
      "│ 841 │           842 │          0 │        2 │ Mudd, Mr. Thomas Charles                          │ male  │  16    │       0 │       0 │ S.O./P.P. 3        │  10.5    │ nan         │ S          │\n",
      "├─────┼───────────────┼────────────┼──────────┼───────────────────────────────────────────────────┼───────┼────────┼─────────┼─────────┼────────────────────┼──────────┼─────────────┼────────────┤\n",
      "│ 843 │           844 │          0 │        3 │ Lemberopolous, Mr. Peter L                        │ male  │  34.5  │       0 │       0 │ 2683               │   6.4375 │ nan         │ C          │\n",
      "├─────┼───────────────┼────────────┼──────────┼───────────────────────────────────────────────────┼───────┼────────┼─────────┼─────────┼────────────────────┼──────────┼─────────────┼────────────┤\n",
      "│ 844 │           845 │          0 │        3 │ Culumovic, Mr. Jeso                               │ male  │  17    │       0 │       0 │ 315090             │   8.6625 │ nan         │ S          │\n",
      "├─────┼───────────────┼────────────┼──────────┼───────────────────────────────────────────────────┼───────┼────────┼─────────┼─────────┼────────────────────┼──────────┼─────────────┼────────────┤\n",
      "│ 845 │           846 │          0 │        3 │ Abbing, Mr. Anthony                               │ male  │  42    │       0 │       0 │ C.A. 5547          │   7.55   │ nan         │ S          │\n",
      "├─────┼───────────────┼────────────┼──────────┼───────────────────────────────────────────────────┼───────┼────────┼─────────┼─────────┼────────────────────┼──────────┼─────────────┼────────────┤\n",
      "│ 846 │           847 │          0 │        3 │ Sage, Mr. Douglas Bullen                          │ male  │ nan    │       8 │       2 │ CA. 2343           │  69.55   │ nan         │ S          │\n",
      "├─────┼───────────────┼────────────┼──────────┼───────────────────────────────────────────────────┼───────┼────────┼─────────┼─────────┼────────────────────┼──────────┼─────────────┼────────────┤\n",
      "│ 847 │           848 │          0 │        3 │ Markoff, Mr. Marin                                │ male  │  35    │       0 │       0 │ 349213             │   7.8958 │ nan         │ C          │\n",
      "├─────┼───────────────┼────────────┼──────────┼───────────────────────────────────────────────────┼───────┼────────┼─────────┼─────────┼────────────────────┼──────────┼─────────────┼────────────┤\n",
      "│ 848 │           849 │          0 │        2 │ Harper, Rev. John                                 │ male  │  28    │       0 │       1 │ 248727             │  33      │ nan         │ S          │\n",
      "├─────┼───────────────┼────────────┼──────────┼───────────────────────────────────────────────────┼───────┼────────┼─────────┼─────────┼────────────────────┼──────────┼─────────────┼────────────┤\n",
      "│ 850 │           851 │          0 │        3 │ Andersson, Master. Sigvard Harald Elias           │ male  │   4    │       4 │       2 │ 347082             │  31.275  │ nan         │ S          │\n",
      "├─────┼───────────────┼────────────┼──────────┼───────────────────────────────────────────────────┼───────┼────────┼─────────┼─────────┼────────────────────┼──────────┼─────────────┼────────────┤\n",
      "│ 851 │           852 │          0 │        3 │ Svensson, Mr. Johan                               │ male  │  74    │       0 │       0 │ 347060             │   7.775  │ nan         │ S          │\n",
      "├─────┼───────────────┼────────────┼──────────┼───────────────────────────────────────────────────┼───────┼────────┼─────────┼─────────┼────────────────────┼──────────┼─────────────┼────────────┤\n",
      "│ 857 │           858 │          1 │        1 │ Daly, Mr. Peter Denis                             │ male  │  51    │       0 │       0 │ 113055             │  26.55   │ E17         │ S          │\n",
      "├─────┼───────────────┼────────────┼──────────┼───────────────────────────────────────────────────┼───────┼────────┼─────────┼─────────┼────────────────────┼──────────┼─────────────┼────────────┤\n",
      "│ 859 │           860 │          0 │        3 │ Razi, Mr. Raihed                                  │ male  │ nan    │       0 │       0 │ 2629               │   7.2292 │ nan         │ C          │\n",
      "├─────┼───────────────┼────────────┼──────────┼───────────────────────────────────────────────────┼───────┼────────┼─────────┼─────────┼────────────────────┼──────────┼─────────────┼────────────┤\n",
      "│ 860 │           861 │          0 │        3 │ Hansen, Mr. Claus Peter                           │ male  │  41    │       2 │       0 │ 350026             │  14.1083 │ nan         │ S          │\n",
      "├─────┼───────────────┼────────────┼──────────┼───────────────────────────────────────────────────┼───────┼────────┼─────────┼─────────┼────────────────────┼──────────┼─────────────┼────────────┤\n",
      "│ 861 │           862 │          0 │        2 │ Giles, Mr. Frederick Edward                       │ male  │  21    │       1 │       0 │ 28134              │  11.5    │ nan         │ S          │\n",
      "├─────┼───────────────┼────────────┼──────────┼───────────────────────────────────────────────────┼───────┼────────┼─────────┼─────────┼────────────────────┼──────────┼─────────────┼────────────┤\n",
      "│ 864 │           865 │          0 │        2 │ Gill, Mr. John William                            │ male  │  24    │       0 │       0 │ 233866             │  13      │ nan         │ S          │\n",
      "├─────┼───────────────┼────────────┼──────────┼───────────────────────────────────────────────────┼───────┼────────┼─────────┼─────────┼────────────────────┼──────────┼─────────────┼────────────┤\n",
      "│ 867 │           868 │          0 │        1 │ Roebling, Mr. Washington Augustus II              │ male  │  31    │       0 │       0 │ PC 17590           │  50.4958 │ A24         │ S          │\n",
      "├─────┼───────────────┼────────────┼──────────┼───────────────────────────────────────────────────┼───────┼────────┼─────────┼─────────┼────────────────────┼──────────┼─────────────┼────────────┤\n",
      "│ 868 │           869 │          0 │        3 │ van Melkebeke, Mr. Philemon                       │ male  │ nan    │       0 │       0 │ 345777             │   9.5    │ nan         │ S          │\n",
      "├─────┼───────────────┼────────────┼──────────┼───────────────────────────────────────────────────┼───────┼────────┼─────────┼─────────┼────────────────────┼──────────┼─────────────┼────────────┤\n",
      "│ 869 │           870 │          1 │        3 │ Johnson, Master. Harold Theodor                   │ male  │   4    │       1 │       1 │ 347742             │  11.1333 │ nan         │ S          │\n",
      "├─────┼───────────────┼────────────┼──────────┼───────────────────────────────────────────────────┼───────┼────────┼─────────┼─────────┼────────────────────┼──────────┼─────────────┼────────────┤\n",
      "│ 870 │           871 │          0 │        3 │ Balkic, Mr. Cerin                                 │ male  │  26    │       0 │       0 │ 349248             │   7.8958 │ nan         │ S          │\n",
      "├─────┼───────────────┼────────────┼──────────┼───────────────────────────────────────────────────┼───────┼────────┼─────────┼─────────┼────────────────────┼──────────┼─────────────┼────────────┤\n",
      "│ 872 │           873 │          0 │        1 │ Carlsson, Mr. Frans Olof                          │ male  │  33    │       0 │       0 │ 695                │   5      │ B51 B53 B55 │ S          │\n",
      "├─────┼───────────────┼────────────┼──────────┼───────────────────────────────────────────────────┼───────┼────────┼─────────┼─────────┼────────────────────┼──────────┼─────────────┼────────────┤\n",
      "│ 873 │           874 │          0 │        3 │ Vander Cruyssen, Mr. Victor                       │ male  │  47    │       0 │       0 │ 345765             │   9      │ nan         │ S          │\n",
      "├─────┼───────────────┼────────────┼──────────┼───────────────────────────────────────────────────┼───────┼────────┼─────────┼─────────┼────────────────────┼──────────┼─────────────┼────────────┤\n",
      "│ 876 │           877 │          0 │        3 │ Gustafsson, Mr. Alfred Ossian                     │ male  │  20    │       0 │       0 │ 7534               │   9.8458 │ nan         │ S          │\n",
      "├─────┼───────────────┼────────────┼──────────┼───────────────────────────────────────────────────┼───────┼────────┼─────────┼─────────┼────────────────────┼──────────┼─────────────┼────────────┤\n",
      "│ 877 │           878 │          0 │        3 │ Petroff, Mr. Nedelio                              │ male  │  19    │       0 │       0 │ 349212             │   7.8958 │ nan         │ S          │\n",
      "├─────┼───────────────┼────────────┼──────────┼───────────────────────────────────────────────────┼───────┼────────┼─────────┼─────────┼────────────────────┼──────────┼─────────────┼────────────┤\n",
      "│ 878 │           879 │          0 │        3 │ Laleff, Mr. Kristo                                │ male  │ nan    │       0 │       0 │ 349217             │   7.8958 │ nan         │ S          │\n",
      "├─────┼───────────────┼────────────┼──────────┼───────────────────────────────────────────────────┼───────┼────────┼─────────┼─────────┼────────────────────┼──────────┼─────────────┼────────────┤\n",
      "│ 881 │           882 │          0 │        3 │ Markun, Mr. Johann                                │ male  │  33    │       0 │       0 │ 349257             │   7.8958 │ nan         │ S          │\n",
      "├─────┼───────────────┼────────────┼──────────┼───────────────────────────────────────────────────┼───────┼────────┼─────────┼─────────┼────────────────────┼──────────┼─────────────┼────────────┤\n",
      "│ 883 │           884 │          0 │        2 │ Banfield, Mr. Frederick James                     │ male  │  28    │       0 │       0 │ C.A./SOTON 34068   │  10.5    │ nan         │ S          │\n",
      "├─────┼───────────────┼────────────┼──────────┼───────────────────────────────────────────────────┼───────┼────────┼─────────┼─────────┼────────────────────┼──────────┼─────────────┼────────────┤\n",
      "│ 884 │           885 │          0 │        3 │ Sutehall, Mr. Henry Jr                            │ male  │  25    │       0 │       0 │ SOTON/OQ 392076    │   7.05   │ nan         │ S          │\n",
      "├─────┼───────────────┼────────────┼──────────┼───────────────────────────────────────────────────┼───────┼────────┼─────────┼─────────┼────────────────────┼──────────┼─────────────┼────────────┤\n",
      "│ 886 │           887 │          0 │        2 │ Montvila, Rev. Juozas                             │ male  │  27    │       0 │       0 │ 211536             │  13      │ nan         │ S          │\n",
      "├─────┼───────────────┼────────────┼──────────┼───────────────────────────────────────────────────┼───────┼────────┼─────────┼─────────┼────────────────────┼──────────┼─────────────┼────────────┤\n",
      "│ 889 │           890 │          1 │        1 │ Behr, Mr. Karl Howell                             │ male  │  26    │       0 │       0 │ 111369             │  30      │ C148        │ C          │\n",
      "├─────┼───────────────┼────────────┼──────────┼───────────────────────────────────────────────────┼───────┼────────┼─────────┼─────────┼────────────────────┼──────────┼─────────────┼────────────┤\n",
      "│ 890 │           891 │          0 │        3 │ Dooley, Mr. Patrick                               │ male  │  32    │       0 │       0 │ 370376             │   7.75   │ nan         │ Q          │\n",
      "╘═════╧═══════════════╧════════════╧══════════╧═══════════════════════════════════════════════════╧═══════╧════════╧═════════╧═════════╧════════════════════╧══════════╧═════════════╧════════════╛\n"
     ]
    }
   ],
   "source": [
    "print(tabulate(df_male, headers = 'keys', tablefmt = 'fancy_grid'))"
   ]
  },
  {
   "cell_type": "markdown",
   "metadata": {
    "id": "A1aCiGZ0lOwz"
   },
   "source": [
    "### Pregunta 2:\n",
    "\n",
    "¿Porcentaje de hombres y mujeres que sobrevivieron por clase?"
   ]
  },
  {
   "cell_type": "markdown",
   "metadata": {
    "id": "g3nrfWoSQG9M"
   },
   "source": [
    "Paso a paso:\n",
    "\n",
    "1. Obtener el número de los hombres y mujeres del conjunto de datos\n",
    "2. Obtener el número de hombres que viajaban en cada clase.\n",
    "3. Obtener el número de hombres que sobrevivieron y no sobrevivieron por cada clase.\n",
    "4. Calcular el porcentaje por cada clase.\n",
    "5. Obtener el número de mujeres que viajaban en cada clase.\n",
    "3. Obtener el númer de mujeres que sobrevivieron y no sobrevivieron por cada clase.\n",
    "4. Calcular el porcentaje por cada clase."
   ]
  },
  {
   "cell_type": "code",
   "execution_count": 51,
   "metadata": {
    "colab": {
     "base_uri": "https://localhost:8080/"
    },
    "executionInfo": {
     "elapsed": 217,
     "status": "ok",
     "timestamp": 1729265884299,
     "user": {
      "displayName": "Breyner Posso Bautista",
      "userId": "13049344394225357947"
     },
     "user_tz": 300
    },
    "id": "DEnSDZ_0RfzZ",
    "outputId": "871447d0-ccaa-4997-afe4-e33a06ce6a5a"
   },
   "outputs": [
    {
     "name": "stdout",
     "output_type": "stream",
     "text": [
      "577\n"
     ]
    }
   ],
   "source": [
    "## Paso 1\n",
    "\n",
    "num_hombres = df[df['Sex']=='male'].shape[0]\n",
    "print(num_hombres)"
   ]
  },
  {
   "cell_type": "code",
   "execution_count": 52,
   "metadata": {
    "colab": {
     "base_uri": "https://localhost:8080/"
    },
    "executionInfo": {
     "elapsed": 203,
     "status": "ok",
     "timestamp": 1729266039926,
     "user": {
      "displayName": "Breyner Posso Bautista",
      "userId": "13049344394225357947"
     },
     "user_tz": 300
    },
    "id": "S00zHPzMSJ4T",
    "outputId": "cb8a0f25-2895-47de-82ed-6f9c133f1b96"
   },
   "outputs": [
    {
     "name": "stdout",
     "output_type": "stream",
     "text": [
      "577\n"
     ]
    }
   ],
   "source": [
    "df_male = df[df['Sex']=='male']\n",
    "print(df_male.shape[0])"
   ]
  },
  {
   "cell_type": "code",
   "execution_count": 53,
   "metadata": {
    "colab": {
     "base_uri": "https://localhost:8080/"
    },
    "executionInfo": {
     "elapsed": 198,
     "status": "ok",
     "timestamp": 1729266085182,
     "user": {
      "displayName": "Breyner Posso Bautista",
      "userId": "13049344394225357947"
     },
     "user_tz": 300
    },
    "id": "kW0bbMu6SBhh",
    "outputId": "be7d79d7-989f-4c49-8aa2-8fba1d16499d"
   },
   "outputs": [
    {
     "name": "stdout",
     "output_type": "stream",
     "text": [
      "314\n"
     ]
    }
   ],
   "source": [
    "num_mujeres = df[df['Sex']=='female'].shape[0]\n",
    "print(num_mujeres)"
   ]
  },
  {
   "cell_type": "code",
   "execution_count": 55,
   "metadata": {
    "colab": {
     "base_uri": "https://localhost:8080/"
    },
    "executionInfo": {
     "elapsed": 225,
     "status": "ok",
     "timestamp": 1729266393389,
     "user": {
      "displayName": "Breyner Posso Bautista",
      "userId": "13049344394225357947"
     },
     "user_tz": 300
    },
    "id": "QTX-u1cOSnR6",
    "outputId": "2d92c288-514e-4344-d806-2fc623c54870"
   },
   "outputs": [
    {
     "name": "stdout",
     "output_type": "stream",
     "text": [
      "La cantidad de hommbres que viajaban en primera clase es 122\n",
      "La cantidad de hommbres que viajaban en segunda clase es 108\n",
      "La cantidad de hommbres que viajaban en tercera clase es 347\n"
     ]
    }
   ],
   "source": [
    "## Paso 2\n",
    "\n",
    "filtro = (df['Sex']=='male') & (df['Pclass']==1)\n",
    "num_hom_c1 = df[filtro].shape[0]\n",
    "print(f'La cantidad de hommbres que viajaban en primera clase es {num_hom_c1}')\n",
    "\n",
    "filtro = (df['Sex']=='male') & (df['Pclass']==2)\n",
    "num_hom_c2 = df[filtro].shape[0]\n",
    "print(f'La cantidad de hommbres que viajaban en segunda clase es {num_hom_c2}')\n",
    "\n",
    "filtro = (df['Sex']=='male') & (df['Pclass']==3)\n",
    "num_hom_c3 = df[filtro].shape[0]\n",
    "print(f'La cantidad de hommbres que viajaban en tercera clase es {num_hom_c3}')\n",
    "\n",
    "#print(num_hom_c1+num_hom_c2+num_hom_c3)"
   ]
  },
  {
   "cell_type": "code",
   "execution_count": 87,
   "metadata": {
    "colab": {
     "base_uri": "https://localhost:8080/"
    },
    "executionInfo": {
     "elapsed": 249,
     "status": "ok",
     "timestamp": 1729266908324,
     "user": {
      "displayName": "Breyner Posso Bautista",
      "userId": "13049344394225357947"
     },
     "user_tz": 300
    },
    "id": "fTjQ548aT-Tc",
    "outputId": "90297bdb-b2ae-4220-ae36-3cd0bbd8360d"
   },
   "outputs": [
    {
     "name": "stdout",
     "output_type": "stream",
     "text": [
      "La cantidad de hombres que viajaban en primera clase y sobrevivió es 45\n",
      "La cantidad de hombres que viajaban en segunda clase y sobrevivió es 17\n",
      "La cantidad de hombres que viajaban en tercera clase y sobrevivió es 47\n"
     ]
    }
   ],
   "source": [
    "## Paso 3\n",
    "\n",
    "filtro = (df['Sex']=='male') & (df['Pclass']==1) & (df['Survived']==1)\n",
    "num_hom_c1_s = df[filtro].shape[0]\n",
    "print(f'La cantidad de hombres que viajaban en primera clase y sobrevivió es {num_hom_c1_s}')\n",
    "\n",
    "filtro = (df['Sex']=='male') & (df['Pclass']==2) & (df['Survived']==1)\n",
    "num_hom_c2_s = df[filtro].shape[0]\n",
    "print(f'La cantidad de hombres que viajaban en segunda clase y sobrevivió es {num_hom_c2_s}')\n",
    "\n",
    "filtro = (df['Sex']=='male') & (df['Pclass']==3) & (df['Survived']==1)\n",
    "num_hom_c3_s = df[filtro].shape[0]\n",
    "print(f'La cantidad de hombres que viajaban en tercera clase y sobrevivió es {num_hom_c3_s}')"
   ]
  },
  {
   "cell_type": "code",
   "execution_count": 88,
   "metadata": {
    "colab": {
     "base_uri": "https://localhost:8080/"
    },
    "executionInfo": {
     "elapsed": 218,
     "status": "ok",
     "timestamp": 1729266955219,
     "user": {
      "displayName": "Breyner Posso Bautista",
      "userId": "13049344394225357947"
     },
     "user_tz": 300
    },
    "id": "O7c7AHZLUe4V",
    "outputId": "e83fa7fc-65fe-40c3-ae98-c2d1d40d0ca1"
   },
   "outputs": [
    {
     "name": "stdout",
     "output_type": "stream",
     "text": [
      "El porcentaje de hombres que viajaban en primera clase y sobrevivió es 36.89\n",
      "El porcentaje de hombres que viajaban en segunda clase y sobrevivió es 15.74\n",
      "El porcentaje de hombres que viajaban en tercera clase y sobrevivió es 13.54\n"
     ]
    }
   ],
   "source": [
    "## Paso 4\n",
    "porcentaje_h_c1_s = (100 * num_hom_c1_s)/num_hom_c1\n",
    "print(f'El porcentaje de hombres que viajaban en primera clase y sobrevivió es {porcentaje_h_c1_s:.2f}')\n",
    "\n",
    "porcentaje_h_c2_s = (100 * num_hom_c2_s)/num_hom_c2\n",
    "print(f'El porcentaje de hombres que viajaban en segunda clase y sobrevivió es {porcentaje_h_c2_s:.2f}')\n",
    "\n",
    "porcentaje_h_c3_s = (100 * num_hom_c3_s)/num_hom_c3\n",
    "print(f'El porcentaje de hombres que viajaban en tercera clase y sobrevivió es {porcentaje_h_c3_s:.2f}')"
   ]
  },
  {
   "cell_type": "code",
   "execution_count": 81,
   "metadata": {},
   "outputs": [
    {
     "name": "stdout",
     "output_type": "stream",
     "text": [
      "314\n"
     ]
    }
   ],
   "source": [
    "## Paso 1\n",
    "\n",
    "num_mujeres = df[df['Sex']=='female'].shape[0]\n",
    "print(num_mujeres)"
   ]
  },
  {
   "cell_type": "code",
   "execution_count": 82,
   "metadata": {},
   "outputs": [
    {
     "name": "stdout",
     "output_type": "stream",
     "text": [
      "La cantidad de mujeres que viajaban en primera clase es 94\n",
      "La cantidad de mujeres que viajaban en segunda clase es 76\n",
      "La cantidad de mujeres que viajaban en tercera clase es 144\n"
     ]
    }
   ],
   "source": [
    "## Paso 2\n",
    "\n",
    "filtro = (df['Sex']=='female') & (df['Pclass']==1)\n",
    "num_mujeres_c1 = df[filtro].shape[0]\n",
    "print(f'La cantidad de mujeres que viajaban en primera clase es {num_mujeres_c1}')\n",
    "\n",
    "filtro = (df['Sex']=='female') & (df['Pclass']==2)\n",
    "num_mujeres_c2 = df[filtro].shape[0]\n",
    "print(f'La cantidad de mujeres que viajaban en segunda clase es {num_mujeres_c2}')\n",
    "\n",
    "filtro = (df['Sex']=='female') & (df['Pclass']==3)\n",
    "num_mujeres_c3 = df[filtro].shape[0]\n",
    "print(f'La cantidad de mujeres que viajaban en tercera clase es {num_mujeres_c3}')"
   ]
  },
  {
   "cell_type": "code",
   "execution_count": 2,
   "metadata": {},
   "outputs": [
    {
     "ename": "NameError",
     "evalue": "name 'df' is not defined",
     "output_type": "error",
     "traceback": [
      "\u001b[31m---------------------------------------------------------------------------\u001b[39m",
      "\u001b[31mNameError\u001b[39m                                 Traceback (most recent call last)",
      "\u001b[36mCell\u001b[39m\u001b[36m \u001b[39m\u001b[32mIn[2]\u001b[39m\u001b[32m, line 3\u001b[39m\n\u001b[32m      1\u001b[39m \u001b[38;5;66;03m## Paso 3\u001b[39;00m\n\u001b[32m----> \u001b[39m\u001b[32m3\u001b[39m filtro = (\u001b[43mdf\u001b[49m[\u001b[33m'\u001b[39m\u001b[33mSex\u001b[39m\u001b[33m'\u001b[39m]==\u001b[33m'\u001b[39m\u001b[33mfemale\u001b[39m\u001b[33m'\u001b[39m) & (df[\u001b[33m'\u001b[39m\u001b[33mPclass\u001b[39m\u001b[33m'\u001b[39m]==\u001b[32m1\u001b[39m) & (df[\u001b[33m'\u001b[39m\u001b[33mSurvived\u001b[39m\u001b[33m'\u001b[39m]==\u001b[32m1\u001b[39m)\n\u001b[32m      4\u001b[39m num_mujeres_c1_s = df[filtro].shape[\u001b[32m0\u001b[39m]\n\u001b[32m      5\u001b[39m \u001b[38;5;28mprint\u001b[39m(\u001b[33mf\u001b[39m\u001b[33m'\u001b[39m\u001b[33mLa cantidad de mujeres que viajaban en primera clase y sobrevivió es \u001b[39m\u001b[38;5;132;01m{\u001b[39;00mnum_mujeres_c1_s\u001b[38;5;132;01m}\u001b[39;00m\u001b[33m'\u001b[39m)\n",
      "\u001b[31mNameError\u001b[39m: name 'df' is not defined"
     ]
    }
   ],
   "source": [
    "## Paso 3\n",
    "\n",
    "filtro = (df['Sex']=='female') & (df['Pclass']==1) & (df['Survived']==1)\n",
    "num_mujeres_c1_s = df[filtro].shape[0]\n",
    "print(f'La cantidad de mujeres que viajaban en primera clase y sobrevivió es {num_mujeres_c1_s}')\n",
    "\n",
    "filtro = (df['Sex']=='female') & (df['Pclass']==2) & (df['Survived']==1)\n",
    "num_mujeres_c2_s = df[filtro].shape[0]\n",
    "print(f'La cantidad de mujeres que viajaban en segunda clase y sobrevivió es {num_mujeres_c2_s}')\n",
    "\n",
    "filtro = (df['Sex']=='female') & (df['Pclass']==3) & (df['Survived']==1)\n",
    "num_mujeres_c3_s = df[filtro].shape[0]\n",
    "print(f'La cantidad de mujeres que viajaban en tercera clase y sobrevivió es {num_mujeres_c3_s}')"
   ]
  },
  {
   "cell_type": "code",
   "execution_count": 86,
   "metadata": {},
   "outputs": [
    {
     "name": "stdout",
     "output_type": "stream",
     "text": [
      "El porcentaje de mujeres que viajaban en primera clase y sobrevivió es 96.81\n",
      "El porcentaje de mujeres que viajaban en segunda clase y sobrevivió es 92.11\n",
      "El porcentaje de mujeres que viajaban en tercera clase y sobrevivió es 50.00\n"
     ]
    }
   ],
   "source": [
    "## Paso 4\n",
    "porcentaje_mujeres_c1_s = (100 * num_mujeres_c1_s)/num_mujeres_c1\n",
    "print(f'El porcentaje de mujeres que viajaban en primera clase y sobrevivió es {porcentaje_mujeres_c1_s:.2f}')\n",
    "porcentaje_mujeres_c2_s = (100 * num_mujeres_c2_s)/num_mujeres_c2\n",
    "print(f'El porcentaje de mujeres que viajaban en segunda clase y sobrevivió es {porcentaje_mujeres_c2_s:.2f}')\n",
    "porcentaje_mujeres_c3_s = (100 * num_mujeres_c3_s)/num_mujeres_c3\n",
    "print(f'El porcentaje de mujeres que viajaban en tercera clase y sobrevivió es {porcentaje_mujeres_c3_s:.2f}')"
   ]
  },
  {
   "cell_type": "markdown",
   "metadata": {
    "id": "1NK6VDjto-Al"
   },
   "source": [
    "### Pregunta 3:\n",
    "\n",
    "¿Cuál es la distribución de las edades de los hombres que sobrevivieron?"
   ]
  },
  {
   "cell_type": "markdown",
   "metadata": {
    "id": "U7oPcU3eWCB4"
   },
   "source": [
    "Paso a Paso\n",
    "\n",
    "1. Crear un nuevo DataFrame con los hombres que sobrevivieron\n",
    "2. Analizar la distribución de las edades: calcular estadísticas básicas, generar el histograma, construir el boxplot"
   ]
  },
  {
   "cell_type": "code",
   "execution_count": 78,
   "metadata": {
    "id": "DiXre4PfWBLt"
   },
   "outputs": [],
   "source": [
    "## Paso 1\n",
    "\n",
    "filtro = (df['Sex']=='male') &(df['Survived']==1)\n",
    "df_male_s = df[filtro]"
   ]
  },
  {
   "cell_type": "code",
   "execution_count": 60,
   "metadata": {
    "colab": {
     "base_uri": "https://localhost:8080/",
     "height": 564
    },
    "executionInfo": {
     "elapsed": 455,
     "status": "ok",
     "timestamp": 1729267185126,
     "user": {
      "displayName": "Breyner Posso Bautista",
      "userId": "13049344394225357947"
     },
     "user_tz": 300
    },
    "id": "N9Tzf28cWmXx",
    "outputId": "802d2d29-d996-4c55-dc6a-e38f99df9e09"
   },
   "outputs": [
    {
     "data": {
      "image/png": "[encoded data removed]",
      "text/plain": [
       "<Figure size 600x600 with 1 Axes>"
      ]
     },
     "metadata": {},
     "output_type": "display_data"
    }
   ],
   "source": [
    "## Paso 2\n",
    "# Histograma\n",
    "\n",
    "column = 'Age'\n",
    "plt.figure(figsize=(6,6))\n",
    "sns.histplot(data = df_male_s,\n",
    "             x = column,\n",
    "             #hue = 'Survived',\n",
    "             bins = 30,\n",
    "             color = 'red',\n",
    "             fill = True,\n",
    "             stat = 'count')    #'count' muestra el número de observaciones.\n",
    "                                #'frequency' muestra el número de observaciones dividida por el ancho del bin.\n",
    "                                #'density' normaliza las cuentas tal que el área del histograma es 1.\n",
    "                                #'probability' normaliza las cuentas tal que la suma de la altura de las barras es 1.\n",
    "\n",
    "plt.xlabel(column) #Texto en el eje x.\n",
    "plt.ylabel('Cuentas')              #Texto en el eje y.\n",
    "plt.title('Histograma')             #Título del gráfico.\n",
    "plt.show()"
   ]
  },
  {
   "cell_type": "code",
   "execution_count": 61,
   "metadata": {
    "colab": {
     "base_uri": "https://localhost:8080/",
     "height": 335
    },
    "executionInfo": {
     "elapsed": 231,
     "status": "ok",
     "timestamp": 1729267234364,
     "user": {
      "displayName": "Breyner Posso Bautista",
      "userId": "13049344394225357947"
     },
     "user_tz": 300
    },
    "id": "WAjZI3A2W59m",
    "outputId": "33820e7c-7fa5-417f-8cb3-c7b11394dafe"
   },
   "outputs": [
    {
     "data": {
      "text/plain": [
       "count    93.000000\n",
       "mean     27.276022\n",
       "std      16.504803\n",
       "min       0.420000\n",
       "25%      18.000000\n",
       "50%      28.000000\n",
       "75%      36.000000\n",
       "max      80.000000\n",
       "Name: Age, dtype: float64"
      ]
     },
     "execution_count": 61,
     "metadata": {},
     "output_type": "execute_result"
    }
   ],
   "source": [
    "df_male_s['Age'].describe()"
   ]
  },
  {
   "cell_type": "code",
   "execution_count": 62,
   "metadata": {
    "id": "stmjGjjRXLJ5"
   },
   "outputs": [],
   "source": [
    "filtro = (df['Sex']=='female') &(df['Survived']==1)\n",
    "df_female_s = df[filtro]"
   ]
  },
  {
   "cell_type": "code",
   "execution_count": 63,
   "metadata": {
    "colab": {
     "base_uri": "https://localhost:8080/",
     "height": 564
    },
    "executionInfo": {
     "elapsed": 1099,
     "status": "ok",
     "timestamp": 1729267308254,
     "user": {
      "displayName": "Breyner Posso Bautista",
      "userId": "13049344394225357947"
     },
     "user_tz": 300
    },
    "id": "t2RfPKL1XP3H",
    "outputId": "d221b1e9-db99-48bb-916a-cdf46da638ca"
   },
   "outputs": [
    {
     "data": {
      "image/png": "[encoded data removed]",
      "text/plain": [
       "<Figure size 600x600 with 1 Axes>"
      ]
     },
     "metadata": {},
     "output_type": "display_data"
    }
   ],
   "source": [
    "## Paso 2\n",
    "# Histograma\n",
    "\n",
    "column = 'Age'\n",
    "plt.figure(figsize=(6,6))\n",
    "sns.histplot(data = df_female_s,\n",
    "             x = column,\n",
    "             #hue = 'Survived',\n",
    "             bins = 30,\n",
    "             color = 'red',\n",
    "             fill = True,\n",
    "             stat = 'count')    #'count' muestra el número de observaciones.\n",
    "                                #'frequency' muestra el número de observaciones dividida por el ancho del bin.\n",
    "                                #'density' normaliza las cuentas tal que el área del histograma es 1.\n",
    "                                #'probability' normaliza las cuentas tal que la suma de la altura de las barras es 1.\n",
    "\n",
    "plt.xlabel(column) #Texto en el eje x.\n",
    "plt.ylabel('Cuentas')              #Texto en el eje y.\n",
    "plt.title('Histograma')             #Título del gráfico.\n",
    "plt.show()"
   ]
  },
  {
   "cell_type": "markdown",
   "metadata": {
    "id": "7Oj4cNy5rvLt"
   },
   "source": [
    "### Pregunta 4:\n",
    "\n",
    "¿Tiene alguna influencia el puerto dónde embarcó en sobrevivir o no?"
   ]
  },
  {
   "cell_type": "code",
   "execution_count": 64,
   "metadata": {
    "colab": {
     "base_uri": "https://localhost:8080/",
     "height": 564
    },
    "executionInfo": {
     "elapsed": 1198,
     "status": "ok",
     "timestamp": 1729267416673,
     "user": {
      "displayName": "Breyner Posso Bautista",
      "userId": "13049344394225357947"
     },
     "user_tz": 300
    },
    "id": "0viyS1fcuJ9I",
    "outputId": "8f8709c5-e51e-42f1-c5ec-2ca0baf56449"
   },
   "outputs": [
    {
     "data": {
      "image/png": "[encoded data removed]",
      "text/plain": [
       "<Figure size 600x600 with 1 Axes>"
      ]
     },
     "metadata": {},
     "output_type": "display_data"
    }
   ],
   "source": [
    "## Paso 2\n",
    "# Histograma\n",
    "\n",
    "column = 'Embarked'\n",
    "plt.figure(figsize=(6,6))\n",
    "sns.histplot(data = df,\n",
    "             x = column,\n",
    "             hue = 'Survived',\n",
    "             bins = 30,\n",
    "             color = 'red',\n",
    "             fill = True,\n",
    "             stat = 'count')    #'count' muestra el número de observaciones.\n",
    "                                #'frequency' muestra el número de observaciones dividida por el ancho del bin.\n",
    "                                #'density' normaliza las cuentas tal que el área del histograma es 1.\n",
    "                                #'probability' normaliza las cuentas tal que la suma de la altura de las barras es 1.\n",
    "\n",
    "plt.xlabel(column) #Texto en el eje x.\n",
    "plt.ylabel('Cuentas')              #Texto en el eje y.\n",
    "plt.title('Histograma')             #Título del gráfico.\n",
    "plt.show()"
   ]
  },
  {
   "cell_type": "markdown",
   "metadata": {
    "id": "uFnx8QzrhYYE"
   },
   "source": [
    "### Pregunta 5:\n",
    "\n",
    "Hagan una pregunta que les parezca interesante contestar con los datos."
   ]
  },
  {
   "cell_type": "markdown",
   "metadata": {},
   "source": [
    "¿La probabilidad de sobrevivir en el Titanic fue mayor para las mujeres independientemente de su clase social?"
   ]
  },
  {
   "cell_type": "code",
   "execution_count": 1,
   "metadata": {
    "id": "24SkhN9chfud"
   },
   "outputs": [
    {
     "name": "stdout",
     "output_type": "stream",
     "text": [
      "Tasa de supervivencia por sexo y clase:\n",
      "               Survived\n",
      "Sex    Pclass          \n",
      "female 1       0.968085\n",
      "       2       0.921053\n",
      "       3       0.500000\n",
      "male   1       0.368852\n",
      "       2       0.157407\n",
      "       3       0.135447\n"
     ]
    }
   ],
   "source": [
    "import pandas as pd\n",
    "import matplotlib.pyplot as plt\n",
    "\n",
    "# Cargar los datos del Titanic\n",
    "datos = pd.read_csv('datasets/titanic.csv')\n",
    "\n",
    "# Elegir solo las columnas que necesitamos\n",
    "datos_filtrados = datos[['Sex', 'Pclass', 'Survived']]\n",
    "\n",
    "# Agrupar por sexo y clase, y calcular el promedio de sobrevivencia\n",
    "# (0 = no sobrevivió, 1 = sobrevivió → el promedio representa la tasa de supervivencia)\n",
    "tasas = datos_filtrados.groupby(['Sex', 'Pclass']).mean(numeric_only=True)\n",
    "\n",
    "# Mostrar los resultados como una tabla\n",
    "print(\"Tasa de supervivencia por sexo y clase:\")\n",
    "print(tasas)\n",
    "\n",
    "# Preparar los datos para el gráfico\n",
    "# Usamos unstack para que cada sexo sea una línea separada\n",
    "tasas_plot = tasas['Survived'].unstack()\n"
   ]
  },
  {
   "cell_type": "markdown",
   "metadata": {
    "id": "IYdsDKqq5ar-"
   },
   "source": [
    "Vamos a graficar los nombres y la cabina"
   ]
  },
  {
   "cell_type": "code",
   "execution_count": 75,
   "metadata": {
    "colab": {
     "base_uri": "https://localhost:8080/",
     "height": 423
    },
    "executionInfo": {
     "elapsed": 444,
     "status": "ok",
     "timestamp": 1729611870275,
     "user": {
      "displayName": "Breyner Posso Bautista",
      "userId": "13049344394225357947"
     },
     "user_tz": 300
    },
    "id": "KHazt7he5qVq",
    "outputId": "3bc95a16-adc4-4f21-fdcd-426f859ec8ae"
   },
   "outputs": [
    {
     "data": {
      "text/html": [
       "<div>\n",
       "<style scoped>\n",
       "    .dataframe tbody tr th:only-of-type {\n",
       "        vertical-align: middle;\n",
       "    }\n",
       "\n",
       "    .dataframe tbody tr th {\n",
       "        vertical-align: top;\n",
       "    }\n",
       "\n",
       "    .dataframe thead th {\n",
       "        text-align: right;\n",
       "    }\n",
       "</style>\n",
       "<table border=\"1\" class=\"dataframe\">\n",
       "  <thead>\n",
       "    <tr style=\"text-align: right;\">\n",
       "      <th></th>\n",
       "      <th>PassengerId</th>\n",
       "      <th>Survived</th>\n",
       "      <th>Pclass</th>\n",
       "      <th>Name</th>\n",
       "      <th>Sex</th>\n",
       "      <th>Age</th>\n",
       "      <th>SibSp</th>\n",
       "      <th>Parch</th>\n",
       "      <th>Ticket</th>\n",
       "      <th>Fare</th>\n",
       "      <th>Cabin</th>\n",
       "      <th>Embarked</th>\n",
       "    </tr>\n",
       "  </thead>\n",
       "  <tbody>\n",
       "    <tr>\n",
       "      <th>0</th>\n",
       "      <td>1</td>\n",
       "      <td>0</td>\n",
       "      <td>3</td>\n",
       "      <td>Braund, Mr. Owen Harris</td>\n",
       "      <td>male</td>\n",
       "      <td>22.0</td>\n",
       "      <td>1</td>\n",
       "      <td>0</td>\n",
       "      <td>A/5 21171</td>\n",
       "      <td>7.2500</td>\n",
       "      <td>NaN</td>\n",
       "      <td>S</td>\n",
       "    </tr>\n",
       "    <tr>\n",
       "      <th>1</th>\n",
       "      <td>2</td>\n",
       "      <td>1</td>\n",
       "      <td>1</td>\n",
       "      <td>Cumings, Mrs. John Bradley (Florence Briggs Th...</td>\n",
       "      <td>female</td>\n",
       "      <td>38.0</td>\n",
       "      <td>1</td>\n",
       "      <td>0</td>\n",
       "      <td>PC 17599</td>\n",
       "      <td>71.2833</td>\n",
       "      <td>C85</td>\n",
       "      <td>C</td>\n",
       "    </tr>\n",
       "    <tr>\n",
       "      <th>2</th>\n",
       "      <td>3</td>\n",
       "      <td>1</td>\n",
       "      <td>3</td>\n",
       "      <td>Heikkinen, Miss. Laina</td>\n",
       "      <td>female</td>\n",
       "      <td>26.0</td>\n",
       "      <td>0</td>\n",
       "      <td>0</td>\n",
       "      <td>STON/O2. 3101282</td>\n",
       "      <td>7.9250</td>\n",
       "      <td>NaN</td>\n",
       "      <td>S</td>\n",
       "    </tr>\n",
       "    <tr>\n",
       "      <th>3</th>\n",
       "      <td>4</td>\n",
       "      <td>1</td>\n",
       "      <td>1</td>\n",
       "      <td>Futrelle, Mrs. Jacques Heath (Lily May Peel)</td>\n",
       "      <td>female</td>\n",
       "      <td>35.0</td>\n",
       "      <td>1</td>\n",
       "      <td>0</td>\n",
       "      <td>113803</td>\n",
       "      <td>53.1000</td>\n",
       "      <td>C123</td>\n",
       "      <td>S</td>\n",
       "    </tr>\n",
       "    <tr>\n",
       "      <th>4</th>\n",
       "      <td>5</td>\n",
       "      <td>0</td>\n",
       "      <td>3</td>\n",
       "      <td>Allen, Mr. William Henry</td>\n",
       "      <td>male</td>\n",
       "      <td>35.0</td>\n",
       "      <td>0</td>\n",
       "      <td>0</td>\n",
       "      <td>373450</td>\n",
       "      <td>8.0500</td>\n",
       "      <td>NaN</td>\n",
       "      <td>S</td>\n",
       "    </tr>\n",
       "    <tr>\n",
       "      <th>...</th>\n",
       "      <td>...</td>\n",
       "      <td>...</td>\n",
       "      <td>...</td>\n",
       "      <td>...</td>\n",
       "      <td>...</td>\n",
       "      <td>...</td>\n",
       "      <td>...</td>\n",
       "      <td>...</td>\n",
       "      <td>...</td>\n",
       "      <td>...</td>\n",
       "      <td>...</td>\n",
       "      <td>...</td>\n",
       "    </tr>\n",
       "    <tr>\n",
       "      <th>886</th>\n",
       "      <td>887</td>\n",
       "      <td>0</td>\n",
       "      <td>2</td>\n",
       "      <td>Montvila, Rev. Juozas</td>\n",
       "      <td>male</td>\n",
       "      <td>27.0</td>\n",
       "      <td>0</td>\n",
       "      <td>0</td>\n",
       "      <td>211536</td>\n",
       "      <td>13.0000</td>\n",
       "      <td>NaN</td>\n",
       "      <td>S</td>\n",
       "    </tr>\n",
       "    <tr>\n",
       "      <th>887</th>\n",
       "      <td>888</td>\n",
       "      <td>1</td>\n",
       "      <td>1</td>\n",
       "      <td>Graham, Miss. Margaret Edith</td>\n",
       "      <td>female</td>\n",
       "      <td>19.0</td>\n",
       "      <td>0</td>\n",
       "      <td>0</td>\n",
       "      <td>112053</td>\n",
       "      <td>30.0000</td>\n",
       "      <td>B42</td>\n",
       "      <td>S</td>\n",
       "    </tr>\n",
       "    <tr>\n",
       "      <th>888</th>\n",
       "      <td>889</td>\n",
       "      <td>0</td>\n",
       "      <td>3</td>\n",
       "      <td>Johnston, Miss. Catherine Helen \"Carrie\"</td>\n",
       "      <td>female</td>\n",
       "      <td>NaN</td>\n",
       "      <td>1</td>\n",
       "      <td>2</td>\n",
       "      <td>W./C. 6607</td>\n",
       "      <td>23.4500</td>\n",
       "      <td>NaN</td>\n",
       "      <td>S</td>\n",
       "    </tr>\n",
       "    <tr>\n",
       "      <th>889</th>\n",
       "      <td>890</td>\n",
       "      <td>1</td>\n",
       "      <td>1</td>\n",
       "      <td>Behr, Mr. Karl Howell</td>\n",
       "      <td>male</td>\n",
       "      <td>26.0</td>\n",
       "      <td>0</td>\n",
       "      <td>0</td>\n",
       "      <td>111369</td>\n",
       "      <td>30.0000</td>\n",
       "      <td>C148</td>\n",
       "      <td>C</td>\n",
       "    </tr>\n",
       "    <tr>\n",
       "      <th>890</th>\n",
       "      <td>891</td>\n",
       "      <td>0</td>\n",
       "      <td>3</td>\n",
       "      <td>Dooley, Mr. Patrick</td>\n",
       "      <td>male</td>\n",
       "      <td>32.0</td>\n",
       "      <td>0</td>\n",
       "      <td>0</td>\n",
       "      <td>370376</td>\n",
       "      <td>7.7500</td>\n",
       "      <td>NaN</td>\n",
       "      <td>Q</td>\n",
       "    </tr>\n",
       "  </tbody>\n",
       "</table>\n",
       "<p>891 rows × 12 columns</p>\n",
       "</div>"
      ],
      "text/plain": [
       "     PassengerId  Survived  Pclass  \\\n",
       "0              1         0       3   \n",
       "1              2         1       1   \n",
       "2              3         1       3   \n",
       "3              4         1       1   \n",
       "4              5         0       3   \n",
       "..           ...       ...     ...   \n",
       "886          887         0       2   \n",
       "887          888         1       1   \n",
       "888          889         0       3   \n",
       "889          890         1       1   \n",
       "890          891         0       3   \n",
       "\n",
       "                                                  Name     Sex   Age  SibSp  \\\n",
       "0                              Braund, Mr. Owen Harris    male  22.0      1   \n",
       "1    Cumings, Mrs. John Bradley (Florence Briggs Th...  female  38.0      1   \n",
       "2                               Heikkinen, Miss. Laina  female  26.0      0   \n",
       "3         Futrelle, Mrs. Jacques Heath (Lily May Peel)  female  35.0      1   \n",
       "4                             Allen, Mr. William Henry    male  35.0      0   \n",
       "..                                                 ...     ...   ...    ...   \n",
       "886                              Montvila, Rev. Juozas    male  27.0      0   \n",
       "887                       Graham, Miss. Margaret Edith  female  19.0      0   \n",
       "888           Johnston, Miss. Catherine Helen \"Carrie\"  female   NaN      1   \n",
       "889                              Behr, Mr. Karl Howell    male  26.0      0   \n",
       "890                                Dooley, Mr. Patrick    male  32.0      0   \n",
       "\n",
       "     Parch            Ticket     Fare Cabin Embarked  \n",
       "0        0         A/5 21171   7.2500   NaN        S  \n",
       "1        0          PC 17599  71.2833   C85        C  \n",
       "2        0  STON/O2. 3101282   7.9250   NaN        S  \n",
       "3        0            113803  53.1000  C123        S  \n",
       "4        0            373450   8.0500   NaN        S  \n",
       "..     ...               ...      ...   ...      ...  \n",
       "886      0            211536  13.0000   NaN        S  \n",
       "887      0            112053  30.0000   B42        S  \n",
       "888      2        W./C. 6607  23.4500   NaN        S  \n",
       "889      0            111369  30.0000  C148        C  \n",
       "890      0            370376   7.7500   NaN        Q  \n",
       "\n",
       "[891 rows x 12 columns]"
      ]
     },
     "execution_count": 75,
     "metadata": {},
     "output_type": "execute_result"
    }
   ],
   "source": [
    "df"
   ]
  },
  {
   "cell_type": "code",
   "execution_count": 66,
   "metadata": {
    "colab": {
     "base_uri": "https://localhost:8080/",
     "height": 430
    },
    "executionInfo": {
     "elapsed": 8220,
     "status": "ok",
     "timestamp": 1729611935534,
     "user": {
      "displayName": "Breyner Posso Bautista",
      "userId": "13049344394225357947"
     },
     "user_tz": 300
    },
    "id": "1S6b0JAY5aTA",
    "outputId": "75788ab7-cabd-4b17-862b-768853f9d176"
   },
   "outputs": [
    {
     "data": {
      "image/png": "[encoded data removed]",
      "text/plain": [
       "<Figure size 640x480 with 1 Axes>"
      ]
     },
     "metadata": {},
     "output_type": "display_data"
    }
   ],
   "source": [
    "plt.bar(df['Name'],df['Pclass'])\n",
    "plt.show()"
   ]
  },
  {
   "cell_type": "code",
   "execution_count": 67,
   "metadata": {
    "colab": {
     "base_uri": "https://localhost:8080/",
     "height": 241
    },
    "executionInfo": {
     "elapsed": 179,
     "status": "ok",
     "timestamp": 1731428484448,
     "user": {
      "displayName": "Breyner Posso Bautista",
      "userId": "13049344394225357947"
     },
     "user_tz": 300
    },
    "id": "RUK87pcG54IL",
    "outputId": "65a0bd0c-6b57-4b8e-ff7c-047fc0b1984a"
   },
   "outputs": [
    {
     "data": {
      "text/plain": [
       "Survived  Sex   \n",
       "0         female    25.046875\n",
       "          male      31.618056\n",
       "1         female    28.847716\n",
       "          male      27.276022\n",
       "Name: Age, dtype: float64"
      ]
     },
     "execution_count": 67,
     "metadata": {},
     "output_type": "execute_result"
    }
   ],
   "source": [
    "Deporte = df.groupby(['Survived','Sex'])['Age'].mean()\n",
    "Deporte"
   ]
  },
  {
   "cell_type": "code",
   "execution_count": 68,
   "metadata": {
    "colab": {
     "base_uri": "https://localhost:8080/"
    },
    "executionInfo": {
     "elapsed": 160,
     "status": "ok",
     "timestamp": 1731428726687,
     "user": {
      "displayName": "Breyner Posso Bautista",
      "userId": "13049344394225357947"
     },
     "user_tz": 300
    },
    "id": "8NR9l44UMK83",
    "outputId": "e0c55042-57d2-4be9-abd9-59110bb73a70"
   },
   "outputs": [
    {
     "data": {
      "text/plain": [
       "(np.int64(0), 'female')"
      ]
     },
     "execution_count": 68,
     "metadata": {},
     "output_type": "execute_result"
    }
   ],
   "source": [
    "Deporte.index[0]"
   ]
  },
  {
   "cell_type": "code",
   "execution_count": 69,
   "metadata": {
    "colab": {
     "base_uri": "https://localhost:8080/"
    },
    "executionInfo": {
     "elapsed": 155,
     "status": "ok",
     "timestamp": 1731429059364,
     "user": {
      "displayName": "Breyner Posso Bautista",
      "userId": "13049344394225357947"
     },
     "user_tz": 300
    },
    "id": "l2Wmnr0hMp4w",
    "outputId": "573e528b-61c8-483a-ae52-51ee4d3015fb"
   },
   "outputs": [
    {
     "name": "stdout",
     "output_type": "stream",
     "text": [
      "0\n",
      "2\n"
     ]
    },
    {
     "data": {
      "text/plain": [
       "[np.float64(25.046875), np.float64(28.84771573604061)]"
      ]
     },
     "execution_count": 69,
     "metadata": {},
     "output_type": "execute_result"
    }
   ],
   "source": [
    "valores = []\n",
    "for i in range(len(Deporte)):\n",
    "    if Deporte.index[i][1] == 'female':\n",
    "        print(i)\n",
    "        valores.append(Deporte[Deporte.index[i]])\n",
    "valores"
   ]
  },
  {
   "cell_type": "code",
   "execution_count": 70,
   "metadata": {
    "colab": {
     "base_uri": "https://localhost:8080/"
    },
    "executionInfo": {
     "elapsed": 181,
     "status": "ok",
     "timestamp": 1731428755627,
     "user": {
      "displayName": "Breyner Posso Bautista",
      "userId": "13049344394225357947"
     },
     "user_tz": 300
    },
    "id": "fy3ibUy7MfGk",
    "outputId": "2dac2187-2bd7-46d7-bec2-5d6ab85fa82e"
   },
   "outputs": [
    {
     "data": {
      "text/plain": [
       "np.float64(25.046875)"
      ]
     },
     "execution_count": 70,
     "metadata": {},
     "output_type": "execute_result"
    }
   ],
   "source": [
    "Deporte[(0, 'female')]"
   ]
  },
  {
   "cell_type": "code",
   "execution_count": null,
   "metadata": {
    "colab": {
     "base_uri": "https://localhost:8080/",
     "height": 560
    },
    "executionInfo": {
     "elapsed": 208,
     "status": "error",
     "timestamp": 1731428652604,
     "user": {
      "displayName": "Breyner Posso Bautista",
      "userId": "13049344394225357947"
     },
     "user_tz": 300
    },
    "id": "13cLZob1LQml",
    "outputId": "c62c763a-edea-4452-fba1-47448965df7f"
   },
   "outputs": [],
   "source": [
    "# Vamos a tomar los valores del índice Sex = female\n",
    "\n",
    "a = Deporte[:,'Sex']\n",
    "a"
   ]
  }
 ],
 "metadata": {
  "colab": {
   "authorship_tag": "ABX9TyPdfaJhc+tJIoqGwlRL1aPw",
   "provenance": []
  },
  "kernelspec": {
   "display_name": "venv",
   "language": "python",
   "name": "python3"
  },
  "language_info": {
   "codemirror_mode": {
    "name": "ipython",
    "version": 3
   },
   "file_extension": ".py",
   "mimetype": "text/x-python",
   "name": "python",
   "nbconvert_exporter": "python",
   "pygments_lexer": "ipython3",
   "version": "3.12.4"
  }
 },
 "nbformat": 4,
 "nbformat_minor": 0
}
