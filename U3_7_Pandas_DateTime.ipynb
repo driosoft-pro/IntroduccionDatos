{
  "cells": [
    {
      "cell_type": "markdown",
      "id": "7bcf2dd9",
      "metadata": {
        "id": "7bcf2dd9"
      },
      "source": [
        "# **Pandas**\n",
        "\n",
        "## Datetime\n",
        "\n",
        "Pandas DateTime es un tipo de datos que proporciona la biblioteca Pandas para gestionar datos de fecha y hora de forma eficiente. Permite realizar varias operaciones con valores DateTime, como analizar cadenas para convertirlas en objetos DateTime, formatear objetos DateTime para convertirlos en cadenas y realizar operaciones aritméticas con datos DateTime."
      ]
    },
    {
      "cell_type": "markdown",
      "id": "166a763b",
      "metadata": {
        "id": "166a763b"
      },
      "source": [
        "## **0. Importar las librerías**"
      ]
    },
    {
      "cell_type": "code",
      "execution_count": null,
      "id": "479ff4d2",
      "metadata": {
        "id": "479ff4d2"
      },
      "outputs": [],
      "source": [
        "import pandas as pd\n",
        "import numpy as np\n",
        "import matplotlib.pyplot as plt\n",
        "import seaborn as sns\n",
        "import tabulate\n",
        "sns.set_theme(style=\"whitegrid\")\n",
        "pd.set_option('display.max_columns', None)\n",
        "pd.set_option('display.max_rows', None)"
      ]
    },
    {
      "cell_type": "markdown",
      "id": "efcbbc07",
      "metadata": {
        "id": "efcbbc07"
      },
      "source": [
        "## **1. Recolectar y Cargar un conjunto de datos tabulares.**\n",
        "\n",
        "+ Vamos a utilizar el conjunto de datos:\n",
        "\n",
        " Dummy_Sales_Data.csv\n"
      ]
    },
    {
      "cell_type": "markdown",
      "id": "0d5574ff",
      "metadata": {
        "id": "0d5574ff"
      },
      "source": [
        "### Acceso a archivos usando Google Colab"
      ]
    },
    {
      "cell_type": "code",
      "execution_count": null,
      "id": "8752a694",
      "metadata": {
        "id": "8752a694"
      },
      "outputs": [],
      "source": [
        "#Al ejecutar esta celda, Google Colab va a acceder a su Drive\n",
        "\n",
        "from google.colab import drive\n",
        "drive.mount('/gdrive')"
      ]
    },
    {
      "cell_type": "code",
      "execution_count": null,
      "id": "8078f17d",
      "metadata": {
        "id": "8078f17d"
      },
      "outputs": [],
      "source": [
        "# Vamos a leer el conjunto de datos en un dataframe de pandas.\n",
        "\n",
        "df = pd.read_csv('Dummy_Sales_Data.csv')\n"
      ]
    },
    {
      "cell_type": "markdown",
      "id": "9f51374d",
      "metadata": {
        "id": "9f51374d"
      },
      "source": [
        "## **2. Análisis Exploratorio de los Datos - Limpieza - Preparación**"
      ]
    },
    {
      "cell_type": "markdown",
      "id": "cd1e8e65",
      "metadata": {
        "id": "cd1e8e65"
      },
      "source": [
        "## **2.1 Conocimiento básico del Dataset**"
      ]
    },
    {
      "cell_type": "markdown",
      "id": "16b265e4",
      "metadata": {
        "id": "16b265e4"
      },
      "source": [
        "### a. Tamaño del dataset"
      ]
    },
    {
      "cell_type": "code",
      "execution_count": null,
      "id": "239fd1d8",
      "metadata": {
        "id": "239fd1d8"
      },
      "outputs": [],
      "source": [
        "# Usando el método shape se puede encontrar el tamaño del conjunto de datos\n",
        "df.shape"
      ]
    },
    {
      "cell_type": "code",
      "execution_count": null,
      "id": "6e2f5fc7",
      "metadata": {
        "id": "6e2f5fc7"
      },
      "outputs": [],
      "source": [
        "# ¿Cuál es el número de observaciones?\n",
        "# ¿Cuál es la cantidad de atributos?\n",
        "\n",
        "print('El número de observaciones es: ', df.shape[0])\n",
        "print('El número de atributos es: ', df.shape[1])"
      ]
    },
    {
      "cell_type": "markdown",
      "id": "b88d6756",
      "metadata": {
        "id": "b88d6756"
      },
      "source": [
        "### b. Vista preliminar"
      ]
    },
    {
      "cell_type": "code",
      "execution_count": null,
      "id": "a6d0a575",
      "metadata": {
        "id": "a6d0a575"
      },
      "outputs": [],
      "source": [
        "# Con el método head se pueden observar los primeros elementos del Dataframe\n",
        "\n",
        "df.head()"
      ]
    },
    {
      "cell_type": "code",
      "execution_count": null,
      "id": "8247ad48",
      "metadata": {
        "id": "8247ad48"
      },
      "outputs": [],
      "source": [
        "# Con el método tail se pueden observar los últimos elementos del Dataframe\n",
        "\n",
        "df.tail()"
      ]
    },
    {
      "cell_type": "markdown",
      "id": "0c0514ed",
      "metadata": {
        "id": "0c0514ed"
      },
      "source": [
        "### c. Columnas y tipos de datos"
      ]
    },
    {
      "cell_type": "code",
      "execution_count": null,
      "id": "5a466589",
      "metadata": {
        "id": "5a466589"
      },
      "outputs": [],
      "source": [
        "# El método info de un dataframe permite consultar información como el número de\n",
        "# registros (observaciones) y de columnas (atributos) con los tipos de datos correspondientes,\n",
        "# el número de registros presentes no nulos, y el tamaño que ocupa el dataframe en memoria\n",
        "\n",
        "df.info()"
      ]
    },
    {
      "cell_type": "code",
      "execution_count": null,
      "id": "sO7BmjFx0LJv",
      "metadata": {
        "id": "sO7BmjFx0LJv"
      },
      "outputs": [],
      "source": [
        "df.columns"
      ]
    },
    {
      "cell_type": "code",
      "execution_count": null,
      "id": "56924056",
      "metadata": {
        "id": "56924056"
      },
      "outputs": [],
      "source": [
        "# El método dtypes permite ver el tipo de dato de cada una de las columnas\n",
        "\n",
        "df.dtypes"
      ]
    },
    {
      "cell_type": "markdown",
      "id": "26efa5e6",
      "metadata": {
        "id": "26efa5e6"
      },
      "source": [
        "### d. Datos nulos"
      ]
    },
    {
      "cell_type": "code",
      "execution_count": null,
      "id": "f9524fb3",
      "metadata": {
        "id": "f9524fb3"
      },
      "outputs": [],
      "source": [
        "# Así se puede obsrvar la cantidad de valores nulos por columna.\n",
        "\n",
        "df.isna().sum()"
      ]
    },
    {
      "cell_type": "markdown",
      "id": "84b97d81",
      "metadata": {
        "id": "84b97d81"
      },
      "source": [
        "### e. Datos repetidos"
      ]
    },
    {
      "cell_type": "code",
      "execution_count": null,
      "id": "d9dc3c53",
      "metadata": {
        "id": "d9dc3c53"
      },
      "outputs": [],
      "source": [
        "# Así se puede obsrvar la cantidad de duplicados en todo el Dataframe.\n",
        "\n",
        "df.duplicated().sum()"
      ]
    },
    {
      "cell_type": "markdown",
      "id": "5ba831b0",
      "metadata": {
        "id": "5ba831b0"
      },
      "source": [
        "### **2.2 Análisis Univariado**\n",
        "\n",
        "Incluye:\n",
        "+ Medidas de tendencia central: media, mediana, moda.\n",
        "+ Medidas de dispersión: rango, varianza, valor máximo y mínimo, cuartiles (incluyendo rango intercuartil) y desviación estándar.\n",
        "+ Para variables numéricas discretas y categóricas: cantidad de valores únicos, valor con mayor frecuencia, etc.\n",
        "\n",
        "También se pueden se pueden usar gráficos como:\n",
        "+ Histogramas.\n",
        "+ Para variables numéricas discretas y categóricas: gráficos de barras, gráficos circulares."
      ]
    },
    {
      "cell_type": "markdown",
      "id": "dcdc4ca6",
      "metadata": {
        "id": "dcdc4ca6"
      },
      "source": [
        "### a. Estadísticas básicas"
      ]
    },
    {
      "cell_type": "markdown",
      "id": "46cb6b39",
      "metadata": {
        "id": "46cb6b39"
      },
      "source": [
        "### b. Histogramas\n",
        "\n",
        "Los histogramas pueden ser útiles para identificar visualmente la forma como se distribuyen los valores de un atributo."
      ]
    },
    {
      "cell_type": "code",
      "execution_count": null,
      "id": "ca636178",
      "metadata": {
        "id": "ca636178"
      },
      "outputs": [],
      "source": [
        "#Ahora generemos el histograma usando la librería seaborn.\n",
        "\n",
        "plt.figure(figsize=(6,6))\n",
        "atribute = 'Product_Category'\n",
        "num_bins = 30\n",
        "sns.histplot(data     = df,\n",
        "             x        =atribute,\n",
        "             bins     = num_bins,\n",
        "             color    = 'red',\n",
        "             fill     = True,\n",
        "             stat     = 'count')    #'count' muestra el número de observaciones.\n",
        "                                    #'frequency' muestra el número de observaciones dividida por el ancho del bin.\n",
        "                                    #'density' normaliza las cuentas tal que el área del histograma es 1.\n",
        "                                    #'probability' normaliza las cuentas tal que la suma de la altura de las barras es 1.\n",
        "\n",
        "plt.xlabel(atribute) #Texto en el eje x.\n",
        "plt.ylabel('Cuentas')              #Texto en el eje y.\n",
        "plt.title('Histograma')             #Título del gráfico.\n",
        "plt.show()"
      ]
    },
    {
      "cell_type": "code",
      "execution_count": null,
      "id": "9a535d30",
      "metadata": {
        "id": "9a535d30",
        "scrolled": false
      },
      "outputs": [],
      "source": [
        "# Ahora vamos a mostrar el histograma de todos los atributos\n",
        "\n",
        "num_bins = 30\n",
        "for column in df.columns:\n",
        "    if df[column].dtype != 'object':\n",
        "        plt.figure(figsize=(6,6))\n",
        "        sns.histplot(data     = df,\n",
        "             x        =column,\n",
        "             bins     = num_bins,\n",
        "             color    = 'red',\n",
        "             fill     = True,\n",
        "             stat     = 'count')    #'count' muestra el número de observaciones.\n",
        "                                    #'frequency' muestra el número de observaciones dividida por el ancho del bin.\n",
        "                                    #'density' normaliza las cuentas tal que el área del histograma es 1.\n",
        "                                    #'probability' normaliza las cuentas tal que la suma de la altura de las barras es 1.\n",
        "\n",
        "        plt.xlabel(column) #Texto en el eje x.\n",
        "        plt.ylabel('Cuentas')              #Texto en el eje y.\n",
        "        plt.title('Histograma')             #Título del gráfico."
      ]
    },
    {
      "cell_type": "markdown",
      "id": "8c4ba4cd",
      "metadata": {
        "id": "8c4ba4cd"
      },
      "source": [
        "### **2.3 Análisis Bivariado**\n",
        "\n",
        "Es una técnica estadística que se aplica a un par de variables (atributos o características) para determinar la relación\n",
        "empírica entre ellas."
      ]
    },
    {
      "cell_type": "markdown",
      "id": "b0a837c8",
      "metadata": {
        "id": "b0a837c8"
      },
      "source": [
        "### a. Gráfico de dispersión (scatter plot)"
      ]
    },
    {
      "cell_type": "code",
      "execution_count": null,
      "id": "e6c9de0f",
      "metadata": {
        "id": "e6c9de0f"
      },
      "outputs": [],
      "source": [
        "variable_x = 'Shipping_Address'\n",
        "variable_y = 'Shipping_Cost(USD)'\n",
        "\n",
        "x_values = df[variable_x]\n",
        "y_values = df[variable_y]\n",
        "\n",
        "sns.scatterplot(x=x_values, y=y_values)\n",
        "\n",
        "# Agregar etiquetas a los ejes\n",
        "plt.xlabel(variable_x)\n",
        "plt.ylabel(variable_y)\n",
        "\n",
        "# Agregar un título al gráfico\n",
        "plt.title('Gráfico de ' + variable_x + ' vs ' + variable_y)\n",
        "\n",
        "# Mostrar el gráfico\n",
        "plt.grid(True)\n",
        "plt.show()"
      ]
    },
    {
      "cell_type": "markdown",
      "id": "c8909cb2",
      "metadata": {
        "id": "c8909cb2"
      },
      "source": [
        "### b. Matriz de correlación"
      ]
    },
    {
      "cell_type": "code",
      "execution_count": null,
      "id": "6cba1b97",
      "metadata": {
        "id": "6cba1b97",
        "scrolled": true
      },
      "outputs": [],
      "source": [
        "df_numerico = df.select_dtypes(include='number')\n",
        "plt.figure(figsize=(8, 8))\n",
        "ax = sns.heatmap(df_numerico.corr(),annot=True,cmap='RdYlGn',fmt='0.4f')"
      ]
    },
    {
      "cell_type": "markdown",
      "id": "34a00da5",
      "metadata": {
        "id": "34a00da5"
      },
      "source": [
        "# **Limpieza**"
      ]
    },
    {
      "cell_type": "code",
      "execution_count": null,
      "id": "3bd38b2b",
      "metadata": {},
      "outputs": [],
      "source": [
        "df_clean = df.copy()"
      ]
    },
    {
      "cell_type": "markdown",
      "id": "d3ede53d",
      "metadata": {
        "id": "d3ede53d"
      },
      "source": [
        "## **2.4 Detección de problemas con el conjunto de datos: valores faltantes, valores erróneos, etc.**"
      ]
    },
    {
      "cell_type": "markdown",
      "id": "5gSrqd5FQCUh",
      "metadata": {
        "id": "5gSrqd5FQCUh"
      },
      "source": [
        "## **2.5 Detección de valores atípicos (Outliers)**\n"
      ]
    },
    {
      "cell_type": "code",
      "execution_count": null,
      "id": "a0307054",
      "metadata": {
        "id": "a0307054"
      },
      "outputs": [],
      "source": [
        "\n",
        "def outliers(dx, atributo):\n",
        "    ax = sns.boxplot(x=dx[atributo])\n",
        "    plt.show()\n",
        "\n",
        "    arr1 = dx[atributo].values\n",
        "\n",
        "    # Encontrar el 1st quartil\n",
        "    q1 = np.quantile(arr1, 0.25)\n",
        "\n",
        "    # Encontrar el 3rd quartil\n",
        "    q3 = np.quantile(arr1, 0.75)\n",
        "\n",
        "    # Encontrar el 2nd quartil\n",
        "    med = np.median(arr1)\n",
        "\n",
        "    # Encontrar el rango inter quartil (iqr)\n",
        "    iqr = q3-q1\n",
        "\n",
        "    # Encontrar los bigotes superior e inferior\n",
        "    upper_bound = q3+(1.5*iqr)\n",
        "    lower_bound = q1-(1.5*iqr)\n",
        "\n",
        "    outliers_l = arr1[(arr1 <= lower_bound)]\n",
        "    outliers_u = arr1[(arr1 >= upper_bound)]\n",
        "    print('The following are the lower outliers in {} : {}'.format(atributo,outliers_l))\n",
        "    print('The following are the upper outliers in {} : {}'.format(atributo,outliers_u))\n",
        "\n",
        "    return outliers_l, outliers_u"
      ]
    },
    {
      "cell_type": "code",
      "execution_count": null,
      "id": "ccc0de6b",
      "metadata": {
        "collapsed": true,
        "id": "ccc0de6b",
        "scrolled": false
      },
      "outputs": [],
      "source": [
        "for column in df_clean.columns:\n",
        "    if ((df_clean[column].dtype != 'object') & (df_clean[column].dtype != 'datetime64[ns]')):\n",
        "        outliers(df_clean, column)"
      ]
    },
    {
      "cell_type": "markdown",
      "id": "0abbfd55",
      "metadata": {
        "id": "0abbfd55"
      },
      "source": [
        "## **2.6 Solución a los problemas encontrados**"
      ]
    },
    {
      "cell_type": "markdown",
      "id": "wGq1dLVVAclO",
      "metadata": {
        "id": "wGq1dLVVAclO"
      },
      "source": [
        "### 1. Cambiar tipos de datos y nombres de columnas (de ser necesario)"
      ]
    },
    {
      "cell_type": "code",
      "execution_count": null,
      "id": "d9068556",
      "metadata": {},
      "outputs": [],
      "source": [
        "df_clean.info()"
      ]
    },
    {
      "cell_type": "code",
      "execution_count": null,
      "id": "dd074c29",
      "metadata": {},
      "outputs": [],
      "source": [
        "df_clean['Fecha'] = pd.to_datetime(df_clean['OrderDate'])"
      ]
    },
    {
      "cell_type": "code",
      "execution_count": null,
      "id": "83e882bd",
      "metadata": {},
      "outputs": [],
      "source": [
        "df_clean.info()"
      ]
    },
    {
      "cell_type": "markdown",
      "id": "kpuDIb0uAijt",
      "metadata": {
        "id": "kpuDIb0uAijt"
      },
      "source": [
        "### 2. Ordenar las filas por Fecha"
      ]
    },
    {
      "cell_type": "code",
      "execution_count": null,
      "id": "z6SFJBky_8N_",
      "metadata": {
        "id": "z6SFJBky_8N_"
      },
      "outputs": [],
      "source": [
        "df_clean.sort_values(by=['Fecha'], inplace=True)\n",
        "\n",
        "df_clean.head(10)"
      ]
    },
    {
      "cell_type": "code",
      "execution_count": null,
      "id": "dRpPTQS-Fe89",
      "metadata": {
        "id": "dRpPTQS-Fe89"
      },
      "outputs": [],
      "source": [
        "## Vamos a pasar la columna fecha_hora a la primera posición del DataFrame\n",
        "\n",
        "df_clean.insert(0, 'Fecha', df_clean.pop('Fecha'))\n",
        "\n",
        "df_clean.info()"
      ]
    },
    {
      "cell_type": "code",
      "execution_count": null,
      "id": "SQ3Yy1YsFtUN",
      "metadata": {
        "id": "SQ3Yy1YsFtUN"
      },
      "outputs": [],
      "source": [
        "df_clean.head(10)"
      ]
    },
    {
      "cell_type": "code",
      "execution_count": null,
      "id": "t3UK3juv6QFM",
      "metadata": {
        "id": "t3UK3juv6QFM"
      },
      "outputs": [],
      "source": [
        "df_clean['Fecha'].values[0]"
      ]
    },
    {
      "cell_type": "code",
      "execution_count": null,
      "id": "ApI_kVxy6V-y",
      "metadata": {
        "id": "ApI_kVxy6V-y"
      },
      "outputs": [],
      "source": [
        "df_clean['Fecha'][0].year"
      ]
    },
    {
      "cell_type": "markdown",
      "id": "wcPvEmaJGiRq",
      "metadata": {
        "id": "wcPvEmaJGiRq"
      },
      "source": [
        "## Análisis de Comportamiento Temporal"
      ]
    },
    {
      "cell_type": "code",
      "execution_count": null,
      "id": "NYGwrLAl6ceI",
      "metadata": {
        "id": "NYGwrLAl6ceI"
      },
      "outputs": [],
      "source": [
        "## Filtrado por fechas\n",
        "\n",
        "# Definir el rango de fechas\n",
        "fecha_inicio = '2021-07-03'\n",
        "fecha_fin = '2021-08-03'\n",
        "\n",
        "# Convertir las fechas de inicio y fin a formato datetime\n",
        "fecha_inicio = pd.to_datetime(fecha_inicio)\n",
        "fecha_fin = pd.to_datetime(fecha_fin)\n",
        "\n",
        "# Filtrar el DataFrame por el rango de fechas\n",
        "filtro = (df_clean['Fecha'] >= fecha_inicio) & (df_clean['Fecha'] <= fecha_fin)\n",
        "\n",
        "df_filtrado = df_clean[filtro]\n",
        "\n",
        "# Mostrar el DataFrame filtrado\n",
        "df_filtrado.reset_index(drop=True, inplace=True)\n",
        "df_filtrado.head(10)"
      ]
    },
    {
      "cell_type": "code",
      "execution_count": null,
      "id": "932578de",
      "metadata": {},
      "outputs": [],
      "source": [
        "df_clean ['Costo_Total(USD)']= df_clean['UnitPrice(USD)'] * df_clean['Quantity']"
      ]
    },
    {
      "cell_type": "code",
      "execution_count": null,
      "id": "bb79ba30",
      "metadata": {},
      "outputs": [],
      "source": [
        "## Vamos a determinar cuál mes del DataFrame tiene la mayor temperatura\n",
        "\n",
        "resultado = df_clean.groupby(df_clean['Fecha'])['Costo_Total(USD)'].sum()\n",
        "\n",
        "resultado"
      ]
    },
    {
      "cell_type": "code",
      "execution_count": null,
      "id": "05621172",
      "metadata": {},
      "outputs": [],
      "source": [
        "resultado.index.values"
      ]
    },
    {
      "cell_type": "code",
      "execution_count": null,
      "id": "f740728f",
      "metadata": {},
      "outputs": [],
      "source": [
        "variable_x = 'Fecha'\n",
        "variable_y = 'Total_Cost(USD)'\n",
        "\n",
        "x_values = resultado.index.values\n",
        "y_values = resultado.values\n",
        "\n",
        "plt.plot(x_values, y_values)\n",
        "\n",
        "# Agregar etiquetas a los ejes\n",
        "plt.xlabel(variable_x)\n",
        "plt.ylabel(variable_y)\n",
        "\n",
        "# Agregar un título al gráfico\n",
        "plt.title('Gráfico de ' + variable_x + ' vs ' + variable_y)\n",
        "\n",
        "# Mostrar el gráfico\n",
        "plt.grid(True)\n",
        "plt.show()"
      ]
    },
    {
      "cell_type": "code",
      "execution_count": null,
      "id": "eZFwqsmSLKov",
      "metadata": {
        "id": "eZFwqsmSLKov"
      },
      "outputs": [],
      "source": [
        "## Vamos a determinar cuál mes del DataFrame tiene la mayor temperatura\n",
        "\n",
        "resultado = df_clean.groupby(df_clean['Fecha'].dt.month)['Costo_Total(USD)'].sum()\n",
        "\n",
        "resultado"
      ]
    },
    {
      "cell_type": "code",
      "execution_count": null,
      "id": "f52e4bbf",
      "metadata": {},
      "outputs": [],
      "source": []
    }
  ],
  "metadata": {
    "colab": {
      "provenance": []
    },
    "kernelspec": {
      "display_name": "prog",
      "language": "python",
      "name": "python3"
    },
    "language_info": {
      "codemirror_mode": {
        "name": "ipython",
        "version": 3
      },
      "file_extension": ".py",
      "mimetype": "text/x-python",
      "name": "python",
      "nbconvert_exporter": "python",
      "pygments_lexer": "ipython3",
      "version": "3.12.1"
    }
  },
  "nbformat": 4,
  "nbformat_minor": 5
}
