{
  "cells": [
    {
      "cell_type": "markdown",
      "id": "8be4de8c",
      "metadata": {
        "id": "8be4de8c"
      },
      "source": [
        "# **NumPy (Numerical Python)**"
      ]
    },
    {
      "cell_type": "markdown",
      "id": "d70f89d4",
      "metadata": {
        "id": "d70f89d4"
      },
      "source": [
        "## 1. Introducción\n",
        "\n",
        "¿Qué es Numpy y por qué es importante para el análisis de datos?\n",
        "\n",
        "+ NumPy (Numerical Python) es una biblioteca de Python diseñada para trabajar con arreglos multidimensionales (arrays) de manera eficiente.\n",
        "+ Es la base para muchas otras bibliotecas científicas como pandas, SciPy y scikit-learn.\n",
        "\n",
        "Ventajas:\n",
        "\n",
        "    + Sintaxis concisa y poderosa para operaciones con arrays.\n",
        "    + Operaciones rápidas y optimizadas (usa código compilado en C) más eficientes que las operaciones con listas de Python.\n",
        "    + Soporte para operaciones matemáticas, de algebra lineal, estadísticas, generación de números aleatorios y muchas más.\n",
        "    + Manipulación sencilla de grandes volúmenes de datos.\n",
        "    + Menor consumo de memoria.\n",
        "\n",
        "Conceptos Clave:\n",
        "\n",
        "    + ndarray: Estructura de datos principal (homogénea, multidimensional).\n",
        "    + homogénea: Los arreglos numpy sólo puede almacenar datos del mismo tipo.\n",
        "    + Vectorización: Operaciones aplicadas a todo el arreglo sin bucles.\n",
        "    + Broadcasting: Reglas para operar arreglos de diferentes tamaños.\n",
        "\n",
        "El sitio web de NumPy es https://numpy.org/"
      ]
    },
    {
      "cell_type": "markdown",
      "id": "e082ce46",
      "metadata": {},
      "source": [
        "## 2. Configuración Inicial\n",
        "\n",
        "Para empezar a utilizar Numpy primero se debe instalar. Para esto en VSCode abra un cmd y digite:\n",
        "~~~\n",
        "pip install numpy\n",
        "~~~\n",
        "\n",
        "Luego, ejecute la siguiente celda:"
      ]
    },
    {
      "cell_type": "code",
      "execution_count": 1,
      "id": "a1e91d10",
      "metadata": {},
      "outputs": [
        {
          "ename": "ModuleNotFoundError",
          "evalue": "No module named 'numpy'",
          "output_type": "error",
          "traceback": [
            "\u001b[31m---------------------------------------------------------------------------\u001b[39m",
            "\u001b[31mModuleNotFoundError\u001b[39m                       Traceback (most recent call last)",
            "\u001b[36mCell\u001b[39m\u001b[36m \u001b[39m\u001b[32mIn[1]\u001b[39m\u001b[32m, line 2\u001b[39m\n\u001b[32m      1\u001b[39m \u001b[38;5;66;03m# Importar la librería\u001b[39;00m\n\u001b[32m----> \u001b[39m\u001b[32m2\u001b[39m \u001b[38;5;28;01mimport\u001b[39;00m\u001b[38;5;250m \u001b[39m\u001b[34;01mnumpy\u001b[39;00m\u001b[38;5;250m \u001b[39m\u001b[38;5;28;01mas\u001b[39;00m\u001b[38;5;250m \u001b[39m\u001b[34;01mnp\u001b[39;00m\n\u001b[32m      4\u001b[39m np.__version__\n",
            "\u001b[31mModuleNotFoundError\u001b[39m: No module named 'numpy'"
          ]
        }
      ],
      "source": [
        "# Importar la librería\n",
        "import numpy as np\n",
        "\n",
        "np.__version__"
      ]
    },
    {
      "cell_type": "markdown",
      "id": "21fb6eaa",
      "metadata": {},
      "source": [
        "## 3. Creando Arrays de Numpy\n",
        "\n",
        "Hay diferentes formas de crear arrays:\n",
        "\n",
        "    A partir de listas o tuplas (np.array()).\n",
        "    Arrays de ceros (np.zeros()).\n",
        "    Arrays de unos (np.ones()).\n",
        "    Arrays con valores secuenciales (np.arange(), np.linspace()).\n",
        "    Arrays con valores aleatorios (np.random.rand(), np.random.randint(), np.random.randn()).\n",
        "\n",
        "Algunos de los atributos importantes de los arrays son:\n",
        "\n",
        "    .ndim: número de dimensiones.\n",
        "    .shape: forma del array (tupla con el tamaño de cada dimensión).\n",
        "    .size: número total de elementos.\n",
        "    .dtype: tipo de datos de los elementos."
      ]
    },
    {
      "cell_type": "code",
      "execution_count": 2,
      "id": "1a73667c",
      "metadata": {},
      "outputs": [
        {
          "name": "stdout",
          "output_type": "stream",
          "text": [
            "Lista de Python: [1, 2, 3, 4, 5], tipo: <class 'list'>\n",
            "Array de NumPy: [1 2 3 4 5], tipo: <class 'numpy.ndarray'>\n"
          ]
        }
      ],
      "source": [
        "import numpy as np\n",
        "\n",
        "# Ejemplo de lista de Python\n",
        "lista_python = [1, 2, 3, 4, 5]\n",
        "print(f\"Lista de Python: {lista_python}, tipo: {type(lista_python)}\")\n",
        "\n",
        "# Creación de un array de NumPy a partir de una lista\n",
        "array_numpy = np.array(lista_python)\n",
        "print(f\"Array de NumPy: {array_numpy}, tipo: {type(array_numpy)}\")"
      ]
    },
    {
      "cell_type": "code",
      "execution_count": 14,
      "id": "c6c3f237",
      "metadata": {},
      "outputs": [
        {
          "name": "stdout",
          "output_type": "stream",
          "text": [
            "[1 4 5 6]\n",
            "<class 'numpy.ndarray'>\n",
            "(4,)\n"
          ]
        }
      ],
      "source": [
        "array_2 = np.array([1,4,5,6])\n",
        "print(array_2)\n",
        "print(type(array_2))\n",
        "print(array_2.shape)"
      ]
    },
    {
      "cell_type": "code",
      "execution_count": 5,
      "id": "de42c14b",
      "metadata": {},
      "outputs": [
        {
          "name": "stdout",
          "output_type": "stream",
          "text": [
            "Array de ceros:\n",
            "[[0. 0. 0.]\n",
            " [0. 0. 0.]], \n",
            "dimensiones: 2, forma: (2, 3), tipo de datos: float64\n"
          ]
        }
      ],
      "source": [
        "# Creación de diferentes tipos de arrays\n",
        "zeros_array = np.zeros((2, 3))\n",
        "print(f\"Array de ceros:\\n{zeros_array}, \\ndimensiones: {zeros_array.ndim}, forma: {zeros_array.shape}, tipo de datos: {zeros_array.dtype}\")\n"
      ]
    },
    {
      "cell_type": "code",
      "execution_count": 7,
      "id": "d0131b22",
      "metadata": {},
      "outputs": [
        {
          "name": "stdout",
          "output_type": "stream",
          "text": [
            "Array de unos:\n",
            "[1 1 1 1 1], \n",
            "tipo de datos: int64\n"
          ]
        }
      ],
      "source": [
        "ones_array = np.ones(5, dtype=int)\n",
        "print(f\"Array de unos:\\n{ones_array}, \\ntipo de datos: {ones_array.dtype}\")"
      ]
    },
    {
      "cell_type": "code",
      "execution_count": 8,
      "id": "90da4996",
      "metadata": {},
      "outputs": [
        {
          "name": "stdout",
          "output_type": "stream",
          "text": [
            "Array con arange: [0 2 4 6 8]\n"
          ]
        }
      ],
      "source": [
        "arange_array = np.arange(0, 10, 2)\n",
        "print(f\"Array con arange: {arange_array}\")"
      ]
    },
    {
      "cell_type": "code",
      "execution_count": 9,
      "id": "6bee0fdf",
      "metadata": {},
      "outputs": [
        {
          "name": "stdout",
          "output_type": "stream",
          "text": [
            "Array con linspace: [0.   0.25 0.5  0.75 1.  ]\n"
          ]
        }
      ],
      "source": [
        "linspace_array = np.linspace(0, 1, 5)\n",
        "print(f\"Array con linspace: {linspace_array}\")"
      ]
    },
    {
      "cell_type": "code",
      "execution_count": 17,
      "id": "ffd3d0c7",
      "metadata": {},
      "outputs": [
        {
          "name": "stdout",
          "output_type": "stream",
          "text": [
            "Array aleatorio:\n",
            "[[0.95616296 0.66881503]\n",
            " [0.1640473  0.2165277 ]]\n"
          ]
        }
      ],
      "source": [
        "random_array = np.random.rand(2,2)\n",
        "print(f\"Array aleatorio:\\n{random_array}\")"
      ]
    },
    {
      "cell_type": "code",
      "execution_count": 12,
      "id": "312f4fa2",
      "metadata": {},
      "outputs": [
        {
          "name": "stdout",
          "output_type": "stream",
          "text": [
            "Array aleatorio:\n",
            "[[7 9]\n",
            " [5 3]]\n"
          ]
        }
      ],
      "source": [
        "random_array = np.random.randint(1, 10,(2,2))\n",
        "print(f\"Array aleatorio:\\n{random_array}\")"
      ]
    },
    {
      "cell_type": "markdown",
      "id": "e0088060",
      "metadata": {},
      "source": [
        "### Indexado y Slicing"
      ]
    },
    {
      "cell_type": "code",
      "execution_count": 71,
      "id": "226f124c",
      "metadata": {},
      "outputs": [],
      "source": [
        "a = np.array([1, 2, 3])\n",
        "b = np.array([[1, 2], [3, 4]])"
      ]
    },
    {
      "cell_type": "code",
      "execution_count": 72,
      "id": "273d20cb",
      "metadata": {},
      "outputs": [
        {
          "name": "stdout",
          "output_type": "stream",
          "text": [
            "(3,)\n"
          ]
        }
      ],
      "source": [
        "print(a.shape)"
      ]
    },
    {
      "cell_type": "code",
      "execution_count": 73,
      "id": "d538d892",
      "metadata": {},
      "outputs": [
        {
          "name": "stdout",
          "output_type": "stream",
          "text": [
            "2\n"
          ]
        }
      ],
      "source": [
        "print(a[1])"
      ]
    },
    {
      "cell_type": "code",
      "execution_count": 74,
      "id": "9cbd8a76",
      "metadata": {},
      "outputs": [
        {
          "name": "stdout",
          "output_type": "stream",
          "text": [
            "[1 2]\n"
          ]
        }
      ],
      "source": [
        "print(a[0:2])"
      ]
    },
    {
      "cell_type": "code",
      "execution_count": 75,
      "id": "f3ded386",
      "metadata": {},
      "outputs": [
        {
          "name": "stdout",
          "output_type": "stream",
          "text": [
            "(2, 2)\n"
          ]
        }
      ],
      "source": [
        "print(b.shape)"
      ]
    },
    {
      "cell_type": "code",
      "execution_count": 76,
      "id": "08ff3e8e",
      "metadata": {},
      "outputs": [
        {
          "name": "stdout",
          "output_type": "stream",
          "text": [
            "2\n"
          ]
        }
      ],
      "source": [
        "print(b[0, 1])     # 2"
      ]
    },
    {
      "cell_type": "code",
      "execution_count": 77,
      "id": "160f1b53",
      "metadata": {},
      "outputs": [
        {
          "name": "stdout",
          "output_type": "stream",
          "text": [
            "[2 4]\n"
          ]
        }
      ],
      "source": [
        "print(b[:, 1])"
      ]
    },
    {
      "cell_type": "markdown",
      "id": "19d1551f",
      "metadata": {
        "id": "19d1551f"
      },
      "source": [
        "## Ventajas con respecto a las istas de Python"
      ]
    },
    {
      "cell_type": "code",
      "execution_count": 18,
      "id": "6ffba9b9",
      "metadata": {
        "id": "6ffba9b9"
      },
      "outputs": [],
      "source": [
        "# Tenemos la siguientes listas de Python:\n",
        "a = [1, 2, 3, 4]\n",
        "b = [5, 6, 7, 8]"
      ]
    },
    {
      "cell_type": "markdown",
      "id": "c6435be6",
      "metadata": {
        "id": "c6435be6"
      },
      "source": [
        "PREGUNTA:\n",
        "¿Cuál será el resultado de a + b?"
      ]
    },
    {
      "cell_type": "code",
      "execution_count": 19,
      "id": "65ade167",
      "metadata": {
        "id": "65ade167"
      },
      "outputs": [
        {
          "data": {
            "text/plain": [
              "[1, 2, 3, 4, 5, 6, 7, 8]"
            ]
          },
          "execution_count": 19,
          "metadata": {},
          "output_type": "execute_result"
        }
      ],
      "source": [
        "a + b"
      ]
    },
    {
      "cell_type": "markdown",
      "id": "928710eb",
      "metadata": {
        "id": "928710eb"
      },
      "source": [
        "PREGUNTA: ¿Cuál será el resultado de a * 3?"
      ]
    },
    {
      "cell_type": "code",
      "execution_count": 20,
      "id": "f0bcf69c",
      "metadata": {
        "id": "f0bcf69c"
      },
      "outputs": [
        {
          "data": {
            "text/plain": [
              "[1, 2, 3, 4, 1, 2, 3, 4, 1, 2, 3, 4]"
            ]
          },
          "execution_count": 20,
          "metadata": {},
          "output_type": "execute_result"
        }
      ],
      "source": [
        "a * 3"
      ]
    },
    {
      "cell_type": "markdown",
      "id": "feef38e0",
      "metadata": {
        "id": "feef38e0"
      },
      "source": [
        "#### Una solución es implementar las operaciones usando bucles. Se pueden usar los comandos While o For. También se puede hacer uso de List Comprehension (https://realpython.com/list-comprehension-python/)"
      ]
    },
    {
      "cell_type": "code",
      "execution_count": null,
      "id": "0109d971",
      "metadata": {
        "id": "0109d971"
      },
      "outputs": [],
      "source": [
        "# Bucle for accediendo a los elementos usando índices\n",
        "c = []\n",
        "for i in range(len(a)):\n",
        "    c.append(a[i]*3)\n",
        "\n",
        "print(c)"
      ]
    },
    {
      "cell_type": "code",
      "execution_count": null,
      "id": "dd632fce",
      "metadata": {
        "id": "dd632fce"
      },
      "outputs": [],
      "source": [
        "# Bucle for accediendo a los elementos directamente\n",
        "c = []\n",
        "for i in a:\n",
        "    c.append(i*3)\n",
        "\n",
        "print(c)"
      ]
    },
    {
      "cell_type": "code",
      "execution_count": null,
      "id": "11983bfa",
      "metadata": {
        "id": "11983bfa"
      },
      "outputs": [],
      "source": [
        "# List Comprehension\n",
        "c = [x*3 for x in a ]\n",
        "\n",
        "print(c)"
      ]
    },
    {
      "cell_type": "markdown",
      "id": "8eJGxguhKK_3",
      "metadata": {
        "id": "8eJGxguhKK_3"
      },
      "source": [
        "### Ejercicio\n",
        "Implemente un programa que sume dos arreglos elemento a elemento."
      ]
    },
    {
      "cell_type": "code",
      "execution_count": 21,
      "id": "nS1A5y5eJ3DW",
      "metadata": {
        "id": "nS1A5y5eJ3DW"
      },
      "outputs": [],
      "source": [
        "a = [1, 2, 3, 4, 16, 17]\n",
        "b = [5, 6, 7, 8, 9, 10]\n",
        "c = []"
      ]
    },
    {
      "cell_type": "code",
      "execution_count": 22,
      "id": "AhHDIdqhN_G1",
      "metadata": {
        "id": "AhHDIdqhN_G1"
      },
      "outputs": [
        {
          "name": "stdout",
          "output_type": "stream",
          "text": [
            "[6, 8, 10, 12, 25, 27]\n"
          ]
        }
      ],
      "source": [
        "for i in range(len(a)):\n",
        "    c.append(a[i]+b[i])\n",
        "\n",
        "print(c)"
      ]
    },
    {
      "cell_type": "code",
      "execution_count": 24,
      "id": "9RAmktxA7R8Z",
      "metadata": {
        "id": "9RAmktxA7R8Z"
      },
      "outputs": [
        {
          "name": "stdout",
          "output_type": "stream",
          "text": [
            "[6, 8, 10, 12, 25, 27]\n"
          ]
        }
      ],
      "source": [
        "d = [a[i] + b [i] for i in range(len(a))]\n",
        "print(d)"
      ]
    },
    {
      "cell_type": "markdown",
      "id": "2e81cc0a",
      "metadata": {
        "id": "2e81cc0a"
      },
      "source": [
        "### Creamos un numpy array"
      ]
    },
    {
      "cell_type": "code",
      "execution_count": 25,
      "id": "7c1c81e9",
      "metadata": {},
      "outputs": [],
      "source": [
        "a = [1, 2, 3, 4]\n",
        "b = [5, 6, 7, 8]\n",
        "array_a = np.array(a)\n",
        "array_b = np.array(b)"
      ]
    },
    {
      "cell_type": "markdown",
      "id": "f4a56e4b",
      "metadata": {},
      "source": [
        "PREGUNTA:\n",
        "¿Cuál será el resultado de array_a + array_b?"
      ]
    },
    {
      "cell_type": "code",
      "execution_count": 27,
      "id": "eb44ad4e",
      "metadata": {
        "id": "eb44ad4e"
      },
      "outputs": [
        {
          "name": "stdout",
          "output_type": "stream",
          "text": [
            "[ 6  8 10 12]\n",
            "<class 'numpy.ndarray'>\n"
          ]
        }
      ],
      "source": [
        "c = array_a + array_b\n",
        "print(c)\n",
        "print(type(c))"
      ]
    },
    {
      "cell_type": "markdown",
      "id": "f69eafd0",
      "metadata": {},
      "source": [
        "PREGUNTA:\n",
        "¿Cuál será el resultado de array_a * 3?"
      ]
    },
    {
      "cell_type": "code",
      "execution_count": 28,
      "id": "cc96b9e9",
      "metadata": {
        "id": "cc96b9e9"
      },
      "outputs": [
        {
          "name": "stdout",
          "output_type": "stream",
          "text": [
            "[ 3  6  9 12]\n",
            "<class 'numpy.ndarray'>\n"
          ]
        }
      ],
      "source": [
        "d = array_a * 3\n",
        "print(d)\n",
        "print(type(d))"
      ]
    },
    {
      "cell_type": "markdown",
      "id": "f32b0263",
      "metadata": {},
      "source": [
        "## Copias superficial y copia profunda"
      ]
    },
    {
      "cell_type": "code",
      "execution_count": 29,
      "id": "5265aa36",
      "metadata": {
        "id": "5265aa36",
        "scrolled": true
      },
      "outputs": [
        {
          "name": "stdout",
          "output_type": "stream",
          "text": [
            "<class 'numpy.ndarray'>\n",
            "[10  2  3  4]\n",
            "<class 'numpy.ndarray'>\n",
            "[10  2  3  4]\n"
          ]
        }
      ],
      "source": [
        "a = np.array([1,2,3,4])\n",
        "b = a\n",
        "a[0] = 10\n",
        "print(type(a))\n",
        "print(a)\n",
        "print(type(b))\n",
        "print(b)"
      ]
    },
    {
      "cell_type": "code",
      "execution_count": 30,
      "id": "6c70eca1",
      "metadata": {
        "id": "6c70eca1"
      },
      "outputs": [
        {
          "name": "stdout",
          "output_type": "stream",
          "text": [
            "<class 'numpy.ndarray'>\n",
            "[10  2  3  4]\n",
            "<class 'numpy.ndarray'>\n",
            "[1 2 3 4]\n"
          ]
        }
      ],
      "source": [
        "a = np.array([1,2,3,4])\n",
        "b = a.copy()\n",
        "a[0] = 10\n",
        "print(type(a))\n",
        "print(a)\n",
        "print(type(b))\n",
        "print(b)"
      ]
    },
    {
      "cell_type": "markdown",
      "id": "ae6dd6a7",
      "metadata": {
        "id": "ae6dd6a7"
      },
      "source": [
        "## Poder Computacional"
      ]
    },
    {
      "cell_type": "code",
      "execution_count": 31,
      "id": "8ec0f3ae",
      "metadata": {
        "id": "8ec0f3ae"
      },
      "outputs": [
        {
          "name": "stdout",
          "output_type": "stream",
          "text": [
            "<class 'numpy.ndarray'>\n",
            "<class 'list'>\n"
          ]
        }
      ],
      "source": [
        "my_arr = np.arange(1000000)\n",
        "my_list = list(range(1000000))\n",
        "print(type(my_arr))\n",
        "print(type(my_list))"
      ]
    },
    {
      "cell_type": "code",
      "execution_count": 32,
      "id": "12099655",
      "metadata": {},
      "outputs": [
        {
          "name": "stdout",
          "output_type": "stream",
          "text": [
            "1000000\n",
            "(1000000,)\n"
          ]
        }
      ],
      "source": [
        "print(len(my_list))\n",
        "print(my_arr.shape)"
      ]
    },
    {
      "cell_type": "markdown",
      "id": "0b41be20",
      "metadata": {
        "id": "0b41be20"
      },
      "source": [
        "#### Ejercicio\n",
        "+ Ejecute el siguiente código.\n",
        "+ ¿Qué hace?\n",
        "+ ¿Qué puede concluir?"
      ]
    },
    {
      "cell_type": "code",
      "execution_count": 50,
      "id": "193801b0",
      "metadata": {},
      "outputs": [
        {
          "name": "stdout",
          "output_type": "stream",
          "text": [
            "Tiempo de ejecución: 0.0570 segundos\n"
          ]
        }
      ],
      "source": [
        "import time\n",
        "\n",
        "# Registrar el tiempo inicial\n",
        "inicio = time.time()\n",
        "\n",
        "# Bloque de código a medir\n",
        "a = [x * 2 for x in my_list]\n",
        "\n",
        "# Registrar el tiempo final\n",
        "fin = time.time()\n",
        "\n",
        "# Calcular el tiempo de ejecución\n",
        "tiempo_ejecucion = fin - inicio\n",
        "print(f\"Tiempo de ejecución: {tiempo_ejecucion:.4f} segundos\")"
      ]
    },
    {
      "cell_type": "code",
      "execution_count": 54,
      "id": "8f9a62ed",
      "metadata": {},
      "outputs": [
        {
          "name": "stdout",
          "output_type": "stream",
          "text": [
            "Tiempo de ejecución: 0.0030 segundos\n"
          ]
        }
      ],
      "source": [
        "import time\n",
        "\n",
        "# Registrar el tiempo inicial\n",
        "inicio = time.time()\n",
        "\n",
        "# Bloque de código a medir\n",
        "b = my_arr * 2\n",
        "\n",
        "# Registrar el tiempo final\n",
        "fin = time.time()\n",
        "\n",
        "# Calcular el tiempo de ejecución\n",
        "tiempo_ejecucion = fin - inicio\n",
        "print(f\"Tiempo de ejecución: {tiempo_ejecucion:.4f} segundos\")"
      ]
    },
    {
      "cell_type": "code",
      "execution_count": 60,
      "id": "c764319d",
      "metadata": {},
      "outputs": [
        {
          "name": "stdout",
          "output_type": "stream",
          "text": [
            "Tiempo de ejecución: 0.0732 segundos\n"
          ]
        }
      ],
      "source": [
        "import time\n",
        "\n",
        "# Registrar el tiempo inicial\n",
        "inicio = time.time()\n",
        "\n",
        "# Bloque de código a medir\n",
        "a = [x ** 2 for x in my_list]\n",
        "\n",
        "# Registrar el tiempo final\n",
        "fin = time.time()\n",
        "\n",
        "# Calcular el tiempo de ejecución\n",
        "tiempo_ejecucion = fin - inicio\n",
        "print(f\"Tiempo de ejecución: {tiempo_ejecucion:.4f} segundos\")"
      ]
    },
    {
      "cell_type": "code",
      "execution_count": 65,
      "id": "da78f57c",
      "metadata": {},
      "outputs": [
        {
          "name": "stdout",
          "output_type": "stream",
          "text": [
            "Tiempo de ejecución: 0.0030 segundos\n"
          ]
        }
      ],
      "source": [
        "import time\n",
        "\n",
        "# Registrar el tiempo inicial\n",
        "inicio = time.time()\n",
        "\n",
        "# Bloque de código a medir\n",
        "b = my_arr ** 2\n",
        "\n",
        "# Registrar el tiempo final\n",
        "fin = time.time()\n",
        "\n",
        "# Calcular el tiempo de ejecución\n",
        "tiempo_ejecucion = fin - inicio\n",
        "print(f\"Tiempo de ejecución: {tiempo_ejecucion:.4f} segundos\")"
      ]
    },
    {
      "cell_type": "code",
      "execution_count": 69,
      "id": "d7796712",
      "metadata": {},
      "outputs": [
        {
          "name": "stdout",
          "output_type": "stream",
          "text": [
            "Tiempo promedio de ejecución: 0.0780 segundos\n"
          ]
        }
      ],
      "source": [
        "import timeit\n",
        "\n",
        "# Definir una función para el bloque de código\n",
        "def mi_funcion():\n",
        "    a = [x ** 2 for x in my_list]\n",
        "\n",
        "# Medir el tiempo\n",
        "tiempo = timeit.timeit(mi_funcion, number=100)\n",
        "print(f\"Tiempo promedio de ejecución: {tiempo/100:.4f} segundos\")"
      ]
    },
    {
      "cell_type": "code",
      "execution_count": 70,
      "id": "3ab27d3b",
      "metadata": {},
      "outputs": [
        {
          "name": "stdout",
          "output_type": "stream",
          "text": [
            "Tiempo promedio de ejecución: 0.0029 segundos\n"
          ]
        }
      ],
      "source": [
        "import timeit\n",
        "\n",
        "# Definir una función para el bloque de código\n",
        "def mi_funcion_2():\n",
        "    b = my_arr ** 2\n",
        "\n",
        "# Medir el tiempo\n",
        "tiempo = timeit.timeit(mi_funcion_2, number=100)\n",
        "print(f\"Tiempo promedio de ejecución: {tiempo/100:.4f} segundos\")"
      ]
    },
    {
      "cell_type": "markdown",
      "id": "bc17165f",
      "metadata": {
        "id": "bc17165f"
      },
      "source": [
        "## Arrays Homogéneos"
      ]
    },
    {
      "cell_type": "markdown",
      "id": "6cc3a681",
      "metadata": {
        "id": "6cc3a681"
      },
      "source": [
        "#### Ejercicio\n",
        "+ Ejecute el siguiente código y escriba un comentario de acuerdo con los resultados obtenidos."
      ]
    },
    {
      "cell_type": "code",
      "execution_count": 66,
      "id": "17e7b61f",
      "metadata": {
        "id": "17e7b61f",
        "scrolled": true
      },
      "outputs": [
        {
          "name": "stdout",
          "output_type": "stream",
          "text": [
            "1\n",
            "<class 'numpy.ndarray'>\n",
            "2\n",
            "float64\n",
            "[6. 7. 8. 0. 1.]\n",
            "3\n",
            "<U32\n",
            "['1' '3.5' '5']\n"
          ]
        }
      ],
      "source": [
        "data1 = [6, 7., 8, 0, 1]\n",
        "arr1 = np.array(data1)\n",
        "print(1)\n",
        "print(type(arr1))\n",
        "#\n",
        "print(2)\n",
        "print(arr1.dtype)\n",
        "print(arr1)\n",
        "#\n",
        "arr1 = np.array([\"1\", 3.5, 5])\n",
        "print(3)\n",
        "print(arr1.dtype)\n",
        "print(arr1)\n",
        "#"
      ]
    },
    {
      "cell_type": "markdown",
      "id": "24d389fb",
      "metadata": {
        "id": "24d389fb"
      },
      "source": [
        "### Cambiar el tipo de dato en un arreglo numpy"
      ]
    },
    {
      "cell_type": "code",
      "execution_count": null,
      "id": "1394f034",
      "metadata": {
        "id": "1394f034"
      },
      "outputs": [],
      "source": [
        "arr1 = np.array([5,8, 5])\n",
        "print(arr1.dtype)\n",
        "print(arr1.nbytes)\n",
        "print(arr1)"
      ]
    },
    {
      "cell_type": "code",
      "execution_count": null,
      "id": "6ce5904a",
      "metadata": {
        "id": "6ce5904a"
      },
      "outputs": [],
      "source": [
        "arr1 = np.array([5,8, 5],dtype='int16')\n",
        "print(arr1.dtype)\n",
        "print(arr1.nbytes)\n",
        "print(arr1)"
      ]
    },
    {
      "cell_type": "code",
      "execution_count": null,
      "id": "495649a5",
      "metadata": {
        "id": "495649a5"
      },
      "outputs": [],
      "source": [
        "arr1 = np.array([5.1,8, 5])\n",
        "print(arr1.dtype)\n",
        "print(arr1.nbytes)\n",
        "print(arr1)"
      ]
    },
    {
      "cell_type": "code",
      "execution_count": null,
      "id": "0ef164b4",
      "metadata": {
        "id": "0ef164b4"
      },
      "outputs": [],
      "source": [
        "arr1 = np.array([5.1,8, 5],dtype='int16')\n",
        "print(arr1.dtype)\n",
        "print(arr1.nbytes)\n",
        "print(arr1)"
      ]
    },
    {
      "cell_type": "code",
      "execution_count": null,
      "id": "0d63548a",
      "metadata": {
        "id": "0d63548a"
      },
      "outputs": [],
      "source": [
        "arr1 = np.array([5,8, 5],dtype='float32')\n",
        "print(arr1.dtype)\n",
        "print(arr1.nbytes)\n",
        "print(arr1)"
      ]
    },
    {
      "cell_type": "code",
      "execution_count": null,
      "id": "f7e3cac8",
      "metadata": {
        "id": "f7e3cac8"
      },
      "outputs": [],
      "source": [
        "a = np.array([.22, .270, .357, .44, .50], dtype=np.float64)\n",
        "print(a.dtype)\n",
        "print(a)\n",
        "b = a.astype(np.int32)\n",
        "print(b)"
      ]
    },
    {
      "cell_type": "code",
      "execution_count": null,
      "id": "121576d8",
      "metadata": {
        "id": "121576d8"
      },
      "outputs": [],
      "source": [
        "a = np.array([.22, .270, .357, .44, .50], dtype='str')\n",
        "print(a)\n",
        "b = a.astype(np.float64)\n",
        "print(b)"
      ]
    },
    {
      "cell_type": "markdown",
      "id": "041fbcd8",
      "metadata": {
        "id": "041fbcd8"
      },
      "source": [
        "## Tamaño de un arreglo numpy"
      ]
    },
    {
      "cell_type": "code",
      "execution_count": null,
      "id": "8f10638b",
      "metadata": {
        "id": "8f10638b",
        "scrolled": false
      },
      "outputs": [],
      "source": [
        "a = np.arange(100)\n",
        "print(type(a))\n",
        "print(a)"
      ]
    },
    {
      "cell_type": "code",
      "execution_count": null,
      "id": "47e76dce",
      "metadata": {
        "id": "47e76dce"
      },
      "outputs": [],
      "source": [
        "print(a.shape)\n",
        "print(type(a[0]))\n",
        "print(a[2])"
      ]
    },
    {
      "cell_type": "code",
      "execution_count": null,
      "id": "ba55f9e0",
      "metadata": {
        "id": "ba55f9e0"
      },
      "outputs": [],
      "source": [
        "a[3]"
      ]
    },
    {
      "cell_type": "code",
      "execution_count": null,
      "id": "8e712356",
      "metadata": {
        "id": "8e712356"
      },
      "outputs": [],
      "source": [
        "a = a.reshape(-1,1)\n",
        "print(a.shape)\n",
        "print(a)"
      ]
    },
    {
      "cell_type": "code",
      "execution_count": null,
      "id": "ed012dfa",
      "metadata": {
        "id": "ed012dfa",
        "scrolled": true
      },
      "outputs": [],
      "source": [
        "print(type(a[0]))\n",
        "print(a[0])"
      ]
    },
    {
      "cell_type": "code",
      "execution_count": null,
      "id": "caca0969",
      "metadata": {
        "id": "caca0969"
      },
      "outputs": [],
      "source": [
        "print(type(a[6,0]))\n",
        "print(a[6,0])"
      ]
    },
    {
      "cell_type": "code",
      "execution_count": null,
      "id": "456aa836",
      "metadata": {
        "id": "456aa836"
      },
      "outputs": [],
      "source": [
        "c = np.array([[1,2,3],[4,5,6]])\n",
        "print(c.shape)\n",
        "print(c)"
      ]
    },
    {
      "cell_type": "code",
      "execution_count": null,
      "id": "c7ee4b12",
      "metadata": {
        "id": "c7ee4b12"
      },
      "outputs": [],
      "source": [
        "rows, cols = c.shape\n",
        "print(rows)\n",
        "print(cols)"
      ]
    },
    {
      "cell_type": "code",
      "execution_count": null,
      "id": "3f23ba45",
      "metadata": {
        "id": "3f23ba45"
      },
      "outputs": [],
      "source": [
        "row2 = c.shape[0]\n",
        "col2 = c.shape[1]\n",
        "print(row2)\n",
        "print(col2)"
      ]
    },
    {
      "cell_type": "markdown",
      "id": "ddff6d89",
      "metadata": {
        "id": "ddff6d89"
      },
      "source": [
        "## Generación de arreglos"
      ]
    },
    {
      "cell_type": "code",
      "execution_count": null,
      "id": "b1abc57f",
      "metadata": {
        "id": "b1abc57f",
        "scrolled": true
      },
      "outputs": [],
      "source": [
        "# Creando un array de zeros con cinco elementos\n",
        "np.zeros(5)"
      ]
    },
    {
      "cell_type": "code",
      "execution_count": null,
      "id": "cd9f940c",
      "metadata": {
        "id": "cd9f940c",
        "scrolled": true
      },
      "outputs": [],
      "source": [
        "# un objeto ndarray de 5x5\n",
        "a = np.zeros((5,5))\n",
        "print(a)\n",
        "print(a.shape)"
      ]
    },
    {
      "cell_type": "code",
      "execution_count": null,
      "id": "7058cfbc",
      "metadata": {
        "id": "7058cfbc"
      },
      "outputs": [],
      "source": [
        "b = np.ones((3,3))\n",
        "print(b)\n",
        "print(b.shape)"
      ]
    },
    {
      "cell_type": "code",
      "execution_count": null,
      "id": "2e0ecae1",
      "metadata": {
        "id": "2e0ecae1"
      },
      "outputs": [],
      "source": [
        "print(b[0,0].dtype)"
      ]
    },
    {
      "cell_type": "code",
      "execution_count": null,
      "id": "516f2b50",
      "metadata": {
        "id": "516f2b50"
      },
      "outputs": [],
      "source": [
        "# creando un array de 0 hasta 99\n",
        "print(np.arange(100))\n",
        "# creando un array de 10 hasta 79\n",
        "print(np.arange(10,80,5))"
      ]
    },
    {
      "cell_type": "code",
      "execution_count": null,
      "id": "97ddf4d7",
      "metadata": {
        "id": "97ddf4d7"
      },
      "outputs": [],
      "source": [
        "# creando un array númerico de 10 hasta 1000 con saltos de 10\n",
        "a= np.arange(10, 1000, 10)\n",
        "print(a)\n",
        "print(len(a))"
      ]
    },
    {
      "cell_type": "markdown",
      "id": "b35014e4",
      "metadata": {
        "id": "b35014e4"
      },
      "source": [
        "### Ejercicio\n",
        "+ Ejecute el siguiente código y determine qué hace la función `np.linspace()`"
      ]
    },
    {
      "cell_type": "code",
      "execution_count": null,
      "id": "762d4de6",
      "metadata": {
        "id": "762d4de6"
      },
      "outputs": [],
      "source": [
        "a = np.linspace(0, 100, 5)\n",
        "print(a)\n",
        "print(len(a))"
      ]
    },
    {
      "cell_type": "code",
      "execution_count": null,
      "id": "06355d3e",
      "metadata": {
        "id": "06355d3e"
      },
      "outputs": [],
      "source": [
        "a = np.linspace(0, 100, 10, endpoint=True, dtype=np.int64)\n",
        "print(a)\n",
        "print(len(a))"
      ]
    },
    {
      "cell_type": "code",
      "execution_count": null,
      "id": "42a5d48c",
      "metadata": {
        "id": "42a5d48c"
      },
      "outputs": [],
      "source": [
        "a = np.linspace(0, 100, 10, endpoint=True, dtype=np.int64)\n",
        "print(a)\n",
        "print(len(a))"
      ]
    },
    {
      "cell_type": "code",
      "execution_count": null,
      "id": "6875b69b",
      "metadata": {
        "id": "6875b69b"
      },
      "outputs": [],
      "source": [
        "a = np.linspace(0, 100, 20, endpoint=True, dtype=np.float64)\n",
        "print(a)\n",
        "print(len(a))"
      ]
    },
    {
      "cell_type": "code",
      "execution_count": null,
      "id": "13756cfb",
      "metadata": {
        "id": "13756cfb"
      },
      "outputs": [],
      "source": [
        "a = np.linspace(0, 100, 20, endpoint=True, dtype=np.float64)\n",
        "print(np.array_str(a, precision=2))\n",
        "print(len(a))"
      ]
    },
    {
      "cell_type": "code",
      "execution_count": null,
      "id": "2fefbac9",
      "metadata": {
        "id": "2fefbac9"
      },
      "outputs": [],
      "source": [
        "# creemos un array de 1x1000 utilizando randn\n",
        "data = np.random.randn(1000)\n",
        "print(len(data))"
      ]
    },
    {
      "cell_type": "code",
      "execution_count": null,
      "id": "759e2867",
      "metadata": {
        "id": "759e2867"
      },
      "outputs": [],
      "source": [
        "# slicing\n",
        "print(data[:10])"
      ]
    },
    {
      "cell_type": "markdown",
      "id": "286f2f4c",
      "metadata": {
        "id": "286f2f4c"
      },
      "source": [
        "## Funciones para operar matrices (álgebra lineal)"
      ]
    },
    {
      "cell_type": "code",
      "execution_count": null,
      "id": "5d4652f3",
      "metadata": {
        "id": "5d4652f3"
      },
      "outputs": [],
      "source": [
        "a = np.array([0,1,2,3,4,5,6,7,8,9])\n",
        "print(a.ndim)\n",
        "print(a.shape)\n",
        "print(a)"
      ]
    },
    {
      "cell_type": "code",
      "execution_count": null,
      "id": "3ddce4c4",
      "metadata": {
        "id": "3ddce4c4"
      },
      "outputs": [],
      "source": [
        "b = a.copy()\n",
        "b = b.reshape(5,2)\n",
        "print(b.ndim)\n",
        "print(b.shape)\n",
        "print(b)"
      ]
    },
    {
      "cell_type": "markdown",
      "id": "ab541275",
      "metadata": {
        "id": "ab541275"
      },
      "source": [
        "#### Ejercicio\n",
        "+ Ejecute el siguiente código e indique qué hace."
      ]
    },
    {
      "cell_type": "code",
      "execution_count": null,
      "id": "c17a4556",
      "metadata": {
        "id": "c17a4556"
      },
      "outputs": [],
      "source": [
        "c = b.T\n",
        "print(c.shape)\n",
        "print(c)"
      ]
    },
    {
      "cell_type": "markdown",
      "id": "5cabe896",
      "metadata": {
        "id": "5cabe896"
      },
      "source": [
        "### Ejercicio 1\n",
        "+ Usando numpy encuentre la solución para el siguiente sistema de ecuaciones:\n",
        "    ~~~\n",
        "    x0 + 2 * x1 = 1\n",
        "    3 * x0 + 5 * x1 = 2\n",
        "    ~~~\n",
        "+ Recuerde para un sistema matricial Ax = B, la soluciómn se encuentra como: x = (A^-1)*B"
      ]
    },
    {
      "cell_type": "markdown",
      "id": "a3afaade",
      "metadata": {},
      "source": [
        "### Ejercicio 2: Indexación Básica\n",
        "\n",
        "a) Crea un arreglo 2D de 3x3 con números aleatorios del 1 al 9.\n",
        "\n",
        "b) Imprima la segunda fila y la primera columna.\n",
        "\n",
        "c) Cambia el valor de la posición (2, 2) por 15 e imprima el arreglo modificado."
      ]
    },
    {
      "cell_type": "markdown",
      "id": "d075c5e3",
      "metadata": {},
      "source": [
        "### Ejercicio 3: Operaciones con Matrices\n",
        "\n",
        "a) Cree dos arreglos 2D de 5x5: con valores aleatorios entre 20 y 40.\n",
        "\n",
        "b) Realiza las siguientes operaciones: suma de los arreglos, multiplicación elemento a elemento y multiplicación matricial (producto punto).\n",
        "\n",
        "c) Imprime los resultados de cada operación."
      ]
    },
    {
      "cell_type": "markdown",
      "id": "9ccfe681",
      "metadata": {},
      "source": [
        "### Ejercicio 4: Filtrado de Datos\n",
        "\n",
        "a) Cree un arreglo con 100 números aleatorios entre 0 y 100.\n",
        "\n",
        "b) Cree otro arreglo con los valores mayores a 50.\n",
        "\n",
        "c) Calcula el promedio, la media y la desviación estándar de este nuevo arreglo.\n",
        "\n",
        "c) Imprime el arreglo original, el arreglo filtrado, el promedio, la media y la desviación estándar."
      ]
    },
    {
      "cell_type": "markdown",
      "id": "85fcc126",
      "metadata": {},
      "source": []
    }
  ],
  "metadata": {
    "colab": {
      "provenance": []
    },
    "kernelspec": {
      "display_name": "venv",
      "language": "python",
      "name": "python3"
    },
    "language_info": {
      "codemirror_mode": {
        "name": "ipython",
        "version": 3
      },
      "file_extension": ".py",
      "mimetype": "text/x-python",
      "name": "python",
      "nbconvert_exporter": "python",
      "pygments_lexer": "ipython3",
      "version": "3.12.4"
    }
  },
  "nbformat": 4,
  "nbformat_minor": 5
}
